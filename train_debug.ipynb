{
 "cells": [
  {
   "cell_type": "code",
   "execution_count": 3,
   "metadata": {},
   "outputs": [
    {
     "name": "stdout",
     "output_type": "stream",
     "text": [
      "The autoreload extension is already loaded. To reload it, use:\n",
      "  %reload_ext autoreload\n"
     ]
    }
   ],
   "source": [
    "# load autoload plugins for jupyter notebook\n",
    "%load_ext autoreload\n",
    "%autoreload 2"
   ]
  },
  {
   "cell_type": "code",
   "execution_count": 7,
   "metadata": {},
   "outputs": [
    {
     "name": "stdout",
     "output_type": "stream",
     "text": [
      "======\n",
      "Loading NuScenes tables for version v1.0-mini...\n"
     ]
    },
    {
     "name": "stderr",
     "output_type": "stream",
     "text": [
      "\u001b[32m2024-07-12 17:29:56.340\u001b[0m | \u001b[1mINFO    \u001b[0m | \u001b[36mdataset_util\u001b[0m:\u001b[36m__init__\u001b[0m:\u001b[36m400\u001b[0m - \u001b[1mTotal number of samples: 404\u001b[0m\n",
      "\u001b[32m2024-07-12 17:29:56.341\u001b[0m | \u001b[1mINFO    \u001b[0m | \u001b[36mdataset_util\u001b[0m:\u001b[36m__init__\u001b[0m:\u001b[36m413\u001b[0m - \u001b[1mNumber of samples for train: 323\u001b[0m\n"
     ]
    },
    {
     "name": "stdout",
     "output_type": "stream",
     "text": [
      "23 category,\n",
      "8 attribute,\n",
      "4 visibility,\n",
      "911 instance,\n",
      "12 sensor,\n",
      "120 calibrated_sensor,\n",
      "31206 ego_pose,\n",
      "8 log,\n",
      "10 scene,\n",
      "404 sample,\n",
      "31206 sample_data,\n",
      "18538 sample_annotation,\n",
      "4 map,\n",
      "Done loading in 0.473 seconds.\n",
      "======\n",
      "Reverse indexing ...\n",
      "Done reverse indexing in 0.1 seconds.\n",
      "======\n"
     ]
    }
   ],
   "source": [
    "import numpy as np\n",
    "import torch\n",
    "from easydict import EasyDict as edict\n",
    "from dataset_util import NusceneDataset\n",
    "from voxelization import Voxelization\n",
    "from voxelnet import VoxelNet\n",
    "\n",
    "torch.set_default_device(\"cuda:0\")\n",
    "torch.set_default_dtype(torch.float32)\n",
    "\n",
    "cfg = edict()\n",
    "cfg.x_range = [-50.4,50.4]\n",
    "cfg.y_range = [-40.,40.]\n",
    "cfg.z_range = [-1.,3.]\n",
    "cfg.voxel_size = {'x':0.2, 'y':0.2, 'z':0.4}\n",
    "cfg.max_voxel_pts = 35\n",
    "cfg.max_points_per_cloud = 25000\n",
    "cfg.pos_neg_iou_thresh = [0.6,0.45]\n",
    "\n",
    "def get_canvas_size(rng, res):\n",
    "    return int(np.round((rng[1]-rng[0])/res))\n",
    "\n",
    "cfg.canvas_size = {\"h\":get_canvas_size(cfg.y_range, 2*cfg.voxel_size[\"y\"]),\n",
    "                   \"w\":get_canvas_size(cfg.x_range, 2*cfg.voxel_size[\"x\"])}\n",
    "cfg.canvas_res = {\"w\":2*cfg.voxel_size[\"x\"], \"h\":2*cfg.voxel_size[\"y\"]}\n",
    "cfg.canvas_min = {\"h\":cfg.y_range[0], \"w\":cfg.x_range[0]}\n",
    "\n",
    "cfg.anchors = [{\"z\":0.,\"l\":3.9,\"w\":1.6,\"h\":1.56,\"yaw\":0.0},\n",
    "               {\"z\":0.,\"l\":3.9,\"w\":1.6,\"h\":1.56,\"yaw\":np.pi/2.0},]\n",
    "\n",
    "\n",
    "cfg.voxelizer = Voxelization(x_range=cfg.x_range,y_range=cfg.y_range,\n",
    "                        z_range=cfg.z_range,\n",
    "                        voxel_size=cfg.voxel_size,\n",
    "                        max_voxel_pts=cfg.max_voxel_pts,\n",
    "                        init_decoration=True)\n",
    "\n",
    "nd_train = NusceneDataset(path=\"/media/ji/Samsung_T5/nuScene_mini/v1.0-mini\",\n",
    "                    version=\"v1.0-mini\",\n",
    "                    canvas_h=cfg.canvas_size[\"h\"],\n",
    "                    canvas_w=cfg.canvas_size[\"w\"],\n",
    "                    canvas_res=cfg.canvas_res,\n",
    "                    canvas_min=cfg.canvas_min,\n",
    "                    anchors=cfg.anchors,\n",
    "                    voxelizer=cfg.voxelizer,\n",
    "                    max_pts_per_cloud=cfg.max_points_per_cloud,\n",
    "                    pos_neg_iou_thresh=cfg.pos_neg_iou_thresh,\n",
    "                    mode=\"train\")"
   ]
  },
  {
   "cell_type": "code",
   "execution_count": 8,
   "metadata": {},
   "outputs": [
    {
     "data": {
      "text/plain": [
       "['639a4120779f44bb9cf41be3e8612e36',\n",
       " '8bf071b1b92c4ff1bd5016bfb30de3f7',\n",
       " 'ace4b20b94cf47d0b68addac79fe68de',\n",
       " 'e8b1863300964b2481fee312496d06d8',\n",
       " '82597244941b4e79aa3e1e9cc6386f8b',\n",
       " '4cf5d6c3f6ab42aab23f67b5a9782d1a',\n",
       " '3f2ddc9476eb475b8c46f777f508cedb',\n",
       " '9cdbf5ff7f294549aea0a4307e5d104a',\n",
       " '5b03af7a953245b5a3b23191ed4da62a',\n",
       " 'cc57c1ea80fe46a7abddfdb15654c872']"
      ]
     },
     "execution_count": 8,
     "metadata": {},
     "output_type": "execute_result"
    }
   ],
   "source": [
    "nd_train.sample_tokens[:10]"
   ]
  },
  {
   "cell_type": "code",
   "execution_count": 9,
   "metadata": {},
   "outputs": [
    {
     "name": "stdout",
     "output_type": "stream",
     "text": [
      "======\n",
      "Loading NuScenes tables for version v1.0-mini...\n"
     ]
    },
    {
     "name": "stderr",
     "output_type": "stream",
     "text": [
      "\u001b[32m2024-07-12 17:31:08.246\u001b[0m | \u001b[1mINFO    \u001b[0m | \u001b[36mdataset_util\u001b[0m:\u001b[36m__init__\u001b[0m:\u001b[36m400\u001b[0m - \u001b[1mTotal number of samples: 404\u001b[0m\n",
      "\u001b[32m2024-07-12 17:31:08.247\u001b[0m | \u001b[1mINFO    \u001b[0m | \u001b[36mdataset_util\u001b[0m:\u001b[36m__init__\u001b[0m:\u001b[36m413\u001b[0m - \u001b[1mNumber of samples for test: 81\u001b[0m\n"
     ]
    },
    {
     "name": "stdout",
     "output_type": "stream",
     "text": [
      "23 category,\n",
      "8 attribute,\n",
      "4 visibility,\n",
      "911 instance,\n",
      "12 sensor,\n",
      "120 calibrated_sensor,\n",
      "31206 ego_pose,\n",
      "8 log,\n",
      "10 scene,\n",
      "404 sample,\n",
      "31206 sample_data,\n",
      "18538 sample_annotation,\n",
      "4 map,\n",
      "Done loading in 0.524 seconds.\n",
      "======\n",
      "Reverse indexing ...\n",
      "Done reverse indexing in 0.1 seconds.\n",
      "======\n"
     ]
    },
    {
     "data": {
      "text/plain": [
       "['cc0342fe162348dc9445493aab4b463e',\n",
       " 'f90292e4cdf647e1a8842baabdaafcec',\n",
       " 'cb4e6195faad467094fbd4d0a9e960e9',\n",
       " '8092909473464f80b9f791a4d31ddcb8',\n",
       " 'fe42b85d7f7a4107b650ffa993a4fbff',\n",
       " 'a34fabc7aa674713b71f98ec541eb2d4',\n",
       " '4786b3c0d0a24c8b86b0676d32dd5919',\n",
       " 'dde297c8e12f44c4bc2f2c80e49d2b5a',\n",
       " 'be1494c7762c43ca88010f366997a586',\n",
       " '17a9388ec4b04e028b4d07af2cc3a45c']"
      ]
     },
     "execution_count": 9,
     "metadata": {},
     "output_type": "execute_result"
    }
   ],
   "source": [
    "nd_test = NusceneDataset(path=\"/media/ji/Samsung_T5/nuScene_mini/v1.0-mini\",\n",
    "                    version=\"v1.0-mini\",\n",
    "                    canvas_h=cfg.canvas_size[\"h\"],\n",
    "                    canvas_w=cfg.canvas_size[\"w\"],\n",
    "                    canvas_res=cfg.canvas_res,\n",
    "                    canvas_min=cfg.canvas_min,\n",
    "                    anchors=cfg.anchors,\n",
    "                    voxelizer=cfg.voxelizer,\n",
    "                    max_pts_per_cloud=cfg.max_points_per_cloud,\n",
    "                    pos_neg_iou_thresh=cfg.pos_neg_iou_thresh,\n",
    "                    mode=\"test\")\n",
    "\n",
    "nd_test.sample_tokens[:10]"
   ]
  },
  {
   "cell_type": "code",
   "execution_count": 10,
   "metadata": {},
   "outputs": [
    {
     "data": {
      "text/plain": [
       "(200, 252)"
      ]
     },
     "execution_count": 10,
     "metadata": {},
     "output_type": "execute_result"
    }
   ],
   "source": [
    "nd_train.canvas_h, nd_train.canvas_w"
   ]
  },
  {
   "cell_type": "code",
   "execution_count": 12,
   "metadata": {},
   "outputs": [],
   "source": [
    "from torch.utils.data import DataLoader\n",
    "\n",
    "train_dataloader = DataLoader(nd_train, batch_size=2,shuffle=False,\n",
    "                              generator=torch.Generator(device='cuda'))\n",
    "test_dataloader = DataLoader(nd_test, batch_size=1,shuffle=True,\n",
    "                             generator=torch.Generator(device='cuda'))"
   ]
  },
  {
   "cell_type": "code",
   "execution_count": 14,
   "metadata": {},
   "outputs": [
    {
     "name": "stdout",
     "output_type": "stream",
     "text": [
      "n_vox: 8473\n"
     ]
    }
   ],
   "source": [
    "input = next(iter(train_dataloader))"
   ]
  },
  {
   "cell_type": "code",
   "execution_count": 6,
   "metadata": {},
   "outputs": [
    {
     "name": "stdout",
     "output_type": "stream",
     "text": [
      "cuda\n"
     ]
    },
    {
     "data": {
      "text/plain": [
       "VoxelNet(\n",
       "  (voxelization): Voxelization()\n",
       "  (voxel_feature): VoxelFeatureExtraction()\n",
       "  (scn): SpatialConvolution(\n",
       "    (net): SparseSequential(\n",
       "      (0): SparseConv3d(128, 64, kernel_size=[3, 3, 3], stride=[2, 1, 1], padding=[1, 1, 1], dilation=[1, 1, 1], output_padding=[0, 0, 0], algo=ConvAlgo.Native)\n",
       "      (1): BatchNorm1d(64, eps=1e-05, momentum=0.1, affine=True, track_running_stats=True)\n",
       "      (2): ReLU()\n",
       "      (3): SparseConv3d(64, 64, kernel_size=[3, 3, 3], stride=[1, 1, 1], padding=[0, 1, 1], dilation=[1, 1, 1], output_padding=[0, 0, 0], algo=ConvAlgo.Native)\n",
       "      (4): BatchNorm1d(64, eps=1e-05, momentum=0.1, affine=True, track_running_stats=True)\n",
       "      (5): ReLU()\n",
       "      (6): SparseConv3d(64, 64, kernel_size=[3, 3, 3], stride=[2, 1, 1], padding=[1, 1, 1], dilation=[1, 1, 1], output_padding=[0, 0, 0], algo=ConvAlgo.Native)\n",
       "      (7): BatchNorm1d(64, eps=1e-05, momentum=0.1, affine=True, track_running_stats=True)\n",
       "      (8): ReLU()\n",
       "    )\n",
       "  )\n",
       "  (rpn): RegionProposalNet(\n",
       "    (block1): Sequential(\n",
       "      (0): Conv2d(128, 128, kernel_size=(3, 3), stride=(2, 2), padding=(1, 1))\n",
       "      (1): BatchNorm2d(128, eps=1e-05, momentum=0.1, affine=True, track_running_stats=True)\n",
       "      (2): ReLU()\n",
       "      (3): Conv2d(128, 128, kernel_size=(3, 3), stride=(1, 1), padding=(1, 1))\n",
       "      (4): BatchNorm2d(128, eps=1e-05, momentum=0.1, affine=True, track_running_stats=True)\n",
       "      (5): ReLU()\n",
       "      (6): Conv2d(128, 128, kernel_size=(3, 3), stride=(1, 1), padding=(1, 1))\n",
       "      (7): BatchNorm2d(128, eps=1e-05, momentum=0.1, affine=True, track_running_stats=True)\n",
       "      (8): ReLU()\n",
       "      (9): Conv2d(128, 128, kernel_size=(3, 3), stride=(1, 1), padding=(1, 1))\n",
       "      (10): BatchNorm2d(128, eps=1e-05, momentum=0.1, affine=True, track_running_stats=True)\n",
       "      (11): ReLU()\n",
       "    )\n",
       "    (block2): Sequential(\n",
       "      (0): Conv2d(128, 128, kernel_size=(3, 3), stride=(2, 2), padding=(1, 1))\n",
       "      (1): BatchNorm2d(128, eps=1e-05, momentum=0.1, affine=True, track_running_stats=True)\n",
       "      (2): ReLU()\n",
       "      (3): Conv2d(128, 128, kernel_size=(3, 3), stride=(1, 1), padding=(1, 1))\n",
       "      (4): BatchNorm2d(128, eps=1e-05, momentum=0.1, affine=True, track_running_stats=True)\n",
       "      (5): ReLU()\n",
       "      (6): Conv2d(128, 128, kernel_size=(3, 3), stride=(1, 1), padding=(1, 1))\n",
       "      (7): BatchNorm2d(128, eps=1e-05, momentum=0.1, affine=True, track_running_stats=True)\n",
       "      (8): ReLU()\n",
       "      (9): Conv2d(128, 128, kernel_size=(3, 3), stride=(1, 1), padding=(1, 1))\n",
       "      (10): BatchNorm2d(128, eps=1e-05, momentum=0.1, affine=True, track_running_stats=True)\n",
       "      (11): ReLU()\n",
       "      (12): Conv2d(128, 128, kernel_size=(3, 3), stride=(1, 1), padding=(1, 1))\n",
       "      (13): BatchNorm2d(128, eps=1e-05, momentum=0.1, affine=True, track_running_stats=True)\n",
       "      (14): ReLU()\n",
       "      (15): Conv2d(128, 128, kernel_size=(3, 3), stride=(1, 1), padding=(1, 1))\n",
       "      (16): BatchNorm2d(128, eps=1e-05, momentum=0.1, affine=True, track_running_stats=True)\n",
       "      (17): ReLU()\n",
       "    )\n",
       "    (block3): Sequential(\n",
       "      (0): Conv2d(128, 256, kernel_size=(3, 3), stride=(2, 2), padding=(1, 1))\n",
       "      (1): BatchNorm2d(256, eps=1e-05, momentum=0.1, affine=True, track_running_stats=True)\n",
       "      (2): ReLU()\n",
       "      (3): Conv2d(256, 256, kernel_size=(3, 3), stride=(1, 1), padding=(1, 1))\n",
       "      (4): BatchNorm2d(256, eps=1e-05, momentum=0.1, affine=True, track_running_stats=True)\n",
       "      (5): ReLU()\n",
       "      (6): Conv2d(256, 256, kernel_size=(3, 3), stride=(1, 1), padding=(1, 1))\n",
       "      (7): BatchNorm2d(256, eps=1e-05, momentum=0.1, affine=True, track_running_stats=True)\n",
       "      (8): ReLU()\n",
       "      (9): Conv2d(256, 256, kernel_size=(3, 3), stride=(1, 1), padding=(1, 1))\n",
       "      (10): BatchNorm2d(256, eps=1e-05, momentum=0.1, affine=True, track_running_stats=True)\n",
       "      (11): ReLU()\n",
       "      (12): Conv2d(256, 256, kernel_size=(3, 3), stride=(1, 1), padding=(1, 1))\n",
       "      (13): BatchNorm2d(256, eps=1e-05, momentum=0.1, affine=True, track_running_stats=True)\n",
       "      (14): ReLU()\n",
       "      (15): Conv2d(256, 256, kernel_size=(3, 3), stride=(1, 1), padding=(1, 1))\n",
       "      (16): BatchNorm2d(256, eps=1e-05, momentum=0.1, affine=True, track_running_stats=True)\n",
       "      (17): ReLU()\n",
       "    )\n",
       "    (deconv1): Sequential(\n",
       "      (0): ConvTranspose2d(128, 256, kernel_size=(3, 3), stride=(1, 1), padding=(1, 1))\n",
       "      (1): BatchNorm2d(256, eps=1e-05, momentum=0.1, affine=True, track_running_stats=True)\n",
       "      (2): ReLU()\n",
       "    )\n",
       "    (deconv2): Sequential(\n",
       "      (0): ConvTranspose2d(128, 256, kernel_size=(2, 2), stride=(2, 2))\n",
       "      (1): BatchNorm2d(256, eps=1e-05, momentum=0.1, affine=True, track_running_stats=True)\n",
       "      (2): ReLU()\n",
       "    )\n",
       "    (deconv3): Sequential(\n",
       "      (0): ConvTranspose2d(256, 256, kernel_size=(4, 4), stride=(4, 4))\n",
       "      (1): BatchNorm2d(256, eps=1e-05, momentum=0.1, affine=True, track_running_stats=True)\n",
       "      (2): ReLU()\n",
       "    )\n",
       "    (head1): Sequential(\n",
       "      (0): Conv2d(768, 2, kernel_size=(1, 1), stride=(1, 1))\n",
       "    )\n",
       "    (head2): Sequential(\n",
       "      (0): Conv2d(768, 14, kernel_size=(1, 1), stride=(1, 1))\n",
       "    )\n",
       "  )\n",
       "  (loss): VoxelNetLoss()\n",
       ")"
      ]
     },
     "execution_count": 6,
     "metadata": {},
     "output_type": "execute_result"
    }
   ],
   "source": [
    "vnet = VoxelNet(x_range=cfg.x_range, y_range=cfg.y_range, z_range=cfg.z_range,\n",
    "                voxel_size=cfg.voxel_size, anchors=cfg.anchors,\n",
    "                max_voxel_pts=cfg.max_voxel_points)\n",
    "device = torch.device(\"cuda\" if torch.cuda.is_available() else \"cpu\")\n",
    "print(device)\n",
    "vnet.to(device)"
   ]
  },
  {
   "cell_type": "code",
   "execution_count": 7,
   "metadata": {},
   "outputs": [],
   "source": [
    "from torch.utils.data import DataLoader\n",
    "\n",
    "train_dataloader = DataLoader(nd_train, batch_size=1, shuffle=True,generator=torch.Generator(device='cuda'))\n",
    "test_dataloader = DataLoader(nd_test, batch_size=1, shuffle=True,generator=torch.Generator(device='cuda'))"
   ]
  },
  {
   "cell_type": "code",
   "execution_count": 8,
   "metadata": {},
   "outputs": [],
   "source": [
    "import time\n",
    "import torch.optim as optim\n",
    "import torch.optim.lr_scheduler as lr_scheduler\n",
    "from loguru import logger\n",
    "\n",
    "# training loop\n"
   ]
  },
  {
   "cell_type": "code",
   "execution_count": 10,
   "metadata": {},
   "outputs": [],
   "source": [
    "\n",
    "def train(n_epoch, vnet, train_dataloader, test_dataloader):\n",
    "\n",
    "    vnet.train()\n",
    "\n",
    "    optimizer = optim.Adam(vnet.parameters(), lr=0.001)\n",
    "    scheduler = lr_scheduler.ReduceLROnPlateau(optimizer, mode='min',\n",
    "                                               factor=0.1, patience=5,\n",
    "                                               threshold=1e-2,\n",
    "                                               min_lr=1e-6)\n",
    "    \n",
    "    for epoch in range(n_epoch):\n",
    "\n",
    "        for ibatch, input in enumerate(train_dataloader):\n",
    "            optimizer.zero_grad()\n",
    "            t0 = time.time_ns()\n",
    "            mdl_output, loss = vnet(input)\n",
    "            loss.backward()\n",
    "            t1 = time.time_ns()\n",
    "            optimizer.step()\n",
    "\n",
    "            # print loss\n",
    "            if ibatch % 1 == 0:\n",
    "                logger.info(\n",
    "                    f\"Epoch: {epoch}, Batch: {ibatch}, Loss: {loss.item()}\")\n",
    "                logger.info(f\"Per batch time: {(t1-t0)/1e9} sec\")\n",
    "        \n",
    "        scheduler.step(loss)\n"
   ]
  },
  {
   "cell_type": "code",
   "execution_count": 11,
   "metadata": {},
   "outputs": [
    {
     "name": "stdout",
     "output_type": "stream",
     "text": [
      "torch.Size([1, 2, 200, 252]) torch.Size([1, 14, 200, 252])\n"
     ]
    },
    {
     "name": "stderr",
     "output_type": "stream",
     "text": [
      "\u001b[32m2024-07-11 16:44:11.951\u001b[0m | \u001b[1mINFO    \u001b[0m | \u001b[36m__main__\u001b[0m:\u001b[36mtrain\u001b[0m:\u001b[36m23\u001b[0m - \u001b[1mEpoch: 0, Batch: 0, Loss: 4.748961448669434\u001b[0m\n",
      "\u001b[32m2024-07-11 16:44:11.952\u001b[0m | \u001b[1mINFO    \u001b[0m | \u001b[36m__main__\u001b[0m:\u001b[36mtrain\u001b[0m:\u001b[36m25\u001b[0m - \u001b[1mPer batch time: 1.95570089 sec\u001b[0m\n",
      "\u001b[32m2024-07-11 16:44:13.183\u001b[0m | \u001b[1mINFO    \u001b[0m | \u001b[36m__main__\u001b[0m:\u001b[36mtrain\u001b[0m:\u001b[36m23\u001b[0m - \u001b[1mEpoch: 0, Batch: 1, Loss: 4.164446830749512\u001b[0m\n",
      "\u001b[32m2024-07-11 16:44:13.184\u001b[0m | \u001b[1mINFO    \u001b[0m | \u001b[36m__main__\u001b[0m:\u001b[36mtrain\u001b[0m:\u001b[36m25\u001b[0m - \u001b[1mPer batch time: 1.14365374 sec\u001b[0m\n"
     ]
    },
    {
     "name": "stdout",
     "output_type": "stream",
     "text": [
      "torch.Size([1, 2, 200, 252]) torch.Size([1, 14, 200, 252])\n"
     ]
    },
    {
     "name": "stderr",
     "output_type": "stream",
     "text": [
      "\u001b[32m2024-07-11 16:44:14.629\u001b[0m | \u001b[1mINFO    \u001b[0m | \u001b[36m__main__\u001b[0m:\u001b[36mtrain\u001b[0m:\u001b[36m23\u001b[0m - \u001b[1mEpoch: 0, Batch: 2, Loss: 4.117429256439209\u001b[0m\n",
      "\u001b[32m2024-07-11 16:44:14.630\u001b[0m | \u001b[1mINFO    \u001b[0m | \u001b[36m__main__\u001b[0m:\u001b[36mtrain\u001b[0m:\u001b[36m25\u001b[0m - \u001b[1mPer batch time: 1.260314471 sec\u001b[0m\n"
     ]
    },
    {
     "name": "stdout",
     "output_type": "stream",
     "text": [
      "torch.Size([1, 2, 200, 252]) torch.Size([1, 14, 200, 252])\n"
     ]
    },
    {
     "name": "stderr",
     "output_type": "stream",
     "text": [
      "\u001b[32m2024-07-11 16:44:15.994\u001b[0m | \u001b[1mINFO    \u001b[0m | \u001b[36m__main__\u001b[0m:\u001b[36mtrain\u001b[0m:\u001b[36m23\u001b[0m - \u001b[1mEpoch: 0, Batch: 3, Loss: 4.034771919250488\u001b[0m\n",
      "\u001b[32m2024-07-11 16:44:15.994\u001b[0m | \u001b[1mINFO    \u001b[0m | \u001b[36m__main__\u001b[0m:\u001b[36mtrain\u001b[0m:\u001b[36m25\u001b[0m - \u001b[1mPer batch time: 1.299986806 sec\u001b[0m\n"
     ]
    },
    {
     "name": "stdout",
     "output_type": "stream",
     "text": [
      "torch.Size([1, 2, 200, 252]) torch.Size([1, 14, 200, 252])\n"
     ]
    },
    {
     "name": "stderr",
     "output_type": "stream",
     "text": [
      "\u001b[32m2024-07-11 16:44:17.125\u001b[0m | \u001b[1mINFO    \u001b[0m | \u001b[36m__main__\u001b[0m:\u001b[36mtrain\u001b[0m:\u001b[36m23\u001b[0m - \u001b[1mEpoch: 0, Batch: 4, Loss: 2.76414155960083\u001b[0m\n",
      "\u001b[32m2024-07-11 16:44:17.126\u001b[0m | \u001b[1mINFO    \u001b[0m | \u001b[36m__main__\u001b[0m:\u001b[36mtrain\u001b[0m:\u001b[36m25\u001b[0m - \u001b[1mPer batch time: 1.008470496 sec\u001b[0m\n"
     ]
    },
    {
     "name": "stdout",
     "output_type": "stream",
     "text": [
      "torch.Size([1, 2, 200, 252]) torch.Size([1, 14, 200, 252])\n"
     ]
    },
    {
     "name": "stderr",
     "output_type": "stream",
     "text": [
      "\u001b[32m2024-07-11 16:44:18.370\u001b[0m | \u001b[1mINFO    \u001b[0m | \u001b[36m__main__\u001b[0m:\u001b[36mtrain\u001b[0m:\u001b[36m23\u001b[0m - \u001b[1mEpoch: 0, Batch: 5, Loss: 7.845202922821045\u001b[0m\n",
      "\u001b[32m2024-07-11 16:44:18.371\u001b[0m | \u001b[1mINFO    \u001b[0m | \u001b[36m__main__\u001b[0m:\u001b[36mtrain\u001b[0m:\u001b[36m25\u001b[0m - \u001b[1mPer batch time: 1.110727734 sec\u001b[0m\n"
     ]
    },
    {
     "name": "stdout",
     "output_type": "stream",
     "text": [
      "torch.Size([1, 2, 200, 252]) torch.Size([1, 14, 200, 252])\n"
     ]
    },
    {
     "name": "stderr",
     "output_type": "stream",
     "text": [
      "\u001b[32m2024-07-11 16:44:19.839\u001b[0m | \u001b[1mINFO    \u001b[0m | \u001b[36m__main__\u001b[0m:\u001b[36mtrain\u001b[0m:\u001b[36m23\u001b[0m - \u001b[1mEpoch: 0, Batch: 6, Loss: 3.3995933532714844\u001b[0m\n",
      "\u001b[32m2024-07-11 16:44:19.840\u001b[0m | \u001b[1mINFO    \u001b[0m | \u001b[36m__main__\u001b[0m:\u001b[36mtrain\u001b[0m:\u001b[36m25\u001b[0m - \u001b[1mPer batch time: 1.323641656 sec\u001b[0m\n"
     ]
    },
    {
     "name": "stdout",
     "output_type": "stream",
     "text": [
      "torch.Size([1, 2, 200, 252]) torch.Size([1, 14, 200, 252])\n"
     ]
    },
    {
     "name": "stderr",
     "output_type": "stream",
     "text": [
      "\u001b[32m2024-07-11 16:44:21.046\u001b[0m | \u001b[1mINFO    \u001b[0m | \u001b[36m__main__\u001b[0m:\u001b[36mtrain\u001b[0m:\u001b[36m23\u001b[0m - \u001b[1mEpoch: 0, Batch: 7, Loss: 3.174801826477051\u001b[0m\n",
      "\u001b[32m2024-07-11 16:44:21.047\u001b[0m | \u001b[1mINFO    \u001b[0m | \u001b[36m__main__\u001b[0m:\u001b[36mtrain\u001b[0m:\u001b[36m25\u001b[0m - \u001b[1mPer batch time: 1.071376318 sec\u001b[0m\n"
     ]
    },
    {
     "name": "stdout",
     "output_type": "stream",
     "text": [
      "torch.Size([1, 2, 200, 252]) torch.Size([1, 14, 200, 252])\n"
     ]
    },
    {
     "name": "stderr",
     "output_type": "stream",
     "text": [
      "\u001b[32m2024-07-11 16:44:22.341\u001b[0m | \u001b[1mINFO    \u001b[0m | \u001b[36m__main__\u001b[0m:\u001b[36mtrain\u001b[0m:\u001b[36m23\u001b[0m - \u001b[1mEpoch: 0, Batch: 8, Loss: 3.6185667514801025\u001b[0m\n",
      "\u001b[32m2024-07-11 16:44:22.342\u001b[0m | \u001b[1mINFO    \u001b[0m | \u001b[36m__main__\u001b[0m:\u001b[36mtrain\u001b[0m:\u001b[36m25\u001b[0m - \u001b[1mPer batch time: 1.114770154 sec\u001b[0m\n"
     ]
    },
    {
     "name": "stdout",
     "output_type": "stream",
     "text": [
      "torch.Size([1, 2, 200, 252]) torch.Size([1, 14, 200, 252])\n"
     ]
    },
    {
     "name": "stderr",
     "output_type": "stream",
     "text": [
      "\u001b[32m2024-07-11 16:44:23.568\u001b[0m | \u001b[1mINFO    \u001b[0m | \u001b[36m__main__\u001b[0m:\u001b[36mtrain\u001b[0m:\u001b[36m23\u001b[0m - \u001b[1mEpoch: 0, Batch: 9, Loss: 3.8774635791778564\u001b[0m\n",
      "\u001b[32m2024-07-11 16:44:23.569\u001b[0m | \u001b[1mINFO    \u001b[0m | \u001b[36m__main__\u001b[0m:\u001b[36mtrain\u001b[0m:\u001b[36m25\u001b[0m - \u001b[1mPer batch time: 1.145434021 sec\u001b[0m\n"
     ]
    },
    {
     "name": "stdout",
     "output_type": "stream",
     "text": [
      "torch.Size([1, 2, 200, 252]) torch.Size([1, 14, 200, 252])\n"
     ]
    },
    {
     "name": "stderr",
     "output_type": "stream",
     "text": [
      "\u001b[32m2024-07-11 16:44:24.846\u001b[0m | \u001b[1mINFO    \u001b[0m | \u001b[36m__main__\u001b[0m:\u001b[36mtrain\u001b[0m:\u001b[36m23\u001b[0m - \u001b[1mEpoch: 0, Batch: 10, Loss: 2.082918643951416\u001b[0m\n",
      "\u001b[32m2024-07-11 16:44:24.846\u001b[0m | \u001b[1mINFO    \u001b[0m | \u001b[36m__main__\u001b[0m:\u001b[36mtrain\u001b[0m:\u001b[36m25\u001b[0m - \u001b[1mPer batch time: 1.126781231 sec\u001b[0m\n"
     ]
    },
    {
     "name": "stdout",
     "output_type": "stream",
     "text": [
      "torch.Size([1, 2, 200, 252]) torch.Size([1, 14, 200, 252])\n"
     ]
    },
    {
     "name": "stderr",
     "output_type": "stream",
     "text": [
      "\u001b[32m2024-07-11 16:44:26.148\u001b[0m | \u001b[1mINFO    \u001b[0m | \u001b[36m__main__\u001b[0m:\u001b[36mtrain\u001b[0m:\u001b[36m23\u001b[0m - \u001b[1mEpoch: 0, Batch: 11, Loss: 2.6170270442962646\u001b[0m\n",
      "\u001b[32m2024-07-11 16:44:26.149\u001b[0m | \u001b[1mINFO    \u001b[0m | \u001b[36m__main__\u001b[0m:\u001b[36mtrain\u001b[0m:\u001b[36m25\u001b[0m - \u001b[1mPer batch time: 1.128913251 sec\u001b[0m\n"
     ]
    },
    {
     "name": "stdout",
     "output_type": "stream",
     "text": [
      "torch.Size([1, 2, 200, 252]) torch.Size([1, 14, 200, 252])\n"
     ]
    },
    {
     "name": "stderr",
     "output_type": "stream",
     "text": [
      "\u001b[32m2024-07-11 16:44:27.086\u001b[0m | \u001b[1mINFO    \u001b[0m | \u001b[36m__main__\u001b[0m:\u001b[36mtrain\u001b[0m:\u001b[36m23\u001b[0m - \u001b[1mEpoch: 0, Batch: 12, Loss: 2.5311174392700195\u001b[0m\n",
      "\u001b[32m2024-07-11 16:44:27.086\u001b[0m | \u001b[1mINFO    \u001b[0m | \u001b[36m__main__\u001b[0m:\u001b[36mtrain\u001b[0m:\u001b[36m25\u001b[0m - \u001b[1mPer batch time: 0.830963532 sec\u001b[0m\n"
     ]
    },
    {
     "name": "stdout",
     "output_type": "stream",
     "text": [
      "torch.Size([1, 2, 200, 252]) torch.Size([1, 14, 200, 252])\n"
     ]
    },
    {
     "name": "stderr",
     "output_type": "stream",
     "text": [
      "\u001b[32m2024-07-11 16:44:28.042\u001b[0m | \u001b[1mINFO    \u001b[0m | \u001b[36m__main__\u001b[0m:\u001b[36mtrain\u001b[0m:\u001b[36m23\u001b[0m - \u001b[1mEpoch: 0, Batch: 13, Loss: 2.2725207805633545\u001b[0m\n",
      "\u001b[32m2024-07-11 16:44:28.042\u001b[0m | \u001b[1mINFO    \u001b[0m | \u001b[36m__main__\u001b[0m:\u001b[36mtrain\u001b[0m:\u001b[36m25\u001b[0m - \u001b[1mPer batch time: 0.826825597 sec\u001b[0m\n"
     ]
    },
    {
     "name": "stdout",
     "output_type": "stream",
     "text": [
      "torch.Size([1, 2, 200, 252]) torch.Size([1, 14, 200, 252])\n"
     ]
    },
    {
     "name": "stderr",
     "output_type": "stream",
     "text": [
      "\u001b[32m2024-07-11 16:44:29.348\u001b[0m | \u001b[1mINFO    \u001b[0m | \u001b[36m__main__\u001b[0m:\u001b[36mtrain\u001b[0m:\u001b[36m23\u001b[0m - \u001b[1mEpoch: 0, Batch: 14, Loss: 4.6342620849609375\u001b[0m\n",
      "\u001b[32m2024-07-11 16:44:29.348\u001b[0m | \u001b[1mINFO    \u001b[0m | \u001b[36m__main__\u001b[0m:\u001b[36mtrain\u001b[0m:\u001b[36m25\u001b[0m - \u001b[1mPer batch time: 1.161257825 sec\u001b[0m\n"
     ]
    },
    {
     "name": "stdout",
     "output_type": "stream",
     "text": [
      "torch.Size([1, 2, 200, 252]) torch.Size([1, 14, 200, 252])\n"
     ]
    },
    {
     "name": "stderr",
     "output_type": "stream",
     "text": [
      "\u001b[32m2024-07-11 16:44:30.674\u001b[0m | \u001b[1mINFO    \u001b[0m | \u001b[36m__main__\u001b[0m:\u001b[36mtrain\u001b[0m:\u001b[36m23\u001b[0m - \u001b[1mEpoch: 0, Batch: 15, Loss: 3.4171156883239746\u001b[0m\n",
      "\u001b[32m2024-07-11 16:44:30.674\u001b[0m | \u001b[1mINFO    \u001b[0m | \u001b[36m__main__\u001b[0m:\u001b[36mtrain\u001b[0m:\u001b[36m25\u001b[0m - \u001b[1mPer batch time: 1.142084841 sec\u001b[0m\n"
     ]
    },
    {
     "name": "stdout",
     "output_type": "stream",
     "text": [
      "torch.Size([1, 2, 200, 252]) torch.Size([1, 14, 200, 252])\n"
     ]
    },
    {
     "name": "stderr",
     "output_type": "stream",
     "text": [
      "\u001b[32m2024-07-11 16:44:32.006\u001b[0m | \u001b[1mINFO    \u001b[0m | \u001b[36m__main__\u001b[0m:\u001b[36mtrain\u001b[0m:\u001b[36m23\u001b[0m - \u001b[1mEpoch: 0, Batch: 16, Loss: 3.6755428314208984\u001b[0m\n",
      "\u001b[32m2024-07-11 16:44:32.007\u001b[0m | \u001b[1mINFO    \u001b[0m | \u001b[36m__main__\u001b[0m:\u001b[36mtrain\u001b[0m:\u001b[36m25\u001b[0m - \u001b[1mPer batch time: 1.02626745 sec\u001b[0m\n"
     ]
    },
    {
     "name": "stdout",
     "output_type": "stream",
     "text": [
      "torch.Size([1, 2, 200, 252]) torch.Size([1, 14, 200, 252])\n"
     ]
    },
    {
     "name": "stderr",
     "output_type": "stream",
     "text": [
      "\u001b[32m2024-07-11 16:44:33.166\u001b[0m | \u001b[1mINFO    \u001b[0m | \u001b[36m__main__\u001b[0m:\u001b[36mtrain\u001b[0m:\u001b[36m23\u001b[0m - \u001b[1mEpoch: 0, Batch: 17, Loss: 2.698202133178711\u001b[0m\n",
      "\u001b[32m2024-07-11 16:44:33.166\u001b[0m | \u001b[1mINFO    \u001b[0m | \u001b[36m__main__\u001b[0m:\u001b[36mtrain\u001b[0m:\u001b[36m25\u001b[0m - \u001b[1mPer batch time: 1.102392656 sec\u001b[0m\n"
     ]
    },
    {
     "name": "stdout",
     "output_type": "stream",
     "text": [
      "torch.Size([1, 2, 200, 252]) torch.Size([1, 14, 200, 252])\n"
     ]
    },
    {
     "name": "stderr",
     "output_type": "stream",
     "text": [
      "\u001b[32m2024-07-11 16:44:34.469\u001b[0m | \u001b[1mINFO    \u001b[0m | \u001b[36m__main__\u001b[0m:\u001b[36mtrain\u001b[0m:\u001b[36m23\u001b[0m - \u001b[1mEpoch: 0, Batch: 18, Loss: 3.7877707481384277\u001b[0m\n",
      "\u001b[32m2024-07-11 16:44:34.470\u001b[0m | \u001b[1mINFO    \u001b[0m | \u001b[36m__main__\u001b[0m:\u001b[36mtrain\u001b[0m:\u001b[36m25\u001b[0m - \u001b[1mPer batch time: 1.21053933 sec\u001b[0m\n"
     ]
    },
    {
     "name": "stdout",
     "output_type": "stream",
     "text": [
      "torch.Size([1, 2, 200, 252]) torch.Size([1, 14, 200, 252])\n"
     ]
    },
    {
     "name": "stderr",
     "output_type": "stream",
     "text": [
      "\u001b[32m2024-07-11 16:44:35.702\u001b[0m | \u001b[1mINFO    \u001b[0m | \u001b[36m__main__\u001b[0m:\u001b[36mtrain\u001b[0m:\u001b[36m23\u001b[0m - \u001b[1mEpoch: 0, Batch: 19, Loss: 2.583066463470459\u001b[0m\n",
      "\u001b[32m2024-07-11 16:44:35.703\u001b[0m | \u001b[1mINFO    \u001b[0m | \u001b[36m__main__\u001b[0m:\u001b[36mtrain\u001b[0m:\u001b[36m25\u001b[0m - \u001b[1mPer batch time: 1.107598787 sec\u001b[0m\n"
     ]
    },
    {
     "name": "stdout",
     "output_type": "stream",
     "text": [
      "torch.Size([1, 2, 200, 252]) torch.Size([1, 14, 200, 252])\n"
     ]
    },
    {
     "name": "stderr",
     "output_type": "stream",
     "text": [
      "\u001b[32m2024-07-11 16:44:37.020\u001b[0m | \u001b[1mINFO    \u001b[0m | \u001b[36m__main__\u001b[0m:\u001b[36mtrain\u001b[0m:\u001b[36m23\u001b[0m - \u001b[1mEpoch: 0, Batch: 20, Loss: 4.56577730178833\u001b[0m\n",
      "\u001b[32m2024-07-11 16:44:37.021\u001b[0m | \u001b[1mINFO    \u001b[0m | \u001b[36m__main__\u001b[0m:\u001b[36mtrain\u001b[0m:\u001b[36m25\u001b[0m - \u001b[1mPer batch time: 1.242772987 sec\u001b[0m\n"
     ]
    },
    {
     "name": "stdout",
     "output_type": "stream",
     "text": [
      "torch.Size([1, 2, 200, 252]) torch.Size([1, 14, 200, 252])\n"
     ]
    },
    {
     "name": "stderr",
     "output_type": "stream",
     "text": [
      "\u001b[32m2024-07-11 16:44:38.216\u001b[0m | \u001b[1mINFO    \u001b[0m | \u001b[36m__main__\u001b[0m:\u001b[36mtrain\u001b[0m:\u001b[36m23\u001b[0m - \u001b[1mEpoch: 0, Batch: 21, Loss: 3.1116294860839844\u001b[0m\n",
      "\u001b[32m2024-07-11 16:44:38.217\u001b[0m | \u001b[1mINFO    \u001b[0m | \u001b[36m__main__\u001b[0m:\u001b[36mtrain\u001b[0m:\u001b[36m25\u001b[0m - \u001b[1mPer batch time: 1.127314441 sec\u001b[0m\n"
     ]
    },
    {
     "name": "stdout",
     "output_type": "stream",
     "text": [
      "torch.Size([1, 2, 200, 252]) torch.Size([1, 14, 200, 252])\n"
     ]
    },
    {
     "name": "stderr",
     "output_type": "stream",
     "text": [
      "\u001b[32m2024-07-11 16:44:39.711\u001b[0m | \u001b[1mINFO    \u001b[0m | \u001b[36m__main__\u001b[0m:\u001b[36mtrain\u001b[0m:\u001b[36m23\u001b[0m - \u001b[1mEpoch: 0, Batch: 22, Loss: 3.591482162475586\u001b[0m\n",
      "\u001b[32m2024-07-11 16:44:39.711\u001b[0m | \u001b[1mINFO    \u001b[0m | \u001b[36m__main__\u001b[0m:\u001b[36mtrain\u001b[0m:\u001b[36m25\u001b[0m - \u001b[1mPer batch time: 1.28565821 sec\u001b[0m\n"
     ]
    },
    {
     "name": "stdout",
     "output_type": "stream",
     "text": [
      "torch.Size([1, 2, 200, 252]) torch.Size([1, 14, 200, 252])\n"
     ]
    },
    {
     "name": "stderr",
     "output_type": "stream",
     "text": [
      "\u001b[32m2024-07-11 16:44:41.099\u001b[0m | \u001b[1mINFO    \u001b[0m | \u001b[36m__main__\u001b[0m:\u001b[36mtrain\u001b[0m:\u001b[36m23\u001b[0m - \u001b[1mEpoch: 0, Batch: 23, Loss: 3.6399316787719727\u001b[0m\n",
      "\u001b[32m2024-07-11 16:44:41.100\u001b[0m | \u001b[1mINFO    \u001b[0m | \u001b[36m__main__\u001b[0m:\u001b[36mtrain\u001b[0m:\u001b[36m25\u001b[0m - \u001b[1mPer batch time: 1.215635745 sec\u001b[0m\n"
     ]
    },
    {
     "name": "stdout",
     "output_type": "stream",
     "text": [
      "torch.Size([1, 2, 200, 252]) torch.Size([1, 14, 200, 252])\n"
     ]
    },
    {
     "name": "stderr",
     "output_type": "stream",
     "text": [
      "\u001b[32m2024-07-11 16:44:42.404\u001b[0m | \u001b[1mINFO    \u001b[0m | \u001b[36m__main__\u001b[0m:\u001b[36mtrain\u001b[0m:\u001b[36m23\u001b[0m - \u001b[1mEpoch: 0, Batch: 24, Loss: 3.964218854904175\u001b[0m\n",
      "\u001b[32m2024-07-11 16:44:42.404\u001b[0m | \u001b[1mINFO    \u001b[0m | \u001b[36m__main__\u001b[0m:\u001b[36mtrain\u001b[0m:\u001b[36m25\u001b[0m - \u001b[1mPer batch time: 1.167878133 sec\u001b[0m\n"
     ]
    },
    {
     "name": "stdout",
     "output_type": "stream",
     "text": [
      "torch.Size([1, 2, 200, 252]) torch.Size([1, 14, 200, 252])\n"
     ]
    },
    {
     "name": "stderr",
     "output_type": "stream",
     "text": [
      "\u001b[32m2024-07-11 16:44:43.703\u001b[0m | \u001b[1mINFO    \u001b[0m | \u001b[36m__main__\u001b[0m:\u001b[36mtrain\u001b[0m:\u001b[36m23\u001b[0m - \u001b[1mEpoch: 0, Batch: 25, Loss: 3.5114002227783203\u001b[0m\n",
      "\u001b[32m2024-07-11 16:44:43.704\u001b[0m | \u001b[1mINFO    \u001b[0m | \u001b[36m__main__\u001b[0m:\u001b[36mtrain\u001b[0m:\u001b[36m25\u001b[0m - \u001b[1mPer batch time: 1.126495704 sec\u001b[0m\n"
     ]
    },
    {
     "name": "stdout",
     "output_type": "stream",
     "text": [
      "torch.Size([1, 2, 200, 252]) torch.Size([1, 14, 200, 252])\n"
     ]
    },
    {
     "name": "stderr",
     "output_type": "stream",
     "text": [
      "\u001b[32m2024-07-11 16:44:44.968\u001b[0m | \u001b[1mINFO    \u001b[0m | \u001b[36m__main__\u001b[0m:\u001b[36mtrain\u001b[0m:\u001b[36m23\u001b[0m - \u001b[1mEpoch: 0, Batch: 26, Loss: 3.14973521232605\u001b[0m\n",
      "\u001b[32m2024-07-11 16:44:44.968\u001b[0m | \u001b[1mINFO    \u001b[0m | \u001b[36m__main__\u001b[0m:\u001b[36mtrain\u001b[0m:\u001b[36m25\u001b[0m - \u001b[1mPer batch time: 1.125969275 sec\u001b[0m\n"
     ]
    },
    {
     "name": "stdout",
     "output_type": "stream",
     "text": [
      "torch.Size([1, 2, 200, 252]) torch.Size([1, 14, 200, 252])\n"
     ]
    },
    {
     "name": "stderr",
     "output_type": "stream",
     "text": [
      "\u001b[32m2024-07-11 16:44:46.141\u001b[0m | \u001b[1mINFO    \u001b[0m | \u001b[36m__main__\u001b[0m:\u001b[36mtrain\u001b[0m:\u001b[36m23\u001b[0m - \u001b[1mEpoch: 0, Batch: 27, Loss: 1.8567304611206055\u001b[0m\n",
      "\u001b[32m2024-07-11 16:44:46.141\u001b[0m | \u001b[1mINFO    \u001b[0m | \u001b[36m__main__\u001b[0m:\u001b[36mtrain\u001b[0m:\u001b[36m25\u001b[0m - \u001b[1mPer batch time: 1.114358404 sec\u001b[0m\n"
     ]
    },
    {
     "name": "stdout",
     "output_type": "stream",
     "text": [
      "torch.Size([1, 2, 200, 252]) torch.Size([1, 14, 200, 252])\n"
     ]
    },
    {
     "name": "stderr",
     "output_type": "stream",
     "text": [
      "\u001b[32m2024-07-11 16:44:47.151\u001b[0m | \u001b[1mINFO    \u001b[0m | \u001b[36m__main__\u001b[0m:\u001b[36mtrain\u001b[0m:\u001b[36m23\u001b[0m - \u001b[1mEpoch: 0, Batch: 28, Loss: 3.4922385215759277\u001b[0m\n",
      "\u001b[32m2024-07-11 16:44:47.152\u001b[0m | \u001b[1mINFO    \u001b[0m | \u001b[36m__main__\u001b[0m:\u001b[36mtrain\u001b[0m:\u001b[36m25\u001b[0m - \u001b[1mPer batch time: 0.949260734 sec\u001b[0m\n"
     ]
    },
    {
     "name": "stdout",
     "output_type": "stream",
     "text": [
      "torch.Size([1, 2, 200, 252]) torch.Size([1, 14, 200, 252])\n"
     ]
    },
    {
     "name": "stderr",
     "output_type": "stream",
     "text": [
      "\u001b[32m2024-07-11 16:44:48.025\u001b[0m | \u001b[1mINFO    \u001b[0m | \u001b[36m__main__\u001b[0m:\u001b[36mtrain\u001b[0m:\u001b[36m23\u001b[0m - \u001b[1mEpoch: 0, Batch: 29, Loss: 2.4090447425842285\u001b[0m\n",
      "\u001b[32m2024-07-11 16:44:48.026\u001b[0m | \u001b[1mINFO    \u001b[0m | \u001b[36m__main__\u001b[0m:\u001b[36mtrain\u001b[0m:\u001b[36m25\u001b[0m - \u001b[1mPer batch time: 0.815647602 sec\u001b[0m\n"
     ]
    },
    {
     "name": "stdout",
     "output_type": "stream",
     "text": [
      "torch.Size([1, 2, 200, 252]) torch.Size([1, 14, 200, 252])\n"
     ]
    },
    {
     "name": "stderr",
     "output_type": "stream",
     "text": [
      "\u001b[32m2024-07-11 16:44:49.307\u001b[0m | \u001b[1mINFO    \u001b[0m | \u001b[36m__main__\u001b[0m:\u001b[36mtrain\u001b[0m:\u001b[36m23\u001b[0m - \u001b[1mEpoch: 0, Batch: 30, Loss: 3.8931100368499756\u001b[0m\n",
      "\u001b[32m2024-07-11 16:44:49.308\u001b[0m | \u001b[1mINFO    \u001b[0m | \u001b[36m__main__\u001b[0m:\u001b[36mtrain\u001b[0m:\u001b[36m25\u001b[0m - \u001b[1mPer batch time: 1.224236744 sec\u001b[0m\n"
     ]
    },
    {
     "name": "stdout",
     "output_type": "stream",
     "text": [
      "torch.Size([1, 2, 200, 252]) torch.Size([1, 14, 200, 252])\n"
     ]
    },
    {
     "name": "stderr",
     "output_type": "stream",
     "text": [
      "\u001b[32m2024-07-11 16:44:50.602\u001b[0m | \u001b[1mINFO    \u001b[0m | \u001b[36m__main__\u001b[0m:\u001b[36mtrain\u001b[0m:\u001b[36m23\u001b[0m - \u001b[1mEpoch: 0, Batch: 31, Loss: 4.036520957946777\u001b[0m\n",
      "\u001b[32m2024-07-11 16:44:50.603\u001b[0m | \u001b[1mINFO    \u001b[0m | \u001b[36m__main__\u001b[0m:\u001b[36mtrain\u001b[0m:\u001b[36m25\u001b[0m - \u001b[1mPer batch time: 1.226416432 sec\u001b[0m\n"
     ]
    },
    {
     "name": "stdout",
     "output_type": "stream",
     "text": [
      "torch.Size([1, 2, 200, 252]) torch.Size([1, 14, 200, 252])\n"
     ]
    },
    {
     "name": "stderr",
     "output_type": "stream",
     "text": [
      "\u001b[32m2024-07-11 16:44:51.914\u001b[0m | \u001b[1mINFO    \u001b[0m | \u001b[36m__main__\u001b[0m:\u001b[36mtrain\u001b[0m:\u001b[36m23\u001b[0m - \u001b[1mEpoch: 0, Batch: 32, Loss: 2.7478063106536865\u001b[0m\n",
      "\u001b[32m2024-07-11 16:44:51.915\u001b[0m | \u001b[1mINFO    \u001b[0m | \u001b[36m__main__\u001b[0m:\u001b[36mtrain\u001b[0m:\u001b[36m25\u001b[0m - \u001b[1mPer batch time: 1.093622493 sec\u001b[0m\n"
     ]
    },
    {
     "name": "stdout",
     "output_type": "stream",
     "text": [
      "torch.Size([1, 2, 200, 252]) torch.Size([1, 14, 200, 252])\n"
     ]
    },
    {
     "name": "stderr",
     "output_type": "stream",
     "text": [
      "\u001b[32m2024-07-11 16:44:53.142\u001b[0m | \u001b[1mINFO    \u001b[0m | \u001b[36m__main__\u001b[0m:\u001b[36mtrain\u001b[0m:\u001b[36m23\u001b[0m - \u001b[1mEpoch: 0, Batch: 33, Loss: 2.0594735145568848\u001b[0m\n",
      "\u001b[32m2024-07-11 16:44:53.142\u001b[0m | \u001b[1mINFO    \u001b[0m | \u001b[36m__main__\u001b[0m:\u001b[36mtrain\u001b[0m:\u001b[36m25\u001b[0m - \u001b[1mPer batch time: 1.085392318 sec\u001b[0m\n"
     ]
    },
    {
     "name": "stdout",
     "output_type": "stream",
     "text": [
      "torch.Size([1, 2, 200, 252]) torch.Size([1, 14, 200, 252])\n"
     ]
    },
    {
     "name": "stderr",
     "output_type": "stream",
     "text": [
      "\u001b[32m2024-07-11 16:44:54.420\u001b[0m | \u001b[1mINFO    \u001b[0m | \u001b[36m__main__\u001b[0m:\u001b[36mtrain\u001b[0m:\u001b[36m23\u001b[0m - \u001b[1mEpoch: 0, Batch: 34, Loss: 1.8854169845581055\u001b[0m\n",
      "\u001b[32m2024-07-11 16:44:54.421\u001b[0m | \u001b[1mINFO    \u001b[0m | \u001b[36m__main__\u001b[0m:\u001b[36mtrain\u001b[0m:\u001b[36m25\u001b[0m - \u001b[1mPer batch time: 1.139126782 sec\u001b[0m\n"
     ]
    },
    {
     "name": "stdout",
     "output_type": "stream",
     "text": [
      "torch.Size([1, 2, 200, 252]) torch.Size([1, 14, 200, 252])\n"
     ]
    },
    {
     "name": "stderr",
     "output_type": "stream",
     "text": [
      "\u001b[32m2024-07-11 16:44:55.779\u001b[0m | \u001b[1mINFO    \u001b[0m | \u001b[36m__main__\u001b[0m:\u001b[36mtrain\u001b[0m:\u001b[36m23\u001b[0m - \u001b[1mEpoch: 0, Batch: 35, Loss: 4.278532028198242\u001b[0m\n",
      "\u001b[32m2024-07-11 16:44:55.780\u001b[0m | \u001b[1mINFO    \u001b[0m | \u001b[36m__main__\u001b[0m:\u001b[36mtrain\u001b[0m:\u001b[36m25\u001b[0m - \u001b[1mPer batch time: 1.239003513 sec\u001b[0m\n"
     ]
    },
    {
     "name": "stdout",
     "output_type": "stream",
     "text": [
      "torch.Size([1, 2, 200, 252]) torch.Size([1, 14, 200, 252])\n"
     ]
    },
    {
     "name": "stderr",
     "output_type": "stream",
     "text": [
      "\u001b[32m2024-07-11 16:44:57.059\u001b[0m | \u001b[1mINFO    \u001b[0m | \u001b[36m__main__\u001b[0m:\u001b[36mtrain\u001b[0m:\u001b[36m23\u001b[0m - \u001b[1mEpoch: 0, Batch: 36, Loss: 2.707066059112549\u001b[0m\n",
      "\u001b[32m2024-07-11 16:44:57.060\u001b[0m | \u001b[1mINFO    \u001b[0m | \u001b[36m__main__\u001b[0m:\u001b[36mtrain\u001b[0m:\u001b[36m25\u001b[0m - \u001b[1mPer batch time: 1.082882428 sec\u001b[0m\n"
     ]
    },
    {
     "name": "stdout",
     "output_type": "stream",
     "text": [
      "torch.Size([1, 2, 200, 252]) torch.Size([1, 14, 200, 252])\n"
     ]
    },
    {
     "name": "stderr",
     "output_type": "stream",
     "text": [
      "\u001b[32m2024-07-11 16:44:58.392\u001b[0m | \u001b[1mINFO    \u001b[0m | \u001b[36m__main__\u001b[0m:\u001b[36mtrain\u001b[0m:\u001b[36m23\u001b[0m - \u001b[1mEpoch: 0, Batch: 37, Loss: 2.7600479125976562\u001b[0m\n",
      "\u001b[32m2024-07-11 16:44:58.393\u001b[0m | \u001b[1mINFO    \u001b[0m | \u001b[36m__main__\u001b[0m:\u001b[36mtrain\u001b[0m:\u001b[36m25\u001b[0m - \u001b[1mPer batch time: 1.143792382 sec\u001b[0m\n"
     ]
    },
    {
     "name": "stdout",
     "output_type": "stream",
     "text": [
      "torch.Size([1, 2, 200, 252]) torch.Size([1, 14, 200, 252])\n"
     ]
    },
    {
     "name": "stderr",
     "output_type": "stream",
     "text": [
      "\u001b[32m2024-07-11 16:44:59.758\u001b[0m | \u001b[1mINFO    \u001b[0m | \u001b[36m__main__\u001b[0m:\u001b[36mtrain\u001b[0m:\u001b[36m23\u001b[0m - \u001b[1mEpoch: 0, Batch: 38, Loss: 3.8928794860839844\u001b[0m\n",
      "\u001b[32m2024-07-11 16:44:59.759\u001b[0m | \u001b[1mINFO    \u001b[0m | \u001b[36m__main__\u001b[0m:\u001b[36mtrain\u001b[0m:\u001b[36m25\u001b[0m - \u001b[1mPer batch time: 1.241206879 sec\u001b[0m\n"
     ]
    },
    {
     "name": "stdout",
     "output_type": "stream",
     "text": [
      "torch.Size([1, 2, 200, 252]) torch.Size([1, 14, 200, 252])\n"
     ]
    },
    {
     "name": "stderr",
     "output_type": "stream",
     "text": [
      "\u001b[32m2024-07-11 16:45:01.162\u001b[0m | \u001b[1mINFO    \u001b[0m | \u001b[36m__main__\u001b[0m:\u001b[36mtrain\u001b[0m:\u001b[36m23\u001b[0m - \u001b[1mEpoch: 0, Batch: 39, Loss: 2.8161656856536865\u001b[0m\n",
      "\u001b[32m2024-07-11 16:45:01.163\u001b[0m | \u001b[1mINFO    \u001b[0m | \u001b[36m__main__\u001b[0m:\u001b[36mtrain\u001b[0m:\u001b[36m25\u001b[0m - \u001b[1mPer batch time: 1.15503921 sec\u001b[0m\n"
     ]
    },
    {
     "name": "stdout",
     "output_type": "stream",
     "text": [
      "torch.Size([1, 2, 200, 252]) torch.Size([1, 14, 200, 252])\n"
     ]
    },
    {
     "name": "stderr",
     "output_type": "stream",
     "text": [
      "\u001b[32m2024-07-11 16:45:02.429\u001b[0m | \u001b[1mINFO    \u001b[0m | \u001b[36m__main__\u001b[0m:\u001b[36mtrain\u001b[0m:\u001b[36m23\u001b[0m - \u001b[1mEpoch: 0, Batch: 40, Loss: 3.828644275665283\u001b[0m\n",
      "\u001b[32m2024-07-11 16:45:02.430\u001b[0m | \u001b[1mINFO    \u001b[0m | \u001b[36m__main__\u001b[0m:\u001b[36mtrain\u001b[0m:\u001b[36m25\u001b[0m - \u001b[1mPer batch time: 1.1448543 sec\u001b[0m\n"
     ]
    },
    {
     "name": "stdout",
     "output_type": "stream",
     "text": [
      "torch.Size([1, 2, 200, 252]) torch.Size([1, 14, 200, 252])\n"
     ]
    },
    {
     "name": "stderr",
     "output_type": "stream",
     "text": [
      "\u001b[32m2024-07-11 16:45:03.673\u001b[0m | \u001b[1mINFO    \u001b[0m | \u001b[36m__main__\u001b[0m:\u001b[36mtrain\u001b[0m:\u001b[36m23\u001b[0m - \u001b[1mEpoch: 0, Batch: 41, Loss: 2.5718870162963867\u001b[0m\n",
      "\u001b[32m2024-07-11 16:45:03.674\u001b[0m | \u001b[1mINFO    \u001b[0m | \u001b[36m__main__\u001b[0m:\u001b[36mtrain\u001b[0m:\u001b[36m25\u001b[0m - \u001b[1mPer batch time: 1.086696492 sec\u001b[0m\n"
     ]
    },
    {
     "name": "stdout",
     "output_type": "stream",
     "text": [
      "torch.Size([1, 2, 200, 252]) torch.Size([1, 14, 200, 252])\n"
     ]
    },
    {
     "name": "stderr",
     "output_type": "stream",
     "text": [
      "\u001b[32m2024-07-11 16:45:05.020\u001b[0m | \u001b[1mINFO    \u001b[0m | \u001b[36m__main__\u001b[0m:\u001b[36mtrain\u001b[0m:\u001b[36m23\u001b[0m - \u001b[1mEpoch: 0, Batch: 42, Loss: 2.841541051864624\u001b[0m\n",
      "\u001b[32m2024-07-11 16:45:05.021\u001b[0m | \u001b[1mINFO    \u001b[0m | \u001b[36m__main__\u001b[0m:\u001b[36mtrain\u001b[0m:\u001b[36m25\u001b[0m - \u001b[1mPer batch time: 1.122989467 sec\u001b[0m\n"
     ]
    },
    {
     "name": "stdout",
     "output_type": "stream",
     "text": [
      "torch.Size([1, 2, 200, 252]) torch.Size([1, 14, 200, 252])\n"
     ]
    },
    {
     "name": "stderr",
     "output_type": "stream",
     "text": [
      "\u001b[32m2024-07-11 16:45:06.354\u001b[0m | \u001b[1mINFO    \u001b[0m | \u001b[36m__main__\u001b[0m:\u001b[36mtrain\u001b[0m:\u001b[36m23\u001b[0m - \u001b[1mEpoch: 0, Batch: 43, Loss: 3.402439594268799\u001b[0m\n",
      "\u001b[32m2024-07-11 16:45:06.354\u001b[0m | \u001b[1mINFO    \u001b[0m | \u001b[36m__main__\u001b[0m:\u001b[36mtrain\u001b[0m:\u001b[36m25\u001b[0m - \u001b[1mPer batch time: 1.137646219 sec\u001b[0m\n"
     ]
    },
    {
     "name": "stdout",
     "output_type": "stream",
     "text": [
      "torch.Size([1, 2, 200, 252]) torch.Size([1, 14, 200, 252])\n"
     ]
    },
    {
     "name": "stderr",
     "output_type": "stream",
     "text": [
      "\u001b[32m2024-07-11 16:45:07.649\u001b[0m | \u001b[1mINFO    \u001b[0m | \u001b[36m__main__\u001b[0m:\u001b[36mtrain\u001b[0m:\u001b[36m23\u001b[0m - \u001b[1mEpoch: 0, Batch: 44, Loss: 3.7261910438537598\u001b[0m\n",
      "\u001b[32m2024-07-11 16:45:07.649\u001b[0m | \u001b[1mINFO    \u001b[0m | \u001b[36m__main__\u001b[0m:\u001b[36mtrain\u001b[0m:\u001b[36m25\u001b[0m - \u001b[1mPer batch time: 1.174345014 sec\u001b[0m\n"
     ]
    },
    {
     "name": "stdout",
     "output_type": "stream",
     "text": [
      "torch.Size([1, 2, 200, 252]) torch.Size([1, 14, 200, 252])\n"
     ]
    },
    {
     "name": "stderr",
     "output_type": "stream",
     "text": [
      "\u001b[32m2024-07-11 16:45:08.902\u001b[0m | \u001b[1mINFO    \u001b[0m | \u001b[36m__main__\u001b[0m:\u001b[36mtrain\u001b[0m:\u001b[36m23\u001b[0m - \u001b[1mEpoch: 0, Batch: 45, Loss: 3.971893548965454\u001b[0m\n",
      "\u001b[32m2024-07-11 16:45:08.902\u001b[0m | \u001b[1mINFO    \u001b[0m | \u001b[36m__main__\u001b[0m:\u001b[36mtrain\u001b[0m:\u001b[36m25\u001b[0m - \u001b[1mPer batch time: 1.109974496 sec\u001b[0m\n"
     ]
    },
    {
     "name": "stdout",
     "output_type": "stream",
     "text": [
      "torch.Size([1, 2, 200, 252]) torch.Size([1, 14, 200, 252])\n"
     ]
    },
    {
     "name": "stderr",
     "output_type": "stream",
     "text": [
      "\u001b[32m2024-07-11 16:45:10.276\u001b[0m | \u001b[1mINFO    \u001b[0m | \u001b[36m__main__\u001b[0m:\u001b[36mtrain\u001b[0m:\u001b[36m23\u001b[0m - \u001b[1mEpoch: 0, Batch: 46, Loss: 4.2172088623046875\u001b[0m\n",
      "\u001b[32m2024-07-11 16:45:10.276\u001b[0m | \u001b[1mINFO    \u001b[0m | \u001b[36m__main__\u001b[0m:\u001b[36mtrain\u001b[0m:\u001b[36m25\u001b[0m - \u001b[1mPer batch time: 1.250788066 sec\u001b[0m\n"
     ]
    },
    {
     "name": "stdout",
     "output_type": "stream",
     "text": [
      "torch.Size([1, 2, 200, 252]) torch.Size([1, 14, 200, 252])\n"
     ]
    },
    {
     "name": "stderr",
     "output_type": "stream",
     "text": [
      "\u001b[32m2024-07-11 16:45:11.603\u001b[0m | \u001b[1mINFO    \u001b[0m | \u001b[36m__main__\u001b[0m:\u001b[36mtrain\u001b[0m:\u001b[36m23\u001b[0m - \u001b[1mEpoch: 0, Batch: 47, Loss: 3.3262672424316406\u001b[0m\n",
      "\u001b[32m2024-07-11 16:45:11.604\u001b[0m | \u001b[1mINFO    \u001b[0m | \u001b[36m__main__\u001b[0m:\u001b[36mtrain\u001b[0m:\u001b[36m25\u001b[0m - \u001b[1mPer batch time: 1.199484699 sec\u001b[0m\n"
     ]
    },
    {
     "name": "stdout",
     "output_type": "stream",
     "text": [
      "torch.Size([1, 2, 200, 252]) torch.Size([1, 14, 200, 252])\n"
     ]
    },
    {
     "name": "stderr",
     "output_type": "stream",
     "text": [
      "\u001b[32m2024-07-11 16:45:12.836\u001b[0m | \u001b[1mINFO    \u001b[0m | \u001b[36m__main__\u001b[0m:\u001b[36mtrain\u001b[0m:\u001b[36m23\u001b[0m - \u001b[1mEpoch: 0, Batch: 48, Loss: 2.6437482833862305\u001b[0m\n",
      "\u001b[32m2024-07-11 16:45:12.836\u001b[0m | \u001b[1mINFO    \u001b[0m | \u001b[36m__main__\u001b[0m:\u001b[36mtrain\u001b[0m:\u001b[36m25\u001b[0m - \u001b[1mPer batch time: 1.071664434 sec\u001b[0m\n"
     ]
    },
    {
     "name": "stdout",
     "output_type": "stream",
     "text": [
      "torch.Size([1, 2, 200, 252]) torch.Size([1, 14, 200, 252])\n"
     ]
    },
    {
     "name": "stderr",
     "output_type": "stream",
     "text": [
      "\u001b[32m2024-07-11 16:45:14.186\u001b[0m | \u001b[1mINFO    \u001b[0m | \u001b[36m__main__\u001b[0m:\u001b[36mtrain\u001b[0m:\u001b[36m23\u001b[0m - \u001b[1mEpoch: 0, Batch: 49, Loss: 3.2995896339416504\u001b[0m\n",
      "\u001b[32m2024-07-11 16:45:14.187\u001b[0m | \u001b[1mINFO    \u001b[0m | \u001b[36m__main__\u001b[0m:\u001b[36mtrain\u001b[0m:\u001b[36m25\u001b[0m - \u001b[1mPer batch time: 1.212965907 sec\u001b[0m\n"
     ]
    },
    {
     "name": "stdout",
     "output_type": "stream",
     "text": [
      "torch.Size([1, 2, 200, 252]) torch.Size([1, 14, 200, 252])\n"
     ]
    },
    {
     "name": "stderr",
     "output_type": "stream",
     "text": [
      "\u001b[32m2024-07-11 16:45:15.112\u001b[0m | \u001b[1mINFO    \u001b[0m | \u001b[36m__main__\u001b[0m:\u001b[36mtrain\u001b[0m:\u001b[36m23\u001b[0m - \u001b[1mEpoch: 0, Batch: 50, Loss: 2.9534707069396973\u001b[0m\n",
      "\u001b[32m2024-07-11 16:45:15.113\u001b[0m | \u001b[1mINFO    \u001b[0m | \u001b[36m__main__\u001b[0m:\u001b[36mtrain\u001b[0m:\u001b[36m25\u001b[0m - \u001b[1mPer batch time: 0.777160723 sec\u001b[0m\n"
     ]
    },
    {
     "name": "stdout",
     "output_type": "stream",
     "text": [
      "torch.Size([1, 2, 200, 252]) torch.Size([1, 14, 200, 252])\n"
     ]
    },
    {
     "name": "stderr",
     "output_type": "stream",
     "text": [
      "\u001b[32m2024-07-11 16:45:16.367\u001b[0m | \u001b[1mINFO    \u001b[0m | \u001b[36m__main__\u001b[0m:\u001b[36mtrain\u001b[0m:\u001b[36m23\u001b[0m - \u001b[1mEpoch: 0, Batch: 51, Loss: 2.2091054916381836\u001b[0m\n",
      "\u001b[32m2024-07-11 16:45:16.368\u001b[0m | \u001b[1mINFO    \u001b[0m | \u001b[36m__main__\u001b[0m:\u001b[36mtrain\u001b[0m:\u001b[36m25\u001b[0m - \u001b[1mPer batch time: 1.080291847 sec\u001b[0m\n"
     ]
    },
    {
     "name": "stdout",
     "output_type": "stream",
     "text": [
      "torch.Size([1, 2, 200, 252]) torch.Size([1, 14, 200, 252])\n"
     ]
    },
    {
     "name": "stderr",
     "output_type": "stream",
     "text": [
      "\u001b[32m2024-07-11 16:45:17.614\u001b[0m | \u001b[1mINFO    \u001b[0m | \u001b[36m__main__\u001b[0m:\u001b[36mtrain\u001b[0m:\u001b[36m23\u001b[0m - \u001b[1mEpoch: 0, Batch: 52, Loss: 2.9714889526367188\u001b[0m\n",
      "\u001b[32m2024-07-11 16:45:17.615\u001b[0m | \u001b[1mINFO    \u001b[0m | \u001b[36m__main__\u001b[0m:\u001b[36mtrain\u001b[0m:\u001b[36m25\u001b[0m - \u001b[1mPer batch time: 1.171481757 sec\u001b[0m\n"
     ]
    },
    {
     "name": "stdout",
     "output_type": "stream",
     "text": [
      "torch.Size([1, 2, 200, 252]) torch.Size([1, 14, 200, 252])\n"
     ]
    },
    {
     "name": "stderr",
     "output_type": "stream",
     "text": [
      "\u001b[32m2024-07-11 16:45:19.084\u001b[0m | \u001b[1mINFO    \u001b[0m | \u001b[36m__main__\u001b[0m:\u001b[36mtrain\u001b[0m:\u001b[36m23\u001b[0m - \u001b[1mEpoch: 0, Batch: 53, Loss: 2.7534589767456055\u001b[0m\n",
      "\u001b[32m2024-07-11 16:45:19.085\u001b[0m | \u001b[1mINFO    \u001b[0m | \u001b[36m__main__\u001b[0m:\u001b[36mtrain\u001b[0m:\u001b[36m25\u001b[0m - \u001b[1mPer batch time: 1.295983891 sec\u001b[0m\n"
     ]
    },
    {
     "name": "stdout",
     "output_type": "stream",
     "text": [
      "torch.Size([1, 2, 200, 252]) torch.Size([1, 14, 200, 252])\n"
     ]
    },
    {
     "name": "stderr",
     "output_type": "stream",
     "text": [
      "\u001b[32m2024-07-11 16:45:20.362\u001b[0m | \u001b[1mINFO    \u001b[0m | \u001b[36m__main__\u001b[0m:\u001b[36mtrain\u001b[0m:\u001b[36m23\u001b[0m - \u001b[1mEpoch: 0, Batch: 54, Loss: 2.6261584758758545\u001b[0m\n",
      "\u001b[32m2024-07-11 16:45:20.363\u001b[0m | \u001b[1mINFO    \u001b[0m | \u001b[36m__main__\u001b[0m:\u001b[36mtrain\u001b[0m:\u001b[36m25\u001b[0m - \u001b[1mPer batch time: 1.108447796 sec\u001b[0m\n"
     ]
    },
    {
     "name": "stdout",
     "output_type": "stream",
     "text": [
      "torch.Size([1, 2, 200, 252]) torch.Size([1, 14, 200, 252])\n"
     ]
    },
    {
     "name": "stderr",
     "output_type": "stream",
     "text": [
      "\u001b[32m2024-07-11 16:45:21.709\u001b[0m | \u001b[1mINFO    \u001b[0m | \u001b[36m__main__\u001b[0m:\u001b[36mtrain\u001b[0m:\u001b[36m23\u001b[0m - \u001b[1mEpoch: 0, Batch: 55, Loss: 1.9416778087615967\u001b[0m\n",
      "\u001b[32m2024-07-11 16:45:21.710\u001b[0m | \u001b[1mINFO    \u001b[0m | \u001b[36m__main__\u001b[0m:\u001b[36mtrain\u001b[0m:\u001b[36m25\u001b[0m - \u001b[1mPer batch time: 1.221341718 sec\u001b[0m\n"
     ]
    },
    {
     "name": "stdout",
     "output_type": "stream",
     "text": [
      "torch.Size([1, 2, 200, 252]) torch.Size([1, 14, 200, 252])\n"
     ]
    },
    {
     "name": "stderr",
     "output_type": "stream",
     "text": [
      "\u001b[32m2024-07-11 16:45:23.079\u001b[0m | \u001b[1mINFO    \u001b[0m | \u001b[36m__main__\u001b[0m:\u001b[36mtrain\u001b[0m:\u001b[36m23\u001b[0m - \u001b[1mEpoch: 0, Batch: 56, Loss: 3.622859001159668\u001b[0m\n",
      "\u001b[32m2024-07-11 16:45:23.079\u001b[0m | \u001b[1mINFO    \u001b[0m | \u001b[36m__main__\u001b[0m:\u001b[36mtrain\u001b[0m:\u001b[36m25\u001b[0m - \u001b[1mPer batch time: 1.238777371 sec\u001b[0m\n"
     ]
    },
    {
     "name": "stdout",
     "output_type": "stream",
     "text": [
      "torch.Size([1, 2, 200, 252]) torch.Size([1, 14, 200, 252])\n"
     ]
    },
    {
     "name": "stderr",
     "output_type": "stream",
     "text": [
      "\u001b[32m2024-07-11 16:45:24.368\u001b[0m | \u001b[1mINFO    \u001b[0m | \u001b[36m__main__\u001b[0m:\u001b[36mtrain\u001b[0m:\u001b[36m23\u001b[0m - \u001b[1mEpoch: 0, Batch: 57, Loss: 2.6484320163726807\u001b[0m\n",
      "\u001b[32m2024-07-11 16:45:24.368\u001b[0m | \u001b[1mINFO    \u001b[0m | \u001b[36m__main__\u001b[0m:\u001b[36mtrain\u001b[0m:\u001b[36m25\u001b[0m - \u001b[1mPer batch time: 1.164073754 sec\u001b[0m\n"
     ]
    },
    {
     "name": "stdout",
     "output_type": "stream",
     "text": [
      "torch.Size([1, 2, 200, 252]) torch.Size([1, 14, 200, 252])\n"
     ]
    },
    {
     "name": "stderr",
     "output_type": "stream",
     "text": [
      "\u001b[32m2024-07-11 16:45:25.489\u001b[0m | \u001b[1mINFO    \u001b[0m | \u001b[36m__main__\u001b[0m:\u001b[36mtrain\u001b[0m:\u001b[36m23\u001b[0m - \u001b[1mEpoch: 0, Batch: 58, Loss: 3.427117109298706\u001b[0m\n",
      "\u001b[32m2024-07-11 16:45:25.490\u001b[0m | \u001b[1mINFO    \u001b[0m | \u001b[36m__main__\u001b[0m:\u001b[36mtrain\u001b[0m:\u001b[36m25\u001b[0m - \u001b[1mPer batch time: 0.955523652 sec\u001b[0m\n"
     ]
    },
    {
     "name": "stdout",
     "output_type": "stream",
     "text": [
      "torch.Size([1, 2, 200, 252]) torch.Size([1, 14, 200, 252])\n"
     ]
    },
    {
     "name": "stderr",
     "output_type": "stream",
     "text": [
      "\u001b[32m2024-07-11 16:45:26.753\u001b[0m | \u001b[1mINFO    \u001b[0m | \u001b[36m__main__\u001b[0m:\u001b[36mtrain\u001b[0m:\u001b[36m23\u001b[0m - \u001b[1mEpoch: 0, Batch: 59, Loss: 2.446826219558716\u001b[0m\n",
      "\u001b[32m2024-07-11 16:45:26.754\u001b[0m | \u001b[1mINFO    \u001b[0m | \u001b[36m__main__\u001b[0m:\u001b[36mtrain\u001b[0m:\u001b[36m25\u001b[0m - \u001b[1mPer batch time: 1.099648338 sec\u001b[0m\n"
     ]
    },
    {
     "name": "stdout",
     "output_type": "stream",
     "text": [
      "torch.Size([1, 2, 200, 252]) torch.Size([1, 14, 200, 252])\n"
     ]
    },
    {
     "name": "stderr",
     "output_type": "stream",
     "text": [
      "\u001b[32m2024-07-11 16:45:28.003\u001b[0m | \u001b[1mINFO    \u001b[0m | \u001b[36m__main__\u001b[0m:\u001b[36mtrain\u001b[0m:\u001b[36m23\u001b[0m - \u001b[1mEpoch: 0, Batch: 60, Loss: 3.6853084564208984\u001b[0m\n",
      "\u001b[32m2024-07-11 16:45:28.004\u001b[0m | \u001b[1mINFO    \u001b[0m | \u001b[36m__main__\u001b[0m:\u001b[36mtrain\u001b[0m:\u001b[36m25\u001b[0m - \u001b[1mPer batch time: 1.182936538 sec\u001b[0m\n"
     ]
    },
    {
     "name": "stdout",
     "output_type": "stream",
     "text": [
      "torch.Size([1, 2, 200, 252]) torch.Size([1, 14, 200, 252])\n"
     ]
    },
    {
     "name": "stderr",
     "output_type": "stream",
     "text": [
      "\u001b[32m2024-07-11 16:45:29.255\u001b[0m | \u001b[1mINFO    \u001b[0m | \u001b[36m__main__\u001b[0m:\u001b[36mtrain\u001b[0m:\u001b[36m23\u001b[0m - \u001b[1mEpoch: 0, Batch: 61, Loss: 3.8627967834472656\u001b[0m\n",
      "\u001b[32m2024-07-11 16:45:29.256\u001b[0m | \u001b[1mINFO    \u001b[0m | \u001b[36m__main__\u001b[0m:\u001b[36mtrain\u001b[0m:\u001b[36m25\u001b[0m - \u001b[1mPer batch time: 1.168677468 sec\u001b[0m\n"
     ]
    },
    {
     "name": "stdout",
     "output_type": "stream",
     "text": [
      "torch.Size([1, 2, 200, 252]) torch.Size([1, 14, 200, 252])\n"
     ]
    },
    {
     "name": "stderr",
     "output_type": "stream",
     "text": [
      "\u001b[32m2024-07-11 16:45:30.468\u001b[0m | \u001b[1mINFO    \u001b[0m | \u001b[36m__main__\u001b[0m:\u001b[36mtrain\u001b[0m:\u001b[36m23\u001b[0m - \u001b[1mEpoch: 0, Batch: 62, Loss: 3.534512996673584\u001b[0m\n",
      "\u001b[32m2024-07-11 16:45:30.468\u001b[0m | \u001b[1mINFO    \u001b[0m | \u001b[36m__main__\u001b[0m:\u001b[36mtrain\u001b[0m:\u001b[36m25\u001b[0m - \u001b[1mPer batch time: 1.070278584 sec\u001b[0m\n"
     ]
    },
    {
     "name": "stdout",
     "output_type": "stream",
     "text": [
      "torch.Size([1, 2, 200, 252]) torch.Size([1, 14, 200, 252])\n"
     ]
    },
    {
     "name": "stderr",
     "output_type": "stream",
     "text": [
      "\u001b[32m2024-07-11 16:45:31.615\u001b[0m | \u001b[1mINFO    \u001b[0m | \u001b[36m__main__\u001b[0m:\u001b[36mtrain\u001b[0m:\u001b[36m23\u001b[0m - \u001b[1mEpoch: 0, Batch: 63, Loss: 3.1006338596343994\u001b[0m\n",
      "\u001b[32m2024-07-11 16:45:31.615\u001b[0m | \u001b[1mINFO    \u001b[0m | \u001b[36m__main__\u001b[0m:\u001b[36mtrain\u001b[0m:\u001b[36m25\u001b[0m - \u001b[1mPer batch time: 0.979424526 sec\u001b[0m\n"
     ]
    },
    {
     "name": "stdout",
     "output_type": "stream",
     "text": [
      "torch.Size([1, 2, 200, 252]) torch.Size([1, 14, 200, 252])\n"
     ]
    },
    {
     "name": "stderr",
     "output_type": "stream",
     "text": [
      "\u001b[32m2024-07-11 16:45:32.848\u001b[0m | \u001b[1mINFO    \u001b[0m | \u001b[36m__main__\u001b[0m:\u001b[36mtrain\u001b[0m:\u001b[36m23\u001b[0m - \u001b[1mEpoch: 0, Batch: 64, Loss: 1.786778450012207\u001b[0m\n",
      "\u001b[32m2024-07-11 16:45:32.849\u001b[0m | \u001b[1mINFO    \u001b[0m | \u001b[36m__main__\u001b[0m:\u001b[36mtrain\u001b[0m:\u001b[36m25\u001b[0m - \u001b[1mPer batch time: 1.046906579 sec\u001b[0m\n"
     ]
    },
    {
     "name": "stdout",
     "output_type": "stream",
     "text": [
      "torch.Size([1, 2, 200, 252]) torch.Size([1, 14, 200, 252])\n"
     ]
    },
    {
     "name": "stderr",
     "output_type": "stream",
     "text": [
      "\u001b[32m2024-07-11 16:45:34.051\u001b[0m | \u001b[1mINFO    \u001b[0m | \u001b[36m__main__\u001b[0m:\u001b[36mtrain\u001b[0m:\u001b[36m23\u001b[0m - \u001b[1mEpoch: 0, Batch: 65, Loss: 1.896266222000122\u001b[0m\n",
      "\u001b[32m2024-07-11 16:45:34.052\u001b[0m | \u001b[1mINFO    \u001b[0m | \u001b[36m__main__\u001b[0m:\u001b[36mtrain\u001b[0m:\u001b[36m25\u001b[0m - \u001b[1mPer batch time: 1.122709387 sec\u001b[0m\n"
     ]
    },
    {
     "name": "stdout",
     "output_type": "stream",
     "text": [
      "torch.Size([1, 2, 200, 252]) torch.Size([1, 14, 200, 252])\n"
     ]
    },
    {
     "name": "stderr",
     "output_type": "stream",
     "text": [
      "\u001b[32m2024-07-11 16:45:35.353\u001b[0m | \u001b[1mINFO    \u001b[0m | \u001b[36m__main__\u001b[0m:\u001b[36mtrain\u001b[0m:\u001b[36m23\u001b[0m - \u001b[1mEpoch: 0, Batch: 66, Loss: 3.1693367958068848\u001b[0m\n",
      "\u001b[32m2024-07-11 16:45:35.354\u001b[0m | \u001b[1mINFO    \u001b[0m | \u001b[36m__main__\u001b[0m:\u001b[36mtrain\u001b[0m:\u001b[36m25\u001b[0m - \u001b[1mPer batch time: 1.231480534 sec\u001b[0m\n"
     ]
    },
    {
     "name": "stdout",
     "output_type": "stream",
     "text": [
      "torch.Size([1, 2, 200, 252]) torch.Size([1, 14, 200, 252])\n"
     ]
    },
    {
     "name": "stderr",
     "output_type": "stream",
     "text": [
      "\u001b[32m2024-07-11 16:45:36.570\u001b[0m | \u001b[1mINFO    \u001b[0m | \u001b[36m__main__\u001b[0m:\u001b[36mtrain\u001b[0m:\u001b[36m23\u001b[0m - \u001b[1mEpoch: 0, Batch: 67, Loss: 1.813330888748169\u001b[0m\n",
      "\u001b[32m2024-07-11 16:45:36.571\u001b[0m | \u001b[1mINFO    \u001b[0m | \u001b[36m__main__\u001b[0m:\u001b[36mtrain\u001b[0m:\u001b[36m25\u001b[0m - \u001b[1mPer batch time: 1.0410465 sec\u001b[0m\n"
     ]
    },
    {
     "name": "stdout",
     "output_type": "stream",
     "text": [
      "torch.Size([1, 2, 200, 252]) torch.Size([1, 14, 200, 252])\n"
     ]
    },
    {
     "name": "stderr",
     "output_type": "stream",
     "text": [
      "\u001b[32m2024-07-11 16:45:37.475\u001b[0m | \u001b[1mINFO    \u001b[0m | \u001b[36m__main__\u001b[0m:\u001b[36mtrain\u001b[0m:\u001b[36m23\u001b[0m - \u001b[1mEpoch: 0, Batch: 68, Loss: 2.888645887374878\u001b[0m\n",
      "\u001b[32m2024-07-11 16:45:37.476\u001b[0m | \u001b[1mINFO    \u001b[0m | \u001b[36m__main__\u001b[0m:\u001b[36mtrain\u001b[0m:\u001b[36m25\u001b[0m - \u001b[1mPer batch time: 0.800964835 sec\u001b[0m\n"
     ]
    },
    {
     "name": "stdout",
     "output_type": "stream",
     "text": [
      "torch.Size([1, 2, 200, 252]) torch.Size([1, 14, 200, 252])\n"
     ]
    },
    {
     "name": "stderr",
     "output_type": "stream",
     "text": [
      "\u001b[32m2024-07-11 16:45:38.853\u001b[0m | \u001b[1mINFO    \u001b[0m | \u001b[36m__main__\u001b[0m:\u001b[36mtrain\u001b[0m:\u001b[36m23\u001b[0m - \u001b[1mEpoch: 0, Batch: 69, Loss: 3.816232442855835\u001b[0m\n",
      "\u001b[32m2024-07-11 16:45:38.854\u001b[0m | \u001b[1mINFO    \u001b[0m | \u001b[36m__main__\u001b[0m:\u001b[36mtrain\u001b[0m:\u001b[36m25\u001b[0m - \u001b[1mPer batch time: 1.243601128 sec\u001b[0m\n"
     ]
    },
    {
     "name": "stdout",
     "output_type": "stream",
     "text": [
      "torch.Size([1, 2, 200, 252]) torch.Size([1, 14, 200, 252])\n"
     ]
    },
    {
     "name": "stderr",
     "output_type": "stream",
     "text": [
      "\u001b[32m2024-07-11 16:45:40.216\u001b[0m | \u001b[1mINFO    \u001b[0m | \u001b[36m__main__\u001b[0m:\u001b[36mtrain\u001b[0m:\u001b[36m23\u001b[0m - \u001b[1mEpoch: 0, Batch: 70, Loss: 3.4818499088287354\u001b[0m\n",
      "\u001b[32m2024-07-11 16:45:40.217\u001b[0m | \u001b[1mINFO    \u001b[0m | \u001b[36m__main__\u001b[0m:\u001b[36mtrain\u001b[0m:\u001b[36m25\u001b[0m - \u001b[1mPer batch time: 1.238989078 sec\u001b[0m\n"
     ]
    },
    {
     "name": "stdout",
     "output_type": "stream",
     "text": [
      "torch.Size([1, 2, 200, 252]) torch.Size([1, 14, 200, 252])\n"
     ]
    },
    {
     "name": "stderr",
     "output_type": "stream",
     "text": [
      "\u001b[32m2024-07-11 16:45:41.612\u001b[0m | \u001b[1mINFO    \u001b[0m | \u001b[36m__main__\u001b[0m:\u001b[36mtrain\u001b[0m:\u001b[36m23\u001b[0m - \u001b[1mEpoch: 0, Batch: 71, Loss: 3.171109199523926\u001b[0m\n",
      "\u001b[32m2024-07-11 16:45:41.612\u001b[0m | \u001b[1mINFO    \u001b[0m | \u001b[36m__main__\u001b[0m:\u001b[36mtrain\u001b[0m:\u001b[36m25\u001b[0m - \u001b[1mPer batch time: 1.210238945 sec\u001b[0m\n"
     ]
    },
    {
     "name": "stdout",
     "output_type": "stream",
     "text": [
      "torch.Size([1, 2, 200, 252]) torch.Size([1, 14, 200, 252])\n"
     ]
    },
    {
     "name": "stderr",
     "output_type": "stream",
     "text": [
      "\u001b[32m2024-07-11 16:45:42.800\u001b[0m | \u001b[1mINFO    \u001b[0m | \u001b[36m__main__\u001b[0m:\u001b[36mtrain\u001b[0m:\u001b[36m23\u001b[0m - \u001b[1mEpoch: 0, Batch: 72, Loss: 1.952803611755371\u001b[0m\n",
      "\u001b[32m2024-07-11 16:45:42.800\u001b[0m | \u001b[1mINFO    \u001b[0m | \u001b[36m__main__\u001b[0m:\u001b[36mtrain\u001b[0m:\u001b[36m25\u001b[0m - \u001b[1mPer batch time: 1.121572064 sec\u001b[0m\n"
     ]
    },
    {
     "name": "stdout",
     "output_type": "stream",
     "text": [
      "torch.Size([1, 2, 200, 252]) torch.Size([1, 14, 200, 252])\n"
     ]
    },
    {
     "name": "stderr",
     "output_type": "stream",
     "text": [
      "\u001b[32m2024-07-11 16:45:43.843\u001b[0m | \u001b[1mINFO    \u001b[0m | \u001b[36m__main__\u001b[0m:\u001b[36mtrain\u001b[0m:\u001b[36m23\u001b[0m - \u001b[1mEpoch: 0, Batch: 73, Loss: 1.881866216659546\u001b[0m\n",
      "\u001b[32m2024-07-11 16:45:43.844\u001b[0m | \u001b[1mINFO    \u001b[0m | \u001b[36m__main__\u001b[0m:\u001b[36mtrain\u001b[0m:\u001b[36m25\u001b[0m - \u001b[1mPer batch time: 0.979099962 sec\u001b[0m\n"
     ]
    },
    {
     "name": "stdout",
     "output_type": "stream",
     "text": [
      "torch.Size([1, 2, 200, 252]) torch.Size([1, 14, 200, 252])\n"
     ]
    },
    {
     "name": "stderr",
     "output_type": "stream",
     "text": [
      "\u001b[32m2024-07-11 16:45:45.045\u001b[0m | \u001b[1mINFO    \u001b[0m | \u001b[36m__main__\u001b[0m:\u001b[36mtrain\u001b[0m:\u001b[36m23\u001b[0m - \u001b[1mEpoch: 0, Batch: 74, Loss: 3.294879674911499\u001b[0m\n",
      "\u001b[32m2024-07-11 16:45:45.046\u001b[0m | \u001b[1mINFO    \u001b[0m | \u001b[36m__main__\u001b[0m:\u001b[36mtrain\u001b[0m:\u001b[36m25\u001b[0m - \u001b[1mPer batch time: 1.110453305 sec\u001b[0m\n"
     ]
    },
    {
     "name": "stdout",
     "output_type": "stream",
     "text": [
      "torch.Size([1, 2, 200, 252]) torch.Size([1, 14, 200, 252])\n"
     ]
    },
    {
     "name": "stderr",
     "output_type": "stream",
     "text": [
      "\u001b[32m2024-07-11 16:45:46.182\u001b[0m | \u001b[1mINFO    \u001b[0m | \u001b[36m__main__\u001b[0m:\u001b[36mtrain\u001b[0m:\u001b[36m23\u001b[0m - \u001b[1mEpoch: 0, Batch: 75, Loss: 3.26912260055542\u001b[0m\n",
      "\u001b[32m2024-07-11 16:45:46.183\u001b[0m | \u001b[1mINFO    \u001b[0m | \u001b[36m__main__\u001b[0m:\u001b[36mtrain\u001b[0m:\u001b[36m25\u001b[0m - \u001b[1mPer batch time: 1.065136672 sec\u001b[0m\n"
     ]
    },
    {
     "name": "stdout",
     "output_type": "stream",
     "text": [
      "torch.Size([1, 2, 200, 252]) torch.Size([1, 14, 200, 252])\n"
     ]
    },
    {
     "name": "stderr",
     "output_type": "stream",
     "text": [
      "\u001b[32m2024-07-11 16:45:47.364\u001b[0m | \u001b[1mINFO    \u001b[0m | \u001b[36m__main__\u001b[0m:\u001b[36mtrain\u001b[0m:\u001b[36m23\u001b[0m - \u001b[1mEpoch: 0, Batch: 76, Loss: 2.971773386001587\u001b[0m\n",
      "\u001b[32m2024-07-11 16:45:47.365\u001b[0m | \u001b[1mINFO    \u001b[0m | \u001b[36m__main__\u001b[0m:\u001b[36mtrain\u001b[0m:\u001b[36m25\u001b[0m - \u001b[1mPer batch time: 1.118064893 sec\u001b[0m\n"
     ]
    },
    {
     "name": "stdout",
     "output_type": "stream",
     "text": [
      "torch.Size([1, 2, 200, 252]) torch.Size([1, 14, 200, 252])\n"
     ]
    },
    {
     "name": "stderr",
     "output_type": "stream",
     "text": [
      "\u001b[32m2024-07-11 16:45:48.693\u001b[0m | \u001b[1mINFO    \u001b[0m | \u001b[36m__main__\u001b[0m:\u001b[36mtrain\u001b[0m:\u001b[36m23\u001b[0m - \u001b[1mEpoch: 0, Batch: 77, Loss: 2.9482932090759277\u001b[0m\n",
      "\u001b[32m2024-07-11 16:45:48.693\u001b[0m | \u001b[1mINFO    \u001b[0m | \u001b[36m__main__\u001b[0m:\u001b[36mtrain\u001b[0m:\u001b[36m25\u001b[0m - \u001b[1mPer batch time: 1.212373328 sec\u001b[0m\n"
     ]
    },
    {
     "name": "stdout",
     "output_type": "stream",
     "text": [
      "torch.Size([1, 2, 200, 252]) torch.Size([1, 14, 200, 252])\n"
     ]
    },
    {
     "name": "stderr",
     "output_type": "stream",
     "text": [
      "\u001b[32m2024-07-11 16:45:49.863\u001b[0m | \u001b[1mINFO    \u001b[0m | \u001b[36m__main__\u001b[0m:\u001b[36mtrain\u001b[0m:\u001b[36m23\u001b[0m - \u001b[1mEpoch: 0, Batch: 78, Loss: 2.1467044353485107\u001b[0m\n",
      "\u001b[32m2024-07-11 16:45:49.864\u001b[0m | \u001b[1mINFO    \u001b[0m | \u001b[36m__main__\u001b[0m:\u001b[36mtrain\u001b[0m:\u001b[36m25\u001b[0m - \u001b[1mPer batch time: 1.096961549 sec\u001b[0m\n"
     ]
    },
    {
     "name": "stdout",
     "output_type": "stream",
     "text": [
      "torch.Size([1, 2, 200, 252]) torch.Size([1, 14, 200, 252])\n"
     ]
    },
    {
     "name": "stderr",
     "output_type": "stream",
     "text": [
      "\u001b[32m2024-07-11 16:45:51.191\u001b[0m | \u001b[1mINFO    \u001b[0m | \u001b[36m__main__\u001b[0m:\u001b[36mtrain\u001b[0m:\u001b[36m23\u001b[0m - \u001b[1mEpoch: 0, Batch: 79, Loss: 2.357308864593506\u001b[0m\n",
      "\u001b[32m2024-07-11 16:45:51.192\u001b[0m | \u001b[1mINFO    \u001b[0m | \u001b[36m__main__\u001b[0m:\u001b[36mtrain\u001b[0m:\u001b[36m25\u001b[0m - \u001b[1mPer batch time: 1.169097801 sec\u001b[0m\n"
     ]
    },
    {
     "name": "stdout",
     "output_type": "stream",
     "text": [
      "torch.Size([1, 2, 200, 252]) torch.Size([1, 14, 200, 252])\n"
     ]
    },
    {
     "name": "stderr",
     "output_type": "stream",
     "text": [
      "\u001b[32m2024-07-11 16:45:52.449\u001b[0m | \u001b[1mINFO    \u001b[0m | \u001b[36m__main__\u001b[0m:\u001b[36mtrain\u001b[0m:\u001b[36m23\u001b[0m - \u001b[1mEpoch: 0, Batch: 80, Loss: 3.4958877563476562\u001b[0m\n",
      "\u001b[32m2024-07-11 16:45:52.450\u001b[0m | \u001b[1mINFO    \u001b[0m | \u001b[36m__main__\u001b[0m:\u001b[36mtrain\u001b[0m:\u001b[36m25\u001b[0m - \u001b[1mPer batch time: 1.173216646 sec\u001b[0m\n"
     ]
    },
    {
     "name": "stdout",
     "output_type": "stream",
     "text": [
      "torch.Size([1, 2, 200, 252]) torch.Size([1, 14, 200, 252])\n"
     ]
    },
    {
     "name": "stderr",
     "output_type": "stream",
     "text": [
      "\u001b[32m2024-07-11 16:45:53.687\u001b[0m | \u001b[1mINFO    \u001b[0m | \u001b[36m__main__\u001b[0m:\u001b[36mtrain\u001b[0m:\u001b[36m23\u001b[0m - \u001b[1mEpoch: 0, Batch: 81, Loss: 3.092226505279541\u001b[0m\n",
      "\u001b[32m2024-07-11 16:45:53.688\u001b[0m | \u001b[1mINFO    \u001b[0m | \u001b[36m__main__\u001b[0m:\u001b[36mtrain\u001b[0m:\u001b[36m25\u001b[0m - \u001b[1mPer batch time: 1.146330265 sec\u001b[0m\n"
     ]
    },
    {
     "name": "stdout",
     "output_type": "stream",
     "text": [
      "torch.Size([1, 2, 200, 252]) torch.Size([1, 14, 200, 252])\n"
     ]
    },
    {
     "name": "stderr",
     "output_type": "stream",
     "text": [
      "\u001b[32m2024-07-11 16:45:54.886\u001b[0m | \u001b[1mINFO    \u001b[0m | \u001b[36m__main__\u001b[0m:\u001b[36mtrain\u001b[0m:\u001b[36m23\u001b[0m - \u001b[1mEpoch: 0, Batch: 82, Loss: 2.3238112926483154\u001b[0m\n",
      "\u001b[32m2024-07-11 16:45:54.887\u001b[0m | \u001b[1mINFO    \u001b[0m | \u001b[36m__main__\u001b[0m:\u001b[36mtrain\u001b[0m:\u001b[36m25\u001b[0m - \u001b[1mPer batch time: 1.133485401 sec\u001b[0m\n"
     ]
    },
    {
     "name": "stdout",
     "output_type": "stream",
     "text": [
      "torch.Size([1, 2, 200, 252]) torch.Size([1, 14, 200, 252])\n"
     ]
    },
    {
     "name": "stderr",
     "output_type": "stream",
     "text": [
      "\u001b[32m2024-07-11 16:45:56.137\u001b[0m | \u001b[1mINFO    \u001b[0m | \u001b[36m__main__\u001b[0m:\u001b[36mtrain\u001b[0m:\u001b[36m23\u001b[0m - \u001b[1mEpoch: 0, Batch: 83, Loss: 2.7981884479522705\u001b[0m\n",
      "\u001b[32m2024-07-11 16:45:56.138\u001b[0m | \u001b[1mINFO    \u001b[0m | \u001b[36m__main__\u001b[0m:\u001b[36mtrain\u001b[0m:\u001b[36m25\u001b[0m - \u001b[1mPer batch time: 1.065000422 sec\u001b[0m\n"
     ]
    },
    {
     "name": "stdout",
     "output_type": "stream",
     "text": [
      "torch.Size([1, 2, 200, 252]) torch.Size([1, 14, 200, 252])\n"
     ]
    },
    {
     "name": "stderr",
     "output_type": "stream",
     "text": [
      "\u001b[32m2024-07-11 16:45:57.363\u001b[0m | \u001b[1mINFO    \u001b[0m | \u001b[36m__main__\u001b[0m:\u001b[36mtrain\u001b[0m:\u001b[36m23\u001b[0m - \u001b[1mEpoch: 0, Batch: 84, Loss: 5.28358268737793\u001b[0m\n",
      "\u001b[32m2024-07-11 16:45:57.364\u001b[0m | \u001b[1mINFO    \u001b[0m | \u001b[36m__main__\u001b[0m:\u001b[36mtrain\u001b[0m:\u001b[36m25\u001b[0m - \u001b[1mPer batch time: 1.077413071 sec\u001b[0m\n"
     ]
    },
    {
     "name": "stdout",
     "output_type": "stream",
     "text": [
      "torch.Size([1, 2, 200, 252]) torch.Size([1, 14, 200, 252])\n"
     ]
    },
    {
     "name": "stderr",
     "output_type": "stream",
     "text": [
      "\u001b[32m2024-07-11 16:45:58.745\u001b[0m | \u001b[1mINFO    \u001b[0m | \u001b[36m__main__\u001b[0m:\u001b[36mtrain\u001b[0m:\u001b[36m23\u001b[0m - \u001b[1mEpoch: 0, Batch: 85, Loss: 3.815591335296631\u001b[0m\n",
      "\u001b[32m2024-07-11 16:45:58.745\u001b[0m | \u001b[1mINFO    \u001b[0m | \u001b[36m__main__\u001b[0m:\u001b[36mtrain\u001b[0m:\u001b[36m25\u001b[0m - \u001b[1mPer batch time: 1.229744332 sec\u001b[0m\n"
     ]
    },
    {
     "name": "stdout",
     "output_type": "stream",
     "text": [
      "torch.Size([1, 2, 200, 252]) torch.Size([1, 14, 200, 252])\n"
     ]
    },
    {
     "name": "stderr",
     "output_type": "stream",
     "text": [
      "\u001b[32m2024-07-11 16:46:00.129\u001b[0m | \u001b[1mINFO    \u001b[0m | \u001b[36m__main__\u001b[0m:\u001b[36mtrain\u001b[0m:\u001b[36m23\u001b[0m - \u001b[1mEpoch: 0, Batch: 86, Loss: 3.118743419647217\u001b[0m\n",
      "\u001b[32m2024-07-11 16:46:00.129\u001b[0m | \u001b[1mINFO    \u001b[0m | \u001b[36m__main__\u001b[0m:\u001b[36mtrain\u001b[0m:\u001b[36m25\u001b[0m - \u001b[1mPer batch time: 1.208974037 sec\u001b[0m\n"
     ]
    },
    {
     "name": "stdout",
     "output_type": "stream",
     "text": [
      "torch.Size([1, 2, 200, 252]) torch.Size([1, 14, 200, 252])\n"
     ]
    },
    {
     "name": "stderr",
     "output_type": "stream",
     "text": [
      "\u001b[32m2024-07-11 16:46:01.435\u001b[0m | \u001b[1mINFO    \u001b[0m | \u001b[36m__main__\u001b[0m:\u001b[36mtrain\u001b[0m:\u001b[36m23\u001b[0m - \u001b[1mEpoch: 0, Batch: 87, Loss: 2.89951753616333\u001b[0m\n",
      "\u001b[32m2024-07-11 16:46:01.436\u001b[0m | \u001b[1mINFO    \u001b[0m | \u001b[36m__main__\u001b[0m:\u001b[36mtrain\u001b[0m:\u001b[36m25\u001b[0m - \u001b[1mPer batch time: 1.171503482 sec\u001b[0m\n"
     ]
    },
    {
     "name": "stdout",
     "output_type": "stream",
     "text": [
      "torch.Size([1, 2, 200, 252]) torch.Size([1, 14, 200, 252])\n"
     ]
    },
    {
     "name": "stderr",
     "output_type": "stream",
     "text": [
      "\u001b[32m2024-07-11 16:46:02.487\u001b[0m | \u001b[1mINFO    \u001b[0m | \u001b[36m__main__\u001b[0m:\u001b[36mtrain\u001b[0m:\u001b[36m23\u001b[0m - \u001b[1mEpoch: 0, Batch: 88, Loss: 1.3745851516723633\u001b[0m\n",
      "\u001b[32m2024-07-11 16:46:02.487\u001b[0m | \u001b[1mINFO    \u001b[0m | \u001b[36m__main__\u001b[0m:\u001b[36mtrain\u001b[0m:\u001b[36m25\u001b[0m - \u001b[1mPer batch time: 0.998649407 sec\u001b[0m\n"
     ]
    },
    {
     "name": "stdout",
     "output_type": "stream",
     "text": [
      "torch.Size([1, 2, 200, 252]) torch.Size([1, 14, 200, 252])\n"
     ]
    },
    {
     "name": "stderr",
     "output_type": "stream",
     "text": [
      "\u001b[32m2024-07-11 16:46:03.737\u001b[0m | \u001b[1mINFO    \u001b[0m | \u001b[36m__main__\u001b[0m:\u001b[36mtrain\u001b[0m:\u001b[36m23\u001b[0m - \u001b[1mEpoch: 0, Batch: 89, Loss: 3.763871669769287\u001b[0m\n",
      "\u001b[32m2024-07-11 16:46:03.738\u001b[0m | \u001b[1mINFO    \u001b[0m | \u001b[36m__main__\u001b[0m:\u001b[36mtrain\u001b[0m:\u001b[36m25\u001b[0m - \u001b[1mPer batch time: 1.185425463 sec\u001b[0m\n"
     ]
    },
    {
     "name": "stdout",
     "output_type": "stream",
     "text": [
      "torch.Size([1, 2, 200, 252]) torch.Size([1, 14, 200, 252])\n"
     ]
    },
    {
     "name": "stderr",
     "output_type": "stream",
     "text": [
      "\u001b[32m2024-07-11 16:46:04.967\u001b[0m | \u001b[1mINFO    \u001b[0m | \u001b[36m__main__\u001b[0m:\u001b[36mtrain\u001b[0m:\u001b[36m23\u001b[0m - \u001b[1mEpoch: 0, Batch: 90, Loss: 3.613618850708008\u001b[0m\n",
      "\u001b[32m2024-07-11 16:46:04.968\u001b[0m | \u001b[1mINFO    \u001b[0m | \u001b[36m__main__\u001b[0m:\u001b[36mtrain\u001b[0m:\u001b[36m25\u001b[0m - \u001b[1mPer batch time: 1.149951359 sec\u001b[0m\n"
     ]
    },
    {
     "name": "stdout",
     "output_type": "stream",
     "text": [
      "torch.Size([1, 2, 200, 252]) torch.Size([1, 14, 200, 252])\n"
     ]
    },
    {
     "name": "stderr",
     "output_type": "stream",
     "text": [
      "\u001b[32m2024-07-11 16:46:06.267\u001b[0m | \u001b[1mINFO    \u001b[0m | \u001b[36m__main__\u001b[0m:\u001b[36mtrain\u001b[0m:\u001b[36m23\u001b[0m - \u001b[1mEpoch: 0, Batch: 91, Loss: 3.472587823867798\u001b[0m\n",
      "\u001b[32m2024-07-11 16:46:06.267\u001b[0m | \u001b[1mINFO    \u001b[0m | \u001b[36m__main__\u001b[0m:\u001b[36mtrain\u001b[0m:\u001b[36m25\u001b[0m - \u001b[1mPer batch time: 1.229452864 sec\u001b[0m\n"
     ]
    },
    {
     "name": "stdout",
     "output_type": "stream",
     "text": [
      "torch.Size([1, 2, 200, 252]) torch.Size([1, 14, 200, 252])\n"
     ]
    },
    {
     "name": "stderr",
     "output_type": "stream",
     "text": [
      "\u001b[32m2024-07-11 16:46:07.592\u001b[0m | \u001b[1mINFO    \u001b[0m | \u001b[36m__main__\u001b[0m:\u001b[36mtrain\u001b[0m:\u001b[36m23\u001b[0m - \u001b[1mEpoch: 0, Batch: 92, Loss: 2.7993884086608887\u001b[0m\n",
      "\u001b[32m2024-07-11 16:46:07.593\u001b[0m | \u001b[1mINFO    \u001b[0m | \u001b[36m__main__\u001b[0m:\u001b[36mtrain\u001b[0m:\u001b[36m25\u001b[0m - \u001b[1mPer batch time: 1.168955449 sec\u001b[0m\n"
     ]
    },
    {
     "name": "stdout",
     "output_type": "stream",
     "text": [
      "torch.Size([1, 2, 200, 252]) torch.Size([1, 14, 200, 252])\n"
     ]
    },
    {
     "name": "stderr",
     "output_type": "stream",
     "text": [
      "\u001b[32m2024-07-11 16:46:08.755\u001b[0m | \u001b[1mINFO    \u001b[0m | \u001b[36m__main__\u001b[0m:\u001b[36mtrain\u001b[0m:\u001b[36m23\u001b[0m - \u001b[1mEpoch: 0, Batch: 93, Loss: 2.6855859756469727\u001b[0m\n",
      "\u001b[32m2024-07-11 16:46:08.756\u001b[0m | \u001b[1mINFO    \u001b[0m | \u001b[36m__main__\u001b[0m:\u001b[36mtrain\u001b[0m:\u001b[36m25\u001b[0m - \u001b[1mPer batch time: 1.105669684 sec\u001b[0m\n"
     ]
    },
    {
     "name": "stdout",
     "output_type": "stream",
     "text": [
      "torch.Size([1, 2, 200, 252]) torch.Size([1, 14, 200, 252])\n"
     ]
    },
    {
     "name": "stderr",
     "output_type": "stream",
     "text": [
      "\u001b[32m2024-07-11 16:46:10.010\u001b[0m | \u001b[1mINFO    \u001b[0m | \u001b[36m__main__\u001b[0m:\u001b[36mtrain\u001b[0m:\u001b[36m23\u001b[0m - \u001b[1mEpoch: 0, Batch: 94, Loss: 1.6232823133468628\u001b[0m\n",
      "\u001b[32m2024-07-11 16:46:10.011\u001b[0m | \u001b[1mINFO    \u001b[0m | \u001b[36m__main__\u001b[0m:\u001b[36mtrain\u001b[0m:\u001b[36m25\u001b[0m - \u001b[1mPer batch time: 1.191167596 sec\u001b[0m\n"
     ]
    },
    {
     "name": "stdout",
     "output_type": "stream",
     "text": [
      "torch.Size([1, 2, 200, 252]) torch.Size([1, 14, 200, 252])\n"
     ]
    },
    {
     "name": "stderr",
     "output_type": "stream",
     "text": [
      "\u001b[32m2024-07-11 16:46:11.283\u001b[0m | \u001b[1mINFO    \u001b[0m | \u001b[36m__main__\u001b[0m:\u001b[36mtrain\u001b[0m:\u001b[36m23\u001b[0m - \u001b[1mEpoch: 0, Batch: 95, Loss: 2.8067731857299805\u001b[0m\n",
      "\u001b[32m2024-07-11 16:46:11.284\u001b[0m | \u001b[1mINFO    \u001b[0m | \u001b[36m__main__\u001b[0m:\u001b[36mtrain\u001b[0m:\u001b[36m25\u001b[0m - \u001b[1mPer batch time: 1.111542677 sec\u001b[0m\n"
     ]
    },
    {
     "name": "stdout",
     "output_type": "stream",
     "text": [
      "torch.Size([1, 2, 200, 252]) torch.Size([1, 14, 200, 252])\n"
     ]
    },
    {
     "name": "stderr",
     "output_type": "stream",
     "text": [
      "\u001b[32m2024-07-11 16:46:12.448\u001b[0m | \u001b[1mINFO    \u001b[0m | \u001b[36m__main__\u001b[0m:\u001b[36mtrain\u001b[0m:\u001b[36m23\u001b[0m - \u001b[1mEpoch: 0, Batch: 96, Loss: 2.789508819580078\u001b[0m\n",
      "\u001b[32m2024-07-11 16:46:12.449\u001b[0m | \u001b[1mINFO    \u001b[0m | \u001b[36m__main__\u001b[0m:\u001b[36mtrain\u001b[0m:\u001b[36m25\u001b[0m - \u001b[1mPer batch time: 1.090455058 sec\u001b[0m\n"
     ]
    },
    {
     "name": "stdout",
     "output_type": "stream",
     "text": [
      "torch.Size([1, 2, 200, 252]) torch.Size([1, 14, 200, 252])\n"
     ]
    },
    {
     "name": "stderr",
     "output_type": "stream",
     "text": [
      "\u001b[32m2024-07-11 16:46:13.305\u001b[0m | \u001b[1mINFO    \u001b[0m | \u001b[36m__main__\u001b[0m:\u001b[36mtrain\u001b[0m:\u001b[36m23\u001b[0m - \u001b[1mEpoch: 0, Batch: 97, Loss: 2.759777545928955\u001b[0m\n",
      "\u001b[32m2024-07-11 16:46:13.306\u001b[0m | \u001b[1mINFO    \u001b[0m | \u001b[36m__main__\u001b[0m:\u001b[36mtrain\u001b[0m:\u001b[36m25\u001b[0m - \u001b[1mPer batch time: 0.801220199 sec\u001b[0m\n"
     ]
    },
    {
     "name": "stdout",
     "output_type": "stream",
     "text": [
      "torch.Size([1, 2, 200, 252]) torch.Size([1, 14, 200, 252])\n"
     ]
    },
    {
     "name": "stderr",
     "output_type": "stream",
     "text": [
      "\u001b[32m2024-07-11 16:46:14.460\u001b[0m | \u001b[1mINFO    \u001b[0m | \u001b[36m__main__\u001b[0m:\u001b[36mtrain\u001b[0m:\u001b[36m23\u001b[0m - \u001b[1mEpoch: 0, Batch: 98, Loss: 1.632301688194275\u001b[0m\n",
      "\u001b[32m2024-07-11 16:46:14.460\u001b[0m | \u001b[1mINFO    \u001b[0m | \u001b[36m__main__\u001b[0m:\u001b[36mtrain\u001b[0m:\u001b[36m25\u001b[0m - \u001b[1mPer batch time: 1.093510629 sec\u001b[0m\n"
     ]
    },
    {
     "name": "stdout",
     "output_type": "stream",
     "text": [
      "torch.Size([1, 2, 200, 252]) torch.Size([1, 14, 200, 252])\n"
     ]
    },
    {
     "name": "stderr",
     "output_type": "stream",
     "text": [
      "\u001b[32m2024-07-11 16:46:15.631\u001b[0m | \u001b[1mINFO    \u001b[0m | \u001b[36m__main__\u001b[0m:\u001b[36mtrain\u001b[0m:\u001b[36m23\u001b[0m - \u001b[1mEpoch: 0, Batch: 99, Loss: 3.530095100402832\u001b[0m\n",
      "\u001b[32m2024-07-11 16:46:15.631\u001b[0m | \u001b[1mINFO    \u001b[0m | \u001b[36m__main__\u001b[0m:\u001b[36mtrain\u001b[0m:\u001b[36m25\u001b[0m - \u001b[1mPer batch time: 1.085605935 sec\u001b[0m\n"
     ]
    },
    {
     "name": "stdout",
     "output_type": "stream",
     "text": [
      "torch.Size([1, 2, 200, 252]) torch.Size([1, 14, 200, 252])\n"
     ]
    },
    {
     "name": "stderr",
     "output_type": "stream",
     "text": [
      "\u001b[32m2024-07-11 16:46:16.758\u001b[0m | \u001b[1mINFO    \u001b[0m | \u001b[36m__main__\u001b[0m:\u001b[36mtrain\u001b[0m:\u001b[36m23\u001b[0m - \u001b[1mEpoch: 0, Batch: 100, Loss: 2.87186861038208\u001b[0m\n",
      "\u001b[32m2024-07-11 16:46:16.759\u001b[0m | \u001b[1mINFO    \u001b[0m | \u001b[36m__main__\u001b[0m:\u001b[36mtrain\u001b[0m:\u001b[36m25\u001b[0m - \u001b[1mPer batch time: 1.00954913 sec\u001b[0m\n"
     ]
    },
    {
     "name": "stdout",
     "output_type": "stream",
     "text": [
      "torch.Size([1, 2, 200, 252]) torch.Size([1, 14, 200, 252])\n"
     ]
    },
    {
     "name": "stderr",
     "output_type": "stream",
     "text": [
      "\u001b[32m2024-07-11 16:46:18.180\u001b[0m | \u001b[1mINFO    \u001b[0m | \u001b[36m__main__\u001b[0m:\u001b[36mtrain\u001b[0m:\u001b[36m23\u001b[0m - \u001b[1mEpoch: 0, Batch: 101, Loss: 3.0053391456604004\u001b[0m\n",
      "\u001b[32m2024-07-11 16:46:18.181\u001b[0m | \u001b[1mINFO    \u001b[0m | \u001b[36m__main__\u001b[0m:\u001b[36mtrain\u001b[0m:\u001b[36m25\u001b[0m - \u001b[1mPer batch time: 1.254922926 sec\u001b[0m\n"
     ]
    },
    {
     "name": "stdout",
     "output_type": "stream",
     "text": [
      "torch.Size([1, 2, 200, 252]) torch.Size([1, 14, 200, 252])\n"
     ]
    },
    {
     "name": "stderr",
     "output_type": "stream",
     "text": [
      "\u001b[32m2024-07-11 16:46:19.585\u001b[0m | \u001b[1mINFO    \u001b[0m | \u001b[36m__main__\u001b[0m:\u001b[36mtrain\u001b[0m:\u001b[36m23\u001b[0m - \u001b[1mEpoch: 0, Batch: 102, Loss: 3.4875946044921875\u001b[0m\n",
      "\u001b[32m2024-07-11 16:46:19.585\u001b[0m | \u001b[1mINFO    \u001b[0m | \u001b[36m__main__\u001b[0m:\u001b[36mtrain\u001b[0m:\u001b[36m25\u001b[0m - \u001b[1mPer batch time: 1.249772574 sec\u001b[0m\n"
     ]
    },
    {
     "name": "stdout",
     "output_type": "stream",
     "text": [
      "torch.Size([1, 2, 200, 252]) torch.Size([1, 14, 200, 252])\n"
     ]
    },
    {
     "name": "stderr",
     "output_type": "stream",
     "text": [
      "\u001b[32m2024-07-11 16:46:20.902\u001b[0m | \u001b[1mINFO    \u001b[0m | \u001b[36m__main__\u001b[0m:\u001b[36mtrain\u001b[0m:\u001b[36m23\u001b[0m - \u001b[1mEpoch: 0, Batch: 103, Loss: 2.9869489669799805\u001b[0m\n",
      "\u001b[32m2024-07-11 16:46:20.903\u001b[0m | \u001b[1mINFO    \u001b[0m | \u001b[36m__main__\u001b[0m:\u001b[36mtrain\u001b[0m:\u001b[36m25\u001b[0m - \u001b[1mPer batch time: 1.10456096 sec\u001b[0m\n"
     ]
    },
    {
     "name": "stdout",
     "output_type": "stream",
     "text": [
      "torch.Size([1, 2, 200, 252]) torch.Size([1, 14, 200, 252])\n"
     ]
    },
    {
     "name": "stderr",
     "output_type": "stream",
     "text": [
      "\u001b[32m2024-07-11 16:46:22.330\u001b[0m | \u001b[1mINFO    \u001b[0m | \u001b[36m__main__\u001b[0m:\u001b[36mtrain\u001b[0m:\u001b[36m23\u001b[0m - \u001b[1mEpoch: 0, Batch: 104, Loss: 2.4184045791625977\u001b[0m\n",
      "\u001b[32m2024-07-11 16:46:22.331\u001b[0m | \u001b[1mINFO    \u001b[0m | \u001b[36m__main__\u001b[0m:\u001b[36mtrain\u001b[0m:\u001b[36m25\u001b[0m - \u001b[1mPer batch time: 1.224304773 sec\u001b[0m\n"
     ]
    },
    {
     "name": "stdout",
     "output_type": "stream",
     "text": [
      "torch.Size([1, 2, 200, 252]) torch.Size([1, 14, 200, 252])\n"
     ]
    },
    {
     "name": "stderr",
     "output_type": "stream",
     "text": [
      "\u001b[32m2024-07-11 16:46:23.601\u001b[0m | \u001b[1mINFO    \u001b[0m | \u001b[36m__main__\u001b[0m:\u001b[36mtrain\u001b[0m:\u001b[36m23\u001b[0m - \u001b[1mEpoch: 0, Batch: 105, Loss: 3.578042507171631\u001b[0m\n",
      "\u001b[32m2024-07-11 16:46:23.602\u001b[0m | \u001b[1mINFO    \u001b[0m | \u001b[36m__main__\u001b[0m:\u001b[36mtrain\u001b[0m:\u001b[36m25\u001b[0m - \u001b[1mPer batch time: 1.200497805 sec\u001b[0m\n"
     ]
    },
    {
     "name": "stdout",
     "output_type": "stream",
     "text": [
      "torch.Size([1, 2, 200, 252]) torch.Size([1, 14, 200, 252])\n"
     ]
    },
    {
     "name": "stderr",
     "output_type": "stream",
     "text": [
      "\u001b[32m2024-07-11 16:46:24.502\u001b[0m | \u001b[1mINFO    \u001b[0m | \u001b[36m__main__\u001b[0m:\u001b[36mtrain\u001b[0m:\u001b[36m23\u001b[0m - \u001b[1mEpoch: 0, Batch: 106, Loss: 2.232469320297241\u001b[0m\n",
      "\u001b[32m2024-07-11 16:46:24.503\u001b[0m | \u001b[1mINFO    \u001b[0m | \u001b[36m__main__\u001b[0m:\u001b[36mtrain\u001b[0m:\u001b[36m25\u001b[0m - \u001b[1mPer batch time: 0.838501293 sec\u001b[0m\n"
     ]
    },
    {
     "name": "stdout",
     "output_type": "stream",
     "text": [
      "torch.Size([1, 2, 200, 252]) torch.Size([1, 14, 200, 252])\n"
     ]
    },
    {
     "name": "stderr",
     "output_type": "stream",
     "text": [
      "\u001b[32m2024-07-11 16:46:25.812\u001b[0m | \u001b[1mINFO    \u001b[0m | \u001b[36m__main__\u001b[0m:\u001b[36mtrain\u001b[0m:\u001b[36m23\u001b[0m - \u001b[1mEpoch: 0, Batch: 107, Loss: 2.585808038711548\u001b[0m\n",
      "\u001b[32m2024-07-11 16:46:25.813\u001b[0m | \u001b[1mINFO    \u001b[0m | \u001b[36m__main__\u001b[0m:\u001b[36mtrain\u001b[0m:\u001b[36m25\u001b[0m - \u001b[1mPer batch time: 1.031344139 sec\u001b[0m\n"
     ]
    },
    {
     "name": "stdout",
     "output_type": "stream",
     "text": [
      "torch.Size([1, 2, 200, 252]) torch.Size([1, 14, 200, 252])\n"
     ]
    },
    {
     "name": "stderr",
     "output_type": "stream",
     "text": [
      "\u001b[32m2024-07-11 16:46:27.153\u001b[0m | \u001b[1mINFO    \u001b[0m | \u001b[36m__main__\u001b[0m:\u001b[36mtrain\u001b[0m:\u001b[36m23\u001b[0m - \u001b[1mEpoch: 0, Batch: 108, Loss: 2.80765438079834\u001b[0m\n",
      "\u001b[32m2024-07-11 16:46:27.154\u001b[0m | \u001b[1mINFO    \u001b[0m | \u001b[36m__main__\u001b[0m:\u001b[36mtrain\u001b[0m:\u001b[36m25\u001b[0m - \u001b[1mPer batch time: 1.110527483 sec\u001b[0m\n"
     ]
    },
    {
     "name": "stdout",
     "output_type": "stream",
     "text": [
      "torch.Size([1, 2, 200, 252]) torch.Size([1, 14, 200, 252])\n"
     ]
    },
    {
     "name": "stderr",
     "output_type": "stream",
     "text": [
      "\u001b[32m2024-07-11 16:46:28.543\u001b[0m | \u001b[1mINFO    \u001b[0m | \u001b[36m__main__\u001b[0m:\u001b[36mtrain\u001b[0m:\u001b[36m23\u001b[0m - \u001b[1mEpoch: 0, Batch: 109, Loss: 2.994936466217041\u001b[0m\n",
      "\u001b[32m2024-07-11 16:46:28.544\u001b[0m | \u001b[1mINFO    \u001b[0m | \u001b[36m__main__\u001b[0m:\u001b[36mtrain\u001b[0m:\u001b[36m25\u001b[0m - \u001b[1mPer batch time: 1.236200484 sec\u001b[0m\n"
     ]
    },
    {
     "name": "stdout",
     "output_type": "stream",
     "text": [
      "torch.Size([1, 2, 200, 252]) torch.Size([1, 14, 200, 252])\n"
     ]
    },
    {
     "name": "stderr",
     "output_type": "stream",
     "text": [
      "\u001b[32m2024-07-11 16:46:29.969\u001b[0m | \u001b[1mINFO    \u001b[0m | \u001b[36m__main__\u001b[0m:\u001b[36mtrain\u001b[0m:\u001b[36m23\u001b[0m - \u001b[1mEpoch: 0, Batch: 110, Loss: 2.7514805793762207\u001b[0m\n",
      "\u001b[32m2024-07-11 16:46:29.970\u001b[0m | \u001b[1mINFO    \u001b[0m | \u001b[36m__main__\u001b[0m:\u001b[36mtrain\u001b[0m:\u001b[36m25\u001b[0m - \u001b[1mPer batch time: 1.219552037 sec\u001b[0m\n"
     ]
    },
    {
     "name": "stdout",
     "output_type": "stream",
     "text": [
      "torch.Size([1, 2, 200, 252]) torch.Size([1, 14, 200, 252])\n"
     ]
    },
    {
     "name": "stderr",
     "output_type": "stream",
     "text": [
      "\u001b[32m2024-07-11 16:46:31.327\u001b[0m | \u001b[1mINFO    \u001b[0m | \u001b[36m__main__\u001b[0m:\u001b[36mtrain\u001b[0m:\u001b[36m23\u001b[0m - \u001b[1mEpoch: 0, Batch: 111, Loss: 2.1906421184539795\u001b[0m\n",
      "\u001b[32m2024-07-11 16:46:31.328\u001b[0m | \u001b[1mINFO    \u001b[0m | \u001b[36m__main__\u001b[0m:\u001b[36mtrain\u001b[0m:\u001b[36m25\u001b[0m - \u001b[1mPer batch time: 1.20439602 sec\u001b[0m\n"
     ]
    },
    {
     "name": "stdout",
     "output_type": "stream",
     "text": [
      "torch.Size([1, 2, 200, 252]) torch.Size([1, 14, 200, 252])\n"
     ]
    },
    {
     "name": "stderr",
     "output_type": "stream",
     "text": [
      "\u001b[32m2024-07-11 16:46:32.748\u001b[0m | \u001b[1mINFO    \u001b[0m | \u001b[36m__main__\u001b[0m:\u001b[36mtrain\u001b[0m:\u001b[36m23\u001b[0m - \u001b[1mEpoch: 0, Batch: 112, Loss: 3.7687888145446777\u001b[0m\n",
      "\u001b[32m2024-07-11 16:46:32.748\u001b[0m | \u001b[1mINFO    \u001b[0m | \u001b[36m__main__\u001b[0m:\u001b[36mtrain\u001b[0m:\u001b[36m25\u001b[0m - \u001b[1mPer batch time: 1.306269689 sec\u001b[0m\n"
     ]
    },
    {
     "name": "stdout",
     "output_type": "stream",
     "text": [
      "torch.Size([1, 2, 200, 252]) torch.Size([1, 14, 200, 252])\n"
     ]
    },
    {
     "name": "stderr",
     "output_type": "stream",
     "text": [
      "\u001b[32m2024-07-11 16:46:34.118\u001b[0m | \u001b[1mINFO    \u001b[0m | \u001b[36m__main__\u001b[0m:\u001b[36mtrain\u001b[0m:\u001b[36m23\u001b[0m - \u001b[1mEpoch: 0, Batch: 113, Loss: 2.809588670730591\u001b[0m\n",
      "\u001b[32m2024-07-11 16:46:34.119\u001b[0m | \u001b[1mINFO    \u001b[0m | \u001b[36m__main__\u001b[0m:\u001b[36mtrain\u001b[0m:\u001b[36m25\u001b[0m - \u001b[1mPer batch time: 1.15075076 sec\u001b[0m\n"
     ]
    },
    {
     "name": "stdout",
     "output_type": "stream",
     "text": [
      "torch.Size([1, 2, 200, 252]) torch.Size([1, 14, 200, 252])\n"
     ]
    },
    {
     "name": "stderr",
     "output_type": "stream",
     "text": [
      "\u001b[32m2024-07-11 16:46:35.515\u001b[0m | \u001b[1mINFO    \u001b[0m | \u001b[36m__main__\u001b[0m:\u001b[36mtrain\u001b[0m:\u001b[36m23\u001b[0m - \u001b[1mEpoch: 0, Batch: 114, Loss: 1.6832407712936401\u001b[0m\n",
      "\u001b[32m2024-07-11 16:46:35.516\u001b[0m | \u001b[1mINFO    \u001b[0m | \u001b[36m__main__\u001b[0m:\u001b[36mtrain\u001b[0m:\u001b[36m25\u001b[0m - \u001b[1mPer batch time: 1.218760743 sec\u001b[0m\n"
     ]
    },
    {
     "name": "stdout",
     "output_type": "stream",
     "text": [
      "torch.Size([1, 2, 200, 252]) torch.Size([1, 14, 200, 252])\n"
     ]
    },
    {
     "name": "stderr",
     "output_type": "stream",
     "text": [
      "\u001b[32m2024-07-11 16:46:36.825\u001b[0m | \u001b[1mINFO    \u001b[0m | \u001b[36m__main__\u001b[0m:\u001b[36mtrain\u001b[0m:\u001b[36m23\u001b[0m - \u001b[1mEpoch: 0, Batch: 115, Loss: 3.1945855617523193\u001b[0m\n",
      "\u001b[32m2024-07-11 16:46:36.825\u001b[0m | \u001b[1mINFO    \u001b[0m | \u001b[36m__main__\u001b[0m:\u001b[36mtrain\u001b[0m:\u001b[36m25\u001b[0m - \u001b[1mPer batch time: 1.149415498 sec\u001b[0m\n"
     ]
    },
    {
     "name": "stdout",
     "output_type": "stream",
     "text": [
      "torch.Size([1, 2, 200, 252]) torch.Size([1, 14, 200, 252])\n"
     ]
    },
    {
     "name": "stderr",
     "output_type": "stream",
     "text": [
      "\u001b[32m2024-07-11 16:46:37.922\u001b[0m | \u001b[1mINFO    \u001b[0m | \u001b[36m__main__\u001b[0m:\u001b[36mtrain\u001b[0m:\u001b[36m23\u001b[0m - \u001b[1mEpoch: 0, Batch: 116, Loss: 2.3171780109405518\u001b[0m\n",
      "\u001b[32m2024-07-11 16:46:37.923\u001b[0m | \u001b[1mINFO    \u001b[0m | \u001b[36m__main__\u001b[0m:\u001b[36mtrain\u001b[0m:\u001b[36m25\u001b[0m - \u001b[1mPer batch time: 0.990688818 sec\u001b[0m\n"
     ]
    },
    {
     "name": "stdout",
     "output_type": "stream",
     "text": [
      "torch.Size([1, 2, 200, 252]) torch.Size([1, 14, 200, 252])\n"
     ]
    },
    {
     "name": "stderr",
     "output_type": "stream",
     "text": [
      "\u001b[32m2024-07-11 16:46:39.335\u001b[0m | \u001b[1mINFO    \u001b[0m | \u001b[36m__main__\u001b[0m:\u001b[36mtrain\u001b[0m:\u001b[36m23\u001b[0m - \u001b[1mEpoch: 0, Batch: 117, Loss: 2.4163548946380615\u001b[0m\n",
      "\u001b[32m2024-07-11 16:46:39.336\u001b[0m | \u001b[1mINFO    \u001b[0m | \u001b[36m__main__\u001b[0m:\u001b[36mtrain\u001b[0m:\u001b[36m25\u001b[0m - \u001b[1mPer batch time: 1.146527874 sec\u001b[0m\n"
     ]
    },
    {
     "name": "stdout",
     "output_type": "stream",
     "text": [
      "torch.Size([1, 2, 200, 252]) torch.Size([1, 14, 200, 252])\n"
     ]
    },
    {
     "name": "stderr",
     "output_type": "stream",
     "text": [
      "\u001b[32m2024-07-11 16:46:40.708\u001b[0m | \u001b[1mINFO    \u001b[0m | \u001b[36m__main__\u001b[0m:\u001b[36mtrain\u001b[0m:\u001b[36m23\u001b[0m - \u001b[1mEpoch: 0, Batch: 118, Loss: 3.0433571338653564\u001b[0m\n",
      "\u001b[32m2024-07-11 16:46:40.708\u001b[0m | \u001b[1mINFO    \u001b[0m | \u001b[36m__main__\u001b[0m:\u001b[36mtrain\u001b[0m:\u001b[36m25\u001b[0m - \u001b[1mPer batch time: 1.196616097 sec\u001b[0m\n"
     ]
    },
    {
     "name": "stdout",
     "output_type": "stream",
     "text": [
      "torch.Size([1, 2, 200, 252]) torch.Size([1, 14, 200, 252])\n"
     ]
    },
    {
     "name": "stderr",
     "output_type": "stream",
     "text": [
      "\u001b[32m2024-07-11 16:46:42.064\u001b[0m | \u001b[1mINFO    \u001b[0m | \u001b[36m__main__\u001b[0m:\u001b[36mtrain\u001b[0m:\u001b[36m23\u001b[0m - \u001b[1mEpoch: 0, Batch: 119, Loss: 2.5949180126190186\u001b[0m\n",
      "\u001b[32m2024-07-11 16:46:42.064\u001b[0m | \u001b[1mINFO    \u001b[0m | \u001b[36m__main__\u001b[0m:\u001b[36mtrain\u001b[0m:\u001b[36m25\u001b[0m - \u001b[1mPer batch time: 1.228251699 sec\u001b[0m\n"
     ]
    },
    {
     "name": "stdout",
     "output_type": "stream",
     "text": [
      "torch.Size([1, 2, 200, 252]) torch.Size([1, 14, 200, 252])\n"
     ]
    },
    {
     "name": "stderr",
     "output_type": "stream",
     "text": [
      "\u001b[32m2024-07-11 16:46:43.449\u001b[0m | \u001b[1mINFO    \u001b[0m | \u001b[36m__main__\u001b[0m:\u001b[36mtrain\u001b[0m:\u001b[36m23\u001b[0m - \u001b[1mEpoch: 0, Batch: 120, Loss: 4.123228549957275\u001b[0m\n",
      "\u001b[32m2024-07-11 16:46:43.449\u001b[0m | \u001b[1mINFO    \u001b[0m | \u001b[36m__main__\u001b[0m:\u001b[36mtrain\u001b[0m:\u001b[36m25\u001b[0m - \u001b[1mPer batch time: 1.207201349 sec\u001b[0m\n"
     ]
    },
    {
     "name": "stdout",
     "output_type": "stream",
     "text": [
      "torch.Size([1, 2, 200, 252]) torch.Size([1, 14, 200, 252])\n"
     ]
    },
    {
     "name": "stderr",
     "output_type": "stream",
     "text": [
      "\u001b[32m2024-07-11 16:46:44.773\u001b[0m | \u001b[1mINFO    \u001b[0m | \u001b[36m__main__\u001b[0m:\u001b[36mtrain\u001b[0m:\u001b[36m23\u001b[0m - \u001b[1mEpoch: 0, Batch: 121, Loss: 3.3567676544189453\u001b[0m\n",
      "\u001b[32m2024-07-11 16:46:44.774\u001b[0m | \u001b[1mINFO    \u001b[0m | \u001b[36m__main__\u001b[0m:\u001b[36mtrain\u001b[0m:\u001b[36m25\u001b[0m - \u001b[1mPer batch time: 1.214010081 sec\u001b[0m\n"
     ]
    },
    {
     "name": "stdout",
     "output_type": "stream",
     "text": [
      "torch.Size([1, 2, 200, 252]) torch.Size([1, 14, 200, 252])\n"
     ]
    },
    {
     "name": "stderr",
     "output_type": "stream",
     "text": [
      "\u001b[32m2024-07-11 16:46:46.138\u001b[0m | \u001b[1mINFO    \u001b[0m | \u001b[36m__main__\u001b[0m:\u001b[36mtrain\u001b[0m:\u001b[36m23\u001b[0m - \u001b[1mEpoch: 0, Batch: 122, Loss: 3.3290562629699707\u001b[0m\n",
      "\u001b[32m2024-07-11 16:46:46.139\u001b[0m | \u001b[1mINFO    \u001b[0m | \u001b[36m__main__\u001b[0m:\u001b[36mtrain\u001b[0m:\u001b[36m25\u001b[0m - \u001b[1mPer batch time: 1.21448858 sec\u001b[0m\n"
     ]
    },
    {
     "name": "stdout",
     "output_type": "stream",
     "text": [
      "torch.Size([1, 2, 200, 252]) torch.Size([1, 14, 200, 252])\n"
     ]
    },
    {
     "name": "stderr",
     "output_type": "stream",
     "text": [
      "\u001b[32m2024-07-11 16:46:47.506\u001b[0m | \u001b[1mINFO    \u001b[0m | \u001b[36m__main__\u001b[0m:\u001b[36mtrain\u001b[0m:\u001b[36m23\u001b[0m - \u001b[1mEpoch: 0, Batch: 123, Loss: 2.65047025680542\u001b[0m\n",
      "\u001b[32m2024-07-11 16:46:47.507\u001b[0m | \u001b[1mINFO    \u001b[0m | \u001b[36m__main__\u001b[0m:\u001b[36mtrain\u001b[0m:\u001b[36m25\u001b[0m - \u001b[1mPer batch time: 1.192241001 sec\u001b[0m\n"
     ]
    },
    {
     "name": "stdout",
     "output_type": "stream",
     "text": [
      "torch.Size([1, 2, 200, 252]) torch.Size([1, 14, 200, 252])\n"
     ]
    },
    {
     "name": "stderr",
     "output_type": "stream",
     "text": [
      "\u001b[32m2024-07-11 16:46:48.655\u001b[0m | \u001b[1mINFO    \u001b[0m | \u001b[36m__main__\u001b[0m:\u001b[36mtrain\u001b[0m:\u001b[36m23\u001b[0m - \u001b[1mEpoch: 0, Batch: 124, Loss: 1.7392929792404175\u001b[0m\n",
      "\u001b[32m2024-07-11 16:46:48.656\u001b[0m | \u001b[1mINFO    \u001b[0m | \u001b[36m__main__\u001b[0m:\u001b[36mtrain\u001b[0m:\u001b[36m25\u001b[0m - \u001b[1mPer batch time: 1.009241729 sec\u001b[0m\n"
     ]
    },
    {
     "name": "stdout",
     "output_type": "stream",
     "text": [
      "torch.Size([1, 2, 200, 252]) torch.Size([1, 14, 200, 252])\n"
     ]
    },
    {
     "name": "stderr",
     "output_type": "stream",
     "text": [
      "\u001b[32m2024-07-11 16:46:49.968\u001b[0m | \u001b[1mINFO    \u001b[0m | \u001b[36m__main__\u001b[0m:\u001b[36mtrain\u001b[0m:\u001b[36m23\u001b[0m - \u001b[1mEpoch: 0, Batch: 125, Loss: 2.7010583877563477\u001b[0m\n",
      "\u001b[32m2024-07-11 16:46:49.969\u001b[0m | \u001b[1mINFO    \u001b[0m | \u001b[36m__main__\u001b[0m:\u001b[36mtrain\u001b[0m:\u001b[36m25\u001b[0m - \u001b[1mPer batch time: 1.135060014 sec\u001b[0m\n"
     ]
    },
    {
     "name": "stdout",
     "output_type": "stream",
     "text": [
      "torch.Size([1, 2, 200, 252]) torch.Size([1, 14, 200, 252])\n"
     ]
    },
    {
     "name": "stderr",
     "output_type": "stream",
     "text": [
      "\u001b[32m2024-07-11 16:46:51.443\u001b[0m | \u001b[1mINFO    \u001b[0m | \u001b[36m__main__\u001b[0m:\u001b[36mtrain\u001b[0m:\u001b[36m23\u001b[0m - \u001b[1mEpoch: 0, Batch: 126, Loss: 2.947650194168091\u001b[0m\n",
      "\u001b[32m2024-07-11 16:46:51.444\u001b[0m | \u001b[1mINFO    \u001b[0m | \u001b[36m__main__\u001b[0m:\u001b[36mtrain\u001b[0m:\u001b[36m25\u001b[0m - \u001b[1mPer batch time: 1.381671715 sec\u001b[0m\n"
     ]
    },
    {
     "name": "stdout",
     "output_type": "stream",
     "text": [
      "torch.Size([1, 2, 200, 252]) torch.Size([1, 14, 200, 252])\n"
     ]
    },
    {
     "name": "stderr",
     "output_type": "stream",
     "text": [
      "\u001b[32m2024-07-11 16:46:52.911\u001b[0m | \u001b[1mINFO    \u001b[0m | \u001b[36m__main__\u001b[0m:\u001b[36mtrain\u001b[0m:\u001b[36m23\u001b[0m - \u001b[1mEpoch: 0, Batch: 127, Loss: 3.2731826305389404\u001b[0m\n",
      "\u001b[32m2024-07-11 16:46:52.911\u001b[0m | \u001b[1mINFO    \u001b[0m | \u001b[36m__main__\u001b[0m:\u001b[36mtrain\u001b[0m:\u001b[36m25\u001b[0m - \u001b[1mPer batch time: 1.291752516 sec\u001b[0m\n"
     ]
    },
    {
     "name": "stdout",
     "output_type": "stream",
     "text": [
      "torch.Size([1, 2, 200, 252]) torch.Size([1, 14, 200, 252])\n"
     ]
    },
    {
     "name": "stderr",
     "output_type": "stream",
     "text": [
      "\u001b[32m2024-07-11 16:46:54.116\u001b[0m | \u001b[1mINFO    \u001b[0m | \u001b[36m__main__\u001b[0m:\u001b[36mtrain\u001b[0m:\u001b[36m23\u001b[0m - \u001b[1mEpoch: 0, Batch: 128, Loss: 2.715324878692627\u001b[0m\n",
      "\u001b[32m2024-07-11 16:46:54.117\u001b[0m | \u001b[1mINFO    \u001b[0m | \u001b[36m__main__\u001b[0m:\u001b[36mtrain\u001b[0m:\u001b[36m25\u001b[0m - \u001b[1mPer batch time: 1.048087845 sec\u001b[0m\n"
     ]
    },
    {
     "name": "stdout",
     "output_type": "stream",
     "text": [
      "torch.Size([1, 2, 200, 252]) torch.Size([1, 14, 200, 252])\n"
     ]
    },
    {
     "name": "stderr",
     "output_type": "stream",
     "text": [
      "\u001b[32m2024-07-11 16:46:55.328\u001b[0m | \u001b[1mINFO    \u001b[0m | \u001b[36m__main__\u001b[0m:\u001b[36mtrain\u001b[0m:\u001b[36m23\u001b[0m - \u001b[1mEpoch: 0, Batch: 129, Loss: 3.2421162128448486\u001b[0m\n",
      "\u001b[32m2024-07-11 16:46:55.329\u001b[0m | \u001b[1mINFO    \u001b[0m | \u001b[36m__main__\u001b[0m:\u001b[36mtrain\u001b[0m:\u001b[36m25\u001b[0m - \u001b[1mPer batch time: 1.117837569 sec\u001b[0m\n"
     ]
    },
    {
     "name": "stdout",
     "output_type": "stream",
     "text": [
      "torch.Size([1, 2, 200, 252]) torch.Size([1, 14, 200, 252])\n"
     ]
    },
    {
     "name": "stderr",
     "output_type": "stream",
     "text": [
      "\u001b[32m2024-07-11 16:46:56.751\u001b[0m | \u001b[1mINFO    \u001b[0m | \u001b[36m__main__\u001b[0m:\u001b[36mtrain\u001b[0m:\u001b[36m23\u001b[0m - \u001b[1mEpoch: 0, Batch: 130, Loss: 3.0347418785095215\u001b[0m\n",
      "\u001b[32m2024-07-11 16:46:56.752\u001b[0m | \u001b[1mINFO    \u001b[0m | \u001b[36m__main__\u001b[0m:\u001b[36mtrain\u001b[0m:\u001b[36m25\u001b[0m - \u001b[1mPer batch time: 1.288061105 sec\u001b[0m\n"
     ]
    },
    {
     "name": "stdout",
     "output_type": "stream",
     "text": [
      "torch.Size([1, 2, 200, 252]) torch.Size([1, 14, 200, 252])\n"
     ]
    },
    {
     "name": "stderr",
     "output_type": "stream",
     "text": [
      "\u001b[32m2024-07-11 16:46:58.040\u001b[0m | \u001b[1mINFO    \u001b[0m | \u001b[36m__main__\u001b[0m:\u001b[36mtrain\u001b[0m:\u001b[36m23\u001b[0m - \u001b[1mEpoch: 0, Batch: 131, Loss: 1.9494762420654297\u001b[0m\n",
      "\u001b[32m2024-07-11 16:46:58.040\u001b[0m | \u001b[1mINFO    \u001b[0m | \u001b[36m__main__\u001b[0m:\u001b[36mtrain\u001b[0m:\u001b[36m25\u001b[0m - \u001b[1mPer batch time: 1.165314726 sec\u001b[0m\n"
     ]
    },
    {
     "name": "stdout",
     "output_type": "stream",
     "text": [
      "torch.Size([1, 2, 200, 252]) torch.Size([1, 14, 200, 252])\n"
     ]
    },
    {
     "name": "stderr",
     "output_type": "stream",
     "text": [
      "\u001b[32m2024-07-11 16:46:59.433\u001b[0m | \u001b[1mINFO    \u001b[0m | \u001b[36m__main__\u001b[0m:\u001b[36mtrain\u001b[0m:\u001b[36m23\u001b[0m - \u001b[1mEpoch: 0, Batch: 132, Loss: 3.772876024246216\u001b[0m\n",
      "\u001b[32m2024-07-11 16:46:59.434\u001b[0m | \u001b[1mINFO    \u001b[0m | \u001b[36m__main__\u001b[0m:\u001b[36mtrain\u001b[0m:\u001b[36m25\u001b[0m - \u001b[1mPer batch time: 1.243376369 sec\u001b[0m\n"
     ]
    },
    {
     "name": "stdout",
     "output_type": "stream",
     "text": [
      "torch.Size([1, 2, 200, 252]) torch.Size([1, 14, 200, 252])\n"
     ]
    },
    {
     "name": "stderr",
     "output_type": "stream",
     "text": [
      "\u001b[32m2024-07-11 16:47:00.607\u001b[0m | \u001b[1mINFO    \u001b[0m | \u001b[36m__main__\u001b[0m:\u001b[36mtrain\u001b[0m:\u001b[36m23\u001b[0m - \u001b[1mEpoch: 0, Batch: 133, Loss: 1.9906188249588013\u001b[0m\n",
      "\u001b[32m2024-07-11 16:47:00.608\u001b[0m | \u001b[1mINFO    \u001b[0m | \u001b[36m__main__\u001b[0m:\u001b[36mtrain\u001b[0m:\u001b[36m25\u001b[0m - \u001b[1mPer batch time: 1.007860036 sec\u001b[0m\n"
     ]
    },
    {
     "name": "stdout",
     "output_type": "stream",
     "text": [
      "torch.Size([1, 2, 200, 252]) torch.Size([1, 14, 200, 252])\n"
     ]
    },
    {
     "name": "stderr",
     "output_type": "stream",
     "text": [
      "\u001b[32m2024-07-11 16:47:01.893\u001b[0m | \u001b[1mINFO    \u001b[0m | \u001b[36m__main__\u001b[0m:\u001b[36mtrain\u001b[0m:\u001b[36m23\u001b[0m - \u001b[1mEpoch: 0, Batch: 134, Loss: 2.0218043327331543\u001b[0m\n",
      "\u001b[32m2024-07-11 16:47:01.894\u001b[0m | \u001b[1mINFO    \u001b[0m | \u001b[36m__main__\u001b[0m:\u001b[36mtrain\u001b[0m:\u001b[36m25\u001b[0m - \u001b[1mPer batch time: 1.210248092 sec\u001b[0m\n"
     ]
    },
    {
     "name": "stdout",
     "output_type": "stream",
     "text": [
      "torch.Size([1, 2, 200, 252]) torch.Size([1, 14, 200, 252])\n"
     ]
    },
    {
     "name": "stderr",
     "output_type": "stream",
     "text": [
      "\u001b[32m2024-07-11 16:47:02.809\u001b[0m | \u001b[1mINFO    \u001b[0m | \u001b[36m__main__\u001b[0m:\u001b[36mtrain\u001b[0m:\u001b[36m23\u001b[0m - \u001b[1mEpoch: 0, Batch: 135, Loss: 2.5242502689361572\u001b[0m\n",
      "\u001b[32m2024-07-11 16:47:02.809\u001b[0m | \u001b[1mINFO    \u001b[0m | \u001b[36m__main__\u001b[0m:\u001b[36mtrain\u001b[0m:\u001b[36m25\u001b[0m - \u001b[1mPer batch time: 0.842066009 sec\u001b[0m\n"
     ]
    },
    {
     "name": "stdout",
     "output_type": "stream",
     "text": [
      "torch.Size([1, 2, 200, 252]) torch.Size([1, 14, 200, 252])\n"
     ]
    },
    {
     "name": "stderr",
     "output_type": "stream",
     "text": [
      "\u001b[32m2024-07-11 16:47:04.130\u001b[0m | \u001b[1mINFO    \u001b[0m | \u001b[36m__main__\u001b[0m:\u001b[36mtrain\u001b[0m:\u001b[36m23\u001b[0m - \u001b[1mEpoch: 0, Batch: 136, Loss: 2.057321071624756\u001b[0m\n",
      "\u001b[32m2024-07-11 16:47:04.130\u001b[0m | \u001b[1mINFO    \u001b[0m | \u001b[36m__main__\u001b[0m:\u001b[36mtrain\u001b[0m:\u001b[36m25\u001b[0m - \u001b[1mPer batch time: 1.165249415 sec\u001b[0m\n"
     ]
    },
    {
     "name": "stdout",
     "output_type": "stream",
     "text": [
      "torch.Size([1, 2, 200, 252]) torch.Size([1, 14, 200, 252])\n"
     ]
    },
    {
     "name": "stderr",
     "output_type": "stream",
     "text": [
      "\u001b[32m2024-07-11 16:47:05.593\u001b[0m | \u001b[1mINFO    \u001b[0m | \u001b[36m__main__\u001b[0m:\u001b[36mtrain\u001b[0m:\u001b[36m23\u001b[0m - \u001b[1mEpoch: 0, Batch: 137, Loss: 2.746732711791992\u001b[0m\n",
      "\u001b[32m2024-07-11 16:47:05.593\u001b[0m | \u001b[1mINFO    \u001b[0m | \u001b[36m__main__\u001b[0m:\u001b[36mtrain\u001b[0m:\u001b[36m25\u001b[0m - \u001b[1mPer batch time: 1.223840354 sec\u001b[0m\n"
     ]
    },
    {
     "name": "stdout",
     "output_type": "stream",
     "text": [
      "torch.Size([1, 2, 200, 252]) torch.Size([1, 14, 200, 252])\n"
     ]
    },
    {
     "name": "stderr",
     "output_type": "stream",
     "text": [
      "\u001b[32m2024-07-11 16:47:07.061\u001b[0m | \u001b[1mINFO    \u001b[0m | \u001b[36m__main__\u001b[0m:\u001b[36mtrain\u001b[0m:\u001b[36m23\u001b[0m - \u001b[1mEpoch: 0, Batch: 138, Loss: 2.207207679748535\u001b[0m\n",
      "\u001b[32m2024-07-11 16:47:07.062\u001b[0m | \u001b[1mINFO    \u001b[0m | \u001b[36m__main__\u001b[0m:\u001b[36mtrain\u001b[0m:\u001b[36m25\u001b[0m - \u001b[1mPer batch time: 1.262413706 sec\u001b[0m\n"
     ]
    },
    {
     "name": "stdout",
     "output_type": "stream",
     "text": [
      "torch.Size([1, 2, 200, 252]) torch.Size([1, 14, 200, 252])\n"
     ]
    },
    {
     "name": "stderr",
     "output_type": "stream",
     "text": [
      "\u001b[32m2024-07-11 16:47:08.420\u001b[0m | \u001b[1mINFO    \u001b[0m | \u001b[36m__main__\u001b[0m:\u001b[36mtrain\u001b[0m:\u001b[36m23\u001b[0m - \u001b[1mEpoch: 0, Batch: 139, Loss: 2.8414173126220703\u001b[0m\n",
      "\u001b[32m2024-07-11 16:47:08.421\u001b[0m | \u001b[1mINFO    \u001b[0m | \u001b[36m__main__\u001b[0m:\u001b[36mtrain\u001b[0m:\u001b[36m25\u001b[0m - \u001b[1mPer batch time: 1.102586337 sec\u001b[0m\n"
     ]
    },
    {
     "name": "stdout",
     "output_type": "stream",
     "text": [
      "torch.Size([1, 2, 200, 252]) torch.Size([1, 14, 200, 252])\n"
     ]
    },
    {
     "name": "stderr",
     "output_type": "stream",
     "text": [
      "\u001b[32m2024-07-11 16:47:09.760\u001b[0m | \u001b[1mINFO    \u001b[0m | \u001b[36m__main__\u001b[0m:\u001b[36mtrain\u001b[0m:\u001b[36m23\u001b[0m - \u001b[1mEpoch: 0, Batch: 140, Loss: 1.5438296794891357\u001b[0m\n",
      "\u001b[32m2024-07-11 16:47:09.760\u001b[0m | \u001b[1mINFO    \u001b[0m | \u001b[36m__main__\u001b[0m:\u001b[36mtrain\u001b[0m:\u001b[36m25\u001b[0m - \u001b[1mPer batch time: 1.216217565 sec\u001b[0m\n"
     ]
    },
    {
     "name": "stdout",
     "output_type": "stream",
     "text": [
      "torch.Size([1, 2, 200, 252]) torch.Size([1, 14, 200, 252])\n"
     ]
    },
    {
     "name": "stderr",
     "output_type": "stream",
     "text": [
      "\u001b[32m2024-07-11 16:47:11.101\u001b[0m | \u001b[1mINFO    \u001b[0m | \u001b[36m__main__\u001b[0m:\u001b[36mtrain\u001b[0m:\u001b[36m23\u001b[0m - \u001b[1mEpoch: 0, Batch: 141, Loss: 3.2570605278015137\u001b[0m\n",
      "\u001b[32m2024-07-11 16:47:11.102\u001b[0m | \u001b[1mINFO    \u001b[0m | \u001b[36m__main__\u001b[0m:\u001b[36mtrain\u001b[0m:\u001b[36m25\u001b[0m - \u001b[1mPer batch time: 1.215310466 sec\u001b[0m\n"
     ]
    },
    {
     "name": "stdout",
     "output_type": "stream",
     "text": [
      "torch.Size([1, 2, 200, 252]) torch.Size([1, 14, 200, 252])\n"
     ]
    },
    {
     "name": "stderr",
     "output_type": "stream",
     "text": [
      "\u001b[32m2024-07-11 16:47:12.324\u001b[0m | \u001b[1mINFO    \u001b[0m | \u001b[36m__main__\u001b[0m:\u001b[36mtrain\u001b[0m:\u001b[36m23\u001b[0m - \u001b[1mEpoch: 0, Batch: 142, Loss: 2.5321602821350098\u001b[0m\n",
      "\u001b[32m2024-07-11 16:47:12.324\u001b[0m | \u001b[1mINFO    \u001b[0m | \u001b[36m__main__\u001b[0m:\u001b[36mtrain\u001b[0m:\u001b[36m25\u001b[0m - \u001b[1mPer batch time: 1.052070692 sec\u001b[0m\n"
     ]
    },
    {
     "name": "stdout",
     "output_type": "stream",
     "text": [
      "torch.Size([1, 2, 200, 252]) torch.Size([1, 14, 200, 252])\n"
     ]
    },
    {
     "name": "stderr",
     "output_type": "stream",
     "text": [
      "\u001b[32m2024-07-11 16:47:13.809\u001b[0m | \u001b[1mINFO    \u001b[0m | \u001b[36m__main__\u001b[0m:\u001b[36mtrain\u001b[0m:\u001b[36m23\u001b[0m - \u001b[1mEpoch: 0, Batch: 143, Loss: 2.6262340545654297\u001b[0m\n",
      "\u001b[32m2024-07-11 16:47:13.810\u001b[0m | \u001b[1mINFO    \u001b[0m | \u001b[36m__main__\u001b[0m:\u001b[36mtrain\u001b[0m:\u001b[36m25\u001b[0m - \u001b[1mPer batch time: 1.275852861 sec\u001b[0m\n"
     ]
    },
    {
     "name": "stdout",
     "output_type": "stream",
     "text": [
      "torch.Size([1, 2, 200, 252]) torch.Size([1, 14, 200, 252])\n"
     ]
    },
    {
     "name": "stderr",
     "output_type": "stream",
     "text": [
      "\u001b[32m2024-07-11 16:47:15.124\u001b[0m | \u001b[1mINFO    \u001b[0m | \u001b[36m__main__\u001b[0m:\u001b[36mtrain\u001b[0m:\u001b[36m23\u001b[0m - \u001b[1mEpoch: 0, Batch: 144, Loss: 2.385371446609497\u001b[0m\n",
      "\u001b[32m2024-07-11 16:47:15.124\u001b[0m | \u001b[1mINFO    \u001b[0m | \u001b[36m__main__\u001b[0m:\u001b[36mtrain\u001b[0m:\u001b[36m25\u001b[0m - \u001b[1mPer batch time: 1.160982261 sec\u001b[0m\n"
     ]
    },
    {
     "name": "stdout",
     "output_type": "stream",
     "text": [
      "torch.Size([1, 2, 200, 252]) torch.Size([1, 14, 200, 252])\n"
     ]
    },
    {
     "name": "stderr",
     "output_type": "stream",
     "text": [
      "\u001b[32m2024-07-11 16:47:16.554\u001b[0m | \u001b[1mINFO    \u001b[0m | \u001b[36m__main__\u001b[0m:\u001b[36mtrain\u001b[0m:\u001b[36m23\u001b[0m - \u001b[1mEpoch: 0, Batch: 145, Loss: 2.6416819095611572\u001b[0m\n",
      "\u001b[32m2024-07-11 16:47:16.554\u001b[0m | \u001b[1mINFO    \u001b[0m | \u001b[36m__main__\u001b[0m:\u001b[36mtrain\u001b[0m:\u001b[36m25\u001b[0m - \u001b[1mPer batch time: 1.184443964 sec\u001b[0m\n"
     ]
    },
    {
     "name": "stdout",
     "output_type": "stream",
     "text": [
      "torch.Size([1, 2, 200, 252]) torch.Size([1, 14, 200, 252])\n"
     ]
    },
    {
     "name": "stderr",
     "output_type": "stream",
     "text": [
      "\u001b[32m2024-07-11 16:47:17.929\u001b[0m | \u001b[1mINFO    \u001b[0m | \u001b[36m__main__\u001b[0m:\u001b[36mtrain\u001b[0m:\u001b[36m23\u001b[0m - \u001b[1mEpoch: 0, Batch: 146, Loss: 3.334656238555908\u001b[0m\n",
      "\u001b[32m2024-07-11 16:47:17.929\u001b[0m | \u001b[1mINFO    \u001b[0m | \u001b[36m__main__\u001b[0m:\u001b[36mtrain\u001b[0m:\u001b[36m25\u001b[0m - \u001b[1mPer batch time: 1.191641429 sec\u001b[0m\n"
     ]
    },
    {
     "name": "stdout",
     "output_type": "stream",
     "text": [
      "torch.Size([1, 2, 200, 252]) torch.Size([1, 14, 200, 252])\n"
     ]
    },
    {
     "name": "stderr",
     "output_type": "stream",
     "text": [
      "\u001b[32m2024-07-11 16:47:19.199\u001b[0m | \u001b[1mINFO    \u001b[0m | \u001b[36m__main__\u001b[0m:\u001b[36mtrain\u001b[0m:\u001b[36m23\u001b[0m - \u001b[1mEpoch: 0, Batch: 147, Loss: 2.7425594329833984\u001b[0m\n",
      "\u001b[32m2024-07-11 16:47:19.199\u001b[0m | \u001b[1mINFO    \u001b[0m | \u001b[36m__main__\u001b[0m:\u001b[36mtrain\u001b[0m:\u001b[36m25\u001b[0m - \u001b[1mPer batch time: 1.061043621 sec\u001b[0m\n"
     ]
    },
    {
     "name": "stdout",
     "output_type": "stream",
     "text": [
      "torch.Size([1, 2, 200, 252]) torch.Size([1, 14, 200, 252])\n"
     ]
    },
    {
     "name": "stderr",
     "output_type": "stream",
     "text": [
      "\u001b[32m2024-07-11 16:47:20.428\u001b[0m | \u001b[1mINFO    \u001b[0m | \u001b[36m__main__\u001b[0m:\u001b[36mtrain\u001b[0m:\u001b[36m23\u001b[0m - \u001b[1mEpoch: 0, Batch: 148, Loss: 1.9604127407073975\u001b[0m\n",
      "\u001b[32m2024-07-11 16:47:20.428\u001b[0m | \u001b[1mINFO    \u001b[0m | \u001b[36m__main__\u001b[0m:\u001b[36mtrain\u001b[0m:\u001b[36m25\u001b[0m - \u001b[1mPer batch time: 1.130958636 sec\u001b[0m\n"
     ]
    },
    {
     "name": "stdout",
     "output_type": "stream",
     "text": [
      "torch.Size([1, 2, 200, 252]) torch.Size([1, 14, 200, 252])\n"
     ]
    },
    {
     "name": "stderr",
     "output_type": "stream",
     "text": [
      "\u001b[32m2024-07-11 16:47:21.643\u001b[0m | \u001b[1mINFO    \u001b[0m | \u001b[36m__main__\u001b[0m:\u001b[36mtrain\u001b[0m:\u001b[36m23\u001b[0m - \u001b[1mEpoch: 0, Batch: 149, Loss: 3.1462810039520264\u001b[0m\n",
      "\u001b[32m2024-07-11 16:47:21.644\u001b[0m | \u001b[1mINFO    \u001b[0m | \u001b[36m__main__\u001b[0m:\u001b[36mtrain\u001b[0m:\u001b[36m25\u001b[0m - \u001b[1mPer batch time: 1.05766847 sec\u001b[0m\n"
     ]
    },
    {
     "name": "stdout",
     "output_type": "stream",
     "text": [
      "torch.Size([1, 2, 200, 252]) torch.Size([1, 14, 200, 252])\n"
     ]
    },
    {
     "name": "stderr",
     "output_type": "stream",
     "text": [
      "\u001b[32m2024-07-11 16:47:23.051\u001b[0m | \u001b[1mINFO    \u001b[0m | \u001b[36m__main__\u001b[0m:\u001b[36mtrain\u001b[0m:\u001b[36m23\u001b[0m - \u001b[1mEpoch: 0, Batch: 150, Loss: 2.397217273712158\u001b[0m\n",
      "\u001b[32m2024-07-11 16:47:23.052\u001b[0m | \u001b[1mINFO    \u001b[0m | \u001b[36m__main__\u001b[0m:\u001b[36mtrain\u001b[0m:\u001b[36m25\u001b[0m - \u001b[1mPer batch time: 1.179878722 sec\u001b[0m\n"
     ]
    },
    {
     "name": "stdout",
     "output_type": "stream",
     "text": [
      "torch.Size([1, 2, 200, 252]) torch.Size([1, 14, 200, 252])\n"
     ]
    },
    {
     "name": "stderr",
     "output_type": "stream",
     "text": [
      "\u001b[32m2024-07-11 16:47:24.446\u001b[0m | \u001b[1mINFO    \u001b[0m | \u001b[36m__main__\u001b[0m:\u001b[36mtrain\u001b[0m:\u001b[36m23\u001b[0m - \u001b[1mEpoch: 0, Batch: 151, Loss: 2.8057212829589844\u001b[0m\n",
      "\u001b[32m2024-07-11 16:47:24.447\u001b[0m | \u001b[1mINFO    \u001b[0m | \u001b[36m__main__\u001b[0m:\u001b[36mtrain\u001b[0m:\u001b[36m25\u001b[0m - \u001b[1mPer batch time: 1.250662015 sec\u001b[0m\n"
     ]
    },
    {
     "name": "stdout",
     "output_type": "stream",
     "text": [
      "torch.Size([1, 2, 200, 252]) torch.Size([1, 14, 200, 252])\n"
     ]
    },
    {
     "name": "stderr",
     "output_type": "stream",
     "text": [
      "\u001b[32m2024-07-11 16:47:25.719\u001b[0m | \u001b[1mINFO    \u001b[0m | \u001b[36m__main__\u001b[0m:\u001b[36mtrain\u001b[0m:\u001b[36m23\u001b[0m - \u001b[1mEpoch: 0, Batch: 152, Loss: 2.7291369438171387\u001b[0m\n",
      "\u001b[32m2024-07-11 16:47:25.719\u001b[0m | \u001b[1mINFO    \u001b[0m | \u001b[36m__main__\u001b[0m:\u001b[36mtrain\u001b[0m:\u001b[36m25\u001b[0m - \u001b[1mPer batch time: 1.13131469 sec\u001b[0m\n"
     ]
    },
    {
     "name": "stdout",
     "output_type": "stream",
     "text": [
      "torch.Size([1, 2, 200, 252]) torch.Size([1, 14, 200, 252])\n"
     ]
    },
    {
     "name": "stderr",
     "output_type": "stream",
     "text": [
      "\u001b[32m2024-07-11 16:47:27.165\u001b[0m | \u001b[1mINFO    \u001b[0m | \u001b[36m__main__\u001b[0m:\u001b[36mtrain\u001b[0m:\u001b[36m23\u001b[0m - \u001b[1mEpoch: 0, Batch: 153, Loss: 3.598257541656494\u001b[0m\n",
      "\u001b[32m2024-07-11 16:47:27.165\u001b[0m | \u001b[1mINFO    \u001b[0m | \u001b[36m__main__\u001b[0m:\u001b[36mtrain\u001b[0m:\u001b[36m25\u001b[0m - \u001b[1mPer batch time: 1.374380869 sec\u001b[0m\n"
     ]
    },
    {
     "name": "stdout",
     "output_type": "stream",
     "text": [
      "torch.Size([1, 2, 200, 252]) torch.Size([1, 14, 200, 252])\n"
     ]
    },
    {
     "name": "stderr",
     "output_type": "stream",
     "text": [
      "\u001b[32m2024-07-11 16:47:28.435\u001b[0m | \u001b[1mINFO    \u001b[0m | \u001b[36m__main__\u001b[0m:\u001b[36mtrain\u001b[0m:\u001b[36m23\u001b[0m - \u001b[1mEpoch: 0, Batch: 154, Loss: 1.5823755264282227\u001b[0m\n",
      "\u001b[32m2024-07-11 16:47:28.436\u001b[0m | \u001b[1mINFO    \u001b[0m | \u001b[36m__main__\u001b[0m:\u001b[36mtrain\u001b[0m:\u001b[36m25\u001b[0m - \u001b[1mPer batch time: 1.090978717 sec\u001b[0m\n"
     ]
    },
    {
     "name": "stdout",
     "output_type": "stream",
     "text": [
      "torch.Size([1, 2, 200, 252]) torch.Size([1, 14, 200, 252])\n"
     ]
    },
    {
     "name": "stderr",
     "output_type": "stream",
     "text": [
      "\u001b[32m2024-07-11 16:47:29.836\u001b[0m | \u001b[1mINFO    \u001b[0m | \u001b[36m__main__\u001b[0m:\u001b[36mtrain\u001b[0m:\u001b[36m23\u001b[0m - \u001b[1mEpoch: 0, Batch: 155, Loss: 3.504086971282959\u001b[0m\n",
      "\u001b[32m2024-07-11 16:47:29.837\u001b[0m | \u001b[1mINFO    \u001b[0m | \u001b[36m__main__\u001b[0m:\u001b[36mtrain\u001b[0m:\u001b[36m25\u001b[0m - \u001b[1mPer batch time: 1.272811812 sec\u001b[0m\n"
     ]
    },
    {
     "name": "stdout",
     "output_type": "stream",
     "text": [
      "torch.Size([1, 2, 200, 252]) torch.Size([1, 14, 200, 252])\n"
     ]
    },
    {
     "name": "stderr",
     "output_type": "stream",
     "text": [
      "\u001b[32m2024-07-11 16:47:31.100\u001b[0m | \u001b[1mINFO    \u001b[0m | \u001b[36m__main__\u001b[0m:\u001b[36mtrain\u001b[0m:\u001b[36m23\u001b[0m - \u001b[1mEpoch: 0, Batch: 156, Loss: 1.8663805723190308\u001b[0m\n",
      "\u001b[32m2024-07-11 16:47:31.101\u001b[0m | \u001b[1mINFO    \u001b[0m | \u001b[36m__main__\u001b[0m:\u001b[36mtrain\u001b[0m:\u001b[36m25\u001b[0m - \u001b[1mPer batch time: 1.106535775 sec\u001b[0m\n"
     ]
    },
    {
     "name": "stdout",
     "output_type": "stream",
     "text": [
      "torch.Size([1, 2, 200, 252]) torch.Size([1, 14, 200, 252])\n"
     ]
    },
    {
     "name": "stderr",
     "output_type": "stream",
     "text": [
      "\u001b[32m2024-07-11 16:47:32.533\u001b[0m | \u001b[1mINFO    \u001b[0m | \u001b[36m__main__\u001b[0m:\u001b[36mtrain\u001b[0m:\u001b[36m23\u001b[0m - \u001b[1mEpoch: 0, Batch: 157, Loss: 2.716661214828491\u001b[0m\n",
      "\u001b[32m2024-07-11 16:47:32.533\u001b[0m | \u001b[1mINFO    \u001b[0m | \u001b[36m__main__\u001b[0m:\u001b[36mtrain\u001b[0m:\u001b[36m25\u001b[0m - \u001b[1mPer batch time: 1.274069672 sec\u001b[0m\n"
     ]
    },
    {
     "name": "stdout",
     "output_type": "stream",
     "text": [
      "torch.Size([1, 2, 200, 252]) torch.Size([1, 14, 200, 252])\n"
     ]
    },
    {
     "name": "stderr",
     "output_type": "stream",
     "text": [
      "\u001b[32m2024-07-11 16:47:33.809\u001b[0m | \u001b[1mINFO    \u001b[0m | \u001b[36m__main__\u001b[0m:\u001b[36mtrain\u001b[0m:\u001b[36m23\u001b[0m - \u001b[1mEpoch: 0, Batch: 158, Loss: 3.6342906951904297\u001b[0m\n",
      "\u001b[32m2024-07-11 16:47:33.810\u001b[0m | \u001b[1mINFO    \u001b[0m | \u001b[36m__main__\u001b[0m:\u001b[36mtrain\u001b[0m:\u001b[36m25\u001b[0m - \u001b[1mPer batch time: 1.135576252 sec\u001b[0m\n"
     ]
    },
    {
     "name": "stdout",
     "output_type": "stream",
     "text": [
      "torch.Size([1, 2, 200, 252]) torch.Size([1, 14, 200, 252])\n"
     ]
    },
    {
     "name": "stderr",
     "output_type": "stream",
     "text": [
      "\u001b[32m2024-07-11 16:47:35.158\u001b[0m | \u001b[1mINFO    \u001b[0m | \u001b[36m__main__\u001b[0m:\u001b[36mtrain\u001b[0m:\u001b[36m23\u001b[0m - \u001b[1mEpoch: 0, Batch: 159, Loss: 2.181057929992676\u001b[0m\n",
      "\u001b[32m2024-07-11 16:47:35.158\u001b[0m | \u001b[1mINFO    \u001b[0m | \u001b[36m__main__\u001b[0m:\u001b[36mtrain\u001b[0m:\u001b[36m25\u001b[0m - \u001b[1mPer batch time: 1.100229678 sec\u001b[0m\n"
     ]
    },
    {
     "name": "stdout",
     "output_type": "stream",
     "text": [
      "torch.Size([1, 2, 200, 252]) torch.Size([1, 14, 200, 252])\n"
     ]
    },
    {
     "name": "stderr",
     "output_type": "stream",
     "text": [
      "\u001b[32m2024-07-11 16:47:36.567\u001b[0m | \u001b[1mINFO    \u001b[0m | \u001b[36m__main__\u001b[0m:\u001b[36mtrain\u001b[0m:\u001b[36m23\u001b[0m - \u001b[1mEpoch: 0, Batch: 160, Loss: 2.6614646911621094\u001b[0m\n",
      "\u001b[32m2024-07-11 16:47:36.568\u001b[0m | \u001b[1mINFO    \u001b[0m | \u001b[36m__main__\u001b[0m:\u001b[36mtrain\u001b[0m:\u001b[36m25\u001b[0m - \u001b[1mPer batch time: 1.212551691 sec\u001b[0m\n"
     ]
    },
    {
     "name": "stdout",
     "output_type": "stream",
     "text": [
      "torch.Size([1, 2, 200, 252]) torch.Size([1, 14, 200, 252])\n"
     ]
    },
    {
     "name": "stderr",
     "output_type": "stream",
     "text": [
      "\u001b[32m2024-07-11 16:47:37.898\u001b[0m | \u001b[1mINFO    \u001b[0m | \u001b[36m__main__\u001b[0m:\u001b[36mtrain\u001b[0m:\u001b[36m23\u001b[0m - \u001b[1mEpoch: 0, Batch: 161, Loss: 3.093440532684326\u001b[0m\n",
      "\u001b[32m2024-07-11 16:47:37.898\u001b[0m | \u001b[1mINFO    \u001b[0m | \u001b[36m__main__\u001b[0m:\u001b[36mtrain\u001b[0m:\u001b[36m25\u001b[0m - \u001b[1mPer batch time: 1.039471175 sec\u001b[0m\n"
     ]
    },
    {
     "name": "stdout",
     "output_type": "stream",
     "text": [
      "torch.Size([1, 2, 200, 252]) torch.Size([1, 14, 200, 252])\n"
     ]
    },
    {
     "name": "stderr",
     "output_type": "stream",
     "text": [
      "\u001b[32m2024-07-11 16:47:39.133\u001b[0m | \u001b[1mINFO    \u001b[0m | \u001b[36m__main__\u001b[0m:\u001b[36mtrain\u001b[0m:\u001b[36m23\u001b[0m - \u001b[1mEpoch: 0, Batch: 162, Loss: 2.287829875946045\u001b[0m\n",
      "\u001b[32m2024-07-11 16:47:39.134\u001b[0m | \u001b[1mINFO    \u001b[0m | \u001b[36m__main__\u001b[0m:\u001b[36mtrain\u001b[0m:\u001b[36m25\u001b[0m - \u001b[1mPer batch time: 1.160230052 sec\u001b[0m\n"
     ]
    },
    {
     "name": "stdout",
     "output_type": "stream",
     "text": [
      "torch.Size([1, 2, 200, 252]) torch.Size([1, 14, 200, 252])\n"
     ]
    },
    {
     "name": "stderr",
     "output_type": "stream",
     "text": [
      "\u001b[32m2024-07-11 16:47:40.482\u001b[0m | \u001b[1mINFO    \u001b[0m | \u001b[36m__main__\u001b[0m:\u001b[36mtrain\u001b[0m:\u001b[36m23\u001b[0m - \u001b[1mEpoch: 0, Batch: 163, Loss: 2.2135565280914307\u001b[0m\n",
      "\u001b[32m2024-07-11 16:47:40.483\u001b[0m | \u001b[1mINFO    \u001b[0m | \u001b[36m__main__\u001b[0m:\u001b[36mtrain\u001b[0m:\u001b[36m25\u001b[0m - \u001b[1mPer batch time: 1.148724098 sec\u001b[0m\n"
     ]
    },
    {
     "name": "stdout",
     "output_type": "stream",
     "text": [
      "torch.Size([1, 2, 200, 252]) torch.Size([1, 14, 200, 252])\n"
     ]
    },
    {
     "name": "stderr",
     "output_type": "stream",
     "text": [
      "\u001b[32m2024-07-11 16:47:41.762\u001b[0m | \u001b[1mINFO    \u001b[0m | \u001b[36m__main__\u001b[0m:\u001b[36mtrain\u001b[0m:\u001b[36m23\u001b[0m - \u001b[1mEpoch: 0, Batch: 164, Loss: 2.3084726333618164\u001b[0m\n",
      "\u001b[32m2024-07-11 16:47:41.762\u001b[0m | \u001b[1mINFO    \u001b[0m | \u001b[36m__main__\u001b[0m:\u001b[36mtrain\u001b[0m:\u001b[36m25\u001b[0m - \u001b[1mPer batch time: 1.062714026 sec\u001b[0m\n"
     ]
    },
    {
     "name": "stdout",
     "output_type": "stream",
     "text": [
      "torch.Size([1, 2, 200, 252]) torch.Size([1, 14, 200, 252])\n"
     ]
    },
    {
     "name": "stderr",
     "output_type": "stream",
     "text": [
      "\u001b[32m2024-07-11 16:47:42.970\u001b[0m | \u001b[1mINFO    \u001b[0m | \u001b[36m__main__\u001b[0m:\u001b[36mtrain\u001b[0m:\u001b[36m23\u001b[0m - \u001b[1mEpoch: 0, Batch: 165, Loss: 2.8144116401672363\u001b[0m\n",
      "\u001b[32m2024-07-11 16:47:42.970\u001b[0m | \u001b[1mINFO    \u001b[0m | \u001b[36m__main__\u001b[0m:\u001b[36mtrain\u001b[0m:\u001b[36m25\u001b[0m - \u001b[1mPer batch time: 1.068624273 sec\u001b[0m\n"
     ]
    },
    {
     "name": "stdout",
     "output_type": "stream",
     "text": [
      "torch.Size([1, 2, 200, 252]) torch.Size([1, 14, 200, 252])\n"
     ]
    },
    {
     "name": "stderr",
     "output_type": "stream",
     "text": [
      "\u001b[32m2024-07-11 16:47:44.124\u001b[0m | \u001b[1mINFO    \u001b[0m | \u001b[36m__main__\u001b[0m:\u001b[36mtrain\u001b[0m:\u001b[36m23\u001b[0m - \u001b[1mEpoch: 0, Batch: 166, Loss: 2.954678535461426\u001b[0m\n",
      "\u001b[32m2024-07-11 16:47:44.125\u001b[0m | \u001b[1mINFO    \u001b[0m | \u001b[36m__main__\u001b[0m:\u001b[36mtrain\u001b[0m:\u001b[36m25\u001b[0m - \u001b[1mPer batch time: 0.916755155 sec\u001b[0m\n"
     ]
    },
    {
     "name": "stdout",
     "output_type": "stream",
     "text": [
      "torch.Size([1, 2, 200, 252]) torch.Size([1, 14, 200, 252])\n"
     ]
    },
    {
     "name": "stderr",
     "output_type": "stream",
     "text": [
      "\u001b[32m2024-07-11 16:47:45.428\u001b[0m | \u001b[1mINFO    \u001b[0m | \u001b[36m__main__\u001b[0m:\u001b[36mtrain\u001b[0m:\u001b[36m23\u001b[0m - \u001b[1mEpoch: 0, Batch: 167, Loss: 3.934626817703247\u001b[0m\n",
      "\u001b[32m2024-07-11 16:47:45.428\u001b[0m | \u001b[1mINFO    \u001b[0m | \u001b[36m__main__\u001b[0m:\u001b[36mtrain\u001b[0m:\u001b[36m25\u001b[0m - \u001b[1mPer batch time: 1.137456354 sec\u001b[0m\n"
     ]
    },
    {
     "name": "stdout",
     "output_type": "stream",
     "text": [
      "torch.Size([1, 2, 200, 252]) torch.Size([1, 14, 200, 252])\n"
     ]
    },
    {
     "name": "stderr",
     "output_type": "stream",
     "text": [
      "\u001b[32m2024-07-11 16:47:47.018\u001b[0m | \u001b[1mINFO    \u001b[0m | \u001b[36m__main__\u001b[0m:\u001b[36mtrain\u001b[0m:\u001b[36m23\u001b[0m - \u001b[1mEpoch: 0, Batch: 168, Loss: 2.727348804473877\u001b[0m\n",
      "\u001b[32m2024-07-11 16:47:47.018\u001b[0m | \u001b[1mINFO    \u001b[0m | \u001b[36m__main__\u001b[0m:\u001b[36mtrain\u001b[0m:\u001b[36m25\u001b[0m - \u001b[1mPer batch time: 1.381839893 sec\u001b[0m\n"
     ]
    },
    {
     "name": "stdout",
     "output_type": "stream",
     "text": [
      "torch.Size([1, 2, 200, 252]) torch.Size([1, 14, 200, 252])\n"
     ]
    },
    {
     "name": "stderr",
     "output_type": "stream",
     "text": [
      "\u001b[32m2024-07-11 16:47:48.347\u001b[0m | \u001b[1mINFO    \u001b[0m | \u001b[36m__main__\u001b[0m:\u001b[36mtrain\u001b[0m:\u001b[36m23\u001b[0m - \u001b[1mEpoch: 0, Batch: 169, Loss: 1.9040796756744385\u001b[0m\n",
      "\u001b[32m2024-07-11 16:47:48.348\u001b[0m | \u001b[1mINFO    \u001b[0m | \u001b[36m__main__\u001b[0m:\u001b[36mtrain\u001b[0m:\u001b[36m25\u001b[0m - \u001b[1mPer batch time: 1.152927982 sec\u001b[0m\n"
     ]
    },
    {
     "name": "stdout",
     "output_type": "stream",
     "text": [
      "torch.Size([1, 2, 200, 252]) torch.Size([1, 14, 200, 252])\n"
     ]
    },
    {
     "name": "stderr",
     "output_type": "stream",
     "text": [
      "\u001b[32m2024-07-11 16:47:49.599\u001b[0m | \u001b[1mINFO    \u001b[0m | \u001b[36m__main__\u001b[0m:\u001b[36mtrain\u001b[0m:\u001b[36m23\u001b[0m - \u001b[1mEpoch: 0, Batch: 170, Loss: 2.9318699836730957\u001b[0m\n",
      "\u001b[32m2024-07-11 16:47:49.600\u001b[0m | \u001b[1mINFO    \u001b[0m | \u001b[36m__main__\u001b[0m:\u001b[36mtrain\u001b[0m:\u001b[36m25\u001b[0m - \u001b[1mPer batch time: 1.108693398 sec\u001b[0m\n"
     ]
    },
    {
     "name": "stdout",
     "output_type": "stream",
     "text": [
      "torch.Size([1, 2, 200, 252]) torch.Size([1, 14, 200, 252])\n"
     ]
    },
    {
     "name": "stderr",
     "output_type": "stream",
     "text": [
      "\u001b[32m2024-07-11 16:47:51.075\u001b[0m | \u001b[1mINFO    \u001b[0m | \u001b[36m__main__\u001b[0m:\u001b[36mtrain\u001b[0m:\u001b[36m23\u001b[0m - \u001b[1mEpoch: 0, Batch: 171, Loss: 3.2233805656433105\u001b[0m\n",
      "\u001b[32m2024-07-11 16:47:51.075\u001b[0m | \u001b[1mINFO    \u001b[0m | \u001b[36m__main__\u001b[0m:\u001b[36mtrain\u001b[0m:\u001b[36m25\u001b[0m - \u001b[1mPer batch time: 1.32589913 sec\u001b[0m\n"
     ]
    },
    {
     "name": "stdout",
     "output_type": "stream",
     "text": [
      "torch.Size([1, 2, 200, 252]) torch.Size([1, 14, 200, 252])\n"
     ]
    },
    {
     "name": "stderr",
     "output_type": "stream",
     "text": [
      "\u001b[32m2024-07-11 16:47:52.494\u001b[0m | \u001b[1mINFO    \u001b[0m | \u001b[36m__main__\u001b[0m:\u001b[36mtrain\u001b[0m:\u001b[36m23\u001b[0m - \u001b[1mEpoch: 0, Batch: 172, Loss: 2.8938446044921875\u001b[0m\n",
      "\u001b[32m2024-07-11 16:47:52.495\u001b[0m | \u001b[1mINFO    \u001b[0m | \u001b[36m__main__\u001b[0m:\u001b[36mtrain\u001b[0m:\u001b[36m25\u001b[0m - \u001b[1mPer batch time: 1.261335598 sec\u001b[0m\n"
     ]
    },
    {
     "name": "stdout",
     "output_type": "stream",
     "text": [
      "torch.Size([1, 2, 200, 252]) torch.Size([1, 14, 200, 252])\n"
     ]
    },
    {
     "name": "stderr",
     "output_type": "stream",
     "text": [
      "\u001b[32m2024-07-11 16:47:53.961\u001b[0m | \u001b[1mINFO    \u001b[0m | \u001b[36m__main__\u001b[0m:\u001b[36mtrain\u001b[0m:\u001b[36m23\u001b[0m - \u001b[1mEpoch: 0, Batch: 173, Loss: 3.0548927783966064\u001b[0m\n",
      "\u001b[32m2024-07-11 16:47:53.962\u001b[0m | \u001b[1mINFO    \u001b[0m | \u001b[36m__main__\u001b[0m:\u001b[36mtrain\u001b[0m:\u001b[36m25\u001b[0m - \u001b[1mPer batch time: 1.290820827 sec\u001b[0m\n"
     ]
    },
    {
     "name": "stdout",
     "output_type": "stream",
     "text": [
      "torch.Size([1, 2, 200, 252]) torch.Size([1, 14, 200, 252])\n"
     ]
    },
    {
     "name": "stderr",
     "output_type": "stream",
     "text": [
      "\u001b[32m2024-07-11 16:47:55.288\u001b[0m | \u001b[1mINFO    \u001b[0m | \u001b[36m__main__\u001b[0m:\u001b[36mtrain\u001b[0m:\u001b[36m23\u001b[0m - \u001b[1mEpoch: 0, Batch: 174, Loss: 3.384556770324707\u001b[0m\n",
      "\u001b[32m2024-07-11 16:47:55.289\u001b[0m | \u001b[1mINFO    \u001b[0m | \u001b[36m__main__\u001b[0m:\u001b[36mtrain\u001b[0m:\u001b[36m25\u001b[0m - \u001b[1mPer batch time: 1.189849381 sec\u001b[0m\n"
     ]
    },
    {
     "name": "stdout",
     "output_type": "stream",
     "text": [
      "torch.Size([1, 2, 200, 252]) torch.Size([1, 14, 200, 252])\n"
     ]
    },
    {
     "name": "stderr",
     "output_type": "stream",
     "text": [
      "\u001b[32m2024-07-11 16:47:56.557\u001b[0m | \u001b[1mINFO    \u001b[0m | \u001b[36m__main__\u001b[0m:\u001b[36mtrain\u001b[0m:\u001b[36m23\u001b[0m - \u001b[1mEpoch: 0, Batch: 175, Loss: 2.6715903282165527\u001b[0m\n",
      "\u001b[32m2024-07-11 16:47:56.557\u001b[0m | \u001b[1mINFO    \u001b[0m | \u001b[36m__main__\u001b[0m:\u001b[36mtrain\u001b[0m:\u001b[36m25\u001b[0m - \u001b[1mPer batch time: 1.1303919 sec\u001b[0m\n"
     ]
    },
    {
     "name": "stdout",
     "output_type": "stream",
     "text": [
      "torch.Size([1, 2, 200, 252]) torch.Size([1, 14, 200, 252])\n"
     ]
    },
    {
     "name": "stderr",
     "output_type": "stream",
     "text": [
      "\u001b[32m2024-07-11 16:47:58.007\u001b[0m | \u001b[1mINFO    \u001b[0m | \u001b[36m__main__\u001b[0m:\u001b[36mtrain\u001b[0m:\u001b[36m23\u001b[0m - \u001b[1mEpoch: 0, Batch: 176, Loss: 2.6023309230804443\u001b[0m\n",
      "\u001b[32m2024-07-11 16:47:58.007\u001b[0m | \u001b[1mINFO    \u001b[0m | \u001b[36m__main__\u001b[0m:\u001b[36mtrain\u001b[0m:\u001b[36m25\u001b[0m - \u001b[1mPer batch time: 1.24040803 sec\u001b[0m\n"
     ]
    },
    {
     "name": "stdout",
     "output_type": "stream",
     "text": [
      "torch.Size([1, 2, 200, 252]) torch.Size([1, 14, 200, 252])\n"
     ]
    },
    {
     "name": "stderr",
     "output_type": "stream",
     "text": [
      "\u001b[32m2024-07-11 16:47:59.523\u001b[0m | \u001b[1mINFO    \u001b[0m | \u001b[36m__main__\u001b[0m:\u001b[36mtrain\u001b[0m:\u001b[36m23\u001b[0m - \u001b[1mEpoch: 0, Batch: 177, Loss: 3.125117301940918\u001b[0m\n",
      "\u001b[32m2024-07-11 16:47:59.524\u001b[0m | \u001b[1mINFO    \u001b[0m | \u001b[36m__main__\u001b[0m:\u001b[36mtrain\u001b[0m:\u001b[36m25\u001b[0m - \u001b[1mPer batch time: 1.350426979 sec\u001b[0m\n"
     ]
    },
    {
     "name": "stdout",
     "output_type": "stream",
     "text": [
      "torch.Size([1, 2, 200, 252]) torch.Size([1, 14, 200, 252])\n"
     ]
    },
    {
     "name": "stderr",
     "output_type": "stream",
     "text": [
      "\u001b[32m2024-07-11 16:48:00.954\u001b[0m | \u001b[1mINFO    \u001b[0m | \u001b[36m__main__\u001b[0m:\u001b[36mtrain\u001b[0m:\u001b[36m23\u001b[0m - \u001b[1mEpoch: 0, Batch: 178, Loss: 1.9561426639556885\u001b[0m\n",
      "\u001b[32m2024-07-11 16:48:00.954\u001b[0m | \u001b[1mINFO    \u001b[0m | \u001b[36m__main__\u001b[0m:\u001b[36mtrain\u001b[0m:\u001b[36m25\u001b[0m - \u001b[1mPer batch time: 1.26826394 sec\u001b[0m\n"
     ]
    },
    {
     "name": "stdout",
     "output_type": "stream",
     "text": [
      "torch.Size([1, 2, 200, 252]) torch.Size([1, 14, 200, 252])\n"
     ]
    },
    {
     "name": "stderr",
     "output_type": "stream",
     "text": [
      "\u001b[32m2024-07-11 16:48:02.380\u001b[0m | \u001b[1mINFO    \u001b[0m | \u001b[36m__main__\u001b[0m:\u001b[36mtrain\u001b[0m:\u001b[36m23\u001b[0m - \u001b[1mEpoch: 0, Batch: 179, Loss: 2.683161973953247\u001b[0m\n",
      "\u001b[32m2024-07-11 16:48:02.380\u001b[0m | \u001b[1mINFO    \u001b[0m | \u001b[36m__main__\u001b[0m:\u001b[36mtrain\u001b[0m:\u001b[36m25\u001b[0m - \u001b[1mPer batch time: 1.259942185 sec\u001b[0m\n"
     ]
    },
    {
     "name": "stdout",
     "output_type": "stream",
     "text": [
      "torch.Size([1, 2, 200, 252]) torch.Size([1, 14, 200, 252])\n"
     ]
    },
    {
     "name": "stderr",
     "output_type": "stream",
     "text": [
      "\u001b[32m2024-07-11 16:48:03.854\u001b[0m | \u001b[1mINFO    \u001b[0m | \u001b[36m__main__\u001b[0m:\u001b[36mtrain\u001b[0m:\u001b[36m23\u001b[0m - \u001b[1mEpoch: 0, Batch: 180, Loss: 3.322299003601074\u001b[0m\n",
      "\u001b[32m2024-07-11 16:48:03.855\u001b[0m | \u001b[1mINFO    \u001b[0m | \u001b[36m__main__\u001b[0m:\u001b[36mtrain\u001b[0m:\u001b[36m25\u001b[0m - \u001b[1mPer batch time: 1.24530664 sec\u001b[0m\n"
     ]
    },
    {
     "name": "stdout",
     "output_type": "stream",
     "text": [
      "torch.Size([1, 2, 200, 252]) torch.Size([1, 14, 200, 252])\n"
     ]
    },
    {
     "name": "stderr",
     "output_type": "stream",
     "text": [
      "\u001b[32m2024-07-11 16:48:05.257\u001b[0m | \u001b[1mINFO    \u001b[0m | \u001b[36m__main__\u001b[0m:\u001b[36mtrain\u001b[0m:\u001b[36m23\u001b[0m - \u001b[1mEpoch: 0, Batch: 181, Loss: 2.236881732940674\u001b[0m\n",
      "\u001b[32m2024-07-11 16:48:05.257\u001b[0m | \u001b[1mINFO    \u001b[0m | \u001b[36m__main__\u001b[0m:\u001b[36mtrain\u001b[0m:\u001b[36m25\u001b[0m - \u001b[1mPer batch time: 1.267525016 sec\u001b[0m\n"
     ]
    },
    {
     "name": "stdout",
     "output_type": "stream",
     "text": [
      "torch.Size([1, 2, 200, 252]) torch.Size([1, 14, 200, 252])\n"
     ]
    },
    {
     "name": "stderr",
     "output_type": "stream",
     "text": [
      "\u001b[32m2024-07-11 16:48:06.674\u001b[0m | \u001b[1mINFO    \u001b[0m | \u001b[36m__main__\u001b[0m:\u001b[36mtrain\u001b[0m:\u001b[36m23\u001b[0m - \u001b[1mEpoch: 0, Batch: 182, Loss: 2.590207576751709\u001b[0m\n",
      "\u001b[32m2024-07-11 16:48:06.675\u001b[0m | \u001b[1mINFO    \u001b[0m | \u001b[36m__main__\u001b[0m:\u001b[36mtrain\u001b[0m:\u001b[36m25\u001b[0m - \u001b[1mPer batch time: 1.234099468 sec\u001b[0m\n"
     ]
    },
    {
     "name": "stdout",
     "output_type": "stream",
     "text": [
      "torch.Size([1, 2, 200, 252]) torch.Size([1, 14, 200, 252])\n"
     ]
    },
    {
     "name": "stderr",
     "output_type": "stream",
     "text": [
      "\u001b[32m2024-07-11 16:48:07.973\u001b[0m | \u001b[1mINFO    \u001b[0m | \u001b[36m__main__\u001b[0m:\u001b[36mtrain\u001b[0m:\u001b[36m23\u001b[0m - \u001b[1mEpoch: 0, Batch: 183, Loss: 3.059937000274658\u001b[0m\n",
      "\u001b[32m2024-07-11 16:48:07.973\u001b[0m | \u001b[1mINFO    \u001b[0m | \u001b[36m__main__\u001b[0m:\u001b[36mtrain\u001b[0m:\u001b[36m25\u001b[0m - \u001b[1mPer batch time: 1.212501864 sec\u001b[0m\n"
     ]
    },
    {
     "name": "stdout",
     "output_type": "stream",
     "text": [
      "torch.Size([1, 2, 200, 252]) torch.Size([1, 14, 200, 252])\n"
     ]
    },
    {
     "name": "stderr",
     "output_type": "stream",
     "text": [
      "\u001b[32m2024-07-11 16:48:09.143\u001b[0m | \u001b[1mINFO    \u001b[0m | \u001b[36m__main__\u001b[0m:\u001b[36mtrain\u001b[0m:\u001b[36m23\u001b[0m - \u001b[1mEpoch: 0, Batch: 184, Loss: 3.0571770668029785\u001b[0m\n",
      "\u001b[32m2024-07-11 16:48:09.144\u001b[0m | \u001b[1mINFO    \u001b[0m | \u001b[36m__main__\u001b[0m:\u001b[36mtrain\u001b[0m:\u001b[36m25\u001b[0m - \u001b[1mPer batch time: 0.9954643 sec\u001b[0m\n"
     ]
    },
    {
     "name": "stdout",
     "output_type": "stream",
     "text": [
      "torch.Size([1, 2, 200, 252]) torch.Size([1, 14, 200, 252])\n"
     ]
    },
    {
     "name": "stderr",
     "output_type": "stream",
     "text": [
      "\u001b[32m2024-07-11 16:48:10.624\u001b[0m | \u001b[1mINFO    \u001b[0m | \u001b[36m__main__\u001b[0m:\u001b[36mtrain\u001b[0m:\u001b[36m23\u001b[0m - \u001b[1mEpoch: 0, Batch: 185, Loss: 3.2280778884887695\u001b[0m\n",
      "\u001b[32m2024-07-11 16:48:10.625\u001b[0m | \u001b[1mINFO    \u001b[0m | \u001b[36m__main__\u001b[0m:\u001b[36mtrain\u001b[0m:\u001b[36m25\u001b[0m - \u001b[1mPer batch time: 1.322768019 sec\u001b[0m\n"
     ]
    },
    {
     "name": "stdout",
     "output_type": "stream",
     "text": [
      "torch.Size([1, 2, 200, 252]) torch.Size([1, 14, 200, 252])\n"
     ]
    },
    {
     "name": "stderr",
     "output_type": "stream",
     "text": [
      "\u001b[32m2024-07-11 16:48:12.001\u001b[0m | \u001b[1mINFO    \u001b[0m | \u001b[36m__main__\u001b[0m:\u001b[36mtrain\u001b[0m:\u001b[36m23\u001b[0m - \u001b[1mEpoch: 0, Batch: 186, Loss: 2.893220901489258\u001b[0m\n",
      "\u001b[32m2024-07-11 16:48:12.002\u001b[0m | \u001b[1mINFO    \u001b[0m | \u001b[36m__main__\u001b[0m:\u001b[36mtrain\u001b[0m:\u001b[36m25\u001b[0m - \u001b[1mPer batch time: 1.219043151 sec\u001b[0m\n"
     ]
    },
    {
     "name": "stdout",
     "output_type": "stream",
     "text": [
      "torch.Size([1, 2, 200, 252]) torch.Size([1, 14, 200, 252])\n"
     ]
    },
    {
     "name": "stderr",
     "output_type": "stream",
     "text": [
      "\u001b[32m2024-07-11 16:48:13.334\u001b[0m | \u001b[1mINFO    \u001b[0m | \u001b[36m__main__\u001b[0m:\u001b[36mtrain\u001b[0m:\u001b[36m23\u001b[0m - \u001b[1mEpoch: 0, Batch: 187, Loss: 3.2578697204589844\u001b[0m\n",
      "\u001b[32m2024-07-11 16:48:13.335\u001b[0m | \u001b[1mINFO    \u001b[0m | \u001b[36m__main__\u001b[0m:\u001b[36mtrain\u001b[0m:\u001b[36m25\u001b[0m - \u001b[1mPer batch time: 1.185180113 sec\u001b[0m\n"
     ]
    },
    {
     "name": "stdout",
     "output_type": "stream",
     "text": [
      "torch.Size([1, 2, 200, 252]) torch.Size([1, 14, 200, 252])\n"
     ]
    },
    {
     "name": "stderr",
     "output_type": "stream",
     "text": [
      "\u001b[32m2024-07-11 16:48:14.785\u001b[0m | \u001b[1mINFO    \u001b[0m | \u001b[36m__main__\u001b[0m:\u001b[36mtrain\u001b[0m:\u001b[36m23\u001b[0m - \u001b[1mEpoch: 0, Batch: 188, Loss: 2.442225694656372\u001b[0m\n",
      "\u001b[32m2024-07-11 16:48:14.786\u001b[0m | \u001b[1mINFO    \u001b[0m | \u001b[36m__main__\u001b[0m:\u001b[36mtrain\u001b[0m:\u001b[36m25\u001b[0m - \u001b[1mPer batch time: 1.237835951 sec\u001b[0m\n"
     ]
    },
    {
     "name": "stdout",
     "output_type": "stream",
     "text": [
      "torch.Size([1, 2, 200, 252]) torch.Size([1, 14, 200, 252])\n"
     ]
    },
    {
     "name": "stderr",
     "output_type": "stream",
     "text": [
      "\u001b[32m2024-07-11 16:48:16.075\u001b[0m | \u001b[1mINFO    \u001b[0m | \u001b[36m__main__\u001b[0m:\u001b[36mtrain\u001b[0m:\u001b[36m23\u001b[0m - \u001b[1mEpoch: 0, Batch: 189, Loss: 1.8589162826538086\u001b[0m\n",
      "\u001b[32m2024-07-11 16:48:16.075\u001b[0m | \u001b[1mINFO    \u001b[0m | \u001b[36m__main__\u001b[0m:\u001b[36mtrain\u001b[0m:\u001b[36m25\u001b[0m - \u001b[1mPer batch time: 1.10900864 sec\u001b[0m\n"
     ]
    },
    {
     "name": "stdout",
     "output_type": "stream",
     "text": [
      "torch.Size([1, 2, 200, 252]) torch.Size([1, 14, 200, 252])\n"
     ]
    },
    {
     "name": "stderr",
     "output_type": "stream",
     "text": [
      "\u001b[32m2024-07-11 16:48:17.366\u001b[0m | \u001b[1mINFO    \u001b[0m | \u001b[36m__main__\u001b[0m:\u001b[36mtrain\u001b[0m:\u001b[36m23\u001b[0m - \u001b[1mEpoch: 0, Batch: 190, Loss: 2.694207191467285\u001b[0m\n",
      "\u001b[32m2024-07-11 16:48:17.367\u001b[0m | \u001b[1mINFO    \u001b[0m | \u001b[36m__main__\u001b[0m:\u001b[36mtrain\u001b[0m:\u001b[36m25\u001b[0m - \u001b[1mPer batch time: 1.082030403 sec\u001b[0m\n"
     ]
    },
    {
     "name": "stdout",
     "output_type": "stream",
     "text": [
      "torch.Size([1, 2, 200, 252]) torch.Size([1, 14, 200, 252])\n"
     ]
    },
    {
     "name": "stderr",
     "output_type": "stream",
     "text": [
      "\u001b[32m2024-07-11 16:48:18.773\u001b[0m | \u001b[1mINFO    \u001b[0m | \u001b[36m__main__\u001b[0m:\u001b[36mtrain\u001b[0m:\u001b[36m23\u001b[0m - \u001b[1mEpoch: 0, Batch: 191, Loss: 2.705101728439331\u001b[0m\n",
      "\u001b[32m2024-07-11 16:48:18.774\u001b[0m | \u001b[1mINFO    \u001b[0m | \u001b[36m__main__\u001b[0m:\u001b[36mtrain\u001b[0m:\u001b[36m25\u001b[0m - \u001b[1mPer batch time: 1.290445763 sec\u001b[0m\n"
     ]
    },
    {
     "name": "stdout",
     "output_type": "stream",
     "text": [
      "torch.Size([1, 2, 200, 252]) torch.Size([1, 14, 200, 252])\n"
     ]
    },
    {
     "name": "stderr",
     "output_type": "stream",
     "text": [
      "\u001b[32m2024-07-11 16:48:20.088\u001b[0m | \u001b[1mINFO    \u001b[0m | \u001b[36m__main__\u001b[0m:\u001b[36mtrain\u001b[0m:\u001b[36m23\u001b[0m - \u001b[1mEpoch: 0, Batch: 192, Loss: 1.895625352859497\u001b[0m\n",
      "\u001b[32m2024-07-11 16:48:20.088\u001b[0m | \u001b[1mINFO    \u001b[0m | \u001b[36m__main__\u001b[0m:\u001b[36mtrain\u001b[0m:\u001b[36m25\u001b[0m - \u001b[1mPer batch time: 1.200273538 sec\u001b[0m\n"
     ]
    },
    {
     "name": "stdout",
     "output_type": "stream",
     "text": [
      "torch.Size([1, 2, 200, 252]) torch.Size([1, 14, 200, 252])\n"
     ]
    },
    {
     "name": "stderr",
     "output_type": "stream",
     "text": [
      "\u001b[32m2024-07-11 16:48:21.334\u001b[0m | \u001b[1mINFO    \u001b[0m | \u001b[36m__main__\u001b[0m:\u001b[36mtrain\u001b[0m:\u001b[36m23\u001b[0m - \u001b[1mEpoch: 0, Batch: 193, Loss: 1.035582184791565\u001b[0m\n",
      "\u001b[32m2024-07-11 16:48:21.335\u001b[0m | \u001b[1mINFO    \u001b[0m | \u001b[36m__main__\u001b[0m:\u001b[36mtrain\u001b[0m:\u001b[36m25\u001b[0m - \u001b[1mPer batch time: 1.128655397 sec\u001b[0m\n"
     ]
    },
    {
     "name": "stdout",
     "output_type": "stream",
     "text": [
      "torch.Size([1, 2, 200, 252]) torch.Size([1, 14, 200, 252])\n"
     ]
    },
    {
     "name": "stderr",
     "output_type": "stream",
     "text": [
      "\u001b[32m2024-07-11 16:48:22.690\u001b[0m | \u001b[1mINFO    \u001b[0m | \u001b[36m__main__\u001b[0m:\u001b[36mtrain\u001b[0m:\u001b[36m23\u001b[0m - \u001b[1mEpoch: 0, Batch: 194, Loss: 2.5384609699249268\u001b[0m\n",
      "\u001b[32m2024-07-11 16:48:22.691\u001b[0m | \u001b[1mINFO    \u001b[0m | \u001b[36m__main__\u001b[0m:\u001b[36mtrain\u001b[0m:\u001b[36m25\u001b[0m - \u001b[1mPer batch time: 1.186421166 sec\u001b[0m\n"
     ]
    },
    {
     "name": "stdout",
     "output_type": "stream",
     "text": [
      "torch.Size([1, 2, 200, 252]) torch.Size([1, 14, 200, 252])\n"
     ]
    },
    {
     "name": "stderr",
     "output_type": "stream",
     "text": [
      "\u001b[32m2024-07-11 16:48:24.131\u001b[0m | \u001b[1mINFO    \u001b[0m | \u001b[36m__main__\u001b[0m:\u001b[36mtrain\u001b[0m:\u001b[36m23\u001b[0m - \u001b[1mEpoch: 0, Batch: 195, Loss: 2.1912760734558105\u001b[0m\n",
      "\u001b[32m2024-07-11 16:48:24.132\u001b[0m | \u001b[1mINFO    \u001b[0m | \u001b[36m__main__\u001b[0m:\u001b[36mtrain\u001b[0m:\u001b[36m25\u001b[0m - \u001b[1mPer batch time: 1.191288007 sec\u001b[0m\n"
     ]
    },
    {
     "name": "stdout",
     "output_type": "stream",
     "text": [
      "torch.Size([1, 2, 200, 252]) torch.Size([1, 14, 200, 252])\n"
     ]
    },
    {
     "name": "stderr",
     "output_type": "stream",
     "text": [
      "\u001b[32m2024-07-11 16:48:25.431\u001b[0m | \u001b[1mINFO    \u001b[0m | \u001b[36m__main__\u001b[0m:\u001b[36mtrain\u001b[0m:\u001b[36m23\u001b[0m - \u001b[1mEpoch: 0, Batch: 196, Loss: 1.3445227146148682\u001b[0m\n",
      "\u001b[32m2024-07-11 16:48:25.432\u001b[0m | \u001b[1mINFO    \u001b[0m | \u001b[36m__main__\u001b[0m:\u001b[36mtrain\u001b[0m:\u001b[36m25\u001b[0m - \u001b[1mPer batch time: 1.166074652 sec\u001b[0m\n"
     ]
    },
    {
     "name": "stdout",
     "output_type": "stream",
     "text": [
      "torch.Size([1, 2, 200, 252]) torch.Size([1, 14, 200, 252])\n"
     ]
    },
    {
     "name": "stderr",
     "output_type": "stream",
     "text": [
      "\u001b[32m2024-07-11 16:48:26.716\u001b[0m | \u001b[1mINFO    \u001b[0m | \u001b[36m__main__\u001b[0m:\u001b[36mtrain\u001b[0m:\u001b[36m23\u001b[0m - \u001b[1mEpoch: 0, Batch: 197, Loss: 1.7716835737228394\u001b[0m\n",
      "\u001b[32m2024-07-11 16:48:26.717\u001b[0m | \u001b[1mINFO    \u001b[0m | \u001b[36m__main__\u001b[0m:\u001b[36mtrain\u001b[0m:\u001b[36m25\u001b[0m - \u001b[1mPer batch time: 1.117975144 sec\u001b[0m\n"
     ]
    },
    {
     "name": "stdout",
     "output_type": "stream",
     "text": [
      "torch.Size([1, 2, 200, 252]) torch.Size([1, 14, 200, 252])\n"
     ]
    },
    {
     "name": "stderr",
     "output_type": "stream",
     "text": [
      "\u001b[32m2024-07-11 16:48:28.127\u001b[0m | \u001b[1mINFO    \u001b[0m | \u001b[36m__main__\u001b[0m:\u001b[36mtrain\u001b[0m:\u001b[36m23\u001b[0m - \u001b[1mEpoch: 0, Batch: 198, Loss: 3.1736605167388916\u001b[0m\n",
      "\u001b[32m2024-07-11 16:48:28.128\u001b[0m | \u001b[1mINFO    \u001b[0m | \u001b[36m__main__\u001b[0m:\u001b[36mtrain\u001b[0m:\u001b[36m25\u001b[0m - \u001b[1mPer batch time: 1.269370209 sec\u001b[0m\n"
     ]
    },
    {
     "name": "stdout",
     "output_type": "stream",
     "text": [
      "torch.Size([1, 2, 200, 252]) torch.Size([1, 14, 200, 252])\n"
     ]
    },
    {
     "name": "stderr",
     "output_type": "stream",
     "text": [
      "\u001b[32m2024-07-11 16:48:29.468\u001b[0m | \u001b[1mINFO    \u001b[0m | \u001b[36m__main__\u001b[0m:\u001b[36mtrain\u001b[0m:\u001b[36m23\u001b[0m - \u001b[1mEpoch: 0, Batch: 199, Loss: 2.9861788749694824\u001b[0m\n",
      "\u001b[32m2024-07-11 16:48:29.469\u001b[0m | \u001b[1mINFO    \u001b[0m | \u001b[36m__main__\u001b[0m:\u001b[36mtrain\u001b[0m:\u001b[36m25\u001b[0m - \u001b[1mPer batch time: 1.158487077 sec\u001b[0m\n"
     ]
    },
    {
     "name": "stdout",
     "output_type": "stream",
     "text": [
      "torch.Size([1, 2, 200, 252]) torch.Size([1, 14, 200, 252])\n"
     ]
    },
    {
     "name": "stderr",
     "output_type": "stream",
     "text": [
      "\u001b[32m2024-07-11 16:48:30.823\u001b[0m | \u001b[1mINFO    \u001b[0m | \u001b[36m__main__\u001b[0m:\u001b[36mtrain\u001b[0m:\u001b[36m23\u001b[0m - \u001b[1mEpoch: 0, Batch: 200, Loss: 2.6882753372192383\u001b[0m\n",
      "\u001b[32m2024-07-11 16:48:30.823\u001b[0m | \u001b[1mINFO    \u001b[0m | \u001b[36m__main__\u001b[0m:\u001b[36mtrain\u001b[0m:\u001b[36m25\u001b[0m - \u001b[1mPer batch time: 1.197310598 sec\u001b[0m\n"
     ]
    },
    {
     "name": "stdout",
     "output_type": "stream",
     "text": [
      "torch.Size([1, 2, 200, 252]) torch.Size([1, 14, 200, 252])\n"
     ]
    },
    {
     "name": "stderr",
     "output_type": "stream",
     "text": [
      "\u001b[32m2024-07-11 16:48:32.154\u001b[0m | \u001b[1mINFO    \u001b[0m | \u001b[36m__main__\u001b[0m:\u001b[36mtrain\u001b[0m:\u001b[36m23\u001b[0m - \u001b[1mEpoch: 0, Batch: 201, Loss: 3.5819404125213623\u001b[0m\n",
      "\u001b[32m2024-07-11 16:48:32.155\u001b[0m | \u001b[1mINFO    \u001b[0m | \u001b[36m__main__\u001b[0m:\u001b[36mtrain\u001b[0m:\u001b[36m25\u001b[0m - \u001b[1mPer batch time: 1.15581585 sec\u001b[0m\n"
     ]
    },
    {
     "name": "stdout",
     "output_type": "stream",
     "text": [
      "torch.Size([1, 2, 200, 252]) torch.Size([1, 14, 200, 252])\n"
     ]
    },
    {
     "name": "stderr",
     "output_type": "stream",
     "text": [
      "\u001b[32m2024-07-11 16:48:33.370\u001b[0m | \u001b[1mINFO    \u001b[0m | \u001b[36m__main__\u001b[0m:\u001b[36mtrain\u001b[0m:\u001b[36m23\u001b[0m - \u001b[1mEpoch: 0, Batch: 202, Loss: 3.11297869682312\u001b[0m\n",
      "\u001b[32m2024-07-11 16:48:33.370\u001b[0m | \u001b[1mINFO    \u001b[0m | \u001b[36m__main__\u001b[0m:\u001b[36mtrain\u001b[0m:\u001b[36m25\u001b[0m - \u001b[1mPer batch time: 1.117145075 sec\u001b[0m\n"
     ]
    },
    {
     "name": "stdout",
     "output_type": "stream",
     "text": [
      "torch.Size([1, 2, 200, 252]) torch.Size([1, 14, 200, 252])\n"
     ]
    },
    {
     "name": "stderr",
     "output_type": "stream",
     "text": [
      "\u001b[32m2024-07-11 16:48:34.731\u001b[0m | \u001b[1mINFO    \u001b[0m | \u001b[36m__main__\u001b[0m:\u001b[36mtrain\u001b[0m:\u001b[36m23\u001b[0m - \u001b[1mEpoch: 0, Batch: 203, Loss: 3.622190475463867\u001b[0m\n",
      "\u001b[32m2024-07-11 16:48:34.732\u001b[0m | \u001b[1mINFO    \u001b[0m | \u001b[36m__main__\u001b[0m:\u001b[36mtrain\u001b[0m:\u001b[36m25\u001b[0m - \u001b[1mPer batch time: 1.234526784 sec\u001b[0m\n"
     ]
    },
    {
     "name": "stdout",
     "output_type": "stream",
     "text": [
      "torch.Size([1, 2, 200, 252]) torch.Size([1, 14, 200, 252])\n"
     ]
    },
    {
     "name": "stderr",
     "output_type": "stream",
     "text": [
      "\u001b[32m2024-07-11 16:48:35.708\u001b[0m | \u001b[1mINFO    \u001b[0m | \u001b[36m__main__\u001b[0m:\u001b[36mtrain\u001b[0m:\u001b[36m23\u001b[0m - \u001b[1mEpoch: 0, Batch: 204, Loss: 3.395189046859741\u001b[0m\n",
      "\u001b[32m2024-07-11 16:48:35.709\u001b[0m | \u001b[1mINFO    \u001b[0m | \u001b[36m__main__\u001b[0m:\u001b[36mtrain\u001b[0m:\u001b[36m25\u001b[0m - \u001b[1mPer batch time: 0.845622322 sec\u001b[0m\n"
     ]
    },
    {
     "name": "stdout",
     "output_type": "stream",
     "text": [
      "torch.Size([1, 2, 200, 252]) torch.Size([1, 14, 200, 252])\n"
     ]
    },
    {
     "name": "stderr",
     "output_type": "stream",
     "text": [
      "\u001b[32m2024-07-11 16:48:37.070\u001b[0m | \u001b[1mINFO    \u001b[0m | \u001b[36m__main__\u001b[0m:\u001b[36mtrain\u001b[0m:\u001b[36m23\u001b[0m - \u001b[1mEpoch: 0, Batch: 205, Loss: 2.619884490966797\u001b[0m\n",
      "\u001b[32m2024-07-11 16:48:37.071\u001b[0m | \u001b[1mINFO    \u001b[0m | \u001b[36m__main__\u001b[0m:\u001b[36mtrain\u001b[0m:\u001b[36m25\u001b[0m - \u001b[1mPer batch time: 1.145047139 sec\u001b[0m\n"
     ]
    },
    {
     "name": "stdout",
     "output_type": "stream",
     "text": [
      "torch.Size([1, 2, 200, 252]) torch.Size([1, 14, 200, 252])\n"
     ]
    },
    {
     "name": "stderr",
     "output_type": "stream",
     "text": [
      "\u001b[32m2024-07-11 16:48:38.470\u001b[0m | \u001b[1mINFO    \u001b[0m | \u001b[36m__main__\u001b[0m:\u001b[36mtrain\u001b[0m:\u001b[36m23\u001b[0m - \u001b[1mEpoch: 0, Batch: 206, Loss: 2.3587875366210938\u001b[0m\n",
      "\u001b[32m2024-07-11 16:48:38.471\u001b[0m | \u001b[1mINFO    \u001b[0m | \u001b[36m__main__\u001b[0m:\u001b[36mtrain\u001b[0m:\u001b[36m25\u001b[0m - \u001b[1mPer batch time: 1.237283233 sec\u001b[0m\n"
     ]
    },
    {
     "name": "stdout",
     "output_type": "stream",
     "text": [
      "torch.Size([1, 2, 200, 252]) torch.Size([1, 14, 200, 252])\n"
     ]
    },
    {
     "name": "stderr",
     "output_type": "stream",
     "text": [
      "\u001b[32m2024-07-11 16:48:39.985\u001b[0m | \u001b[1mINFO    \u001b[0m | \u001b[36m__main__\u001b[0m:\u001b[36mtrain\u001b[0m:\u001b[36m23\u001b[0m - \u001b[1mEpoch: 0, Batch: 207, Loss: 3.5096235275268555\u001b[0m\n",
      "\u001b[32m2024-07-11 16:48:39.985\u001b[0m | \u001b[1mINFO    \u001b[0m | \u001b[36m__main__\u001b[0m:\u001b[36mtrain\u001b[0m:\u001b[36m25\u001b[0m - \u001b[1mPer batch time: 1.371772013 sec\u001b[0m\n"
     ]
    },
    {
     "name": "stdout",
     "output_type": "stream",
     "text": [
      "torch.Size([1, 2, 200, 252]) torch.Size([1, 14, 200, 252])\n"
     ]
    },
    {
     "name": "stderr",
     "output_type": "stream",
     "text": [
      "\u001b[32m2024-07-11 16:48:41.297\u001b[0m | \u001b[1mINFO    \u001b[0m | \u001b[36m__main__\u001b[0m:\u001b[36mtrain\u001b[0m:\u001b[36m23\u001b[0m - \u001b[1mEpoch: 0, Batch: 208, Loss: 1.7783291339874268\u001b[0m\n",
      "\u001b[32m2024-07-11 16:48:41.298\u001b[0m | \u001b[1mINFO    \u001b[0m | \u001b[36m__main__\u001b[0m:\u001b[36mtrain\u001b[0m:\u001b[36m25\u001b[0m - \u001b[1mPer batch time: 1.120104826 sec\u001b[0m\n"
     ]
    },
    {
     "name": "stdout",
     "output_type": "stream",
     "text": [
      "torch.Size([1, 2, 200, 252]) torch.Size([1, 14, 200, 252])\n"
     ]
    },
    {
     "name": "stderr",
     "output_type": "stream",
     "text": [
      "\u001b[32m2024-07-11 16:48:42.523\u001b[0m | \u001b[1mINFO    \u001b[0m | \u001b[36m__main__\u001b[0m:\u001b[36mtrain\u001b[0m:\u001b[36m23\u001b[0m - \u001b[1mEpoch: 0, Batch: 209, Loss: 2.816528081893921\u001b[0m\n",
      "\u001b[32m2024-07-11 16:48:42.523\u001b[0m | \u001b[1mINFO    \u001b[0m | \u001b[36m__main__\u001b[0m:\u001b[36mtrain\u001b[0m:\u001b[36m25\u001b[0m - \u001b[1mPer batch time: 1.14636044 sec\u001b[0m\n"
     ]
    },
    {
     "name": "stdout",
     "output_type": "stream",
     "text": [
      "torch.Size([1, 2, 200, 252]) torch.Size([1, 14, 200, 252])\n"
     ]
    },
    {
     "name": "stderr",
     "output_type": "stream",
     "text": [
      "\u001b[32m2024-07-11 16:48:43.900\u001b[0m | \u001b[1mINFO    \u001b[0m | \u001b[36m__main__\u001b[0m:\u001b[36mtrain\u001b[0m:\u001b[36m23\u001b[0m - \u001b[1mEpoch: 0, Batch: 210, Loss: 3.3188257217407227\u001b[0m\n",
      "\u001b[32m2024-07-11 16:48:43.901\u001b[0m | \u001b[1mINFO    \u001b[0m | \u001b[36m__main__\u001b[0m:\u001b[36mtrain\u001b[0m:\u001b[36m25\u001b[0m - \u001b[1mPer batch time: 1.235669729 sec\u001b[0m\n"
     ]
    },
    {
     "name": "stdout",
     "output_type": "stream",
     "text": [
      "torch.Size([1, 2, 200, 252]) torch.Size([1, 14, 200, 252])\n"
     ]
    },
    {
     "name": "stderr",
     "output_type": "stream",
     "text": [
      "\u001b[32m2024-07-11 16:48:45.198\u001b[0m | \u001b[1mINFO    \u001b[0m | \u001b[36m__main__\u001b[0m:\u001b[36mtrain\u001b[0m:\u001b[36m23\u001b[0m - \u001b[1mEpoch: 0, Batch: 211, Loss: 3.148989677429199\u001b[0m\n",
      "\u001b[32m2024-07-11 16:48:45.199\u001b[0m | \u001b[1mINFO    \u001b[0m | \u001b[36m__main__\u001b[0m:\u001b[36mtrain\u001b[0m:\u001b[36m25\u001b[0m - \u001b[1mPer batch time: 1.158553959 sec\u001b[0m\n"
     ]
    },
    {
     "name": "stdout",
     "output_type": "stream",
     "text": [
      "torch.Size([1, 2, 200, 252]) torch.Size([1, 14, 200, 252])\n"
     ]
    },
    {
     "name": "stderr",
     "output_type": "stream",
     "text": [
      "\u001b[32m2024-07-11 16:48:46.548\u001b[0m | \u001b[1mINFO    \u001b[0m | \u001b[36m__main__\u001b[0m:\u001b[36mtrain\u001b[0m:\u001b[36m23\u001b[0m - \u001b[1mEpoch: 0, Batch: 212, Loss: 3.4469220638275146\u001b[0m\n",
      "\u001b[32m2024-07-11 16:48:46.549\u001b[0m | \u001b[1mINFO    \u001b[0m | \u001b[36m__main__\u001b[0m:\u001b[36mtrain\u001b[0m:\u001b[36m25\u001b[0m - \u001b[1mPer batch time: 1.216911189 sec\u001b[0m\n"
     ]
    },
    {
     "name": "stdout",
     "output_type": "stream",
     "text": [
      "torch.Size([1, 2, 200, 252]) torch.Size([1, 14, 200, 252])\n"
     ]
    },
    {
     "name": "stderr",
     "output_type": "stream",
     "text": [
      "\u001b[32m2024-07-11 16:48:47.536\u001b[0m | \u001b[1mINFO    \u001b[0m | \u001b[36m__main__\u001b[0m:\u001b[36mtrain\u001b[0m:\u001b[36m23\u001b[0m - \u001b[1mEpoch: 0, Batch: 213, Loss: 2.1259207725524902\u001b[0m\n",
      "\u001b[32m2024-07-11 16:48:47.536\u001b[0m | \u001b[1mINFO    \u001b[0m | \u001b[36m__main__\u001b[0m:\u001b[36mtrain\u001b[0m:\u001b[36m25\u001b[0m - \u001b[1mPer batch time: 0.825747179 sec\u001b[0m\n"
     ]
    },
    {
     "name": "stdout",
     "output_type": "stream",
     "text": [
      "torch.Size([1, 2, 200, 252]) torch.Size([1, 14, 200, 252])\n"
     ]
    },
    {
     "name": "stderr",
     "output_type": "stream",
     "text": [
      "\u001b[32m2024-07-11 16:48:49.000\u001b[0m | \u001b[1mINFO    \u001b[0m | \u001b[36m__main__\u001b[0m:\u001b[36mtrain\u001b[0m:\u001b[36m23\u001b[0m - \u001b[1mEpoch: 0, Batch: 214, Loss: 2.929910182952881\u001b[0m\n",
      "\u001b[32m2024-07-11 16:48:49.001\u001b[0m | \u001b[1mINFO    \u001b[0m | \u001b[36m__main__\u001b[0m:\u001b[36mtrain\u001b[0m:\u001b[36m25\u001b[0m - \u001b[1mPer batch time: 1.241185568 sec\u001b[0m\n"
     ]
    },
    {
     "name": "stdout",
     "output_type": "stream",
     "text": [
      "torch.Size([1, 2, 200, 252]) torch.Size([1, 14, 200, 252])\n"
     ]
    },
    {
     "name": "stderr",
     "output_type": "stream",
     "text": [
      "\u001b[32m2024-07-11 16:48:50.401\u001b[0m | \u001b[1mINFO    \u001b[0m | \u001b[36m__main__\u001b[0m:\u001b[36mtrain\u001b[0m:\u001b[36m23\u001b[0m - \u001b[1mEpoch: 0, Batch: 215, Loss: 2.9052276611328125\u001b[0m\n",
      "\u001b[32m2024-07-11 16:48:50.402\u001b[0m | \u001b[1mINFO    \u001b[0m | \u001b[36m__main__\u001b[0m:\u001b[36mtrain\u001b[0m:\u001b[36m25\u001b[0m - \u001b[1mPer batch time: 1.222954749 sec\u001b[0m\n"
     ]
    },
    {
     "name": "stdout",
     "output_type": "stream",
     "text": [
      "torch.Size([1, 2, 200, 252]) torch.Size([1, 14, 200, 252])\n"
     ]
    },
    {
     "name": "stderr",
     "output_type": "stream",
     "text": [
      "\u001b[32m2024-07-11 16:48:51.848\u001b[0m | \u001b[1mINFO    \u001b[0m | \u001b[36m__main__\u001b[0m:\u001b[36mtrain\u001b[0m:\u001b[36m23\u001b[0m - \u001b[1mEpoch: 0, Batch: 216, Loss: 2.0101842880249023\u001b[0m\n",
      "\u001b[32m2024-07-11 16:48:51.848\u001b[0m | \u001b[1mINFO    \u001b[0m | \u001b[36m__main__\u001b[0m:\u001b[36mtrain\u001b[0m:\u001b[36m25\u001b[0m - \u001b[1mPer batch time: 1.272009059 sec\u001b[0m\n"
     ]
    },
    {
     "name": "stdout",
     "output_type": "stream",
     "text": [
      "torch.Size([1, 2, 200, 252]) torch.Size([1, 14, 200, 252])\n"
     ]
    },
    {
     "name": "stderr",
     "output_type": "stream",
     "text": [
      "\u001b[32m2024-07-11 16:48:53.271\u001b[0m | \u001b[1mINFO    \u001b[0m | \u001b[36m__main__\u001b[0m:\u001b[36mtrain\u001b[0m:\u001b[36m23\u001b[0m - \u001b[1mEpoch: 0, Batch: 217, Loss: 3.2448573112487793\u001b[0m\n",
      "\u001b[32m2024-07-11 16:48:53.272\u001b[0m | \u001b[1mINFO    \u001b[0m | \u001b[36m__main__\u001b[0m:\u001b[36mtrain\u001b[0m:\u001b[36m25\u001b[0m - \u001b[1mPer batch time: 1.203156321 sec\u001b[0m\n"
     ]
    },
    {
     "name": "stdout",
     "output_type": "stream",
     "text": [
      "torch.Size([1, 2, 200, 252]) torch.Size([1, 14, 200, 252])\n"
     ]
    },
    {
     "name": "stderr",
     "output_type": "stream",
     "text": [
      "\u001b[32m2024-07-11 16:48:54.697\u001b[0m | \u001b[1mINFO    \u001b[0m | \u001b[36m__main__\u001b[0m:\u001b[36mtrain\u001b[0m:\u001b[36m23\u001b[0m - \u001b[1mEpoch: 0, Batch: 218, Loss: 2.9894392490386963\u001b[0m\n",
      "\u001b[32m2024-07-11 16:48:54.698\u001b[0m | \u001b[1mINFO    \u001b[0m | \u001b[36m__main__\u001b[0m:\u001b[36mtrain\u001b[0m:\u001b[36m25\u001b[0m - \u001b[1mPer batch time: 1.245032347 sec\u001b[0m\n"
     ]
    },
    {
     "name": "stdout",
     "output_type": "stream",
     "text": [
      "torch.Size([1, 2, 200, 252]) torch.Size([1, 14, 200, 252])\n"
     ]
    },
    {
     "name": "stderr",
     "output_type": "stream",
     "text": [
      "\u001b[32m2024-07-11 16:48:56.239\u001b[0m | \u001b[1mINFO    \u001b[0m | \u001b[36m__main__\u001b[0m:\u001b[36mtrain\u001b[0m:\u001b[36m23\u001b[0m - \u001b[1mEpoch: 0, Batch: 219, Loss: 1.7179620265960693\u001b[0m\n",
      "\u001b[32m2024-07-11 16:48:56.240\u001b[0m | \u001b[1mINFO    \u001b[0m | \u001b[36m__main__\u001b[0m:\u001b[36mtrain\u001b[0m:\u001b[36m25\u001b[0m - \u001b[1mPer batch time: 1.402037539 sec\u001b[0m\n"
     ]
    },
    {
     "name": "stdout",
     "output_type": "stream",
     "text": [
      "torch.Size([1, 2, 200, 252]) torch.Size([1, 14, 200, 252])\n"
     ]
    },
    {
     "name": "stderr",
     "output_type": "stream",
     "text": [
      "\u001b[32m2024-07-11 16:48:57.645\u001b[0m | \u001b[1mINFO    \u001b[0m | \u001b[36m__main__\u001b[0m:\u001b[36mtrain\u001b[0m:\u001b[36m23\u001b[0m - \u001b[1mEpoch: 0, Batch: 220, Loss: 2.8933017253875732\u001b[0m\n",
      "\u001b[32m2024-07-11 16:48:57.645\u001b[0m | \u001b[1mINFO    \u001b[0m | \u001b[36m__main__\u001b[0m:\u001b[36mtrain\u001b[0m:\u001b[36m25\u001b[0m - \u001b[1mPer batch time: 1.167591666 sec\u001b[0m\n"
     ]
    },
    {
     "name": "stdout",
     "output_type": "stream",
     "text": [
      "torch.Size([1, 2, 200, 252]) torch.Size([1, 14, 200, 252])\n"
     ]
    },
    {
     "name": "stderr",
     "output_type": "stream",
     "text": [
      "\u001b[32m2024-07-11 16:48:58.927\u001b[0m | \u001b[1mINFO    \u001b[0m | \u001b[36m__main__\u001b[0m:\u001b[36mtrain\u001b[0m:\u001b[36m23\u001b[0m - \u001b[1mEpoch: 0, Batch: 221, Loss: 1.7357587814331055\u001b[0m\n",
      "\u001b[32m2024-07-11 16:48:58.928\u001b[0m | \u001b[1mINFO    \u001b[0m | \u001b[36m__main__\u001b[0m:\u001b[36mtrain\u001b[0m:\u001b[36m25\u001b[0m - \u001b[1mPer batch time: 1.153612515 sec\u001b[0m\n"
     ]
    },
    {
     "name": "stdout",
     "output_type": "stream",
     "text": [
      "torch.Size([1, 2, 200, 252]) torch.Size([1, 14, 200, 252])\n"
     ]
    },
    {
     "name": "stderr",
     "output_type": "stream",
     "text": [
      "\u001b[32m2024-07-11 16:49:00.391\u001b[0m | \u001b[1mINFO    \u001b[0m | \u001b[36m__main__\u001b[0m:\u001b[36mtrain\u001b[0m:\u001b[36m23\u001b[0m - \u001b[1mEpoch: 0, Batch: 222, Loss: 1.9312301874160767\u001b[0m\n",
      "\u001b[32m2024-07-11 16:49:00.392\u001b[0m | \u001b[1mINFO    \u001b[0m | \u001b[36m__main__\u001b[0m:\u001b[36mtrain\u001b[0m:\u001b[36m25\u001b[0m - \u001b[1mPer batch time: 1.283591177 sec\u001b[0m\n"
     ]
    },
    {
     "name": "stdout",
     "output_type": "stream",
     "text": [
      "torch.Size([1, 2, 200, 252]) torch.Size([1, 14, 200, 252])\n"
     ]
    },
    {
     "name": "stderr",
     "output_type": "stream",
     "text": [
      "\u001b[32m2024-07-11 16:49:01.800\u001b[0m | \u001b[1mINFO    \u001b[0m | \u001b[36m__main__\u001b[0m:\u001b[36mtrain\u001b[0m:\u001b[36m23\u001b[0m - \u001b[1mEpoch: 0, Batch: 223, Loss: 3.2991421222686768\u001b[0m\n",
      "\u001b[32m2024-07-11 16:49:01.801\u001b[0m | \u001b[1mINFO    \u001b[0m | \u001b[36m__main__\u001b[0m:\u001b[36mtrain\u001b[0m:\u001b[36m25\u001b[0m - \u001b[1mPer batch time: 1.31096515 sec\u001b[0m\n"
     ]
    },
    {
     "name": "stdout",
     "output_type": "stream",
     "text": [
      "torch.Size([1, 2, 200, 252]) torch.Size([1, 14, 200, 252])\n"
     ]
    },
    {
     "name": "stderr",
     "output_type": "stream",
     "text": [
      "\u001b[32m2024-07-11 16:49:03.139\u001b[0m | \u001b[1mINFO    \u001b[0m | \u001b[36m__main__\u001b[0m:\u001b[36mtrain\u001b[0m:\u001b[36m23\u001b[0m - \u001b[1mEpoch: 0, Batch: 224, Loss: 1.7737202644348145\u001b[0m\n",
      "\u001b[32m2024-07-11 16:49:03.139\u001b[0m | \u001b[1mINFO    \u001b[0m | \u001b[36m__main__\u001b[0m:\u001b[36mtrain\u001b[0m:\u001b[36m25\u001b[0m - \u001b[1mPer batch time: 1.177861946 sec\u001b[0m\n"
     ]
    },
    {
     "name": "stdout",
     "output_type": "stream",
     "text": [
      "torch.Size([1, 2, 200, 252]) torch.Size([1, 14, 200, 252])\n"
     ]
    },
    {
     "name": "stderr",
     "output_type": "stream",
     "text": [
      "\u001b[32m2024-07-11 16:49:04.498\u001b[0m | \u001b[1mINFO    \u001b[0m | \u001b[36m__main__\u001b[0m:\u001b[36mtrain\u001b[0m:\u001b[36m23\u001b[0m - \u001b[1mEpoch: 0, Batch: 225, Loss: 2.786637544631958\u001b[0m\n",
      "\u001b[32m2024-07-11 16:49:04.498\u001b[0m | \u001b[1mINFO    \u001b[0m | \u001b[36m__main__\u001b[0m:\u001b[36mtrain\u001b[0m:\u001b[36m25\u001b[0m - \u001b[1mPer batch time: 1.189317617 sec\u001b[0m\n"
     ]
    },
    {
     "name": "stdout",
     "output_type": "stream",
     "text": [
      "torch.Size([1, 2, 200, 252]) torch.Size([1, 14, 200, 252])\n"
     ]
    },
    {
     "name": "stderr",
     "output_type": "stream",
     "text": [
      "\u001b[32m2024-07-11 16:49:05.675\u001b[0m | \u001b[1mINFO    \u001b[0m | \u001b[36m__main__\u001b[0m:\u001b[36mtrain\u001b[0m:\u001b[36m23\u001b[0m - \u001b[1mEpoch: 0, Batch: 226, Loss: 2.0302703380584717\u001b[0m\n",
      "\u001b[32m2024-07-11 16:49:05.676\u001b[0m | \u001b[1mINFO    \u001b[0m | \u001b[36m__main__\u001b[0m:\u001b[36mtrain\u001b[0m:\u001b[36m25\u001b[0m - \u001b[1mPer batch time: 1.021111002 sec\u001b[0m\n"
     ]
    },
    {
     "name": "stdout",
     "output_type": "stream",
     "text": [
      "torch.Size([1, 2, 200, 252]) torch.Size([1, 14, 200, 252])\n"
     ]
    },
    {
     "name": "stderr",
     "output_type": "stream",
     "text": [
      "\u001b[32m2024-07-11 16:49:07.138\u001b[0m | \u001b[1mINFO    \u001b[0m | \u001b[36m__main__\u001b[0m:\u001b[36mtrain\u001b[0m:\u001b[36m23\u001b[0m - \u001b[1mEpoch: 0, Batch: 227, Loss: 1.9427950382232666\u001b[0m\n",
      "\u001b[32m2024-07-11 16:49:07.139\u001b[0m | \u001b[1mINFO    \u001b[0m | \u001b[36m__main__\u001b[0m:\u001b[36mtrain\u001b[0m:\u001b[36m25\u001b[0m - \u001b[1mPer batch time: 1.321369262 sec\u001b[0m\n"
     ]
    },
    {
     "name": "stdout",
     "output_type": "stream",
     "text": [
      "torch.Size([1, 2, 200, 252]) torch.Size([1, 14, 200, 252])\n"
     ]
    },
    {
     "name": "stderr",
     "output_type": "stream",
     "text": [
      "\u001b[32m2024-07-11 16:49:08.649\u001b[0m | \u001b[1mINFO    \u001b[0m | \u001b[36m__main__\u001b[0m:\u001b[36mtrain\u001b[0m:\u001b[36m23\u001b[0m - \u001b[1mEpoch: 0, Batch: 228, Loss: 3.4737088680267334\u001b[0m\n",
      "\u001b[32m2024-07-11 16:49:08.649\u001b[0m | \u001b[1mINFO    \u001b[0m | \u001b[36m__main__\u001b[0m:\u001b[36mtrain\u001b[0m:\u001b[36m25\u001b[0m - \u001b[1mPer batch time: 1.363564784 sec\u001b[0m\n"
     ]
    },
    {
     "name": "stdout",
     "output_type": "stream",
     "text": [
      "torch.Size([1, 2, 200, 252]) torch.Size([1, 14, 200, 252])\n"
     ]
    },
    {
     "name": "stderr",
     "output_type": "stream",
     "text": [
      "\u001b[32m2024-07-11 16:49:09.911\u001b[0m | \u001b[1mINFO    \u001b[0m | \u001b[36m__main__\u001b[0m:\u001b[36mtrain\u001b[0m:\u001b[36m23\u001b[0m - \u001b[1mEpoch: 0, Batch: 229, Loss: 1.247273325920105\u001b[0m\n",
      "\u001b[32m2024-07-11 16:49:09.912\u001b[0m | \u001b[1mINFO    \u001b[0m | \u001b[36m__main__\u001b[0m:\u001b[36mtrain\u001b[0m:\u001b[36m25\u001b[0m - \u001b[1mPer batch time: 1.137333383 sec\u001b[0m\n"
     ]
    },
    {
     "name": "stdout",
     "output_type": "stream",
     "text": [
      "torch.Size([1, 2, 200, 252]) torch.Size([1, 14, 200, 252])\n"
     ]
    },
    {
     "name": "stderr",
     "output_type": "stream",
     "text": [
      "\u001b[32m2024-07-11 16:49:11.409\u001b[0m | \u001b[1mINFO    \u001b[0m | \u001b[36m__main__\u001b[0m:\u001b[36mtrain\u001b[0m:\u001b[36m23\u001b[0m - \u001b[1mEpoch: 0, Batch: 230, Loss: 3.0081629753112793\u001b[0m\n",
      "\u001b[32m2024-07-11 16:49:11.410\u001b[0m | \u001b[1mINFO    \u001b[0m | \u001b[36m__main__\u001b[0m:\u001b[36mtrain\u001b[0m:\u001b[36m25\u001b[0m - \u001b[1mPer batch time: 1.366056288 sec\u001b[0m\n"
     ]
    },
    {
     "name": "stdout",
     "output_type": "stream",
     "text": [
      "torch.Size([1, 2, 200, 252]) torch.Size([1, 14, 200, 252])\n"
     ]
    },
    {
     "name": "stderr",
     "output_type": "stream",
     "text": [
      "\u001b[32m2024-07-11 16:49:12.742\u001b[0m | \u001b[1mINFO    \u001b[0m | \u001b[36m__main__\u001b[0m:\u001b[36mtrain\u001b[0m:\u001b[36m23\u001b[0m - \u001b[1mEpoch: 0, Batch: 231, Loss: 3.2029032707214355\u001b[0m\n",
      "\u001b[32m2024-07-11 16:49:12.742\u001b[0m | \u001b[1mINFO    \u001b[0m | \u001b[36m__main__\u001b[0m:\u001b[36mtrain\u001b[0m:\u001b[36m25\u001b[0m - \u001b[1mPer batch time: 1.132573946 sec\u001b[0m\n"
     ]
    },
    {
     "name": "stdout",
     "output_type": "stream",
     "text": [
      "torch.Size([1, 2, 200, 252]) torch.Size([1, 14, 200, 252])\n"
     ]
    },
    {
     "name": "stderr",
     "output_type": "stream",
     "text": [
      "\u001b[32m2024-07-11 16:49:14.026\u001b[0m | \u001b[1mINFO    \u001b[0m | \u001b[36m__main__\u001b[0m:\u001b[36mtrain\u001b[0m:\u001b[36m23\u001b[0m - \u001b[1mEpoch: 0, Batch: 232, Loss: 2.6294238567352295\u001b[0m\n",
      "\u001b[32m2024-07-11 16:49:14.027\u001b[0m | \u001b[1mINFO    \u001b[0m | \u001b[36m__main__\u001b[0m:\u001b[36mtrain\u001b[0m:\u001b[36m25\u001b[0m - \u001b[1mPer batch time: 1.157975798 sec\u001b[0m\n"
     ]
    },
    {
     "name": "stdout",
     "output_type": "stream",
     "text": [
      "torch.Size([1, 2, 200, 252]) torch.Size([1, 14, 200, 252])\n"
     ]
    },
    {
     "name": "stderr",
     "output_type": "stream",
     "text": [
      "\u001b[32m2024-07-11 16:49:15.330\u001b[0m | \u001b[1mINFO    \u001b[0m | \u001b[36m__main__\u001b[0m:\u001b[36mtrain\u001b[0m:\u001b[36m23\u001b[0m - \u001b[1mEpoch: 0, Batch: 233, Loss: 3.044093608856201\u001b[0m\n",
      "\u001b[32m2024-07-11 16:49:15.330\u001b[0m | \u001b[1mINFO    \u001b[0m | \u001b[36m__main__\u001b[0m:\u001b[36mtrain\u001b[0m:\u001b[36m25\u001b[0m - \u001b[1mPer batch time: 1.169649373 sec\u001b[0m\n"
     ]
    },
    {
     "name": "stdout",
     "output_type": "stream",
     "text": [
      "torch.Size([1, 2, 200, 252]) torch.Size([1, 14, 200, 252])\n"
     ]
    },
    {
     "name": "stderr",
     "output_type": "stream",
     "text": [
      "\u001b[32m2024-07-11 16:49:16.646\u001b[0m | \u001b[1mINFO    \u001b[0m | \u001b[36m__main__\u001b[0m:\u001b[36mtrain\u001b[0m:\u001b[36m23\u001b[0m - \u001b[1mEpoch: 0, Batch: 234, Loss: 2.295712947845459\u001b[0m\n",
      "\u001b[32m2024-07-11 16:49:16.647\u001b[0m | \u001b[1mINFO    \u001b[0m | \u001b[36m__main__\u001b[0m:\u001b[36mtrain\u001b[0m:\u001b[36m25\u001b[0m - \u001b[1mPer batch time: 1.142546308 sec\u001b[0m\n"
     ]
    },
    {
     "name": "stdout",
     "output_type": "stream",
     "text": [
      "torch.Size([1, 2, 200, 252]) torch.Size([1, 14, 200, 252])\n"
     ]
    },
    {
     "name": "stderr",
     "output_type": "stream",
     "text": [
      "\u001b[32m2024-07-11 16:49:18.122\u001b[0m | \u001b[1mINFO    \u001b[0m | \u001b[36m__main__\u001b[0m:\u001b[36mtrain\u001b[0m:\u001b[36m23\u001b[0m - \u001b[1mEpoch: 0, Batch: 235, Loss: 2.6034622192382812\u001b[0m\n",
      "\u001b[32m2024-07-11 16:49:18.123\u001b[0m | \u001b[1mINFO    \u001b[0m | \u001b[36m__main__\u001b[0m:\u001b[36mtrain\u001b[0m:\u001b[36m25\u001b[0m - \u001b[1mPer batch time: 1.255869521 sec\u001b[0m\n"
     ]
    },
    {
     "name": "stdout",
     "output_type": "stream",
     "text": [
      "torch.Size([1, 2, 200, 252]) torch.Size([1, 14, 200, 252])\n"
     ]
    },
    {
     "name": "stderr",
     "output_type": "stream",
     "text": [
      "\u001b[32m2024-07-11 16:49:19.624\u001b[0m | \u001b[1mINFO    \u001b[0m | \u001b[36m__main__\u001b[0m:\u001b[36mtrain\u001b[0m:\u001b[36m23\u001b[0m - \u001b[1mEpoch: 0, Batch: 236, Loss: 2.661384105682373\u001b[0m\n",
      "\u001b[32m2024-07-11 16:49:19.625\u001b[0m | \u001b[1mINFO    \u001b[0m | \u001b[36m__main__\u001b[0m:\u001b[36mtrain\u001b[0m:\u001b[36m25\u001b[0m - \u001b[1mPer batch time: 1.243689472 sec\u001b[0m\n"
     ]
    },
    {
     "name": "stdout",
     "output_type": "stream",
     "text": [
      "torch.Size([1, 2, 200, 252]) torch.Size([1, 14, 200, 252])\n"
     ]
    },
    {
     "name": "stderr",
     "output_type": "stream",
     "text": [
      "\u001b[32m2024-07-11 16:49:21.110\u001b[0m | \u001b[1mINFO    \u001b[0m | \u001b[36m__main__\u001b[0m:\u001b[36mtrain\u001b[0m:\u001b[36m23\u001b[0m - \u001b[1mEpoch: 0, Batch: 237, Loss: 2.5313029289245605\u001b[0m\n",
      "\u001b[32m2024-07-11 16:49:21.110\u001b[0m | \u001b[1mINFO    \u001b[0m | \u001b[36m__main__\u001b[0m:\u001b[36mtrain\u001b[0m:\u001b[36m25\u001b[0m - \u001b[1mPer batch time: 1.312123039 sec\u001b[0m\n"
     ]
    },
    {
     "name": "stdout",
     "output_type": "stream",
     "text": [
      "torch.Size([1, 2, 200, 252]) torch.Size([1, 14, 200, 252])\n"
     ]
    },
    {
     "name": "stderr",
     "output_type": "stream",
     "text": [
      "\u001b[32m2024-07-11 16:49:22.613\u001b[0m | \u001b[1mINFO    \u001b[0m | \u001b[36m__main__\u001b[0m:\u001b[36mtrain\u001b[0m:\u001b[36m23\u001b[0m - \u001b[1mEpoch: 0, Batch: 238, Loss: 2.578343391418457\u001b[0m\n",
      "\u001b[32m2024-07-11 16:49:22.614\u001b[0m | \u001b[1mINFO    \u001b[0m | \u001b[36m__main__\u001b[0m:\u001b[36mtrain\u001b[0m:\u001b[36m25\u001b[0m - \u001b[1mPer batch time: 1.375514016 sec\u001b[0m\n"
     ]
    },
    {
     "name": "stdout",
     "output_type": "stream",
     "text": [
      "torch.Size([1, 2, 200, 252]) torch.Size([1, 14, 200, 252])\n"
     ]
    },
    {
     "name": "stderr",
     "output_type": "stream",
     "text": [
      "\u001b[32m2024-07-11 16:49:23.871\u001b[0m | \u001b[1mINFO    \u001b[0m | \u001b[36m__main__\u001b[0m:\u001b[36mtrain\u001b[0m:\u001b[36m23\u001b[0m - \u001b[1mEpoch: 0, Batch: 239, Loss: 2.378469944000244\u001b[0m\n",
      "\u001b[32m2024-07-11 16:49:23.872\u001b[0m | \u001b[1mINFO    \u001b[0m | \u001b[36m__main__\u001b[0m:\u001b[36mtrain\u001b[0m:\u001b[36m25\u001b[0m - \u001b[1mPer batch time: 1.041756614 sec\u001b[0m\n"
     ]
    },
    {
     "name": "stdout",
     "output_type": "stream",
     "text": [
      "torch.Size([1, 2, 200, 252]) torch.Size([1, 14, 200, 252])\n"
     ]
    },
    {
     "name": "stderr",
     "output_type": "stream",
     "text": [
      "\u001b[32m2024-07-11 16:49:25.146\u001b[0m | \u001b[1mINFO    \u001b[0m | \u001b[36m__main__\u001b[0m:\u001b[36mtrain\u001b[0m:\u001b[36m23\u001b[0m - \u001b[1mEpoch: 0, Batch: 240, Loss: 1.7509886026382446\u001b[0m\n",
      "\u001b[32m2024-07-11 16:49:25.146\u001b[0m | \u001b[1mINFO    \u001b[0m | \u001b[36m__main__\u001b[0m:\u001b[36mtrain\u001b[0m:\u001b[36m25\u001b[0m - \u001b[1mPer batch time: 1.090045979 sec\u001b[0m\n"
     ]
    },
    {
     "name": "stdout",
     "output_type": "stream",
     "text": [
      "torch.Size([1, 2, 200, 252]) torch.Size([1, 14, 200, 252])\n"
     ]
    },
    {
     "name": "stderr",
     "output_type": "stream",
     "text": [
      "\u001b[32m2024-07-11 16:49:26.465\u001b[0m | \u001b[1mINFO    \u001b[0m | \u001b[36m__main__\u001b[0m:\u001b[36mtrain\u001b[0m:\u001b[36m23\u001b[0m - \u001b[1mEpoch: 0, Batch: 241, Loss: 3.0056614875793457\u001b[0m\n",
      "\u001b[32m2024-07-11 16:49:26.466\u001b[0m | \u001b[1mINFO    \u001b[0m | \u001b[36m__main__\u001b[0m:\u001b[36mtrain\u001b[0m:\u001b[36m25\u001b[0m - \u001b[1mPer batch time: 1.090384445 sec\u001b[0m\n"
     ]
    },
    {
     "name": "stdout",
     "output_type": "stream",
     "text": [
      "torch.Size([1, 2, 200, 252]) torch.Size([1, 14, 200, 252])\n"
     ]
    },
    {
     "name": "stderr",
     "output_type": "stream",
     "text": [
      "\u001b[32m2024-07-11 16:49:27.816\u001b[0m | \u001b[1mINFO    \u001b[0m | \u001b[36m__main__\u001b[0m:\u001b[36mtrain\u001b[0m:\u001b[36m23\u001b[0m - \u001b[1mEpoch: 0, Batch: 242, Loss: 3.8025970458984375\u001b[0m\n",
      "\u001b[32m2024-07-11 16:49:27.817\u001b[0m | \u001b[1mINFO    \u001b[0m | \u001b[36m__main__\u001b[0m:\u001b[36mtrain\u001b[0m:\u001b[36m25\u001b[0m - \u001b[1mPer batch time: 1.229622963 sec\u001b[0m\n"
     ]
    },
    {
     "name": "stdout",
     "output_type": "stream",
     "text": [
      "torch.Size([1, 2, 200, 252]) torch.Size([1, 14, 200, 252])\n"
     ]
    },
    {
     "name": "stderr",
     "output_type": "stream",
     "text": [
      "\u001b[32m2024-07-11 16:49:29.122\u001b[0m | \u001b[1mINFO    \u001b[0m | \u001b[36m__main__\u001b[0m:\u001b[36mtrain\u001b[0m:\u001b[36m23\u001b[0m - \u001b[1mEpoch: 0, Batch: 243, Loss: 3.517268657684326\u001b[0m\n",
      "\u001b[32m2024-07-11 16:49:29.123\u001b[0m | \u001b[1mINFO    \u001b[0m | \u001b[36m__main__\u001b[0m:\u001b[36mtrain\u001b[0m:\u001b[36m25\u001b[0m - \u001b[1mPer batch time: 1.119220319 sec\u001b[0m\n"
     ]
    },
    {
     "name": "stdout",
     "output_type": "stream",
     "text": [
      "torch.Size([1, 2, 200, 252]) torch.Size([1, 14, 200, 252])\n"
     ]
    },
    {
     "name": "stderr",
     "output_type": "stream",
     "text": [
      "\u001b[32m2024-07-11 16:49:30.441\u001b[0m | \u001b[1mINFO    \u001b[0m | \u001b[36m__main__\u001b[0m:\u001b[36mtrain\u001b[0m:\u001b[36m23\u001b[0m - \u001b[1mEpoch: 0, Batch: 244, Loss: 4.006447792053223\u001b[0m\n",
      "\u001b[32m2024-07-11 16:49:30.442\u001b[0m | \u001b[1mINFO    \u001b[0m | \u001b[36m__main__\u001b[0m:\u001b[36mtrain\u001b[0m:\u001b[36m25\u001b[0m - \u001b[1mPer batch time: 1.23063328 sec\u001b[0m\n"
     ]
    },
    {
     "name": "stdout",
     "output_type": "stream",
     "text": [
      "torch.Size([1, 2, 200, 252]) torch.Size([1, 14, 200, 252])\n"
     ]
    },
    {
     "name": "stderr",
     "output_type": "stream",
     "text": [
      "\u001b[32m2024-07-11 16:49:31.715\u001b[0m | \u001b[1mINFO    \u001b[0m | \u001b[36m__main__\u001b[0m:\u001b[36mtrain\u001b[0m:\u001b[36m23\u001b[0m - \u001b[1mEpoch: 0, Batch: 245, Loss: 3.3677451610565186\u001b[0m\n",
      "\u001b[32m2024-07-11 16:49:31.716\u001b[0m | \u001b[1mINFO    \u001b[0m | \u001b[36m__main__\u001b[0m:\u001b[36mtrain\u001b[0m:\u001b[36m25\u001b[0m - \u001b[1mPer batch time: 1.121770233 sec\u001b[0m\n"
     ]
    },
    {
     "name": "stdout",
     "output_type": "stream",
     "text": [
      "torch.Size([1, 2, 200, 252]) torch.Size([1, 14, 200, 252])\n"
     ]
    },
    {
     "name": "stderr",
     "output_type": "stream",
     "text": [
      "\u001b[32m2024-07-11 16:49:33.090\u001b[0m | \u001b[1mINFO    \u001b[0m | \u001b[36m__main__\u001b[0m:\u001b[36mtrain\u001b[0m:\u001b[36m23\u001b[0m - \u001b[1mEpoch: 0, Batch: 246, Loss: 2.5543465614318848\u001b[0m\n",
      "\u001b[32m2024-07-11 16:49:33.091\u001b[0m | \u001b[1mINFO    \u001b[0m | \u001b[36m__main__\u001b[0m:\u001b[36mtrain\u001b[0m:\u001b[36m25\u001b[0m - \u001b[1mPer batch time: 1.164773188 sec\u001b[0m\n"
     ]
    },
    {
     "name": "stdout",
     "output_type": "stream",
     "text": [
      "torch.Size([1, 2, 200, 252]) torch.Size([1, 14, 200, 252])\n"
     ]
    },
    {
     "name": "stderr",
     "output_type": "stream",
     "text": [
      "\u001b[32m2024-07-11 16:49:34.417\u001b[0m | \u001b[1mINFO    \u001b[0m | \u001b[36m__main__\u001b[0m:\u001b[36mtrain\u001b[0m:\u001b[36m23\u001b[0m - \u001b[1mEpoch: 0, Batch: 247, Loss: 1.8828569650650024\u001b[0m\n",
      "\u001b[32m2024-07-11 16:49:34.417\u001b[0m | \u001b[1mINFO    \u001b[0m | \u001b[36m__main__\u001b[0m:\u001b[36mtrain\u001b[0m:\u001b[36m25\u001b[0m - \u001b[1mPer batch time: 1.159989348 sec\u001b[0m\n"
     ]
    },
    {
     "name": "stdout",
     "output_type": "stream",
     "text": [
      "torch.Size([1, 2, 200, 252]) torch.Size([1, 14, 200, 252])\n"
     ]
    },
    {
     "name": "stderr",
     "output_type": "stream",
     "text": [
      "\u001b[32m2024-07-11 16:49:35.728\u001b[0m | \u001b[1mINFO    \u001b[0m | \u001b[36m__main__\u001b[0m:\u001b[36mtrain\u001b[0m:\u001b[36m23\u001b[0m - \u001b[1mEpoch: 0, Batch: 248, Loss: 2.6145668029785156\u001b[0m\n",
      "\u001b[32m2024-07-11 16:49:35.728\u001b[0m | \u001b[1mINFO    \u001b[0m | \u001b[36m__main__\u001b[0m:\u001b[36mtrain\u001b[0m:\u001b[36m25\u001b[0m - \u001b[1mPer batch time: 1.237775533 sec\u001b[0m\n"
     ]
    },
    {
     "name": "stdout",
     "output_type": "stream",
     "text": [
      "torch.Size([1, 2, 200, 252]) torch.Size([1, 14, 200, 252])\n"
     ]
    },
    {
     "name": "stderr",
     "output_type": "stream",
     "text": [
      "\u001b[32m2024-07-11 16:49:36.932\u001b[0m | \u001b[1mINFO    \u001b[0m | \u001b[36m__main__\u001b[0m:\u001b[36mtrain\u001b[0m:\u001b[36m23\u001b[0m - \u001b[1mEpoch: 0, Batch: 249, Loss: 3.1652634143829346\u001b[0m\n",
      "\u001b[32m2024-07-11 16:49:36.933\u001b[0m | \u001b[1mINFO    \u001b[0m | \u001b[36m__main__\u001b[0m:\u001b[36mtrain\u001b[0m:\u001b[36m25\u001b[0m - \u001b[1mPer batch time: 1.03533883 sec\u001b[0m\n"
     ]
    },
    {
     "name": "stdout",
     "output_type": "stream",
     "text": [
      "torch.Size([1, 2, 200, 252]) torch.Size([1, 14, 200, 252])\n"
     ]
    },
    {
     "name": "stderr",
     "output_type": "stream",
     "text": [
      "\u001b[32m2024-07-11 16:49:38.201\u001b[0m | \u001b[1mINFO    \u001b[0m | \u001b[36m__main__\u001b[0m:\u001b[36mtrain\u001b[0m:\u001b[36m23\u001b[0m - \u001b[1mEpoch: 0, Batch: 250, Loss: 3.495269775390625\u001b[0m\n",
      "\u001b[32m2024-07-11 16:49:38.201\u001b[0m | \u001b[1mINFO    \u001b[0m | \u001b[36m__main__\u001b[0m:\u001b[36mtrain\u001b[0m:\u001b[36m25\u001b[0m - \u001b[1mPer batch time: 1.108071719 sec\u001b[0m\n"
     ]
    },
    {
     "name": "stdout",
     "output_type": "stream",
     "text": [
      "torch.Size([1, 2, 200, 252]) torch.Size([1, 14, 200, 252])\n"
     ]
    },
    {
     "name": "stderr",
     "output_type": "stream",
     "text": [
      "\u001b[32m2024-07-11 16:49:39.471\u001b[0m | \u001b[1mINFO    \u001b[0m | \u001b[36m__main__\u001b[0m:\u001b[36mtrain\u001b[0m:\u001b[36m23\u001b[0m - \u001b[1mEpoch: 0, Batch: 251, Loss: 2.5094897747039795\u001b[0m\n",
      "\u001b[32m2024-07-11 16:49:39.472\u001b[0m | \u001b[1mINFO    \u001b[0m | \u001b[36m__main__\u001b[0m:\u001b[36mtrain\u001b[0m:\u001b[36m25\u001b[0m - \u001b[1mPer batch time: 1.138212714 sec\u001b[0m\n"
     ]
    },
    {
     "name": "stdout",
     "output_type": "stream",
     "text": [
      "torch.Size([1, 2, 200, 252]) torch.Size([1, 14, 200, 252])\n"
     ]
    },
    {
     "name": "stderr",
     "output_type": "stream",
     "text": [
      "\u001b[32m2024-07-11 16:49:40.725\u001b[0m | \u001b[1mINFO    \u001b[0m | \u001b[36m__main__\u001b[0m:\u001b[36mtrain\u001b[0m:\u001b[36m23\u001b[0m - \u001b[1mEpoch: 0, Batch: 252, Loss: 2.920318365097046\u001b[0m\n",
      "\u001b[32m2024-07-11 16:49:40.726\u001b[0m | \u001b[1mINFO    \u001b[0m | \u001b[36m__main__\u001b[0m:\u001b[36mtrain\u001b[0m:\u001b[36m25\u001b[0m - \u001b[1mPer batch time: 1.167809034 sec\u001b[0m\n"
     ]
    },
    {
     "name": "stdout",
     "output_type": "stream",
     "text": [
      "torch.Size([1, 2, 200, 252]) torch.Size([1, 14, 200, 252])\n"
     ]
    },
    {
     "name": "stderr",
     "output_type": "stream",
     "text": [
      "\u001b[32m2024-07-11 16:49:41.995\u001b[0m | \u001b[1mINFO    \u001b[0m | \u001b[36m__main__\u001b[0m:\u001b[36mtrain\u001b[0m:\u001b[36m23\u001b[0m - \u001b[1mEpoch: 0, Batch: 253, Loss: 3.1579482555389404\u001b[0m\n",
      "\u001b[32m2024-07-11 16:49:41.996\u001b[0m | \u001b[1mINFO    \u001b[0m | \u001b[36m__main__\u001b[0m:\u001b[36mtrain\u001b[0m:\u001b[36m25\u001b[0m - \u001b[1mPer batch time: 1.119829993 sec\u001b[0m\n"
     ]
    },
    {
     "name": "stdout",
     "output_type": "stream",
     "text": [
      "torch.Size([1, 2, 200, 252]) torch.Size([1, 14, 200, 252])\n"
     ]
    },
    {
     "name": "stderr",
     "output_type": "stream",
     "text": [
      "\u001b[32m2024-07-11 16:49:43.247\u001b[0m | \u001b[1mINFO    \u001b[0m | \u001b[36m__main__\u001b[0m:\u001b[36mtrain\u001b[0m:\u001b[36m23\u001b[0m - \u001b[1mEpoch: 0, Batch: 254, Loss: 3.038330554962158\u001b[0m\n",
      "\u001b[32m2024-07-11 16:49:43.248\u001b[0m | \u001b[1mINFO    \u001b[0m | \u001b[36m__main__\u001b[0m:\u001b[36mtrain\u001b[0m:\u001b[36m25\u001b[0m - \u001b[1mPer batch time: 1.178782016 sec\u001b[0m\n"
     ]
    },
    {
     "name": "stdout",
     "output_type": "stream",
     "text": [
      "torch.Size([1, 2, 200, 252]) torch.Size([1, 14, 200, 252])\n"
     ]
    },
    {
     "name": "stderr",
     "output_type": "stream",
     "text": [
      "\u001b[32m2024-07-11 16:49:44.134\u001b[0m | \u001b[1mINFO    \u001b[0m | \u001b[36m__main__\u001b[0m:\u001b[36mtrain\u001b[0m:\u001b[36m23\u001b[0m - \u001b[1mEpoch: 0, Batch: 255, Loss: 2.012857675552368\u001b[0m\n",
      "\u001b[32m2024-07-11 16:49:44.135\u001b[0m | \u001b[1mINFO    \u001b[0m | \u001b[36m__main__\u001b[0m:\u001b[36mtrain\u001b[0m:\u001b[36m25\u001b[0m - \u001b[1mPer batch time: 0.830514787 sec\u001b[0m\n"
     ]
    },
    {
     "name": "stdout",
     "output_type": "stream",
     "text": [
      "torch.Size([1, 2, 200, 252]) torch.Size([1, 14, 200, 252])\n"
     ]
    },
    {
     "name": "stderr",
     "output_type": "stream",
     "text": [
      "\u001b[32m2024-07-11 16:49:45.334\u001b[0m | \u001b[1mINFO    \u001b[0m | \u001b[36m__main__\u001b[0m:\u001b[36mtrain\u001b[0m:\u001b[36m23\u001b[0m - \u001b[1mEpoch: 0, Batch: 256, Loss: 2.638578176498413\u001b[0m\n",
      "\u001b[32m2024-07-11 16:49:45.335\u001b[0m | \u001b[1mINFO    \u001b[0m | \u001b[36m__main__\u001b[0m:\u001b[36mtrain\u001b[0m:\u001b[36m25\u001b[0m - \u001b[1mPer batch time: 1.003091957 sec\u001b[0m\n"
     ]
    },
    {
     "name": "stdout",
     "output_type": "stream",
     "text": [
      "torch.Size([1, 2, 200, 252]) torch.Size([1, 14, 200, 252])\n"
     ]
    },
    {
     "name": "stderr",
     "output_type": "stream",
     "text": [
      "\u001b[32m2024-07-11 16:49:46.636\u001b[0m | \u001b[1mINFO    \u001b[0m | \u001b[36m__main__\u001b[0m:\u001b[36mtrain\u001b[0m:\u001b[36m23\u001b[0m - \u001b[1mEpoch: 0, Batch: 257, Loss: 2.591806650161743\u001b[0m\n",
      "\u001b[32m2024-07-11 16:49:46.636\u001b[0m | \u001b[1mINFO    \u001b[0m | \u001b[36m__main__\u001b[0m:\u001b[36mtrain\u001b[0m:\u001b[36m25\u001b[0m - \u001b[1mPer batch time: 1.220928704 sec\u001b[0m\n"
     ]
    },
    {
     "name": "stdout",
     "output_type": "stream",
     "text": [
      "torch.Size([1, 2, 200, 252]) torch.Size([1, 14, 200, 252])\n"
     ]
    },
    {
     "name": "stderr",
     "output_type": "stream",
     "text": [
      "\u001b[32m2024-07-11 16:49:47.919\u001b[0m | \u001b[1mINFO    \u001b[0m | \u001b[36m__main__\u001b[0m:\u001b[36mtrain\u001b[0m:\u001b[36m23\u001b[0m - \u001b[1mEpoch: 0, Batch: 258, Loss: 2.499891996383667\u001b[0m\n",
      "\u001b[32m2024-07-11 16:49:47.920\u001b[0m | \u001b[1mINFO    \u001b[0m | \u001b[36m__main__\u001b[0m:\u001b[36mtrain\u001b[0m:\u001b[36m25\u001b[0m - \u001b[1mPer batch time: 1.045405252 sec\u001b[0m\n"
     ]
    },
    {
     "name": "stdout",
     "output_type": "stream",
     "text": [
      "torch.Size([1, 2, 200, 252]) torch.Size([1, 14, 200, 252])\n"
     ]
    },
    {
     "name": "stderr",
     "output_type": "stream",
     "text": [
      "\u001b[32m2024-07-11 16:49:49.260\u001b[0m | \u001b[1mINFO    \u001b[0m | \u001b[36m__main__\u001b[0m:\u001b[36mtrain\u001b[0m:\u001b[36m23\u001b[0m - \u001b[1mEpoch: 0, Batch: 259, Loss: 2.4012374877929688\u001b[0m\n",
      "\u001b[32m2024-07-11 16:49:49.261\u001b[0m | \u001b[1mINFO    \u001b[0m | \u001b[36m__main__\u001b[0m:\u001b[36mtrain\u001b[0m:\u001b[36m25\u001b[0m - \u001b[1mPer batch time: 1.073783577 sec\u001b[0m\n"
     ]
    },
    {
     "name": "stdout",
     "output_type": "stream",
     "text": [
      "torch.Size([1, 2, 200, 252]) torch.Size([1, 14, 200, 252])\n"
     ]
    },
    {
     "name": "stderr",
     "output_type": "stream",
     "text": [
      "\u001b[32m2024-07-11 16:49:50.617\u001b[0m | \u001b[1mINFO    \u001b[0m | \u001b[36m__main__\u001b[0m:\u001b[36mtrain\u001b[0m:\u001b[36m23\u001b[0m - \u001b[1mEpoch: 0, Batch: 260, Loss: 2.324531078338623\u001b[0m\n",
      "\u001b[32m2024-07-11 16:49:50.618\u001b[0m | \u001b[1mINFO    \u001b[0m | \u001b[36m__main__\u001b[0m:\u001b[36mtrain\u001b[0m:\u001b[36m25\u001b[0m - \u001b[1mPer batch time: 1.172950771 sec\u001b[0m\n"
     ]
    },
    {
     "name": "stdout",
     "output_type": "stream",
     "text": [
      "torch.Size([1, 2, 200, 252]) torch.Size([1, 14, 200, 252])\n"
     ]
    },
    {
     "name": "stderr",
     "output_type": "stream",
     "text": [
      "\u001b[32m2024-07-11 16:49:52.187\u001b[0m | \u001b[1mINFO    \u001b[0m | \u001b[36m__main__\u001b[0m:\u001b[36mtrain\u001b[0m:\u001b[36m23\u001b[0m - \u001b[1mEpoch: 0, Batch: 261, Loss: 2.4734132289886475\u001b[0m\n",
      "\u001b[32m2024-07-11 16:49:52.188\u001b[0m | \u001b[1mINFO    \u001b[0m | \u001b[36m__main__\u001b[0m:\u001b[36mtrain\u001b[0m:\u001b[36m25\u001b[0m - \u001b[1mPer batch time: 1.420902725 sec\u001b[0m\n"
     ]
    },
    {
     "name": "stdout",
     "output_type": "stream",
     "text": [
      "torch.Size([1, 2, 200, 252]) torch.Size([1, 14, 200, 252])\n"
     ]
    },
    {
     "name": "stderr",
     "output_type": "stream",
     "text": [
      "\u001b[32m2024-07-11 16:49:53.638\u001b[0m | \u001b[1mINFO    \u001b[0m | \u001b[36m__main__\u001b[0m:\u001b[36mtrain\u001b[0m:\u001b[36m23\u001b[0m - \u001b[1mEpoch: 0, Batch: 262, Loss: 2.9684720039367676\u001b[0m\n",
      "\u001b[32m2024-07-11 16:49:53.639\u001b[0m | \u001b[1mINFO    \u001b[0m | \u001b[36m__main__\u001b[0m:\u001b[36mtrain\u001b[0m:\u001b[36m25\u001b[0m - \u001b[1mPer batch time: 1.226570144 sec\u001b[0m\n"
     ]
    },
    {
     "name": "stdout",
     "output_type": "stream",
     "text": [
      "torch.Size([1, 2, 200, 252]) torch.Size([1, 14, 200, 252])\n"
     ]
    },
    {
     "name": "stderr",
     "output_type": "stream",
     "text": [
      "\u001b[32m2024-07-11 16:49:54.992\u001b[0m | \u001b[1mINFO    \u001b[0m | \u001b[36m__main__\u001b[0m:\u001b[36mtrain\u001b[0m:\u001b[36m23\u001b[0m - \u001b[1mEpoch: 0, Batch: 263, Loss: 2.565235137939453\u001b[0m\n",
      "\u001b[32m2024-07-11 16:49:54.993\u001b[0m | \u001b[1mINFO    \u001b[0m | \u001b[36m__main__\u001b[0m:\u001b[36mtrain\u001b[0m:\u001b[36m25\u001b[0m - \u001b[1mPer batch time: 1.154720494 sec\u001b[0m\n"
     ]
    },
    {
     "name": "stdout",
     "output_type": "stream",
     "text": [
      "torch.Size([1, 2, 200, 252]) torch.Size([1, 14, 200, 252])\n"
     ]
    },
    {
     "name": "stderr",
     "output_type": "stream",
     "text": [
      "\u001b[32m2024-07-11 16:49:56.509\u001b[0m | \u001b[1mINFO    \u001b[0m | \u001b[36m__main__\u001b[0m:\u001b[36mtrain\u001b[0m:\u001b[36m23\u001b[0m - \u001b[1mEpoch: 0, Batch: 264, Loss: 2.014441728591919\u001b[0m\n",
      "\u001b[32m2024-07-11 16:49:56.509\u001b[0m | \u001b[1mINFO    \u001b[0m | \u001b[36m__main__\u001b[0m:\u001b[36mtrain\u001b[0m:\u001b[36m25\u001b[0m - \u001b[1mPer batch time: 1.334270572 sec\u001b[0m\n"
     ]
    },
    {
     "name": "stdout",
     "output_type": "stream",
     "text": [
      "torch.Size([1, 2, 200, 252]) torch.Size([1, 14, 200, 252])\n"
     ]
    },
    {
     "name": "stderr",
     "output_type": "stream",
     "text": [
      "\u001b[32m2024-07-11 16:49:57.748\u001b[0m | \u001b[1mINFO    \u001b[0m | \u001b[36m__main__\u001b[0m:\u001b[36mtrain\u001b[0m:\u001b[36m23\u001b[0m - \u001b[1mEpoch: 0, Batch: 265, Loss: 3.0139589309692383\u001b[0m\n",
      "\u001b[32m2024-07-11 16:49:57.749\u001b[0m | \u001b[1mINFO    \u001b[0m | \u001b[36m__main__\u001b[0m:\u001b[36mtrain\u001b[0m:\u001b[36m25\u001b[0m - \u001b[1mPer batch time: 1.080433833 sec\u001b[0m\n"
     ]
    },
    {
     "name": "stdout",
     "output_type": "stream",
     "text": [
      "torch.Size([1, 2, 200, 252]) torch.Size([1, 14, 200, 252])\n"
     ]
    },
    {
     "name": "stderr",
     "output_type": "stream",
     "text": [
      "\u001b[32m2024-07-11 16:49:58.658\u001b[0m | \u001b[1mINFO    \u001b[0m | \u001b[36m__main__\u001b[0m:\u001b[36mtrain\u001b[0m:\u001b[36m23\u001b[0m - \u001b[1mEpoch: 0, Batch: 266, Loss: 2.0235085487365723\u001b[0m\n",
      "\u001b[32m2024-07-11 16:49:58.658\u001b[0m | \u001b[1mINFO    \u001b[0m | \u001b[36m__main__\u001b[0m:\u001b[36mtrain\u001b[0m:\u001b[36m25\u001b[0m - \u001b[1mPer batch time: 0.814553279 sec\u001b[0m\n"
     ]
    },
    {
     "name": "stdout",
     "output_type": "stream",
     "text": [
      "torch.Size([1, 2, 200, 252]) torch.Size([1, 14, 200, 252])\n"
     ]
    },
    {
     "name": "stderr",
     "output_type": "stream",
     "text": [
      "\u001b[32m2024-07-11 16:49:59.982\u001b[0m | \u001b[1mINFO    \u001b[0m | \u001b[36m__main__\u001b[0m:\u001b[36mtrain\u001b[0m:\u001b[36m23\u001b[0m - \u001b[1mEpoch: 0, Batch: 267, Loss: 2.1585092544555664\u001b[0m\n",
      "\u001b[32m2024-07-11 16:49:59.983\u001b[0m | \u001b[1mINFO    \u001b[0m | \u001b[36m__main__\u001b[0m:\u001b[36mtrain\u001b[0m:\u001b[36m25\u001b[0m - \u001b[1mPer batch time: 1.182067761 sec\u001b[0m\n"
     ]
    },
    {
     "name": "stdout",
     "output_type": "stream",
     "text": [
      "torch.Size([1, 2, 200, 252]) torch.Size([1, 14, 200, 252])\n"
     ]
    },
    {
     "name": "stderr",
     "output_type": "stream",
     "text": [
      "\u001b[32m2024-07-11 16:50:01.355\u001b[0m | \u001b[1mINFO    \u001b[0m | \u001b[36m__main__\u001b[0m:\u001b[36mtrain\u001b[0m:\u001b[36m23\u001b[0m - \u001b[1mEpoch: 0, Batch: 268, Loss: 2.2553043365478516\u001b[0m\n",
      "\u001b[32m2024-07-11 16:50:01.356\u001b[0m | \u001b[1mINFO    \u001b[0m | \u001b[36m__main__\u001b[0m:\u001b[36mtrain\u001b[0m:\u001b[36m25\u001b[0m - \u001b[1mPer batch time: 1.189080023 sec\u001b[0m\n"
     ]
    },
    {
     "name": "stdout",
     "output_type": "stream",
     "text": [
      "torch.Size([1, 2, 200, 252]) torch.Size([1, 14, 200, 252])\n"
     ]
    },
    {
     "name": "stderr",
     "output_type": "stream",
     "text": [
      "\u001b[32m2024-07-11 16:50:02.604\u001b[0m | \u001b[1mINFO    \u001b[0m | \u001b[36m__main__\u001b[0m:\u001b[36mtrain\u001b[0m:\u001b[36m23\u001b[0m - \u001b[1mEpoch: 0, Batch: 269, Loss: 3.953462600708008\u001b[0m\n",
      "\u001b[32m2024-07-11 16:50:02.604\u001b[0m | \u001b[1mINFO    \u001b[0m | \u001b[36m__main__\u001b[0m:\u001b[36mtrain\u001b[0m:\u001b[36m25\u001b[0m - \u001b[1mPer batch time: 1.151315702 sec\u001b[0m\n"
     ]
    },
    {
     "name": "stdout",
     "output_type": "stream",
     "text": [
      "torch.Size([1, 2, 200, 252]) torch.Size([1, 14, 200, 252])\n"
     ]
    },
    {
     "name": "stderr",
     "output_type": "stream",
     "text": [
      "\u001b[32m2024-07-11 16:50:03.889\u001b[0m | \u001b[1mINFO    \u001b[0m | \u001b[36m__main__\u001b[0m:\u001b[36mtrain\u001b[0m:\u001b[36m23\u001b[0m - \u001b[1mEpoch: 0, Batch: 270, Loss: 2.9769678115844727\u001b[0m\n",
      "\u001b[32m2024-07-11 16:50:03.889\u001b[0m | \u001b[1mINFO    \u001b[0m | \u001b[36m__main__\u001b[0m:\u001b[36mtrain\u001b[0m:\u001b[36m25\u001b[0m - \u001b[1mPer batch time: 1.11901708 sec\u001b[0m\n"
     ]
    },
    {
     "name": "stdout",
     "output_type": "stream",
     "text": [
      "torch.Size([1, 2, 200, 252]) torch.Size([1, 14, 200, 252])\n"
     ]
    },
    {
     "name": "stderr",
     "output_type": "stream",
     "text": [
      "\u001b[32m2024-07-11 16:50:05.119\u001b[0m | \u001b[1mINFO    \u001b[0m | \u001b[36m__main__\u001b[0m:\u001b[36mtrain\u001b[0m:\u001b[36m23\u001b[0m - \u001b[1mEpoch: 0, Batch: 271, Loss: 3.0736522674560547\u001b[0m\n",
      "\u001b[32m2024-07-11 16:50:05.120\u001b[0m | \u001b[1mINFO    \u001b[0m | \u001b[36m__main__\u001b[0m:\u001b[36mtrain\u001b[0m:\u001b[36m25\u001b[0m - \u001b[1mPer batch time: 1.143417916 sec\u001b[0m\n"
     ]
    },
    {
     "name": "stdout",
     "output_type": "stream",
     "text": [
      "torch.Size([1, 2, 200, 252]) torch.Size([1, 14, 200, 252])\n"
     ]
    },
    {
     "name": "stderr",
     "output_type": "stream",
     "text": [
      "\u001b[32m2024-07-11 16:50:06.406\u001b[0m | \u001b[1mINFO    \u001b[0m | \u001b[36m__main__\u001b[0m:\u001b[36mtrain\u001b[0m:\u001b[36m23\u001b[0m - \u001b[1mEpoch: 0, Batch: 272, Loss: 3.510493278503418\u001b[0m\n",
      "\u001b[32m2024-07-11 16:50:06.406\u001b[0m | \u001b[1mINFO    \u001b[0m | \u001b[36m__main__\u001b[0m:\u001b[36mtrain\u001b[0m:\u001b[36m25\u001b[0m - \u001b[1mPer batch time: 1.139881624 sec\u001b[0m\n"
     ]
    },
    {
     "name": "stdout",
     "output_type": "stream",
     "text": [
      "torch.Size([1, 2, 200, 252]) torch.Size([1, 14, 200, 252])\n"
     ]
    },
    {
     "name": "stderr",
     "output_type": "stream",
     "text": [
      "\u001b[32m2024-07-11 16:50:07.657\u001b[0m | \u001b[1mINFO    \u001b[0m | \u001b[36m__main__\u001b[0m:\u001b[36mtrain\u001b[0m:\u001b[36m23\u001b[0m - \u001b[1mEpoch: 0, Batch: 273, Loss: 3.164977550506592\u001b[0m\n",
      "\u001b[32m2024-07-11 16:50:07.657\u001b[0m | \u001b[1mINFO    \u001b[0m | \u001b[36m__main__\u001b[0m:\u001b[36mtrain\u001b[0m:\u001b[36m25\u001b[0m - \u001b[1mPer batch time: 1.051980369 sec\u001b[0m\n"
     ]
    },
    {
     "name": "stdout",
     "output_type": "stream",
     "text": [
      "torch.Size([1, 2, 200, 252]) torch.Size([1, 14, 200, 252])\n"
     ]
    },
    {
     "name": "stderr",
     "output_type": "stream",
     "text": [
      "\u001b[32m2024-07-11 16:50:08.921\u001b[0m | \u001b[1mINFO    \u001b[0m | \u001b[36m__main__\u001b[0m:\u001b[36mtrain\u001b[0m:\u001b[36m23\u001b[0m - \u001b[1mEpoch: 0, Batch: 274, Loss: 3.462735652923584\u001b[0m\n",
      "\u001b[32m2024-07-11 16:50:08.922\u001b[0m | \u001b[1mINFO    \u001b[0m | \u001b[36m__main__\u001b[0m:\u001b[36mtrain\u001b[0m:\u001b[36m25\u001b[0m - \u001b[1mPer batch time: 1.17483718 sec\u001b[0m\n"
     ]
    },
    {
     "name": "stdout",
     "output_type": "stream",
     "text": [
      "torch.Size([1, 2, 200, 252]) torch.Size([1, 14, 200, 252])\n"
     ]
    },
    {
     "name": "stderr",
     "output_type": "stream",
     "text": [
      "\u001b[32m2024-07-11 16:50:10.386\u001b[0m | \u001b[1mINFO    \u001b[0m | \u001b[36m__main__\u001b[0m:\u001b[36mtrain\u001b[0m:\u001b[36m23\u001b[0m - \u001b[1mEpoch: 0, Batch: 275, Loss: 3.590716600418091\u001b[0m\n",
      "\u001b[32m2024-07-11 16:50:10.387\u001b[0m | \u001b[1mINFO    \u001b[0m | \u001b[36m__main__\u001b[0m:\u001b[36mtrain\u001b[0m:\u001b[36m25\u001b[0m - \u001b[1mPer batch time: 1.321477579 sec\u001b[0m\n"
     ]
    },
    {
     "name": "stdout",
     "output_type": "stream",
     "text": [
      "torch.Size([1, 2, 200, 252]) torch.Size([1, 14, 200, 252])\n"
     ]
    },
    {
     "name": "stderr",
     "output_type": "stream",
     "text": [
      "\u001b[32m2024-07-11 16:50:11.799\u001b[0m | \u001b[1mINFO    \u001b[0m | \u001b[36m__main__\u001b[0m:\u001b[36mtrain\u001b[0m:\u001b[36m23\u001b[0m - \u001b[1mEpoch: 0, Batch: 276, Loss: 3.568328380584717\u001b[0m\n",
      "\u001b[32m2024-07-11 16:50:11.799\u001b[0m | \u001b[1mINFO    \u001b[0m | \u001b[36m__main__\u001b[0m:\u001b[36mtrain\u001b[0m:\u001b[36m25\u001b[0m - \u001b[1mPer batch time: 1.248316412 sec\u001b[0m\n"
     ]
    },
    {
     "name": "stdout",
     "output_type": "stream",
     "text": [
      "torch.Size([1, 2, 200, 252]) torch.Size([1, 14, 200, 252])\n"
     ]
    },
    {
     "name": "stderr",
     "output_type": "stream",
     "text": [
      "\u001b[32m2024-07-11 16:50:13.122\u001b[0m | \u001b[1mINFO    \u001b[0m | \u001b[36m__main__\u001b[0m:\u001b[36mtrain\u001b[0m:\u001b[36m23\u001b[0m - \u001b[1mEpoch: 0, Batch: 277, Loss: 1.8660671710968018\u001b[0m\n",
      "\u001b[32m2024-07-11 16:50:13.123\u001b[0m | \u001b[1mINFO    \u001b[0m | \u001b[36m__main__\u001b[0m:\u001b[36mtrain\u001b[0m:\u001b[36m25\u001b[0m - \u001b[1mPer batch time: 1.17499474 sec\u001b[0m\n"
     ]
    },
    {
     "name": "stdout",
     "output_type": "stream",
     "text": [
      "torch.Size([1, 2, 200, 252]) torch.Size([1, 14, 200, 252])\n"
     ]
    },
    {
     "name": "stderr",
     "output_type": "stream",
     "text": [
      "\u001b[32m2024-07-11 16:50:14.611\u001b[0m | \u001b[1mINFO    \u001b[0m | \u001b[36m__main__\u001b[0m:\u001b[36mtrain\u001b[0m:\u001b[36m23\u001b[0m - \u001b[1mEpoch: 0, Batch: 278, Loss: 3.4109792709350586\u001b[0m\n",
      "\u001b[32m2024-07-11 16:50:14.612\u001b[0m | \u001b[1mINFO    \u001b[0m | \u001b[36m__main__\u001b[0m:\u001b[36mtrain\u001b[0m:\u001b[36m25\u001b[0m - \u001b[1mPer batch time: 1.328817529 sec\u001b[0m\n"
     ]
    },
    {
     "name": "stdout",
     "output_type": "stream",
     "text": [
      "torch.Size([1, 2, 200, 252]) torch.Size([1, 14, 200, 252])\n"
     ]
    },
    {
     "name": "stderr",
     "output_type": "stream",
     "text": [
      "\u001b[32m2024-07-11 16:50:16.018\u001b[0m | \u001b[1mINFO    \u001b[0m | \u001b[36m__main__\u001b[0m:\u001b[36mtrain\u001b[0m:\u001b[36m23\u001b[0m - \u001b[1mEpoch: 0, Batch: 279, Loss: 2.813551902770996\u001b[0m\n",
      "\u001b[32m2024-07-11 16:50:16.019\u001b[0m | \u001b[1mINFO    \u001b[0m | \u001b[36m__main__\u001b[0m:\u001b[36mtrain\u001b[0m:\u001b[36m25\u001b[0m - \u001b[1mPer batch time: 1.168770328 sec\u001b[0m\n"
     ]
    },
    {
     "name": "stdout",
     "output_type": "stream",
     "text": [
      "torch.Size([1, 2, 200, 252]) torch.Size([1, 14, 200, 252])\n"
     ]
    },
    {
     "name": "stderr",
     "output_type": "stream",
     "text": [
      "\u001b[32m2024-07-11 16:50:17.152\u001b[0m | \u001b[1mINFO    \u001b[0m | \u001b[36m__main__\u001b[0m:\u001b[36mtrain\u001b[0m:\u001b[36m23\u001b[0m - \u001b[1mEpoch: 0, Batch: 280, Loss: 1.6863782405853271\u001b[0m\n",
      "\u001b[32m2024-07-11 16:50:17.153\u001b[0m | \u001b[1mINFO    \u001b[0m | \u001b[36m__main__\u001b[0m:\u001b[36mtrain\u001b[0m:\u001b[36m25\u001b[0m - \u001b[1mPer batch time: 1.072829655 sec\u001b[0m\n"
     ]
    },
    {
     "name": "stdout",
     "output_type": "stream",
     "text": [
      "torch.Size([1, 2, 200, 252]) torch.Size([1, 14, 200, 252])\n"
     ]
    },
    {
     "name": "stderr",
     "output_type": "stream",
     "text": [
      "\u001b[32m2024-07-11 16:50:18.552\u001b[0m | \u001b[1mINFO    \u001b[0m | \u001b[36m__main__\u001b[0m:\u001b[36mtrain\u001b[0m:\u001b[36m23\u001b[0m - \u001b[1mEpoch: 0, Batch: 281, Loss: 3.7692201137542725\u001b[0m\n",
      "\u001b[32m2024-07-11 16:50:18.552\u001b[0m | \u001b[1mINFO    \u001b[0m | \u001b[36m__main__\u001b[0m:\u001b[36mtrain\u001b[0m:\u001b[36m25\u001b[0m - \u001b[1mPer batch time: 1.261741075 sec\u001b[0m\n"
     ]
    },
    {
     "name": "stdout",
     "output_type": "stream",
     "text": [
      "torch.Size([1, 2, 200, 252]) torch.Size([1, 14, 200, 252])\n"
     ]
    },
    {
     "name": "stderr",
     "output_type": "stream",
     "text": [
      "\u001b[32m2024-07-11 16:50:19.872\u001b[0m | \u001b[1mINFO    \u001b[0m | \u001b[36m__main__\u001b[0m:\u001b[36mtrain\u001b[0m:\u001b[36m23\u001b[0m - \u001b[1mEpoch: 0, Batch: 282, Loss: 1.753462553024292\u001b[0m\n",
      "\u001b[32m2024-07-11 16:50:19.873\u001b[0m | \u001b[1mINFO    \u001b[0m | \u001b[36m__main__\u001b[0m:\u001b[36mtrain\u001b[0m:\u001b[36m25\u001b[0m - \u001b[1mPer batch time: 1.13017172 sec\u001b[0m\n"
     ]
    },
    {
     "name": "stdout",
     "output_type": "stream",
     "text": [
      "torch.Size([1, 2, 200, 252]) torch.Size([1, 14, 200, 252])\n"
     ]
    },
    {
     "name": "stderr",
     "output_type": "stream",
     "text": [
      "\u001b[32m2024-07-11 16:50:21.299\u001b[0m | \u001b[1mINFO    \u001b[0m | \u001b[36m__main__\u001b[0m:\u001b[36mtrain\u001b[0m:\u001b[36m23\u001b[0m - \u001b[1mEpoch: 0, Batch: 283, Loss: 2.83023738861084\u001b[0m\n",
      "\u001b[32m2024-07-11 16:50:21.299\u001b[0m | \u001b[1mINFO    \u001b[0m | \u001b[36m__main__\u001b[0m:\u001b[36mtrain\u001b[0m:\u001b[36m25\u001b[0m - \u001b[1mPer batch time: 1.354620649 sec\u001b[0m\n"
     ]
    },
    {
     "name": "stdout",
     "output_type": "stream",
     "text": [
      "torch.Size([1, 2, 200, 252]) torch.Size([1, 14, 200, 252])\n"
     ]
    },
    {
     "name": "stderr",
     "output_type": "stream",
     "text": [
      "\u001b[32m2024-07-11 16:50:22.719\u001b[0m | \u001b[1mINFO    \u001b[0m | \u001b[36m__main__\u001b[0m:\u001b[36mtrain\u001b[0m:\u001b[36m23\u001b[0m - \u001b[1mEpoch: 0, Batch: 284, Loss: 3.156290292739868\u001b[0m\n",
      "\u001b[32m2024-07-11 16:50:22.720\u001b[0m | \u001b[1mINFO    \u001b[0m | \u001b[36m__main__\u001b[0m:\u001b[36mtrain\u001b[0m:\u001b[36m25\u001b[0m - \u001b[1mPer batch time: 1.353929489 sec\u001b[0m\n"
     ]
    },
    {
     "name": "stdout",
     "output_type": "stream",
     "text": [
      "torch.Size([1, 2, 200, 252]) torch.Size([1, 14, 200, 252])\n"
     ]
    },
    {
     "name": "stderr",
     "output_type": "stream",
     "text": [
      "\u001b[32m2024-07-11 16:50:24.007\u001b[0m | \u001b[1mINFO    \u001b[0m | \u001b[36m__main__\u001b[0m:\u001b[36mtrain\u001b[0m:\u001b[36m23\u001b[0m - \u001b[1mEpoch: 0, Batch: 285, Loss: 1.8968303203582764\u001b[0m\n",
      "\u001b[32m2024-07-11 16:50:24.008\u001b[0m | \u001b[1mINFO    \u001b[0m | \u001b[36m__main__\u001b[0m:\u001b[36mtrain\u001b[0m:\u001b[36m25\u001b[0m - \u001b[1mPer batch time: 1.102349207 sec\u001b[0m\n"
     ]
    },
    {
     "name": "stdout",
     "output_type": "stream",
     "text": [
      "torch.Size([1, 2, 200, 252]) torch.Size([1, 14, 200, 252])\n"
     ]
    },
    {
     "name": "stderr",
     "output_type": "stream",
     "text": [
      "\u001b[32m2024-07-11 16:50:25.250\u001b[0m | \u001b[1mINFO    \u001b[0m | \u001b[36m__main__\u001b[0m:\u001b[36mtrain\u001b[0m:\u001b[36m23\u001b[0m - \u001b[1mEpoch: 0, Batch: 286, Loss: 2.648834228515625\u001b[0m\n",
      "\u001b[32m2024-07-11 16:50:25.251\u001b[0m | \u001b[1mINFO    \u001b[0m | \u001b[36m__main__\u001b[0m:\u001b[36mtrain\u001b[0m:\u001b[36m25\u001b[0m - \u001b[1mPer batch time: 1.152342933 sec\u001b[0m\n"
     ]
    },
    {
     "name": "stdout",
     "output_type": "stream",
     "text": [
      "torch.Size([1, 2, 200, 252]) torch.Size([1, 14, 200, 252])\n"
     ]
    },
    {
     "name": "stderr",
     "output_type": "stream",
     "text": [
      "\u001b[32m2024-07-11 16:50:26.516\u001b[0m | \u001b[1mINFO    \u001b[0m | \u001b[36m__main__\u001b[0m:\u001b[36mtrain\u001b[0m:\u001b[36m23\u001b[0m - \u001b[1mEpoch: 0, Batch: 287, Loss: 2.1458640098571777\u001b[0m\n",
      "\u001b[32m2024-07-11 16:50:26.517\u001b[0m | \u001b[1mINFO    \u001b[0m | \u001b[36m__main__\u001b[0m:\u001b[36mtrain\u001b[0m:\u001b[36m25\u001b[0m - \u001b[1mPer batch time: 1.123156134 sec\u001b[0m\n"
     ]
    },
    {
     "name": "stdout",
     "output_type": "stream",
     "text": [
      "torch.Size([1, 2, 200, 252]) torch.Size([1, 14, 200, 252])\n"
     ]
    },
    {
     "name": "stderr",
     "output_type": "stream",
     "text": [
      "\u001b[32m2024-07-11 16:50:27.872\u001b[0m | \u001b[1mINFO    \u001b[0m | \u001b[36m__main__\u001b[0m:\u001b[36mtrain\u001b[0m:\u001b[36m23\u001b[0m - \u001b[1mEpoch: 0, Batch: 288, Loss: 2.434580087661743\u001b[0m\n",
      "\u001b[32m2024-07-11 16:50:27.873\u001b[0m | \u001b[1mINFO    \u001b[0m | \u001b[36m__main__\u001b[0m:\u001b[36mtrain\u001b[0m:\u001b[36m25\u001b[0m - \u001b[1mPer batch time: 1.053186237 sec\u001b[0m\n"
     ]
    },
    {
     "name": "stdout",
     "output_type": "stream",
     "text": [
      "torch.Size([1, 2, 200, 252]) torch.Size([1, 14, 200, 252])\n"
     ]
    },
    {
     "name": "stderr",
     "output_type": "stream",
     "text": [
      "\u001b[32m2024-07-11 16:50:29.188\u001b[0m | \u001b[1mINFO    \u001b[0m | \u001b[36m__main__\u001b[0m:\u001b[36mtrain\u001b[0m:\u001b[36m23\u001b[0m - \u001b[1mEpoch: 0, Batch: 289, Loss: 2.7132363319396973\u001b[0m\n",
      "\u001b[32m2024-07-11 16:50:29.189\u001b[0m | \u001b[1mINFO    \u001b[0m | \u001b[36m__main__\u001b[0m:\u001b[36mtrain\u001b[0m:\u001b[36m25\u001b[0m - \u001b[1mPer batch time: 1.174508661 sec\u001b[0m\n"
     ]
    },
    {
     "name": "stdout",
     "output_type": "stream",
     "text": [
      "torch.Size([1, 2, 200, 252]) torch.Size([1, 14, 200, 252])\n"
     ]
    },
    {
     "name": "stderr",
     "output_type": "stream",
     "text": [
      "\u001b[32m2024-07-11 16:50:30.495\u001b[0m | \u001b[1mINFO    \u001b[0m | \u001b[36m__main__\u001b[0m:\u001b[36mtrain\u001b[0m:\u001b[36m23\u001b[0m - \u001b[1mEpoch: 0, Batch: 290, Loss: 1.4602670669555664\u001b[0m\n",
      "\u001b[32m2024-07-11 16:50:30.496\u001b[0m | \u001b[1mINFO    \u001b[0m | \u001b[36m__main__\u001b[0m:\u001b[36mtrain\u001b[0m:\u001b[36m25\u001b[0m - \u001b[1mPer batch time: 1.212003113 sec\u001b[0m\n"
     ]
    },
    {
     "name": "stdout",
     "output_type": "stream",
     "text": [
      "torch.Size([1, 2, 200, 252]) torch.Size([1, 14, 200, 252])\n"
     ]
    },
    {
     "name": "stderr",
     "output_type": "stream",
     "text": [
      "\u001b[32m2024-07-11 16:50:31.896\u001b[0m | \u001b[1mINFO    \u001b[0m | \u001b[36m__main__\u001b[0m:\u001b[36mtrain\u001b[0m:\u001b[36m23\u001b[0m - \u001b[1mEpoch: 0, Batch: 291, Loss: 2.572004556655884\u001b[0m\n",
      "\u001b[32m2024-07-11 16:50:31.896\u001b[0m | \u001b[1mINFO    \u001b[0m | \u001b[36m__main__\u001b[0m:\u001b[36mtrain\u001b[0m:\u001b[36m25\u001b[0m - \u001b[1mPer batch time: 1.304256696 sec\u001b[0m\n"
     ]
    },
    {
     "name": "stdout",
     "output_type": "stream",
     "text": [
      "torch.Size([1, 2, 200, 252]) torch.Size([1, 14, 200, 252])\n"
     ]
    },
    {
     "name": "stderr",
     "output_type": "stream",
     "text": [
      "\u001b[32m2024-07-11 16:50:33.386\u001b[0m | \u001b[1mINFO    \u001b[0m | \u001b[36m__main__\u001b[0m:\u001b[36mtrain\u001b[0m:\u001b[36m23\u001b[0m - \u001b[1mEpoch: 0, Batch: 292, Loss: 2.732008934020996\u001b[0m\n",
      "\u001b[32m2024-07-11 16:50:33.387\u001b[0m | \u001b[1mINFO    \u001b[0m | \u001b[36m__main__\u001b[0m:\u001b[36mtrain\u001b[0m:\u001b[36m25\u001b[0m - \u001b[1mPer batch time: 1.361100866 sec\u001b[0m\n"
     ]
    },
    {
     "name": "stdout",
     "output_type": "stream",
     "text": [
      "torch.Size([1, 2, 200, 252]) torch.Size([1, 14, 200, 252])\n"
     ]
    },
    {
     "name": "stderr",
     "output_type": "stream",
     "text": [
      "\u001b[32m2024-07-11 16:50:34.847\u001b[0m | \u001b[1mINFO    \u001b[0m | \u001b[36m__main__\u001b[0m:\u001b[36mtrain\u001b[0m:\u001b[36m23\u001b[0m - \u001b[1mEpoch: 0, Batch: 293, Loss: 2.5021824836730957\u001b[0m\n",
      "\u001b[32m2024-07-11 16:50:34.848\u001b[0m | \u001b[1mINFO    \u001b[0m | \u001b[36m__main__\u001b[0m:\u001b[36mtrain\u001b[0m:\u001b[36m25\u001b[0m - \u001b[1mPer batch time: 1.29365639 sec\u001b[0m\n"
     ]
    },
    {
     "name": "stdout",
     "output_type": "stream",
     "text": [
      "torch.Size([1, 2, 200, 252]) torch.Size([1, 14, 200, 252])\n"
     ]
    },
    {
     "name": "stderr",
     "output_type": "stream",
     "text": [
      "\u001b[32m2024-07-11 16:50:36.114\u001b[0m | \u001b[1mINFO    \u001b[0m | \u001b[36m__main__\u001b[0m:\u001b[36mtrain\u001b[0m:\u001b[36m23\u001b[0m - \u001b[1mEpoch: 0, Batch: 294, Loss: 2.7354190349578857\u001b[0m\n",
      "\u001b[32m2024-07-11 16:50:36.115\u001b[0m | \u001b[1mINFO    \u001b[0m | \u001b[36m__main__\u001b[0m:\u001b[36mtrain\u001b[0m:\u001b[36m25\u001b[0m - \u001b[1mPer batch time: 1.119605 sec\u001b[0m\n"
     ]
    },
    {
     "name": "stdout",
     "output_type": "stream",
     "text": [
      "torch.Size([1, 2, 200, 252]) torch.Size([1, 14, 200, 252])\n"
     ]
    },
    {
     "name": "stderr",
     "output_type": "stream",
     "text": [
      "\u001b[32m2024-07-11 16:50:37.451\u001b[0m | \u001b[1mINFO    \u001b[0m | \u001b[36m__main__\u001b[0m:\u001b[36mtrain\u001b[0m:\u001b[36m23\u001b[0m - \u001b[1mEpoch: 0, Batch: 295, Loss: 1.7258760929107666\u001b[0m\n",
      "\u001b[32m2024-07-11 16:50:37.452\u001b[0m | \u001b[1mINFO    \u001b[0m | \u001b[36m__main__\u001b[0m:\u001b[36mtrain\u001b[0m:\u001b[36m25\u001b[0m - \u001b[1mPer batch time: 1.16530475 sec\u001b[0m\n"
     ]
    },
    {
     "name": "stdout",
     "output_type": "stream",
     "text": [
      "torch.Size([1, 2, 200, 252]) torch.Size([1, 14, 200, 252])\n"
     ]
    },
    {
     "name": "stderr",
     "output_type": "stream",
     "text": [
      "\u001b[32m2024-07-11 16:50:38.842\u001b[0m | \u001b[1mINFO    \u001b[0m | \u001b[36m__main__\u001b[0m:\u001b[36mtrain\u001b[0m:\u001b[36m23\u001b[0m - \u001b[1mEpoch: 0, Batch: 296, Loss: 1.6646144390106201\u001b[0m\n",
      "\u001b[32m2024-07-11 16:50:38.842\u001b[0m | \u001b[1mINFO    \u001b[0m | \u001b[36m__main__\u001b[0m:\u001b[36mtrain\u001b[0m:\u001b[36m25\u001b[0m - \u001b[1mPer batch time: 1.320865681 sec\u001b[0m\n"
     ]
    },
    {
     "name": "stdout",
     "output_type": "stream",
     "text": [
      "torch.Size([1, 2, 200, 252]) torch.Size([1, 14, 200, 252])\n"
     ]
    },
    {
     "name": "stderr",
     "output_type": "stream",
     "text": [
      "\u001b[32m2024-07-11 16:50:40.220\u001b[0m | \u001b[1mINFO    \u001b[0m | \u001b[36m__main__\u001b[0m:\u001b[36mtrain\u001b[0m:\u001b[36m23\u001b[0m - \u001b[1mEpoch: 0, Batch: 297, Loss: 3.066281318664551\u001b[0m\n",
      "\u001b[32m2024-07-11 16:50:40.221\u001b[0m | \u001b[1mINFO    \u001b[0m | \u001b[36m__main__\u001b[0m:\u001b[36mtrain\u001b[0m:\u001b[36m25\u001b[0m - \u001b[1mPer batch time: 1.138889724 sec\u001b[0m\n"
     ]
    },
    {
     "name": "stdout",
     "output_type": "stream",
     "text": [
      "torch.Size([1, 2, 200, 252]) torch.Size([1, 14, 200, 252])\n"
     ]
    },
    {
     "name": "stderr",
     "output_type": "stream",
     "text": [
      "\u001b[32m2024-07-11 16:50:41.625\u001b[0m | \u001b[1mINFO    \u001b[0m | \u001b[36m__main__\u001b[0m:\u001b[36mtrain\u001b[0m:\u001b[36m23\u001b[0m - \u001b[1mEpoch: 0, Batch: 298, Loss: 1.1014667749404907\u001b[0m\n",
      "\u001b[32m2024-07-11 16:50:41.626\u001b[0m | \u001b[1mINFO    \u001b[0m | \u001b[36m__main__\u001b[0m:\u001b[36mtrain\u001b[0m:\u001b[36m25\u001b[0m - \u001b[1mPer batch time: 1.28223201 sec\u001b[0m\n"
     ]
    },
    {
     "name": "stdout",
     "output_type": "stream",
     "text": [
      "torch.Size([1, 2, 200, 252]) torch.Size([1, 14, 200, 252])\n"
     ]
    },
    {
     "name": "stderr",
     "output_type": "stream",
     "text": [
      "\u001b[32m2024-07-11 16:50:43.017\u001b[0m | \u001b[1mINFO    \u001b[0m | \u001b[36m__main__\u001b[0m:\u001b[36mtrain\u001b[0m:\u001b[36m23\u001b[0m - \u001b[1mEpoch: 0, Batch: 299, Loss: 3.485478639602661\u001b[0m\n",
      "\u001b[32m2024-07-11 16:50:43.017\u001b[0m | \u001b[1mINFO    \u001b[0m | \u001b[36m__main__\u001b[0m:\u001b[36mtrain\u001b[0m:\u001b[36m25\u001b[0m - \u001b[1mPer batch time: 1.227445281 sec\u001b[0m\n"
     ]
    },
    {
     "name": "stdout",
     "output_type": "stream",
     "text": [
      "torch.Size([1, 2, 200, 252]) torch.Size([1, 14, 200, 252])\n"
     ]
    },
    {
     "name": "stderr",
     "output_type": "stream",
     "text": [
      "\u001b[32m2024-07-11 16:50:44.597\u001b[0m | \u001b[1mINFO    \u001b[0m | \u001b[36m__main__\u001b[0m:\u001b[36mtrain\u001b[0m:\u001b[36m23\u001b[0m - \u001b[1mEpoch: 0, Batch: 300, Loss: 2.2697157859802246\u001b[0m\n",
      "\u001b[32m2024-07-11 16:50:44.598\u001b[0m | \u001b[1mINFO    \u001b[0m | \u001b[36m__main__\u001b[0m:\u001b[36mtrain\u001b[0m:\u001b[36m25\u001b[0m - \u001b[1mPer batch time: 1.350379715 sec\u001b[0m\n"
     ]
    },
    {
     "name": "stdout",
     "output_type": "stream",
     "text": [
      "torch.Size([1, 2, 200, 252]) torch.Size([1, 14, 200, 252])\n"
     ]
    },
    {
     "name": "stderr",
     "output_type": "stream",
     "text": [
      "\u001b[32m2024-07-11 16:50:46.064\u001b[0m | \u001b[1mINFO    \u001b[0m | \u001b[36m__main__\u001b[0m:\u001b[36mtrain\u001b[0m:\u001b[36m23\u001b[0m - \u001b[1mEpoch: 0, Batch: 301, Loss: 1.7825355529785156\u001b[0m\n",
      "\u001b[32m2024-07-11 16:50:46.064\u001b[0m | \u001b[1mINFO    \u001b[0m | \u001b[36m__main__\u001b[0m:\u001b[36mtrain\u001b[0m:\u001b[36m25\u001b[0m - \u001b[1mPer batch time: 1.304544989 sec\u001b[0m\n"
     ]
    },
    {
     "name": "stdout",
     "output_type": "stream",
     "text": [
      "torch.Size([1, 2, 200, 252]) torch.Size([1, 14, 200, 252])\n"
     ]
    },
    {
     "name": "stderr",
     "output_type": "stream",
     "text": [
      "\u001b[32m2024-07-11 16:50:47.496\u001b[0m | \u001b[1mINFO    \u001b[0m | \u001b[36m__main__\u001b[0m:\u001b[36mtrain\u001b[0m:\u001b[36m23\u001b[0m - \u001b[1mEpoch: 0, Batch: 302, Loss: 2.872981548309326\u001b[0m\n",
      "\u001b[32m2024-07-11 16:50:47.497\u001b[0m | \u001b[1mINFO    \u001b[0m | \u001b[36m__main__\u001b[0m:\u001b[36mtrain\u001b[0m:\u001b[36m25\u001b[0m - \u001b[1mPer batch time: 1.254158278 sec\u001b[0m\n"
     ]
    },
    {
     "name": "stdout",
     "output_type": "stream",
     "text": [
      "torch.Size([1, 2, 200, 252]) torch.Size([1, 14, 200, 252])\n"
     ]
    },
    {
     "name": "stderr",
     "output_type": "stream",
     "text": [
      "\u001b[32m2024-07-11 16:50:49.049\u001b[0m | \u001b[1mINFO    \u001b[0m | \u001b[36m__main__\u001b[0m:\u001b[36mtrain\u001b[0m:\u001b[36m23\u001b[0m - \u001b[1mEpoch: 0, Batch: 303, Loss: 3.372832775115967\u001b[0m\n",
      "\u001b[32m2024-07-11 16:50:49.050\u001b[0m | \u001b[1mINFO    \u001b[0m | \u001b[36m__main__\u001b[0m:\u001b[36mtrain\u001b[0m:\u001b[36m25\u001b[0m - \u001b[1mPer batch time: 1.433540702 sec\u001b[0m\n"
     ]
    },
    {
     "name": "stdout",
     "output_type": "stream",
     "text": [
      "torch.Size([1, 2, 200, 252]) torch.Size([1, 14, 200, 252])\n"
     ]
    },
    {
     "name": "stderr",
     "output_type": "stream",
     "text": [
      "\u001b[32m2024-07-11 16:50:50.327\u001b[0m | \u001b[1mINFO    \u001b[0m | \u001b[36m__main__\u001b[0m:\u001b[36mtrain\u001b[0m:\u001b[36m23\u001b[0m - \u001b[1mEpoch: 0, Batch: 304, Loss: 2.284694194793701\u001b[0m\n",
      "\u001b[32m2024-07-11 16:50:50.328\u001b[0m | \u001b[1mINFO    \u001b[0m | \u001b[36m__main__\u001b[0m:\u001b[36mtrain\u001b[0m:\u001b[36m25\u001b[0m - \u001b[1mPer batch time: 1.105624098 sec\u001b[0m\n"
     ]
    },
    {
     "name": "stdout",
     "output_type": "stream",
     "text": [
      "torch.Size([1, 2, 200, 252]) torch.Size([1, 14, 200, 252])\n"
     ]
    },
    {
     "name": "stderr",
     "output_type": "stream",
     "text": [
      "\u001b[32m2024-07-11 16:50:51.667\u001b[0m | \u001b[1mINFO    \u001b[0m | \u001b[36m__main__\u001b[0m:\u001b[36mtrain\u001b[0m:\u001b[36m23\u001b[0m - \u001b[1mEpoch: 0, Batch: 305, Loss: 2.5622525215148926\u001b[0m\n",
      "\u001b[32m2024-07-11 16:50:51.668\u001b[0m | \u001b[1mINFO    \u001b[0m | \u001b[36m__main__\u001b[0m:\u001b[36mtrain\u001b[0m:\u001b[36m25\u001b[0m - \u001b[1mPer batch time: 1.164152238 sec\u001b[0m\n"
     ]
    },
    {
     "name": "stdout",
     "output_type": "stream",
     "text": [
      "torch.Size([1, 2, 200, 252]) torch.Size([1, 14, 200, 252])\n"
     ]
    },
    {
     "name": "stderr",
     "output_type": "stream",
     "text": [
      "\u001b[32m2024-07-11 16:50:52.954\u001b[0m | \u001b[1mINFO    \u001b[0m | \u001b[36m__main__\u001b[0m:\u001b[36mtrain\u001b[0m:\u001b[36m23\u001b[0m - \u001b[1mEpoch: 0, Batch: 306, Loss: 1.858180046081543\u001b[0m\n",
      "\u001b[32m2024-07-11 16:50:52.954\u001b[0m | \u001b[1mINFO    \u001b[0m | \u001b[36m__main__\u001b[0m:\u001b[36mtrain\u001b[0m:\u001b[36m25\u001b[0m - \u001b[1mPer batch time: 1.095845287 sec\u001b[0m\n"
     ]
    },
    {
     "name": "stdout",
     "output_type": "stream",
     "text": [
      "torch.Size([1, 2, 200, 252]) torch.Size([1, 14, 200, 252])\n"
     ]
    },
    {
     "name": "stderr",
     "output_type": "stream",
     "text": [
      "\u001b[32m2024-07-11 16:50:54.302\u001b[0m | \u001b[1mINFO    \u001b[0m | \u001b[36m__main__\u001b[0m:\u001b[36mtrain\u001b[0m:\u001b[36m23\u001b[0m - \u001b[1mEpoch: 0, Batch: 307, Loss: 2.9055681228637695\u001b[0m\n",
      "\u001b[32m2024-07-11 16:50:54.303\u001b[0m | \u001b[1mINFO    \u001b[0m | \u001b[36m__main__\u001b[0m:\u001b[36mtrain\u001b[0m:\u001b[36m25\u001b[0m - \u001b[1mPer batch time: 1.278341108 sec\u001b[0m\n"
     ]
    },
    {
     "name": "stdout",
     "output_type": "stream",
     "text": [
      "torch.Size([1, 2, 200, 252]) torch.Size([1, 14, 200, 252])\n"
     ]
    },
    {
     "name": "stderr",
     "output_type": "stream",
     "text": [
      "\u001b[32m2024-07-11 16:50:55.599\u001b[0m | \u001b[1mINFO    \u001b[0m | \u001b[36m__main__\u001b[0m:\u001b[36mtrain\u001b[0m:\u001b[36m23\u001b[0m - \u001b[1mEpoch: 0, Batch: 308, Loss: 2.459228515625\u001b[0m\n",
      "\u001b[32m2024-07-11 16:50:55.600\u001b[0m | \u001b[1mINFO    \u001b[0m | \u001b[36m__main__\u001b[0m:\u001b[36mtrain\u001b[0m:\u001b[36m25\u001b[0m - \u001b[1mPer batch time: 1.139024718 sec\u001b[0m\n"
     ]
    },
    {
     "name": "stdout",
     "output_type": "stream",
     "text": [
      "torch.Size([1, 2, 200, 252]) torch.Size([1, 14, 200, 252])\n"
     ]
    },
    {
     "name": "stderr",
     "output_type": "stream",
     "text": [
      "\u001b[32m2024-07-11 16:50:56.820\u001b[0m | \u001b[1mINFO    \u001b[0m | \u001b[36m__main__\u001b[0m:\u001b[36mtrain\u001b[0m:\u001b[36m23\u001b[0m - \u001b[1mEpoch: 0, Batch: 309, Loss: 3.3325304985046387\u001b[0m\n",
      "\u001b[32m2024-07-11 16:50:56.820\u001b[0m | \u001b[1mINFO    \u001b[0m | \u001b[36m__main__\u001b[0m:\u001b[36mtrain\u001b[0m:\u001b[36m25\u001b[0m - \u001b[1mPer batch time: 1.060842071 sec\u001b[0m\n"
     ]
    },
    {
     "name": "stdout",
     "output_type": "stream",
     "text": [
      "torch.Size([1, 2, 200, 252]) torch.Size([1, 14, 200, 252])\n"
     ]
    },
    {
     "name": "stderr",
     "output_type": "stream",
     "text": [
      "\u001b[32m2024-07-11 16:50:58.241\u001b[0m | \u001b[1mINFO    \u001b[0m | \u001b[36m__main__\u001b[0m:\u001b[36mtrain\u001b[0m:\u001b[36m23\u001b[0m - \u001b[1mEpoch: 0, Batch: 310, Loss: 3.0896706581115723\u001b[0m\n",
      "\u001b[32m2024-07-11 16:50:58.242\u001b[0m | \u001b[1mINFO    \u001b[0m | \u001b[36m__main__\u001b[0m:\u001b[36mtrain\u001b[0m:\u001b[36m25\u001b[0m - \u001b[1mPer batch time: 1.273517115 sec\u001b[0m\n"
     ]
    },
    {
     "name": "stdout",
     "output_type": "stream",
     "text": [
      "torch.Size([1, 2, 200, 252]) torch.Size([1, 14, 200, 252])\n"
     ]
    },
    {
     "name": "stderr",
     "output_type": "stream",
     "text": [
      "\u001b[32m2024-07-11 16:50:59.487\u001b[0m | \u001b[1mINFO    \u001b[0m | \u001b[36m__main__\u001b[0m:\u001b[36mtrain\u001b[0m:\u001b[36m23\u001b[0m - \u001b[1mEpoch: 0, Batch: 311, Loss: 0.8578916192054749\u001b[0m\n",
      "\u001b[32m2024-07-11 16:50:59.488\u001b[0m | \u001b[1mINFO    \u001b[0m | \u001b[36m__main__\u001b[0m:\u001b[36mtrain\u001b[0m:\u001b[36m25\u001b[0m - \u001b[1mPer batch time: 1.12823395 sec\u001b[0m\n"
     ]
    },
    {
     "name": "stdout",
     "output_type": "stream",
     "text": [
      "torch.Size([1, 2, 200, 252]) torch.Size([1, 14, 200, 252])\n"
     ]
    },
    {
     "name": "stderr",
     "output_type": "stream",
     "text": [
      "\u001b[32m2024-07-11 16:51:00.818\u001b[0m | \u001b[1mINFO    \u001b[0m | \u001b[36m__main__\u001b[0m:\u001b[36mtrain\u001b[0m:\u001b[36m23\u001b[0m - \u001b[1mEpoch: 0, Batch: 312, Loss: 3.861887216567993\u001b[0m\n",
      "\u001b[32m2024-07-11 16:51:00.818\u001b[0m | \u001b[1mINFO    \u001b[0m | \u001b[36m__main__\u001b[0m:\u001b[36mtrain\u001b[0m:\u001b[36m25\u001b[0m - \u001b[1mPer batch time: 1.202928275 sec\u001b[0m\n"
     ]
    },
    {
     "name": "stdout",
     "output_type": "stream",
     "text": [
      "torch.Size([1, 2, 200, 252]) torch.Size([1, 14, 200, 252])\n"
     ]
    },
    {
     "name": "stderr",
     "output_type": "stream",
     "text": [
      "\u001b[32m2024-07-11 16:51:02.195\u001b[0m | \u001b[1mINFO    \u001b[0m | \u001b[36m__main__\u001b[0m:\u001b[36mtrain\u001b[0m:\u001b[36m23\u001b[0m - \u001b[1mEpoch: 0, Batch: 313, Loss: 2.4763903617858887\u001b[0m\n",
      "\u001b[32m2024-07-11 16:51:02.195\u001b[0m | \u001b[1mINFO    \u001b[0m | \u001b[36m__main__\u001b[0m:\u001b[36mtrain\u001b[0m:\u001b[36m25\u001b[0m - \u001b[1mPer batch time: 1.194314442 sec\u001b[0m\n"
     ]
    },
    {
     "name": "stdout",
     "output_type": "stream",
     "text": [
      "torch.Size([1, 2, 200, 252]) torch.Size([1, 14, 200, 252])\n"
     ]
    },
    {
     "name": "stderr",
     "output_type": "stream",
     "text": [
      "\u001b[32m2024-07-11 16:51:03.567\u001b[0m | \u001b[1mINFO    \u001b[0m | \u001b[36m__main__\u001b[0m:\u001b[36mtrain\u001b[0m:\u001b[36m23\u001b[0m - \u001b[1mEpoch: 0, Batch: 314, Loss: 2.2226061820983887\u001b[0m\n",
      "\u001b[32m2024-07-11 16:51:03.568\u001b[0m | \u001b[1mINFO    \u001b[0m | \u001b[36m__main__\u001b[0m:\u001b[36mtrain\u001b[0m:\u001b[36m25\u001b[0m - \u001b[1mPer batch time: 1.229491872 sec\u001b[0m\n"
     ]
    },
    {
     "name": "stdout",
     "output_type": "stream",
     "text": [
      "torch.Size([1, 2, 200, 252]) torch.Size([1, 14, 200, 252])\n"
     ]
    },
    {
     "name": "stderr",
     "output_type": "stream",
     "text": [
      "\u001b[32m2024-07-11 16:51:05.193\u001b[0m | \u001b[1mINFO    \u001b[0m | \u001b[36m__main__\u001b[0m:\u001b[36mtrain\u001b[0m:\u001b[36m23\u001b[0m - \u001b[1mEpoch: 0, Batch: 315, Loss: 2.846640110015869\u001b[0m\n",
      "\u001b[32m2024-07-11 16:51:05.194\u001b[0m | \u001b[1mINFO    \u001b[0m | \u001b[36m__main__\u001b[0m:\u001b[36mtrain\u001b[0m:\u001b[36m25\u001b[0m - \u001b[1mPer batch time: 1.447137152 sec\u001b[0m\n"
     ]
    },
    {
     "name": "stdout",
     "output_type": "stream",
     "text": [
      "torch.Size([1, 2, 200, 252]) torch.Size([1, 14, 200, 252])\n"
     ]
    },
    {
     "name": "stderr",
     "output_type": "stream",
     "text": [
      "\u001b[32m2024-07-11 16:51:06.472\u001b[0m | \u001b[1mINFO    \u001b[0m | \u001b[36m__main__\u001b[0m:\u001b[36mtrain\u001b[0m:\u001b[36m23\u001b[0m - \u001b[1mEpoch: 0, Batch: 316, Loss: 2.864868640899658\u001b[0m\n",
      "\u001b[32m2024-07-11 16:51:06.473\u001b[0m | \u001b[1mINFO    \u001b[0m | \u001b[36m__main__\u001b[0m:\u001b[36mtrain\u001b[0m:\u001b[36m25\u001b[0m - \u001b[1mPer batch time: 1.127035369 sec\u001b[0m\n"
     ]
    },
    {
     "name": "stdout",
     "output_type": "stream",
     "text": [
      "torch.Size([1, 2, 200, 252]) torch.Size([1, 14, 200, 252])\n"
     ]
    },
    {
     "name": "stderr",
     "output_type": "stream",
     "text": [
      "\u001b[32m2024-07-11 16:51:08.014\u001b[0m | \u001b[1mINFO    \u001b[0m | \u001b[36m__main__\u001b[0m:\u001b[36mtrain\u001b[0m:\u001b[36m23\u001b[0m - \u001b[1mEpoch: 0, Batch: 317, Loss: 3.5723154544830322\u001b[0m\n",
      "\u001b[32m2024-07-11 16:51:08.015\u001b[0m | \u001b[1mINFO    \u001b[0m | \u001b[36m__main__\u001b[0m:\u001b[36mtrain\u001b[0m:\u001b[36m25\u001b[0m - \u001b[1mPer batch time: 1.395403958 sec\u001b[0m\n"
     ]
    },
    {
     "name": "stdout",
     "output_type": "stream",
     "text": [
      "torch.Size([1, 2, 200, 252]) torch.Size([1, 14, 200, 252])\n"
     ]
    },
    {
     "name": "stderr",
     "output_type": "stream",
     "text": [
      "\u001b[32m2024-07-11 16:51:09.347\u001b[0m | \u001b[1mINFO    \u001b[0m | \u001b[36m__main__\u001b[0m:\u001b[36mtrain\u001b[0m:\u001b[36m23\u001b[0m - \u001b[1mEpoch: 0, Batch: 318, Loss: 3.1296632289886475\u001b[0m\n",
      "\u001b[32m2024-07-11 16:51:09.347\u001b[0m | \u001b[1mINFO    \u001b[0m | \u001b[36m__main__\u001b[0m:\u001b[36mtrain\u001b[0m:\u001b[36m25\u001b[0m - \u001b[1mPer batch time: 1.183643727 sec\u001b[0m\n"
     ]
    },
    {
     "name": "stdout",
     "output_type": "stream",
     "text": [
      "torch.Size([1, 2, 200, 252]) torch.Size([1, 14, 200, 252])\n"
     ]
    },
    {
     "name": "stderr",
     "output_type": "stream",
     "text": [
      "\u001b[32m2024-07-11 16:51:10.660\u001b[0m | \u001b[1mINFO    \u001b[0m | \u001b[36m__main__\u001b[0m:\u001b[36mtrain\u001b[0m:\u001b[36m23\u001b[0m - \u001b[1mEpoch: 0, Batch: 319, Loss: 2.6232118606567383\u001b[0m\n",
      "\u001b[32m2024-07-11 16:51:10.660\u001b[0m | \u001b[1mINFO    \u001b[0m | \u001b[36m__main__\u001b[0m:\u001b[36mtrain\u001b[0m:\u001b[36m25\u001b[0m - \u001b[1mPer batch time: 1.113909495 sec\u001b[0m\n"
     ]
    },
    {
     "name": "stdout",
     "output_type": "stream",
     "text": [
      "torch.Size([1, 2, 200, 252]) torch.Size([1, 14, 200, 252])\n"
     ]
    },
    {
     "name": "stderr",
     "output_type": "stream",
     "text": [
      "\u001b[32m2024-07-11 16:51:11.713\u001b[0m | \u001b[1mINFO    \u001b[0m | \u001b[36m__main__\u001b[0m:\u001b[36mtrain\u001b[0m:\u001b[36m23\u001b[0m - \u001b[1mEpoch: 0, Batch: 320, Loss: 2.273679256439209\u001b[0m\n",
      "\u001b[32m2024-07-11 16:51:11.713\u001b[0m | \u001b[1mINFO    \u001b[0m | \u001b[36m__main__\u001b[0m:\u001b[36mtrain\u001b[0m:\u001b[36m25\u001b[0m - \u001b[1mPer batch time: 0.919195287 sec\u001b[0m\n"
     ]
    },
    {
     "name": "stdout",
     "output_type": "stream",
     "text": [
      "torch.Size([1, 2, 200, 252]) torch.Size([1, 14, 200, 252])\n"
     ]
    },
    {
     "name": "stderr",
     "output_type": "stream",
     "text": [
      "\u001b[32m2024-07-11 16:51:13.136\u001b[0m | \u001b[1mINFO    \u001b[0m | \u001b[36m__main__\u001b[0m:\u001b[36mtrain\u001b[0m:\u001b[36m23\u001b[0m - \u001b[1mEpoch: 0, Batch: 321, Loss: 3.4192333221435547\u001b[0m\n",
      "\u001b[32m2024-07-11 16:51:13.137\u001b[0m | \u001b[1mINFO    \u001b[0m | \u001b[36m__main__\u001b[0m:\u001b[36mtrain\u001b[0m:\u001b[36m25\u001b[0m - \u001b[1mPer batch time: 1.275019736 sec\u001b[0m\n"
     ]
    },
    {
     "name": "stdout",
     "output_type": "stream",
     "text": [
      "torch.Size([1, 2, 200, 252]) torch.Size([1, 14, 200, 252])\n"
     ]
    },
    {
     "name": "stderr",
     "output_type": "stream",
     "text": [
      "\u001b[32m2024-07-11 16:51:14.425\u001b[0m | \u001b[1mINFO    \u001b[0m | \u001b[36m__main__\u001b[0m:\u001b[36mtrain\u001b[0m:\u001b[36m23\u001b[0m - \u001b[1mEpoch: 0, Batch: 322, Loss: 1.8272817134857178\u001b[0m\n",
      "\u001b[32m2024-07-11 16:51:14.425\u001b[0m | \u001b[1mINFO    \u001b[0m | \u001b[36m__main__\u001b[0m:\u001b[36mtrain\u001b[0m:\u001b[36m25\u001b[0m - \u001b[1mPer batch time: 1.111691036 sec\u001b[0m\n"
     ]
    },
    {
     "name": "stdout",
     "output_type": "stream",
     "text": [
      "torch.Size([1, 2, 200, 252]) torch.Size([1, 14, 200, 252])\n"
     ]
    },
    {
     "name": "stderr",
     "output_type": "stream",
     "text": [
      "\u001b[32m2024-07-11 16:51:15.731\u001b[0m | \u001b[1mINFO    \u001b[0m | \u001b[36m__main__\u001b[0m:\u001b[36mtrain\u001b[0m:\u001b[36m23\u001b[0m - \u001b[1mEpoch: 1, Batch: 0, Loss: 3.991779327392578\u001b[0m\n",
      "\u001b[32m2024-07-11 16:51:15.732\u001b[0m | \u001b[1mINFO    \u001b[0m | \u001b[36m__main__\u001b[0m:\u001b[36mtrain\u001b[0m:\u001b[36m25\u001b[0m - \u001b[1mPer batch time: 1.242941847 sec\u001b[0m\n"
     ]
    },
    {
     "name": "stdout",
     "output_type": "stream",
     "text": [
      "torch.Size([1, 2, 200, 252]) torch.Size([1, 14, 200, 252])\n"
     ]
    },
    {
     "name": "stderr",
     "output_type": "stream",
     "text": [
      "\u001b[32m2024-07-11 16:51:17.103\u001b[0m | \u001b[1mINFO    \u001b[0m | \u001b[36m__main__\u001b[0m:\u001b[36mtrain\u001b[0m:\u001b[36m23\u001b[0m - \u001b[1mEpoch: 1, Batch: 1, Loss: 2.586449146270752\u001b[0m\n",
      "\u001b[32m2024-07-11 16:51:17.104\u001b[0m | \u001b[1mINFO    \u001b[0m | \u001b[36m__main__\u001b[0m:\u001b[36mtrain\u001b[0m:\u001b[36m25\u001b[0m - \u001b[1mPer batch time: 1.311602796 sec\u001b[0m\n"
     ]
    },
    {
     "name": "stdout",
     "output_type": "stream",
     "text": [
      "torch.Size([1, 2, 200, 252]) torch.Size([1, 14, 200, 252])\n"
     ]
    },
    {
     "name": "stderr",
     "output_type": "stream",
     "text": [
      "\u001b[32m2024-07-11 16:51:18.338\u001b[0m | \u001b[1mINFO    \u001b[0m | \u001b[36m__main__\u001b[0m:\u001b[36mtrain\u001b[0m:\u001b[36m23\u001b[0m - \u001b[1mEpoch: 1, Batch: 2, Loss: 1.7734649181365967\u001b[0m\n",
      "\u001b[32m2024-07-11 16:51:18.339\u001b[0m | \u001b[1mINFO    \u001b[0m | \u001b[36m__main__\u001b[0m:\u001b[36mtrain\u001b[0m:\u001b[36m25\u001b[0m - \u001b[1mPer batch time: 1.162858596 sec\u001b[0m\n"
     ]
    },
    {
     "name": "stdout",
     "output_type": "stream",
     "text": [
      "torch.Size([1, 2, 200, 252]) torch.Size([1, 14, 200, 252])\n"
     ]
    },
    {
     "name": "stderr",
     "output_type": "stream",
     "text": [
      "\u001b[32m2024-07-11 16:51:19.559\u001b[0m | \u001b[1mINFO    \u001b[0m | \u001b[36m__main__\u001b[0m:\u001b[36mtrain\u001b[0m:\u001b[36m23\u001b[0m - \u001b[1mEpoch: 1, Batch: 3, Loss: 2.5876383781433105\u001b[0m\n",
      "\u001b[32m2024-07-11 16:51:19.559\u001b[0m | \u001b[1mINFO    \u001b[0m | \u001b[36m__main__\u001b[0m:\u001b[36mtrain\u001b[0m:\u001b[36m25\u001b[0m - \u001b[1mPer batch time: 1.145072766 sec\u001b[0m\n"
     ]
    },
    {
     "name": "stdout",
     "output_type": "stream",
     "text": [
      "torch.Size([1, 2, 200, 252]) torch.Size([1, 14, 200, 252])\n"
     ]
    },
    {
     "name": "stderr",
     "output_type": "stream",
     "text": [
      "\u001b[32m2024-07-11 16:51:20.760\u001b[0m | \u001b[1mINFO    \u001b[0m | \u001b[36m__main__\u001b[0m:\u001b[36mtrain\u001b[0m:\u001b[36m23\u001b[0m - \u001b[1mEpoch: 1, Batch: 4, Loss: 1.5426911115646362\u001b[0m\n",
      "\u001b[32m2024-07-11 16:51:20.761\u001b[0m | \u001b[1mINFO    \u001b[0m | \u001b[36m__main__\u001b[0m:\u001b[36mtrain\u001b[0m:\u001b[36m25\u001b[0m - \u001b[1mPer batch time: 1.113663568 sec\u001b[0m\n"
     ]
    },
    {
     "name": "stdout",
     "output_type": "stream",
     "text": [
      "torch.Size([1, 2, 200, 252]) torch.Size([1, 14, 200, 252])\n"
     ]
    },
    {
     "name": "stderr",
     "output_type": "stream",
     "text": [
      "\u001b[32m2024-07-11 16:51:21.979\u001b[0m | \u001b[1mINFO    \u001b[0m | \u001b[36m__main__\u001b[0m:\u001b[36mtrain\u001b[0m:\u001b[36m23\u001b[0m - \u001b[1mEpoch: 1, Batch: 5, Loss: 2.406364917755127\u001b[0m\n",
      "\u001b[32m2024-07-11 16:51:21.979\u001b[0m | \u001b[1mINFO    \u001b[0m | \u001b[36m__main__\u001b[0m:\u001b[36mtrain\u001b[0m:\u001b[36m25\u001b[0m - \u001b[1mPer batch time: 1.146277978 sec\u001b[0m\n"
     ]
    },
    {
     "name": "stdout",
     "output_type": "stream",
     "text": [
      "torch.Size([1, 2, 200, 252]) torch.Size([1, 14, 200, 252])\n"
     ]
    },
    {
     "name": "stderr",
     "output_type": "stream",
     "text": [
      "\u001b[32m2024-07-11 16:51:23.099\u001b[0m | \u001b[1mINFO    \u001b[0m | \u001b[36m__main__\u001b[0m:\u001b[36mtrain\u001b[0m:\u001b[36m23\u001b[0m - \u001b[1mEpoch: 1, Batch: 6, Loss: 2.5132768154144287\u001b[0m\n",
      "\u001b[32m2024-07-11 16:51:23.099\u001b[0m | \u001b[1mINFO    \u001b[0m | \u001b[36m__main__\u001b[0m:\u001b[36mtrain\u001b[0m:\u001b[36m25\u001b[0m - \u001b[1mPer batch time: 1.05313944 sec\u001b[0m\n"
     ]
    },
    {
     "name": "stdout",
     "output_type": "stream",
     "text": [
      "torch.Size([1, 2, 200, 252]) torch.Size([1, 14, 200, 252])\n"
     ]
    },
    {
     "name": "stderr",
     "output_type": "stream",
     "text": [
      "\u001b[32m2024-07-11 16:51:24.388\u001b[0m | \u001b[1mINFO    \u001b[0m | \u001b[36m__main__\u001b[0m:\u001b[36mtrain\u001b[0m:\u001b[36m23\u001b[0m - \u001b[1mEpoch: 1, Batch: 7, Loss: 2.8663220405578613\u001b[0m\n",
      "\u001b[32m2024-07-11 16:51:24.389\u001b[0m | \u001b[1mINFO    \u001b[0m | \u001b[36m__main__\u001b[0m:\u001b[36mtrain\u001b[0m:\u001b[36m25\u001b[0m - \u001b[1mPer batch time: 1.194317934 sec\u001b[0m\n"
     ]
    },
    {
     "name": "stdout",
     "output_type": "stream",
     "text": [
      "torch.Size([1, 2, 200, 252]) torch.Size([1, 14, 200, 252])\n"
     ]
    },
    {
     "name": "stderr",
     "output_type": "stream",
     "text": [
      "\u001b[32m2024-07-11 16:51:25.599\u001b[0m | \u001b[1mINFO    \u001b[0m | \u001b[36m__main__\u001b[0m:\u001b[36mtrain\u001b[0m:\u001b[36m23\u001b[0m - \u001b[1mEpoch: 1, Batch: 8, Loss: 2.4712135791778564\u001b[0m\n",
      "\u001b[32m2024-07-11 16:51:25.600\u001b[0m | \u001b[1mINFO    \u001b[0m | \u001b[36m__main__\u001b[0m:\u001b[36mtrain\u001b[0m:\u001b[36m25\u001b[0m - \u001b[1mPer batch time: 1.128143804 sec\u001b[0m\n"
     ]
    },
    {
     "name": "stdout",
     "output_type": "stream",
     "text": [
      "torch.Size([1, 2, 200, 252]) torch.Size([1, 14, 200, 252])\n"
     ]
    },
    {
     "name": "stderr",
     "output_type": "stream",
     "text": [
      "\u001b[32m2024-07-11 16:51:26.857\u001b[0m | \u001b[1mINFO    \u001b[0m | \u001b[36m__main__\u001b[0m:\u001b[36mtrain\u001b[0m:\u001b[36m23\u001b[0m - \u001b[1mEpoch: 1, Batch: 9, Loss: 3.6679439544677734\u001b[0m\n",
      "\u001b[32m2024-07-11 16:51:26.857\u001b[0m | \u001b[1mINFO    \u001b[0m | \u001b[36m__main__\u001b[0m:\u001b[36mtrain\u001b[0m:\u001b[36m25\u001b[0m - \u001b[1mPer batch time: 1.142726322 sec\u001b[0m\n"
     ]
    },
    {
     "name": "stdout",
     "output_type": "stream",
     "text": [
      "torch.Size([1, 2, 200, 252]) torch.Size([1, 14, 200, 252])\n"
     ]
    },
    {
     "name": "stderr",
     "output_type": "stream",
     "text": [
      "\u001b[32m2024-07-11 16:51:28.087\u001b[0m | \u001b[1mINFO    \u001b[0m | \u001b[36m__main__\u001b[0m:\u001b[36mtrain\u001b[0m:\u001b[36m23\u001b[0m - \u001b[1mEpoch: 1, Batch: 10, Loss: 3.2953433990478516\u001b[0m\n",
      "\u001b[32m2024-07-11 16:51:28.087\u001b[0m | \u001b[1mINFO    \u001b[0m | \u001b[36m__main__\u001b[0m:\u001b[36mtrain\u001b[0m:\u001b[36m25\u001b[0m - \u001b[1mPer batch time: 1.141965309 sec\u001b[0m\n"
     ]
    },
    {
     "name": "stdout",
     "output_type": "stream",
     "text": [
      "torch.Size([1, 2, 200, 252]) torch.Size([1, 14, 200, 252])\n"
     ]
    },
    {
     "name": "stderr",
     "output_type": "stream",
     "text": [
      "\u001b[32m2024-07-11 16:51:29.291\u001b[0m | \u001b[1mINFO    \u001b[0m | \u001b[36m__main__\u001b[0m:\u001b[36mtrain\u001b[0m:\u001b[36m23\u001b[0m - \u001b[1mEpoch: 1, Batch: 11, Loss: 3.092360258102417\u001b[0m\n",
      "\u001b[32m2024-07-11 16:51:29.291\u001b[0m | \u001b[1mINFO    \u001b[0m | \u001b[36m__main__\u001b[0m:\u001b[36mtrain\u001b[0m:\u001b[36m25\u001b[0m - \u001b[1mPer batch time: 1.14060898 sec\u001b[0m\n"
     ]
    },
    {
     "name": "stdout",
     "output_type": "stream",
     "text": [
      "torch.Size([1, 2, 200, 252]) torch.Size([1, 14, 200, 252])\n"
     ]
    },
    {
     "name": "stderr",
     "output_type": "stream",
     "text": [
      "\u001b[32m2024-07-11 16:51:30.665\u001b[0m | \u001b[1mINFO    \u001b[0m | \u001b[36m__main__\u001b[0m:\u001b[36mtrain\u001b[0m:\u001b[36m23\u001b[0m - \u001b[1mEpoch: 1, Batch: 12, Loss: 2.4139351844787598\u001b[0m\n",
      "\u001b[32m2024-07-11 16:51:30.666\u001b[0m | \u001b[1mINFO    \u001b[0m | \u001b[36m__main__\u001b[0m:\u001b[36mtrain\u001b[0m:\u001b[36m25\u001b[0m - \u001b[1mPer batch time: 1.18234146 sec\u001b[0m\n"
     ]
    },
    {
     "name": "stdout",
     "output_type": "stream",
     "text": [
      "torch.Size([1, 2, 200, 252]) torch.Size([1, 14, 200, 252])\n"
     ]
    },
    {
     "name": "stderr",
     "output_type": "stream",
     "text": [
      "\u001b[32m2024-07-11 16:51:31.928\u001b[0m | \u001b[1mINFO    \u001b[0m | \u001b[36m__main__\u001b[0m:\u001b[36mtrain\u001b[0m:\u001b[36m23\u001b[0m - \u001b[1mEpoch: 1, Batch: 13, Loss: 2.2992467880249023\u001b[0m\n",
      "\u001b[32m2024-07-11 16:51:31.929\u001b[0m | \u001b[1mINFO    \u001b[0m | \u001b[36m__main__\u001b[0m:\u001b[36mtrain\u001b[0m:\u001b[36m25\u001b[0m - \u001b[1mPer batch time: 1.126947231 sec\u001b[0m\n"
     ]
    },
    {
     "name": "stdout",
     "output_type": "stream",
     "text": [
      "torch.Size([1, 2, 200, 252]) torch.Size([1, 14, 200, 252])\n"
     ]
    },
    {
     "name": "stderr",
     "output_type": "stream",
     "text": [
      "\u001b[32m2024-07-11 16:51:33.254\u001b[0m | \u001b[1mINFO    \u001b[0m | \u001b[36m__main__\u001b[0m:\u001b[36mtrain\u001b[0m:\u001b[36m23\u001b[0m - \u001b[1mEpoch: 1, Batch: 14, Loss: 2.3793716430664062\u001b[0m\n",
      "\u001b[32m2024-07-11 16:51:33.255\u001b[0m | \u001b[1mINFO    \u001b[0m | \u001b[36m__main__\u001b[0m:\u001b[36mtrain\u001b[0m:\u001b[36m25\u001b[0m - \u001b[1mPer batch time: 1.121777407 sec\u001b[0m\n"
     ]
    },
    {
     "name": "stdout",
     "output_type": "stream",
     "text": [
      "torch.Size([1, 2, 200, 252]) torch.Size([1, 14, 200, 252])\n"
     ]
    },
    {
     "name": "stderr",
     "output_type": "stream",
     "text": [
      "\u001b[32m2024-07-11 16:51:34.592\u001b[0m | \u001b[1mINFO    \u001b[0m | \u001b[36m__main__\u001b[0m:\u001b[36mtrain\u001b[0m:\u001b[36m23\u001b[0m - \u001b[1mEpoch: 1, Batch: 15, Loss: 3.5746233463287354\u001b[0m\n",
      "\u001b[32m2024-07-11 16:51:34.592\u001b[0m | \u001b[1mINFO    \u001b[0m | \u001b[36m__main__\u001b[0m:\u001b[36mtrain\u001b[0m:\u001b[36m25\u001b[0m - \u001b[1mPer batch time: 1.188776039 sec\u001b[0m\n"
     ]
    },
    {
     "name": "stdout",
     "output_type": "stream",
     "text": [
      "torch.Size([1, 2, 200, 252]) torch.Size([1, 14, 200, 252])\n"
     ]
    },
    {
     "name": "stderr",
     "output_type": "stream",
     "text": [
      "\u001b[32m2024-07-11 16:51:35.907\u001b[0m | \u001b[1mINFO    \u001b[0m | \u001b[36m__main__\u001b[0m:\u001b[36mtrain\u001b[0m:\u001b[36m23\u001b[0m - \u001b[1mEpoch: 1, Batch: 16, Loss: 4.050912857055664\u001b[0m\n",
      "\u001b[32m2024-07-11 16:51:35.908\u001b[0m | \u001b[1mINFO    \u001b[0m | \u001b[36m__main__\u001b[0m:\u001b[36mtrain\u001b[0m:\u001b[36m25\u001b[0m - \u001b[1mPer batch time: 1.189076129 sec\u001b[0m\n"
     ]
    },
    {
     "name": "stdout",
     "output_type": "stream",
     "text": [
      "torch.Size([1, 2, 200, 252]) torch.Size([1, 14, 200, 252])\n"
     ]
    },
    {
     "name": "stderr",
     "output_type": "stream",
     "text": [
      "\u001b[32m2024-07-11 16:51:37.323\u001b[0m | \u001b[1mINFO    \u001b[0m | \u001b[36m__main__\u001b[0m:\u001b[36mtrain\u001b[0m:\u001b[36m23\u001b[0m - \u001b[1mEpoch: 1, Batch: 17, Loss: 3.8101444244384766\u001b[0m\n",
      "\u001b[32m2024-07-11 16:51:37.324\u001b[0m | \u001b[1mINFO    \u001b[0m | \u001b[36m__main__\u001b[0m:\u001b[36mtrain\u001b[0m:\u001b[36m25\u001b[0m - \u001b[1mPer batch time: 1.268382947 sec\u001b[0m\n"
     ]
    },
    {
     "name": "stdout",
     "output_type": "stream",
     "text": [
      "torch.Size([1, 2, 200, 252]) torch.Size([1, 14, 200, 252])\n"
     ]
    },
    {
     "name": "stderr",
     "output_type": "stream",
     "text": [
      "\u001b[32m2024-07-11 16:51:38.578\u001b[0m | \u001b[1mINFO    \u001b[0m | \u001b[36m__main__\u001b[0m:\u001b[36mtrain\u001b[0m:\u001b[36m23\u001b[0m - \u001b[1mEpoch: 1, Batch: 18, Loss: 2.0310018062591553\u001b[0m\n",
      "\u001b[32m2024-07-11 16:51:38.579\u001b[0m | \u001b[1mINFO    \u001b[0m | \u001b[36m__main__\u001b[0m:\u001b[36mtrain\u001b[0m:\u001b[36m25\u001b[0m - \u001b[1mPer batch time: 1.101799592 sec\u001b[0m\n"
     ]
    },
    {
     "name": "stdout",
     "output_type": "stream",
     "text": [
      "torch.Size([1, 2, 200, 252]) torch.Size([1, 14, 200, 252])\n"
     ]
    },
    {
     "name": "stderr",
     "output_type": "stream",
     "text": [
      "\u001b[32m2024-07-11 16:51:39.915\u001b[0m | \u001b[1mINFO    \u001b[0m | \u001b[36m__main__\u001b[0m:\u001b[36mtrain\u001b[0m:\u001b[36m23\u001b[0m - \u001b[1mEpoch: 1, Batch: 19, Loss: 2.943175792694092\u001b[0m\n",
      "\u001b[32m2024-07-11 16:51:39.916\u001b[0m | \u001b[1mINFO    \u001b[0m | \u001b[36m__main__\u001b[0m:\u001b[36mtrain\u001b[0m:\u001b[36m25\u001b[0m - \u001b[1mPer batch time: 1.192831744 sec\u001b[0m\n"
     ]
    },
    {
     "name": "stdout",
     "output_type": "stream",
     "text": [
      "torch.Size([1, 2, 200, 252]) torch.Size([1, 14, 200, 252])\n"
     ]
    },
    {
     "name": "stderr",
     "output_type": "stream",
     "text": [
      "\u001b[32m2024-07-11 16:51:41.285\u001b[0m | \u001b[1mINFO    \u001b[0m | \u001b[36m__main__\u001b[0m:\u001b[36mtrain\u001b[0m:\u001b[36m23\u001b[0m - \u001b[1mEpoch: 1, Batch: 20, Loss: 3.1129021644592285\u001b[0m\n",
      "\u001b[32m2024-07-11 16:51:41.286\u001b[0m | \u001b[1mINFO    \u001b[0m | \u001b[36m__main__\u001b[0m:\u001b[36mtrain\u001b[0m:\u001b[36m25\u001b[0m - \u001b[1mPer batch time: 1.241082735 sec\u001b[0m\n"
     ]
    },
    {
     "name": "stdout",
     "output_type": "stream",
     "text": [
      "torch.Size([1, 2, 200, 252]) torch.Size([1, 14, 200, 252])\n"
     ]
    },
    {
     "name": "stderr",
     "output_type": "stream",
     "text": [
      "\u001b[32m2024-07-11 16:51:42.679\u001b[0m | \u001b[1mINFO    \u001b[0m | \u001b[36m__main__\u001b[0m:\u001b[36mtrain\u001b[0m:\u001b[36m23\u001b[0m - \u001b[1mEpoch: 1, Batch: 21, Loss: 2.234102249145508\u001b[0m\n",
      "\u001b[32m2024-07-11 16:51:42.680\u001b[0m | \u001b[1mINFO    \u001b[0m | \u001b[36m__main__\u001b[0m:\u001b[36mtrain\u001b[0m:\u001b[36m25\u001b[0m - \u001b[1mPer batch time: 1.194972295 sec\u001b[0m\n"
     ]
    },
    {
     "name": "stdout",
     "output_type": "stream",
     "text": [
      "torch.Size([1, 2, 200, 252]) torch.Size([1, 14, 200, 252])\n"
     ]
    },
    {
     "name": "stderr",
     "output_type": "stream",
     "text": [
      "\u001b[32m2024-07-11 16:51:43.908\u001b[0m | \u001b[1mINFO    \u001b[0m | \u001b[36m__main__\u001b[0m:\u001b[36mtrain\u001b[0m:\u001b[36m23\u001b[0m - \u001b[1mEpoch: 1, Batch: 22, Loss: 3.393507480621338\u001b[0m\n",
      "\u001b[32m2024-07-11 16:51:43.909\u001b[0m | \u001b[1mINFO    \u001b[0m | \u001b[36m__main__\u001b[0m:\u001b[36mtrain\u001b[0m:\u001b[36m25\u001b[0m - \u001b[1mPer batch time: 1.092153928 sec\u001b[0m\n"
     ]
    },
    {
     "name": "stdout",
     "output_type": "stream",
     "text": [
      "torch.Size([1, 2, 200, 252]) torch.Size([1, 14, 200, 252])\n"
     ]
    },
    {
     "name": "stderr",
     "output_type": "stream",
     "text": [
      "\u001b[32m2024-07-11 16:51:45.319\u001b[0m | \u001b[1mINFO    \u001b[0m | \u001b[36m__main__\u001b[0m:\u001b[36mtrain\u001b[0m:\u001b[36m23\u001b[0m - \u001b[1mEpoch: 1, Batch: 23, Loss: 1.6839557886123657\u001b[0m\n",
      "\u001b[32m2024-07-11 16:51:45.320\u001b[0m | \u001b[1mINFO    \u001b[0m | \u001b[36m__main__\u001b[0m:\u001b[36mtrain\u001b[0m:\u001b[36m25\u001b[0m - \u001b[1mPer batch time: 1.252769933 sec\u001b[0m\n"
     ]
    },
    {
     "name": "stdout",
     "output_type": "stream",
     "text": [
      "torch.Size([1, 2, 200, 252]) torch.Size([1, 14, 200, 252])\n"
     ]
    },
    {
     "name": "stderr",
     "output_type": "stream",
     "text": [
      "\u001b[32m2024-07-11 16:51:46.739\u001b[0m | \u001b[1mINFO    \u001b[0m | \u001b[36m__main__\u001b[0m:\u001b[36mtrain\u001b[0m:\u001b[36m23\u001b[0m - \u001b[1mEpoch: 1, Batch: 24, Loss: 3.888411283493042\u001b[0m\n",
      "\u001b[32m2024-07-11 16:51:46.740\u001b[0m | \u001b[1mINFO    \u001b[0m | \u001b[36m__main__\u001b[0m:\u001b[36mtrain\u001b[0m:\u001b[36m25\u001b[0m - \u001b[1mPer batch time: 1.287659565 sec\u001b[0m\n"
     ]
    },
    {
     "name": "stdout",
     "output_type": "stream",
     "text": [
      "torch.Size([1, 2, 200, 252]) torch.Size([1, 14, 200, 252])\n"
     ]
    },
    {
     "name": "stderr",
     "output_type": "stream",
     "text": [
      "\u001b[32m2024-07-11 16:51:47.963\u001b[0m | \u001b[1mINFO    \u001b[0m | \u001b[36m__main__\u001b[0m:\u001b[36mtrain\u001b[0m:\u001b[36m23\u001b[0m - \u001b[1mEpoch: 1, Batch: 25, Loss: 1.5555777549743652\u001b[0m\n",
      "\u001b[32m2024-07-11 16:51:47.964\u001b[0m | \u001b[1mINFO    \u001b[0m | \u001b[36m__main__\u001b[0m:\u001b[36mtrain\u001b[0m:\u001b[36m25\u001b[0m - \u001b[1mPer batch time: 1.102304294 sec\u001b[0m\n"
     ]
    },
    {
     "name": "stdout",
     "output_type": "stream",
     "text": [
      "torch.Size([1, 2, 200, 252]) torch.Size([1, 14, 200, 252])\n"
     ]
    },
    {
     "name": "stderr",
     "output_type": "stream",
     "text": [
      "\u001b[32m2024-07-11 16:51:49.286\u001b[0m | \u001b[1mINFO    \u001b[0m | \u001b[36m__main__\u001b[0m:\u001b[36mtrain\u001b[0m:\u001b[36m23\u001b[0m - \u001b[1mEpoch: 1, Batch: 26, Loss: 3.583488702774048\u001b[0m\n",
      "\u001b[32m2024-07-11 16:51:49.286\u001b[0m | \u001b[1mINFO    \u001b[0m | \u001b[36m__main__\u001b[0m:\u001b[36mtrain\u001b[0m:\u001b[36m25\u001b[0m - \u001b[1mPer batch time: 1.142400852 sec\u001b[0m\n"
     ]
    },
    {
     "name": "stdout",
     "output_type": "stream",
     "text": [
      "torch.Size([1, 2, 200, 252]) torch.Size([1, 14, 200, 252])\n"
     ]
    },
    {
     "name": "stderr",
     "output_type": "stream",
     "text": [
      "\u001b[32m2024-07-11 16:51:50.575\u001b[0m | \u001b[1mINFO    \u001b[0m | \u001b[36m__main__\u001b[0m:\u001b[36mtrain\u001b[0m:\u001b[36m23\u001b[0m - \u001b[1mEpoch: 1, Batch: 27, Loss: 1.6333715915679932\u001b[0m\n",
      "\u001b[32m2024-07-11 16:51:50.576\u001b[0m | \u001b[1mINFO    \u001b[0m | \u001b[36m__main__\u001b[0m:\u001b[36mtrain\u001b[0m:\u001b[36m25\u001b[0m - \u001b[1mPer batch time: 1.112888177 sec\u001b[0m\n"
     ]
    },
    {
     "name": "stdout",
     "output_type": "stream",
     "text": [
      "torch.Size([1, 2, 200, 252]) torch.Size([1, 14, 200, 252])\n"
     ]
    },
    {
     "name": "stderr",
     "output_type": "stream",
     "text": [
      "\u001b[32m2024-07-11 16:51:51.752\u001b[0m | \u001b[1mINFO    \u001b[0m | \u001b[36m__main__\u001b[0m:\u001b[36mtrain\u001b[0m:\u001b[36m23\u001b[0m - \u001b[1mEpoch: 1, Batch: 28, Loss: 2.6430180072784424\u001b[0m\n",
      "\u001b[32m2024-07-11 16:51:51.752\u001b[0m | \u001b[1mINFO    \u001b[0m | \u001b[36m__main__\u001b[0m:\u001b[36mtrain\u001b[0m:\u001b[36m25\u001b[0m - \u001b[1mPer batch time: 1.064364812 sec\u001b[0m\n"
     ]
    },
    {
     "name": "stdout",
     "output_type": "stream",
     "text": [
      "torch.Size([1, 2, 200, 252]) torch.Size([1, 14, 200, 252])\n"
     ]
    },
    {
     "name": "stderr",
     "output_type": "stream",
     "text": [
      "\u001b[32m2024-07-11 16:51:53.136\u001b[0m | \u001b[1mINFO    \u001b[0m | \u001b[36m__main__\u001b[0m:\u001b[36mtrain\u001b[0m:\u001b[36m23\u001b[0m - \u001b[1mEpoch: 1, Batch: 29, Loss: 3.402648448944092\u001b[0m\n",
      "\u001b[32m2024-07-11 16:51:53.136\u001b[0m | \u001b[1mINFO    \u001b[0m | \u001b[36m__main__\u001b[0m:\u001b[36mtrain\u001b[0m:\u001b[36m25\u001b[0m - \u001b[1mPer batch time: 1.215449606 sec\u001b[0m\n"
     ]
    },
    {
     "name": "stdout",
     "output_type": "stream",
     "text": [
      "torch.Size([1, 2, 200, 252]) torch.Size([1, 14, 200, 252])\n"
     ]
    },
    {
     "name": "stderr",
     "output_type": "stream",
     "text": [
      "\u001b[32m2024-07-11 16:51:54.369\u001b[0m | \u001b[1mINFO    \u001b[0m | \u001b[36m__main__\u001b[0m:\u001b[36mtrain\u001b[0m:\u001b[36m23\u001b[0m - \u001b[1mEpoch: 1, Batch: 30, Loss: 2.962617874145508\u001b[0m\n",
      "\u001b[32m2024-07-11 16:51:54.370\u001b[0m | \u001b[1mINFO    \u001b[0m | \u001b[36m__main__\u001b[0m:\u001b[36mtrain\u001b[0m:\u001b[36m25\u001b[0m - \u001b[1mPer batch time: 1.157813498 sec\u001b[0m\n"
     ]
    },
    {
     "name": "stdout",
     "output_type": "stream",
     "text": [
      "torch.Size([1, 2, 200, 252]) torch.Size([1, 14, 200, 252])\n"
     ]
    },
    {
     "name": "stderr",
     "output_type": "stream",
     "text": [
      "\u001b[32m2024-07-11 16:51:55.581\u001b[0m | \u001b[1mINFO    \u001b[0m | \u001b[36m__main__\u001b[0m:\u001b[36mtrain\u001b[0m:\u001b[36m23\u001b[0m - \u001b[1mEpoch: 1, Batch: 31, Loss: 2.8055291175842285\u001b[0m\n",
      "\u001b[32m2024-07-11 16:51:55.582\u001b[0m | \u001b[1mINFO    \u001b[0m | \u001b[36m__main__\u001b[0m:\u001b[36mtrain\u001b[0m:\u001b[36m25\u001b[0m - \u001b[1mPer batch time: 1.089834695 sec\u001b[0m\n"
     ]
    },
    {
     "name": "stdout",
     "output_type": "stream",
     "text": [
      "torch.Size([1, 2, 200, 252]) torch.Size([1, 14, 200, 252])\n"
     ]
    },
    {
     "name": "stderr",
     "output_type": "stream",
     "text": [
      "\u001b[32m2024-07-11 16:51:56.860\u001b[0m | \u001b[1mINFO    \u001b[0m | \u001b[36m__main__\u001b[0m:\u001b[36mtrain\u001b[0m:\u001b[36m23\u001b[0m - \u001b[1mEpoch: 1, Batch: 32, Loss: 3.5648114681243896\u001b[0m\n",
      "\u001b[32m2024-07-11 16:51:56.861\u001b[0m | \u001b[1mINFO    \u001b[0m | \u001b[36m__main__\u001b[0m:\u001b[36mtrain\u001b[0m:\u001b[36m25\u001b[0m - \u001b[1mPer batch time: 1.108923491 sec\u001b[0m\n"
     ]
    },
    {
     "name": "stdout",
     "output_type": "stream",
     "text": [
      "torch.Size([1, 2, 200, 252]) torch.Size([1, 14, 200, 252])\n"
     ]
    },
    {
     "name": "stderr",
     "output_type": "stream",
     "text": [
      "\u001b[32m2024-07-11 16:51:58.296\u001b[0m | \u001b[1mINFO    \u001b[0m | \u001b[36m__main__\u001b[0m:\u001b[36mtrain\u001b[0m:\u001b[36m23\u001b[0m - \u001b[1mEpoch: 1, Batch: 33, Loss: 2.5170488357543945\u001b[0m\n",
      "\u001b[32m2024-07-11 16:51:58.297\u001b[0m | \u001b[1mINFO    \u001b[0m | \u001b[36m__main__\u001b[0m:\u001b[36mtrain\u001b[0m:\u001b[36m25\u001b[0m - \u001b[1mPer batch time: 1.221978078 sec\u001b[0m\n"
     ]
    },
    {
     "name": "stdout",
     "output_type": "stream",
     "text": [
      "torch.Size([1, 2, 200, 252]) torch.Size([1, 14, 200, 252])\n"
     ]
    },
    {
     "name": "stderr",
     "output_type": "stream",
     "text": [
      "\u001b[32m2024-07-11 16:51:59.654\u001b[0m | \u001b[1mINFO    \u001b[0m | \u001b[36m__main__\u001b[0m:\u001b[36mtrain\u001b[0m:\u001b[36m23\u001b[0m - \u001b[1mEpoch: 1, Batch: 34, Loss: 2.469583034515381\u001b[0m\n",
      "\u001b[32m2024-07-11 16:51:59.655\u001b[0m | \u001b[1mINFO    \u001b[0m | \u001b[36m__main__\u001b[0m:\u001b[36mtrain\u001b[0m:\u001b[36m25\u001b[0m - \u001b[1mPer batch time: 1.167857375 sec\u001b[0m\n"
     ]
    },
    {
     "name": "stdout",
     "output_type": "stream",
     "text": [
      "torch.Size([1, 2, 200, 252]) torch.Size([1, 14, 200, 252])\n"
     ]
    },
    {
     "name": "stderr",
     "output_type": "stream",
     "text": [
      "\u001b[32m2024-07-11 16:52:00.924\u001b[0m | \u001b[1mINFO    \u001b[0m | \u001b[36m__main__\u001b[0m:\u001b[36mtrain\u001b[0m:\u001b[36m23\u001b[0m - \u001b[1mEpoch: 1, Batch: 35, Loss: 1.629704236984253\u001b[0m\n",
      "\u001b[32m2024-07-11 16:52:00.925\u001b[0m | \u001b[1mINFO    \u001b[0m | \u001b[36m__main__\u001b[0m:\u001b[36mtrain\u001b[0m:\u001b[36m25\u001b[0m - \u001b[1mPer batch time: 1.10277078 sec\u001b[0m\n"
     ]
    },
    {
     "name": "stdout",
     "output_type": "stream",
     "text": [
      "torch.Size([1, 2, 200, 252]) torch.Size([1, 14, 200, 252])\n"
     ]
    },
    {
     "name": "stderr",
     "output_type": "stream",
     "text": [
      "\u001b[32m2024-07-11 16:52:02.054\u001b[0m | \u001b[1mINFO    \u001b[0m | \u001b[36m__main__\u001b[0m:\u001b[36mtrain\u001b[0m:\u001b[36m23\u001b[0m - \u001b[1mEpoch: 1, Batch: 36, Loss: 1.1483075618743896\u001b[0m\n",
      "\u001b[32m2024-07-11 16:52:02.054\u001b[0m | \u001b[1mINFO    \u001b[0m | \u001b[36m__main__\u001b[0m:\u001b[36mtrain\u001b[0m:\u001b[36m25\u001b[0m - \u001b[1mPer batch time: 1.074452874 sec\u001b[0m\n"
     ]
    },
    {
     "name": "stdout",
     "output_type": "stream",
     "text": [
      "torch.Size([1, 2, 200, 252]) torch.Size([1, 14, 200, 252])\n"
     ]
    },
    {
     "name": "stderr",
     "output_type": "stream",
     "text": [
      "\u001b[32m2024-07-11 16:52:03.432\u001b[0m | \u001b[1mINFO    \u001b[0m | \u001b[36m__main__\u001b[0m:\u001b[36mtrain\u001b[0m:\u001b[36m23\u001b[0m - \u001b[1mEpoch: 1, Batch: 37, Loss: 2.544466018676758\u001b[0m\n",
      "\u001b[32m2024-07-11 16:52:03.432\u001b[0m | \u001b[1mINFO    \u001b[0m | \u001b[36m__main__\u001b[0m:\u001b[36mtrain\u001b[0m:\u001b[36m25\u001b[0m - \u001b[1mPer batch time: 1.21530949 sec\u001b[0m\n"
     ]
    },
    {
     "name": "stdout",
     "output_type": "stream",
     "text": [
      "torch.Size([1, 2, 200, 252]) torch.Size([1, 14, 200, 252])\n"
     ]
    },
    {
     "name": "stderr",
     "output_type": "stream",
     "text": [
      "\u001b[32m2024-07-11 16:52:04.662\u001b[0m | \u001b[1mINFO    \u001b[0m | \u001b[36m__main__\u001b[0m:\u001b[36mtrain\u001b[0m:\u001b[36m23\u001b[0m - \u001b[1mEpoch: 1, Batch: 38, Loss: 2.967319965362549\u001b[0m\n",
      "\u001b[32m2024-07-11 16:52:04.663\u001b[0m | \u001b[1mINFO    \u001b[0m | \u001b[36m__main__\u001b[0m:\u001b[36mtrain\u001b[0m:\u001b[36m25\u001b[0m - \u001b[1mPer batch time: 1.146828081 sec\u001b[0m\n"
     ]
    },
    {
     "name": "stdout",
     "output_type": "stream",
     "text": [
      "torch.Size([1, 2, 200, 252]) torch.Size([1, 14, 200, 252])\n"
     ]
    },
    {
     "name": "stderr",
     "output_type": "stream",
     "text": [
      "\u001b[32m2024-07-11 16:52:06.006\u001b[0m | \u001b[1mINFO    \u001b[0m | \u001b[36m__main__\u001b[0m:\u001b[36mtrain\u001b[0m:\u001b[36m23\u001b[0m - \u001b[1mEpoch: 1, Batch: 39, Loss: 1.9024120569229126\u001b[0m\n",
      "\u001b[32m2024-07-11 16:52:06.007\u001b[0m | \u001b[1mINFO    \u001b[0m | \u001b[36m__main__\u001b[0m:\u001b[36mtrain\u001b[0m:\u001b[36m25\u001b[0m - \u001b[1mPer batch time: 1.276532482 sec\u001b[0m\n"
     ]
    },
    {
     "name": "stdout",
     "output_type": "stream",
     "text": [
      "torch.Size([1, 2, 200, 252]) torch.Size([1, 14, 200, 252])\n"
     ]
    },
    {
     "name": "stderr",
     "output_type": "stream",
     "text": [
      "\u001b[32m2024-07-11 16:52:07.074\u001b[0m | \u001b[1mINFO    \u001b[0m | \u001b[36m__main__\u001b[0m:\u001b[36mtrain\u001b[0m:\u001b[36m23\u001b[0m - \u001b[1mEpoch: 1, Batch: 40, Loss: 3.221039056777954\u001b[0m\n",
      "\u001b[32m2024-07-11 16:52:07.074\u001b[0m | \u001b[1mINFO    \u001b[0m | \u001b[36m__main__\u001b[0m:\u001b[36mtrain\u001b[0m:\u001b[36m25\u001b[0m - \u001b[1mPer batch time: 0.962821544 sec\u001b[0m\n"
     ]
    },
    {
     "name": "stdout",
     "output_type": "stream",
     "text": [
      "torch.Size([1, 2, 200, 252]) torch.Size([1, 14, 200, 252])\n"
     ]
    },
    {
     "name": "stderr",
     "output_type": "stream",
     "text": [
      "\u001b[32m2024-07-11 16:52:08.469\u001b[0m | \u001b[1mINFO    \u001b[0m | \u001b[36m__main__\u001b[0m:\u001b[36mtrain\u001b[0m:\u001b[36m23\u001b[0m - \u001b[1mEpoch: 1, Batch: 41, Loss: 2.631289005279541\u001b[0m\n",
      "\u001b[32m2024-07-11 16:52:08.469\u001b[0m | \u001b[1mINFO    \u001b[0m | \u001b[36m__main__\u001b[0m:\u001b[36mtrain\u001b[0m:\u001b[36m25\u001b[0m - \u001b[1mPer batch time: 1.331792613 sec\u001b[0m\n"
     ]
    },
    {
     "name": "stdout",
     "output_type": "stream",
     "text": [
      "torch.Size([1, 2, 200, 252]) torch.Size([1, 14, 200, 252])\n"
     ]
    },
    {
     "name": "stderr",
     "output_type": "stream",
     "text": [
      "\u001b[32m2024-07-11 16:52:09.783\u001b[0m | \u001b[1mINFO    \u001b[0m | \u001b[36m__main__\u001b[0m:\u001b[36mtrain\u001b[0m:\u001b[36m23\u001b[0m - \u001b[1mEpoch: 1, Batch: 42, Loss: 3.0384721755981445\u001b[0m\n",
      "\u001b[32m2024-07-11 16:52:09.784\u001b[0m | \u001b[1mINFO    \u001b[0m | \u001b[36m__main__\u001b[0m:\u001b[36mtrain\u001b[0m:\u001b[36m25\u001b[0m - \u001b[1mPer batch time: 1.240551069 sec\u001b[0m\n"
     ]
    },
    {
     "name": "stdout",
     "output_type": "stream",
     "text": [
      "torch.Size([1, 2, 200, 252]) torch.Size([1, 14, 200, 252])\n"
     ]
    },
    {
     "name": "stderr",
     "output_type": "stream",
     "text": [
      "\u001b[32m2024-07-11 16:52:11.146\u001b[0m | \u001b[1mINFO    \u001b[0m | \u001b[36m__main__\u001b[0m:\u001b[36mtrain\u001b[0m:\u001b[36m23\u001b[0m - \u001b[1mEpoch: 1, Batch: 43, Loss: 2.6207950115203857\u001b[0m\n",
      "\u001b[32m2024-07-11 16:52:11.147\u001b[0m | \u001b[1mINFO    \u001b[0m | \u001b[36m__main__\u001b[0m:\u001b[36mtrain\u001b[0m:\u001b[36m25\u001b[0m - \u001b[1mPer batch time: 1.2998257 sec\u001b[0m\n"
     ]
    },
    {
     "name": "stdout",
     "output_type": "stream",
     "text": [
      "torch.Size([1, 2, 200, 252]) torch.Size([1, 14, 200, 252])\n"
     ]
    },
    {
     "name": "stderr",
     "output_type": "stream",
     "text": [
      "\u001b[32m2024-07-11 16:52:12.481\u001b[0m | \u001b[1mINFO    \u001b[0m | \u001b[36m__main__\u001b[0m:\u001b[36mtrain\u001b[0m:\u001b[36m23\u001b[0m - \u001b[1mEpoch: 1, Batch: 44, Loss: 3.604243755340576\u001b[0m\n",
      "\u001b[32m2024-07-11 16:52:12.482\u001b[0m | \u001b[1mINFO    \u001b[0m | \u001b[36m__main__\u001b[0m:\u001b[36mtrain\u001b[0m:\u001b[36m25\u001b[0m - \u001b[1mPer batch time: 1.201526386 sec\u001b[0m\n"
     ]
    },
    {
     "name": "stdout",
     "output_type": "stream",
     "text": [
      "torch.Size([1, 2, 200, 252]) torch.Size([1, 14, 200, 252])\n"
     ]
    },
    {
     "name": "stderr",
     "output_type": "stream",
     "text": [
      "\u001b[32m2024-07-11 16:52:13.419\u001b[0m | \u001b[1mINFO    \u001b[0m | \u001b[36m__main__\u001b[0m:\u001b[36mtrain\u001b[0m:\u001b[36m23\u001b[0m - \u001b[1mEpoch: 1, Batch: 45, Loss: 2.0406765937805176\u001b[0m\n",
      "\u001b[32m2024-07-11 16:52:13.420\u001b[0m | \u001b[1mINFO    \u001b[0m | \u001b[36m__main__\u001b[0m:\u001b[36mtrain\u001b[0m:\u001b[36m25\u001b[0m - \u001b[1mPer batch time: 0.798891507 sec\u001b[0m\n"
     ]
    },
    {
     "name": "stdout",
     "output_type": "stream",
     "text": [
      "torch.Size([1, 2, 200, 252]) torch.Size([1, 14, 200, 252])\n"
     ]
    },
    {
     "name": "stderr",
     "output_type": "stream",
     "text": [
      "\u001b[32m2024-07-11 16:52:14.321\u001b[0m | \u001b[1mINFO    \u001b[0m | \u001b[36m__main__\u001b[0m:\u001b[36mtrain\u001b[0m:\u001b[36m23\u001b[0m - \u001b[1mEpoch: 1, Batch: 46, Loss: 2.188894271850586\u001b[0m\n",
      "\u001b[32m2024-07-11 16:52:14.322\u001b[0m | \u001b[1mINFO    \u001b[0m | \u001b[36m__main__\u001b[0m:\u001b[36mtrain\u001b[0m:\u001b[36m25\u001b[0m - \u001b[1mPer batch time: 0.83692731 sec\u001b[0m\n"
     ]
    },
    {
     "name": "stdout",
     "output_type": "stream",
     "text": [
      "torch.Size([1, 2, 200, 252]) torch.Size([1, 14, 200, 252])\n"
     ]
    },
    {
     "name": "stderr",
     "output_type": "stream",
     "text": [
      "\u001b[32m2024-07-11 16:52:15.620\u001b[0m | \u001b[1mINFO    \u001b[0m | \u001b[36m__main__\u001b[0m:\u001b[36mtrain\u001b[0m:\u001b[36m23\u001b[0m - \u001b[1mEpoch: 1, Batch: 47, Loss: 2.4658660888671875\u001b[0m\n",
      "\u001b[32m2024-07-11 16:52:15.621\u001b[0m | \u001b[1mINFO    \u001b[0m | \u001b[36m__main__\u001b[0m:\u001b[36mtrain\u001b[0m:\u001b[36m25\u001b[0m - \u001b[1mPer batch time: 1.049594382 sec\u001b[0m\n"
     ]
    },
    {
     "name": "stdout",
     "output_type": "stream",
     "text": [
      "torch.Size([1, 2, 200, 252]) torch.Size([1, 14, 200, 252])\n"
     ]
    },
    {
     "name": "stderr",
     "output_type": "stream",
     "text": [
      "\u001b[32m2024-07-11 16:52:16.843\u001b[0m | \u001b[1mINFO    \u001b[0m | \u001b[36m__main__\u001b[0m:\u001b[36mtrain\u001b[0m:\u001b[36m23\u001b[0m - \u001b[1mEpoch: 1, Batch: 48, Loss: 1.7650656700134277\u001b[0m\n",
      "\u001b[32m2024-07-11 16:52:16.844\u001b[0m | \u001b[1mINFO    \u001b[0m | \u001b[36m__main__\u001b[0m:\u001b[36mtrain\u001b[0m:\u001b[36m25\u001b[0m - \u001b[1mPer batch time: 1.112214247 sec\u001b[0m\n"
     ]
    },
    {
     "name": "stdout",
     "output_type": "stream",
     "text": [
      "torch.Size([1, 2, 200, 252]) torch.Size([1, 14, 200, 252])\n"
     ]
    },
    {
     "name": "stderr",
     "output_type": "stream",
     "text": [
      "\u001b[32m2024-07-11 16:52:18.168\u001b[0m | \u001b[1mINFO    \u001b[0m | \u001b[36m__main__\u001b[0m:\u001b[36mtrain\u001b[0m:\u001b[36m23\u001b[0m - \u001b[1mEpoch: 1, Batch: 49, Loss: 3.288632869720459\u001b[0m\n",
      "\u001b[32m2024-07-11 16:52:18.168\u001b[0m | \u001b[1mINFO    \u001b[0m | \u001b[36m__main__\u001b[0m:\u001b[36mtrain\u001b[0m:\u001b[36m25\u001b[0m - \u001b[1mPer batch time: 1.239584068 sec\u001b[0m\n"
     ]
    },
    {
     "name": "stdout",
     "output_type": "stream",
     "text": [
      "torch.Size([1, 2, 200, 252]) torch.Size([1, 14, 200, 252])\n"
     ]
    },
    {
     "name": "stderr",
     "output_type": "stream",
     "text": [
      "\u001b[32m2024-07-11 16:52:19.359\u001b[0m | \u001b[1mINFO    \u001b[0m | \u001b[36m__main__\u001b[0m:\u001b[36mtrain\u001b[0m:\u001b[36m23\u001b[0m - \u001b[1mEpoch: 1, Batch: 50, Loss: 1.3468164205551147\u001b[0m\n",
      "\u001b[32m2024-07-11 16:52:19.360\u001b[0m | \u001b[1mINFO    \u001b[0m | \u001b[36m__main__\u001b[0m:\u001b[36mtrain\u001b[0m:\u001b[36m25\u001b[0m - \u001b[1mPer batch time: 1.135459991 sec\u001b[0m\n"
     ]
    },
    {
     "name": "stdout",
     "output_type": "stream",
     "text": [
      "torch.Size([1, 2, 200, 252]) torch.Size([1, 14, 200, 252])\n"
     ]
    },
    {
     "name": "stderr",
     "output_type": "stream",
     "text": [
      "\u001b[32m2024-07-11 16:52:20.608\u001b[0m | \u001b[1mINFO    \u001b[0m | \u001b[36m__main__\u001b[0m:\u001b[36mtrain\u001b[0m:\u001b[36m23\u001b[0m - \u001b[1mEpoch: 1, Batch: 51, Loss: 3.1995697021484375\u001b[0m\n",
      "\u001b[32m2024-07-11 16:52:20.609\u001b[0m | \u001b[1mINFO    \u001b[0m | \u001b[36m__main__\u001b[0m:\u001b[36mtrain\u001b[0m:\u001b[36m25\u001b[0m - \u001b[1mPer batch time: 1.159549014 sec\u001b[0m\n"
     ]
    },
    {
     "name": "stdout",
     "output_type": "stream",
     "text": [
      "torch.Size([1, 2, 200, 252]) torch.Size([1, 14, 200, 252])\n"
     ]
    },
    {
     "name": "stderr",
     "output_type": "stream",
     "text": [
      "\u001b[32m2024-07-11 16:52:21.986\u001b[0m | \u001b[1mINFO    \u001b[0m | \u001b[36m__main__\u001b[0m:\u001b[36mtrain\u001b[0m:\u001b[36m23\u001b[0m - \u001b[1mEpoch: 1, Batch: 52, Loss: 3.6656153202056885\u001b[0m\n",
      "\u001b[32m2024-07-11 16:52:21.987\u001b[0m | \u001b[1mINFO    \u001b[0m | \u001b[36m__main__\u001b[0m:\u001b[36mtrain\u001b[0m:\u001b[36m25\u001b[0m - \u001b[1mPer batch time: 1.309006355 sec\u001b[0m\n"
     ]
    },
    {
     "name": "stdout",
     "output_type": "stream",
     "text": [
      "torch.Size([1, 2, 200, 252]) torch.Size([1, 14, 200, 252])\n"
     ]
    },
    {
     "name": "stderr",
     "output_type": "stream",
     "text": [
      "\u001b[32m2024-07-11 16:52:23.206\u001b[0m | \u001b[1mINFO    \u001b[0m | \u001b[36m__main__\u001b[0m:\u001b[36mtrain\u001b[0m:\u001b[36m23\u001b[0m - \u001b[1mEpoch: 1, Batch: 53, Loss: 1.3309075832366943\u001b[0m\n",
      "\u001b[32m2024-07-11 16:52:23.206\u001b[0m | \u001b[1mINFO    \u001b[0m | \u001b[36m__main__\u001b[0m:\u001b[36mtrain\u001b[0m:\u001b[36m25\u001b[0m - \u001b[1mPer batch time: 1.153073959 sec\u001b[0m\n"
     ]
    },
    {
     "name": "stdout",
     "output_type": "stream",
     "text": [
      "torch.Size([1, 2, 200, 252]) torch.Size([1, 14, 200, 252])\n"
     ]
    },
    {
     "name": "stderr",
     "output_type": "stream",
     "text": [
      "\u001b[32m2024-07-11 16:52:24.494\u001b[0m | \u001b[1mINFO    \u001b[0m | \u001b[36m__main__\u001b[0m:\u001b[36mtrain\u001b[0m:\u001b[36m23\u001b[0m - \u001b[1mEpoch: 1, Batch: 54, Loss: 2.1757874488830566\u001b[0m\n",
      "\u001b[32m2024-07-11 16:52:24.495\u001b[0m | \u001b[1mINFO    \u001b[0m | \u001b[36m__main__\u001b[0m:\u001b[36mtrain\u001b[0m:\u001b[36m25\u001b[0m - \u001b[1mPer batch time: 1.170671071 sec\u001b[0m\n"
     ]
    },
    {
     "name": "stdout",
     "output_type": "stream",
     "text": [
      "torch.Size([1, 2, 200, 252]) torch.Size([1, 14, 200, 252])\n"
     ]
    },
    {
     "name": "stderr",
     "output_type": "stream",
     "text": [
      "\u001b[32m2024-07-11 16:52:25.756\u001b[0m | \u001b[1mINFO    \u001b[0m | \u001b[36m__main__\u001b[0m:\u001b[36mtrain\u001b[0m:\u001b[36m23\u001b[0m - \u001b[1mEpoch: 1, Batch: 55, Loss: 2.42165207862854\u001b[0m\n",
      "\u001b[32m2024-07-11 16:52:25.757\u001b[0m | \u001b[1mINFO    \u001b[0m | \u001b[36m__main__\u001b[0m:\u001b[36mtrain\u001b[0m:\u001b[36m25\u001b[0m - \u001b[1mPer batch time: 1.191454925 sec\u001b[0m\n"
     ]
    },
    {
     "name": "stdout",
     "output_type": "stream",
     "text": [
      "torch.Size([1, 2, 200, 252]) torch.Size([1, 14, 200, 252])\n"
     ]
    },
    {
     "name": "stderr",
     "output_type": "stream",
     "text": [
      "\u001b[32m2024-07-11 16:52:26.638\u001b[0m | \u001b[1mINFO    \u001b[0m | \u001b[36m__main__\u001b[0m:\u001b[36mtrain\u001b[0m:\u001b[36m23\u001b[0m - \u001b[1mEpoch: 1, Batch: 56, Loss: 1.8664183616638184\u001b[0m\n",
      "\u001b[32m2024-07-11 16:52:26.639\u001b[0m | \u001b[1mINFO    \u001b[0m | \u001b[36m__main__\u001b[0m:\u001b[36mtrain\u001b[0m:\u001b[36m25\u001b[0m - \u001b[1mPer batch time: 0.820579187 sec\u001b[0m\n"
     ]
    },
    {
     "name": "stdout",
     "output_type": "stream",
     "text": [
      "torch.Size([1, 2, 200, 252]) torch.Size([1, 14, 200, 252])\n"
     ]
    },
    {
     "name": "stderr",
     "output_type": "stream",
     "text": [
      "\u001b[32m2024-07-11 16:52:27.870\u001b[0m | \u001b[1mINFO    \u001b[0m | \u001b[36m__main__\u001b[0m:\u001b[36mtrain\u001b[0m:\u001b[36m23\u001b[0m - \u001b[1mEpoch: 1, Batch: 57, Loss: 1.3953272104263306\u001b[0m\n",
      "\u001b[32m2024-07-11 16:52:27.871\u001b[0m | \u001b[1mINFO    \u001b[0m | \u001b[36m__main__\u001b[0m:\u001b[36mtrain\u001b[0m:\u001b[36m25\u001b[0m - \u001b[1mPer batch time: 1.161962998 sec\u001b[0m\n"
     ]
    },
    {
     "name": "stdout",
     "output_type": "stream",
     "text": [
      "torch.Size([1, 2, 200, 252]) torch.Size([1, 14, 200, 252])\n"
     ]
    },
    {
     "name": "stderr",
     "output_type": "stream",
     "text": [
      "\u001b[32m2024-07-11 16:52:29.092\u001b[0m | \u001b[1mINFO    \u001b[0m | \u001b[36m__main__\u001b[0m:\u001b[36mtrain\u001b[0m:\u001b[36m23\u001b[0m - \u001b[1mEpoch: 1, Batch: 58, Loss: 2.8834896087646484\u001b[0m\n",
      "\u001b[32m2024-07-11 16:52:29.093\u001b[0m | \u001b[1mINFO    \u001b[0m | \u001b[36m__main__\u001b[0m:\u001b[36mtrain\u001b[0m:\u001b[36m25\u001b[0m - \u001b[1mPer batch time: 1.0670331 sec\u001b[0m\n"
     ]
    },
    {
     "name": "stdout",
     "output_type": "stream",
     "text": [
      "torch.Size([1, 2, 200, 252]) torch.Size([1, 14, 200, 252])\n"
     ]
    },
    {
     "name": "stderr",
     "output_type": "stream",
     "text": [
      "\u001b[32m2024-07-11 16:52:30.553\u001b[0m | \u001b[1mINFO    \u001b[0m | \u001b[36m__main__\u001b[0m:\u001b[36mtrain\u001b[0m:\u001b[36m23\u001b[0m - \u001b[1mEpoch: 1, Batch: 59, Loss: 3.252272605895996\u001b[0m\n",
      "\u001b[32m2024-07-11 16:52:30.554\u001b[0m | \u001b[1mINFO    \u001b[0m | \u001b[36m__main__\u001b[0m:\u001b[36mtrain\u001b[0m:\u001b[36m25\u001b[0m - \u001b[1mPer batch time: 1.348223823 sec\u001b[0m\n"
     ]
    },
    {
     "name": "stdout",
     "output_type": "stream",
     "text": [
      "torch.Size([1, 2, 200, 252]) torch.Size([1, 14, 200, 252])\n"
     ]
    },
    {
     "name": "stderr",
     "output_type": "stream",
     "text": [
      "\u001b[32m2024-07-11 16:52:31.962\u001b[0m | \u001b[1mINFO    \u001b[0m | \u001b[36m__main__\u001b[0m:\u001b[36mtrain\u001b[0m:\u001b[36m23\u001b[0m - \u001b[1mEpoch: 1, Batch: 60, Loss: 3.6791443824768066\u001b[0m\n",
      "\u001b[32m2024-07-11 16:52:31.963\u001b[0m | \u001b[1mINFO    \u001b[0m | \u001b[36m__main__\u001b[0m:\u001b[36mtrain\u001b[0m:\u001b[36m25\u001b[0m - \u001b[1mPer batch time: 1.264734631 sec\u001b[0m\n"
     ]
    },
    {
     "name": "stdout",
     "output_type": "stream",
     "text": [
      "torch.Size([1, 2, 200, 252]) torch.Size([1, 14, 200, 252])\n"
     ]
    },
    {
     "name": "stderr",
     "output_type": "stream",
     "text": [
      "\u001b[32m2024-07-11 16:52:33.225\u001b[0m | \u001b[1mINFO    \u001b[0m | \u001b[36m__main__\u001b[0m:\u001b[36mtrain\u001b[0m:\u001b[36m23\u001b[0m - \u001b[1mEpoch: 1, Batch: 61, Loss: 2.2315545082092285\u001b[0m\n",
      "\u001b[32m2024-07-11 16:52:33.226\u001b[0m | \u001b[1mINFO    \u001b[0m | \u001b[36m__main__\u001b[0m:\u001b[36mtrain\u001b[0m:\u001b[36m25\u001b[0m - \u001b[1mPer batch time: 1.112769725 sec\u001b[0m\n"
     ]
    },
    {
     "name": "stdout",
     "output_type": "stream",
     "text": [
      "torch.Size([1, 2, 200, 252]) torch.Size([1, 14, 200, 252])\n"
     ]
    },
    {
     "name": "stderr",
     "output_type": "stream",
     "text": [
      "\u001b[32m2024-07-11 16:52:34.674\u001b[0m | \u001b[1mINFO    \u001b[0m | \u001b[36m__main__\u001b[0m:\u001b[36mtrain\u001b[0m:\u001b[36m23\u001b[0m - \u001b[1mEpoch: 1, Batch: 62, Loss: 2.516536235809326\u001b[0m\n",
      "\u001b[32m2024-07-11 16:52:34.675\u001b[0m | \u001b[1mINFO    \u001b[0m | \u001b[36m__main__\u001b[0m:\u001b[36mtrain\u001b[0m:\u001b[36m25\u001b[0m - \u001b[1mPer batch time: 1.189821543 sec\u001b[0m\n"
     ]
    },
    {
     "name": "stdout",
     "output_type": "stream",
     "text": [
      "torch.Size([1, 2, 200, 252]) torch.Size([1, 14, 200, 252])\n"
     ]
    },
    {
     "name": "stderr",
     "output_type": "stream",
     "text": [
      "\u001b[32m2024-07-11 16:52:36.070\u001b[0m | \u001b[1mINFO    \u001b[0m | \u001b[36m__main__\u001b[0m:\u001b[36mtrain\u001b[0m:\u001b[36m23\u001b[0m - \u001b[1mEpoch: 1, Batch: 63, Loss: 2.4839625358581543\u001b[0m\n",
      "\u001b[32m2024-07-11 16:52:36.071\u001b[0m | \u001b[1mINFO    \u001b[0m | \u001b[36m__main__\u001b[0m:\u001b[36mtrain\u001b[0m:\u001b[36m25\u001b[0m - \u001b[1mPer batch time: 1.214925919 sec\u001b[0m\n"
     ]
    },
    {
     "name": "stdout",
     "output_type": "stream",
     "text": [
      "torch.Size([1, 2, 200, 252]) torch.Size([1, 14, 200, 252])\n"
     ]
    },
    {
     "name": "stderr",
     "output_type": "stream",
     "text": [
      "\u001b[32m2024-07-11 16:52:37.374\u001b[0m | \u001b[1mINFO    \u001b[0m | \u001b[36m__main__\u001b[0m:\u001b[36mtrain\u001b[0m:\u001b[36m23\u001b[0m - \u001b[1mEpoch: 1, Batch: 64, Loss: 1.6877143383026123\u001b[0m\n",
      "\u001b[32m2024-07-11 16:52:37.375\u001b[0m | \u001b[1mINFO    \u001b[0m | \u001b[36m__main__\u001b[0m:\u001b[36mtrain\u001b[0m:\u001b[36m25\u001b[0m - \u001b[1mPer batch time: 1.118097505 sec\u001b[0m\n"
     ]
    },
    {
     "name": "stdout",
     "output_type": "stream",
     "text": [
      "torch.Size([1, 2, 200, 252]) torch.Size([1, 14, 200, 252])\n"
     ]
    },
    {
     "name": "stderr",
     "output_type": "stream",
     "text": [
      "\u001b[32m2024-07-11 16:52:38.855\u001b[0m | \u001b[1mINFO    \u001b[0m | \u001b[36m__main__\u001b[0m:\u001b[36mtrain\u001b[0m:\u001b[36m23\u001b[0m - \u001b[1mEpoch: 1, Batch: 65, Loss: 2.5716452598571777\u001b[0m\n",
      "\u001b[32m2024-07-11 16:52:38.855\u001b[0m | \u001b[1mINFO    \u001b[0m | \u001b[36m__main__\u001b[0m:\u001b[36mtrain\u001b[0m:\u001b[36m25\u001b[0m - \u001b[1mPer batch time: 1.303456959 sec\u001b[0m\n"
     ]
    },
    {
     "name": "stdout",
     "output_type": "stream",
     "text": [
      "torch.Size([1, 2, 200, 252]) torch.Size([1, 14, 200, 252])\n"
     ]
    },
    {
     "name": "stderr",
     "output_type": "stream",
     "text": [
      "\u001b[32m2024-07-11 16:52:40.325\u001b[0m | \u001b[1mINFO    \u001b[0m | \u001b[36m__main__\u001b[0m:\u001b[36mtrain\u001b[0m:\u001b[36m23\u001b[0m - \u001b[1mEpoch: 1, Batch: 66, Loss: 2.843463897705078\u001b[0m\n",
      "\u001b[32m2024-07-11 16:52:40.326\u001b[0m | \u001b[1mINFO    \u001b[0m | \u001b[36m__main__\u001b[0m:\u001b[36mtrain\u001b[0m:\u001b[36m25\u001b[0m - \u001b[1mPer batch time: 1.335361596 sec\u001b[0m\n"
     ]
    },
    {
     "name": "stdout",
     "output_type": "stream",
     "text": [
      "torch.Size([1, 2, 200, 252]) torch.Size([1, 14, 200, 252])\n"
     ]
    },
    {
     "name": "stderr",
     "output_type": "stream",
     "text": [
      "\u001b[32m2024-07-11 16:52:41.660\u001b[0m | \u001b[1mINFO    \u001b[0m | \u001b[36m__main__\u001b[0m:\u001b[36mtrain\u001b[0m:\u001b[36m23\u001b[0m - \u001b[1mEpoch: 1, Batch: 67, Loss: 3.144510507583618\u001b[0m\n",
      "\u001b[32m2024-07-11 16:52:41.661\u001b[0m | \u001b[1mINFO    \u001b[0m | \u001b[36m__main__\u001b[0m:\u001b[36mtrain\u001b[0m:\u001b[36m25\u001b[0m - \u001b[1mPer batch time: 1.203552374 sec\u001b[0m\n"
     ]
    },
    {
     "name": "stdout",
     "output_type": "stream",
     "text": [
      "torch.Size([1, 2, 200, 252]) torch.Size([1, 14, 200, 252])\n"
     ]
    },
    {
     "name": "stderr",
     "output_type": "stream",
     "text": [
      "\u001b[32m2024-07-11 16:52:43.183\u001b[0m | \u001b[1mINFO    \u001b[0m | \u001b[36m__main__\u001b[0m:\u001b[36mtrain\u001b[0m:\u001b[36m23\u001b[0m - \u001b[1mEpoch: 1, Batch: 68, Loss: 1.9323642253875732\u001b[0m\n",
      "\u001b[32m2024-07-11 16:52:43.184\u001b[0m | \u001b[1mINFO    \u001b[0m | \u001b[36m__main__\u001b[0m:\u001b[36mtrain\u001b[0m:\u001b[36m25\u001b[0m - \u001b[1mPer batch time: 1.362762901 sec\u001b[0m\n"
     ]
    },
    {
     "name": "stdout",
     "output_type": "stream",
     "text": [
      "torch.Size([1, 2, 200, 252]) torch.Size([1, 14, 200, 252])\n"
     ]
    },
    {
     "name": "stderr",
     "output_type": "stream",
     "text": [
      "\u001b[32m2024-07-11 16:52:44.595\u001b[0m | \u001b[1mINFO    \u001b[0m | \u001b[36m__main__\u001b[0m:\u001b[36mtrain\u001b[0m:\u001b[36m23\u001b[0m - \u001b[1mEpoch: 1, Batch: 69, Loss: 2.9555747509002686\u001b[0m\n",
      "\u001b[32m2024-07-11 16:52:44.596\u001b[0m | \u001b[1mINFO    \u001b[0m | \u001b[36m__main__\u001b[0m:\u001b[36mtrain\u001b[0m:\u001b[36m25\u001b[0m - \u001b[1mPer batch time: 1.341148501 sec\u001b[0m\n"
     ]
    },
    {
     "name": "stdout",
     "output_type": "stream",
     "text": [
      "torch.Size([1, 2, 200, 252]) torch.Size([1, 14, 200, 252])\n"
     ]
    },
    {
     "name": "stderr",
     "output_type": "stream",
     "text": [
      "\u001b[32m2024-07-11 16:52:45.959\u001b[0m | \u001b[1mINFO    \u001b[0m | \u001b[36m__main__\u001b[0m:\u001b[36mtrain\u001b[0m:\u001b[36m23\u001b[0m - \u001b[1mEpoch: 1, Batch: 70, Loss: 3.237544536590576\u001b[0m\n",
      "\u001b[32m2024-07-11 16:52:45.959\u001b[0m | \u001b[1mINFO    \u001b[0m | \u001b[36m__main__\u001b[0m:\u001b[36mtrain\u001b[0m:\u001b[36m25\u001b[0m - \u001b[1mPer batch time: 1.251606426 sec\u001b[0m\n"
     ]
    },
    {
     "name": "stdout",
     "output_type": "stream",
     "text": [
      "torch.Size([1, 2, 200, 252]) torch.Size([1, 14, 200, 252])\n"
     ]
    },
    {
     "name": "stderr",
     "output_type": "stream",
     "text": [
      "\u001b[32m2024-07-11 16:52:47.257\u001b[0m | \u001b[1mINFO    \u001b[0m | \u001b[36m__main__\u001b[0m:\u001b[36mtrain\u001b[0m:\u001b[36m23\u001b[0m - \u001b[1mEpoch: 1, Batch: 71, Loss: 2.4567699432373047\u001b[0m\n",
      "\u001b[32m2024-07-11 16:52:47.258\u001b[0m | \u001b[1mINFO    \u001b[0m | \u001b[36m__main__\u001b[0m:\u001b[36mtrain\u001b[0m:\u001b[36m25\u001b[0m - \u001b[1mPer batch time: 1.171263499 sec\u001b[0m\n"
     ]
    },
    {
     "name": "stdout",
     "output_type": "stream",
     "text": [
      "torch.Size([1, 2, 200, 252]) torch.Size([1, 14, 200, 252])\n"
     ]
    },
    {
     "name": "stderr",
     "output_type": "stream",
     "text": [
      "\u001b[32m2024-07-11 16:52:48.796\u001b[0m | \u001b[1mINFO    \u001b[0m | \u001b[36m__main__\u001b[0m:\u001b[36mtrain\u001b[0m:\u001b[36m23\u001b[0m - \u001b[1mEpoch: 1, Batch: 72, Loss: 2.8671624660491943\u001b[0m\n",
      "\u001b[32m2024-07-11 16:52:48.797\u001b[0m | \u001b[1mINFO    \u001b[0m | \u001b[36m__main__\u001b[0m:\u001b[36mtrain\u001b[0m:\u001b[36m25\u001b[0m - \u001b[1mPer batch time: 1.305818378 sec\u001b[0m\n"
     ]
    },
    {
     "name": "stdout",
     "output_type": "stream",
     "text": [
      "torch.Size([1, 2, 200, 252]) torch.Size([1, 14, 200, 252])\n"
     ]
    },
    {
     "name": "stderr",
     "output_type": "stream",
     "text": [
      "\u001b[32m2024-07-11 16:52:50.251\u001b[0m | \u001b[1mINFO    \u001b[0m | \u001b[36m__main__\u001b[0m:\u001b[36mtrain\u001b[0m:\u001b[36m23\u001b[0m - \u001b[1mEpoch: 1, Batch: 73, Loss: 2.2482423782348633\u001b[0m\n",
      "\u001b[32m2024-07-11 16:52:50.251\u001b[0m | \u001b[1mINFO    \u001b[0m | \u001b[36m__main__\u001b[0m:\u001b[36mtrain\u001b[0m:\u001b[36m25\u001b[0m - \u001b[1mPer batch time: 1.208519789 sec\u001b[0m\n"
     ]
    },
    {
     "name": "stdout",
     "output_type": "stream",
     "text": [
      "torch.Size([1, 2, 200, 252]) torch.Size([1, 14, 200, 252])\n"
     ]
    },
    {
     "name": "stderr",
     "output_type": "stream",
     "text": [
      "\u001b[32m2024-07-11 16:52:51.571\u001b[0m | \u001b[1mINFO    \u001b[0m | \u001b[36m__main__\u001b[0m:\u001b[36mtrain\u001b[0m:\u001b[36m23\u001b[0m - \u001b[1mEpoch: 1, Batch: 74, Loss: 1.9051001071929932\u001b[0m\n",
      "\u001b[32m2024-07-11 16:52:51.572\u001b[0m | \u001b[1mINFO    \u001b[0m | \u001b[36m__main__\u001b[0m:\u001b[36mtrain\u001b[0m:\u001b[36m25\u001b[0m - \u001b[1mPer batch time: 1.130239159 sec\u001b[0m\n"
     ]
    },
    {
     "name": "stdout",
     "output_type": "stream",
     "text": [
      "torch.Size([1, 2, 200, 252]) torch.Size([1, 14, 200, 252])\n"
     ]
    },
    {
     "name": "stderr",
     "output_type": "stream",
     "text": [
      "\u001b[32m2024-07-11 16:52:53.111\u001b[0m | \u001b[1mINFO    \u001b[0m | \u001b[36m__main__\u001b[0m:\u001b[36mtrain\u001b[0m:\u001b[36m23\u001b[0m - \u001b[1mEpoch: 1, Batch: 75, Loss: 2.441662073135376\u001b[0m\n",
      "\u001b[32m2024-07-11 16:52:53.111\u001b[0m | \u001b[1mINFO    \u001b[0m | \u001b[36m__main__\u001b[0m:\u001b[36mtrain\u001b[0m:\u001b[36m25\u001b[0m - \u001b[1mPer batch time: 1.321472596 sec\u001b[0m\n"
     ]
    },
    {
     "name": "stdout",
     "output_type": "stream",
     "text": [
      "torch.Size([1, 2, 200, 252]) torch.Size([1, 14, 200, 252])\n"
     ]
    },
    {
     "name": "stderr",
     "output_type": "stream",
     "text": [
      "\u001b[32m2024-07-11 16:52:54.398\u001b[0m | \u001b[1mINFO    \u001b[0m | \u001b[36m__main__\u001b[0m:\u001b[36mtrain\u001b[0m:\u001b[36m23\u001b[0m - \u001b[1mEpoch: 1, Batch: 76, Loss: 2.581017017364502\u001b[0m\n",
      "\u001b[32m2024-07-11 16:52:54.399\u001b[0m | \u001b[1mINFO    \u001b[0m | \u001b[36m__main__\u001b[0m:\u001b[36mtrain\u001b[0m:\u001b[36m25\u001b[0m - \u001b[1mPer batch time: 1.168666915 sec\u001b[0m\n"
     ]
    },
    {
     "name": "stdout",
     "output_type": "stream",
     "text": [
      "torch.Size([1, 2, 200, 252]) torch.Size([1, 14, 200, 252])\n"
     ]
    },
    {
     "name": "stderr",
     "output_type": "stream",
     "text": [
      "\u001b[32m2024-07-11 16:52:55.906\u001b[0m | \u001b[1mINFO    \u001b[0m | \u001b[36m__main__\u001b[0m:\u001b[36mtrain\u001b[0m:\u001b[36m23\u001b[0m - \u001b[1mEpoch: 1, Batch: 77, Loss: 2.6595940589904785\u001b[0m\n",
      "\u001b[32m2024-07-11 16:52:55.907\u001b[0m | \u001b[1mINFO    \u001b[0m | \u001b[36m__main__\u001b[0m:\u001b[36mtrain\u001b[0m:\u001b[36m25\u001b[0m - \u001b[1mPer batch time: 1.261969377 sec\u001b[0m\n"
     ]
    },
    {
     "name": "stdout",
     "output_type": "stream",
     "text": [
      "torch.Size([1, 2, 200, 252]) torch.Size([1, 14, 200, 252])\n"
     ]
    },
    {
     "name": "stderr",
     "output_type": "stream",
     "text": [
      "\u001b[32m2024-07-11 16:52:57.178\u001b[0m | \u001b[1mINFO    \u001b[0m | \u001b[36m__main__\u001b[0m:\u001b[36mtrain\u001b[0m:\u001b[36m23\u001b[0m - \u001b[1mEpoch: 1, Batch: 78, Loss: 2.6666977405548096\u001b[0m\n",
      "\u001b[32m2024-07-11 16:52:57.179\u001b[0m | \u001b[1mINFO    \u001b[0m | \u001b[36m__main__\u001b[0m:\u001b[36mtrain\u001b[0m:\u001b[36m25\u001b[0m - \u001b[1mPer batch time: 1.104394125 sec\u001b[0m\n"
     ]
    },
    {
     "name": "stdout",
     "output_type": "stream",
     "text": [
      "torch.Size([1, 2, 200, 252]) torch.Size([1, 14, 200, 252])\n"
     ]
    },
    {
     "name": "stderr",
     "output_type": "stream",
     "text": [
      "\u001b[32m2024-07-11 16:52:58.505\u001b[0m | \u001b[1mINFO    \u001b[0m | \u001b[36m__main__\u001b[0m:\u001b[36mtrain\u001b[0m:\u001b[36m23\u001b[0m - \u001b[1mEpoch: 1, Batch: 79, Loss: 2.3852052688598633\u001b[0m\n",
      "\u001b[32m2024-07-11 16:52:58.505\u001b[0m | \u001b[1mINFO    \u001b[0m | \u001b[36m__main__\u001b[0m:\u001b[36mtrain\u001b[0m:\u001b[36m25\u001b[0m - \u001b[1mPer batch time: 1.163151352 sec\u001b[0m\n"
     ]
    },
    {
     "name": "stdout",
     "output_type": "stream",
     "text": [
      "torch.Size([1, 2, 200, 252]) torch.Size([1, 14, 200, 252])\n"
     ]
    },
    {
     "name": "stderr",
     "output_type": "stream",
     "text": [
      "\u001b[32m2024-07-11 16:53:00.017\u001b[0m | \u001b[1mINFO    \u001b[0m | \u001b[36m__main__\u001b[0m:\u001b[36mtrain\u001b[0m:\u001b[36m23\u001b[0m - \u001b[1mEpoch: 1, Batch: 80, Loss: 3.6326489448547363\u001b[0m\n",
      "\u001b[32m2024-07-11 16:53:00.018\u001b[0m | \u001b[1mINFO    \u001b[0m | \u001b[36m__main__\u001b[0m:\u001b[36mtrain\u001b[0m:\u001b[36m25\u001b[0m - \u001b[1mPer batch time: 1.383750702 sec\u001b[0m\n"
     ]
    },
    {
     "name": "stdout",
     "output_type": "stream",
     "text": [
      "torch.Size([1, 2, 200, 252]) torch.Size([1, 14, 200, 252])\n"
     ]
    },
    {
     "name": "stderr",
     "output_type": "stream",
     "text": [
      "\u001b[32m2024-07-11 16:53:01.257\u001b[0m | \u001b[1mINFO    \u001b[0m | \u001b[36m__main__\u001b[0m:\u001b[36mtrain\u001b[0m:\u001b[36m23\u001b[0m - \u001b[1mEpoch: 1, Batch: 81, Loss: 2.0082337856292725\u001b[0m\n",
      "\u001b[32m2024-07-11 16:53:01.258\u001b[0m | \u001b[1mINFO    \u001b[0m | \u001b[36m__main__\u001b[0m:\u001b[36mtrain\u001b[0m:\u001b[36m25\u001b[0m - \u001b[1mPer batch time: 1.094053709 sec\u001b[0m\n"
     ]
    },
    {
     "name": "stdout",
     "output_type": "stream",
     "text": [
      "torch.Size([1, 2, 200, 252]) torch.Size([1, 14, 200, 252])\n"
     ]
    },
    {
     "name": "stderr",
     "output_type": "stream",
     "text": [
      "\u001b[32m2024-07-11 16:53:02.632\u001b[0m | \u001b[1mINFO    \u001b[0m | \u001b[36m__main__\u001b[0m:\u001b[36mtrain\u001b[0m:\u001b[36m23\u001b[0m - \u001b[1mEpoch: 1, Batch: 82, Loss: 2.9801955223083496\u001b[0m\n",
      "\u001b[32m2024-07-11 16:53:02.632\u001b[0m | \u001b[1mINFO    \u001b[0m | \u001b[36m__main__\u001b[0m:\u001b[36mtrain\u001b[0m:\u001b[36m25\u001b[0m - \u001b[1mPer batch time: 1.234954305 sec\u001b[0m\n"
     ]
    },
    {
     "name": "stdout",
     "output_type": "stream",
     "text": [
      "torch.Size([1, 2, 200, 252]) torch.Size([1, 14, 200, 252])\n"
     ]
    },
    {
     "name": "stderr",
     "output_type": "stream",
     "text": [
      "\u001b[32m2024-07-11 16:53:03.636\u001b[0m | \u001b[1mINFO    \u001b[0m | \u001b[36m__main__\u001b[0m:\u001b[36mtrain\u001b[0m:\u001b[36m23\u001b[0m - \u001b[1mEpoch: 1, Batch: 83, Loss: 1.901865005493164\u001b[0m\n",
      "\u001b[32m2024-07-11 16:53:03.637\u001b[0m | \u001b[1mINFO    \u001b[0m | \u001b[36m__main__\u001b[0m:\u001b[36mtrain\u001b[0m:\u001b[36m25\u001b[0m - \u001b[1mPer batch time: 0.877550109 sec\u001b[0m\n"
     ]
    },
    {
     "name": "stdout",
     "output_type": "stream",
     "text": [
      "torch.Size([1, 2, 200, 252]) torch.Size([1, 14, 200, 252])\n"
     ]
    },
    {
     "name": "stderr",
     "output_type": "stream",
     "text": [
      "\u001b[32m2024-07-11 16:53:05.001\u001b[0m | \u001b[1mINFO    \u001b[0m | \u001b[36m__main__\u001b[0m:\u001b[36mtrain\u001b[0m:\u001b[36m23\u001b[0m - \u001b[1mEpoch: 1, Batch: 84, Loss: 1.7709035873413086\u001b[0m\n",
      "\u001b[32m2024-07-11 16:53:05.002\u001b[0m | \u001b[1mINFO    \u001b[0m | \u001b[36m__main__\u001b[0m:\u001b[36mtrain\u001b[0m:\u001b[36m25\u001b[0m - \u001b[1mPer batch time: 1.202312953 sec\u001b[0m\n"
     ]
    },
    {
     "name": "stdout",
     "output_type": "stream",
     "text": [
      "torch.Size([1, 2, 200, 252]) torch.Size([1, 14, 200, 252])\n"
     ]
    },
    {
     "name": "stderr",
     "output_type": "stream",
     "text": [
      "\u001b[32m2024-07-11 16:53:06.380\u001b[0m | \u001b[1mINFO    \u001b[0m | \u001b[36m__main__\u001b[0m:\u001b[36mtrain\u001b[0m:\u001b[36m23\u001b[0m - \u001b[1mEpoch: 1, Batch: 85, Loss: 3.0474116802215576\u001b[0m\n",
      "\u001b[32m2024-07-11 16:53:06.381\u001b[0m | \u001b[1mINFO    \u001b[0m | \u001b[36m__main__\u001b[0m:\u001b[36mtrain\u001b[0m:\u001b[36m25\u001b[0m - \u001b[1mPer batch time: 1.247471242 sec\u001b[0m\n"
     ]
    },
    {
     "name": "stdout",
     "output_type": "stream",
     "text": [
      "torch.Size([1, 2, 200, 252]) torch.Size([1, 14, 200, 252])\n"
     ]
    },
    {
     "name": "stderr",
     "output_type": "stream",
     "text": [
      "\u001b[32m2024-07-11 16:53:07.674\u001b[0m | \u001b[1mINFO    \u001b[0m | \u001b[36m__main__\u001b[0m:\u001b[36mtrain\u001b[0m:\u001b[36m23\u001b[0m - \u001b[1mEpoch: 1, Batch: 86, Loss: 2.094248056411743\u001b[0m\n",
      "\u001b[32m2024-07-11 16:53:07.675\u001b[0m | \u001b[1mINFO    \u001b[0m | \u001b[36m__main__\u001b[0m:\u001b[36mtrain\u001b[0m:\u001b[36m25\u001b[0m - \u001b[1mPer batch time: 1.168562587 sec\u001b[0m\n"
     ]
    },
    {
     "name": "stdout",
     "output_type": "stream",
     "text": [
      "torch.Size([1, 2, 200, 252]) torch.Size([1, 14, 200, 252])\n"
     ]
    },
    {
     "name": "stderr",
     "output_type": "stream",
     "text": [
      "\u001b[32m2024-07-11 16:53:08.946\u001b[0m | \u001b[1mINFO    \u001b[0m | \u001b[36m__main__\u001b[0m:\u001b[36mtrain\u001b[0m:\u001b[36m23\u001b[0m - \u001b[1mEpoch: 1, Batch: 87, Loss: 2.0755975246429443\u001b[0m\n",
      "\u001b[32m2024-07-11 16:53:08.946\u001b[0m | \u001b[1mINFO    \u001b[0m | \u001b[36m__main__\u001b[0m:\u001b[36mtrain\u001b[0m:\u001b[36m25\u001b[0m - \u001b[1mPer batch time: 1.129333847 sec\u001b[0m\n"
     ]
    },
    {
     "name": "stdout",
     "output_type": "stream",
     "text": [
      "torch.Size([1, 2, 200, 252]) torch.Size([1, 14, 200, 252])\n"
     ]
    },
    {
     "name": "stderr",
     "output_type": "stream",
     "text": [
      "\u001b[32m2024-07-11 16:53:10.326\u001b[0m | \u001b[1mINFO    \u001b[0m | \u001b[36m__main__\u001b[0m:\u001b[36mtrain\u001b[0m:\u001b[36m23\u001b[0m - \u001b[1mEpoch: 1, Batch: 88, Loss: 3.6786341667175293\u001b[0m\n",
      "\u001b[32m2024-07-11 16:53:10.326\u001b[0m | \u001b[1mINFO    \u001b[0m | \u001b[36m__main__\u001b[0m:\u001b[36mtrain\u001b[0m:\u001b[36m25\u001b[0m - \u001b[1mPer batch time: 1.233236832 sec\u001b[0m\n"
     ]
    },
    {
     "name": "stdout",
     "output_type": "stream",
     "text": [
      "torch.Size([1, 2, 200, 252]) torch.Size([1, 14, 200, 252])\n"
     ]
    },
    {
     "name": "stderr",
     "output_type": "stream",
     "text": [
      "\u001b[32m2024-07-11 16:53:11.655\u001b[0m | \u001b[1mINFO    \u001b[0m | \u001b[36m__main__\u001b[0m:\u001b[36mtrain\u001b[0m:\u001b[36m23\u001b[0m - \u001b[1mEpoch: 1, Batch: 89, Loss: 1.711740255355835\u001b[0m\n",
      "\u001b[32m2024-07-11 16:53:11.656\u001b[0m | \u001b[1mINFO    \u001b[0m | \u001b[36m__main__\u001b[0m:\u001b[36mtrain\u001b[0m:\u001b[36m25\u001b[0m - \u001b[1mPer batch time: 1.1633297 sec\u001b[0m\n"
     ]
    },
    {
     "name": "stdout",
     "output_type": "stream",
     "text": [
      "torch.Size([1, 2, 200, 252]) torch.Size([1, 14, 200, 252])\n"
     ]
    },
    {
     "name": "stderr",
     "output_type": "stream",
     "text": [
      "\u001b[32m2024-07-11 16:53:13.038\u001b[0m | \u001b[1mINFO    \u001b[0m | \u001b[36m__main__\u001b[0m:\u001b[36mtrain\u001b[0m:\u001b[36m23\u001b[0m - \u001b[1mEpoch: 1, Batch: 90, Loss: 3.326976776123047\u001b[0m\n",
      "\u001b[32m2024-07-11 16:53:13.038\u001b[0m | \u001b[1mINFO    \u001b[0m | \u001b[36m__main__\u001b[0m:\u001b[36mtrain\u001b[0m:\u001b[36m25\u001b[0m - \u001b[1mPer batch time: 1.201693304 sec\u001b[0m\n"
     ]
    },
    {
     "name": "stdout",
     "output_type": "stream",
     "text": [
      "torch.Size([1, 2, 200, 252]) torch.Size([1, 14, 200, 252])\n"
     ]
    },
    {
     "name": "stderr",
     "output_type": "stream",
     "text": [
      "\u001b[32m2024-07-11 16:53:14.362\u001b[0m | \u001b[1mINFO    \u001b[0m | \u001b[36m__main__\u001b[0m:\u001b[36mtrain\u001b[0m:\u001b[36m23\u001b[0m - \u001b[1mEpoch: 1, Batch: 91, Loss: 1.835124135017395\u001b[0m\n",
      "\u001b[32m2024-07-11 16:53:14.362\u001b[0m | \u001b[1mINFO    \u001b[0m | \u001b[36m__main__\u001b[0m:\u001b[36mtrain\u001b[0m:\u001b[36m25\u001b[0m - \u001b[1mPer batch time: 1.163603831 sec\u001b[0m\n"
     ]
    },
    {
     "name": "stdout",
     "output_type": "stream",
     "text": [
      "torch.Size([1, 2, 200, 252]) torch.Size([1, 14, 200, 252])\n"
     ]
    },
    {
     "name": "stderr",
     "output_type": "stream",
     "text": [
      "\u001b[32m2024-07-11 16:53:15.732\u001b[0m | \u001b[1mINFO    \u001b[0m | \u001b[36m__main__\u001b[0m:\u001b[36mtrain\u001b[0m:\u001b[36m23\u001b[0m - \u001b[1mEpoch: 1, Batch: 92, Loss: 3.207515239715576\u001b[0m\n",
      "\u001b[32m2024-07-11 16:53:15.733\u001b[0m | \u001b[1mINFO    \u001b[0m | \u001b[36m__main__\u001b[0m:\u001b[36mtrain\u001b[0m:\u001b[36m25\u001b[0m - \u001b[1mPer batch time: 1.203971664 sec\u001b[0m\n"
     ]
    },
    {
     "name": "stdout",
     "output_type": "stream",
     "text": [
      "torch.Size([1, 2, 200, 252]) torch.Size([1, 14, 200, 252])\n"
     ]
    },
    {
     "name": "stderr",
     "output_type": "stream",
     "text": [
      "\u001b[32m2024-07-11 16:53:17.094\u001b[0m | \u001b[1mINFO    \u001b[0m | \u001b[36m__main__\u001b[0m:\u001b[36mtrain\u001b[0m:\u001b[36m23\u001b[0m - \u001b[1mEpoch: 1, Batch: 93, Loss: 2.980571746826172\u001b[0m\n",
      "\u001b[32m2024-07-11 16:53:17.095\u001b[0m | \u001b[1mINFO    \u001b[0m | \u001b[36m__main__\u001b[0m:\u001b[36mtrain\u001b[0m:\u001b[36m25\u001b[0m - \u001b[1mPer batch time: 1.200906876 sec\u001b[0m\n"
     ]
    },
    {
     "name": "stdout",
     "output_type": "stream",
     "text": [
      "torch.Size([1, 2, 200, 252]) torch.Size([1, 14, 200, 252])\n"
     ]
    },
    {
     "name": "stderr",
     "output_type": "stream",
     "text": [
      "\u001b[32m2024-07-11 16:53:18.071\u001b[0m | \u001b[1mINFO    \u001b[0m | \u001b[36m__main__\u001b[0m:\u001b[36mtrain\u001b[0m:\u001b[36m23\u001b[0m - \u001b[1mEpoch: 1, Batch: 94, Loss: 2.056623935699463\u001b[0m\n",
      "\u001b[32m2024-07-11 16:53:18.071\u001b[0m | \u001b[1mINFO    \u001b[0m | \u001b[36m__main__\u001b[0m:\u001b[36mtrain\u001b[0m:\u001b[36m25\u001b[0m - \u001b[1mPer batch time: 0.850173386 sec\u001b[0m\n"
     ]
    },
    {
     "name": "stdout",
     "output_type": "stream",
     "text": [
      "torch.Size([1, 2, 200, 252]) torch.Size([1, 14, 200, 252])\n"
     ]
    },
    {
     "name": "stderr",
     "output_type": "stream",
     "text": [
      "\u001b[32m2024-07-11 16:53:19.492\u001b[0m | \u001b[1mINFO    \u001b[0m | \u001b[36m__main__\u001b[0m:\u001b[36mtrain\u001b[0m:\u001b[36m23\u001b[0m - \u001b[1mEpoch: 1, Batch: 95, Loss: 1.8418407440185547\u001b[0m\n",
      "\u001b[32m2024-07-11 16:53:19.493\u001b[0m | \u001b[1mINFO    \u001b[0m | \u001b[36m__main__\u001b[0m:\u001b[36mtrain\u001b[0m:\u001b[36m25\u001b[0m - \u001b[1mPer batch time: 1.274387386 sec\u001b[0m\n"
     ]
    },
    {
     "name": "stdout",
     "output_type": "stream",
     "text": [
      "torch.Size([1, 2, 200, 252]) torch.Size([1, 14, 200, 252])\n"
     ]
    },
    {
     "name": "stderr",
     "output_type": "stream",
     "text": [
      "\u001b[32m2024-07-11 16:53:20.855\u001b[0m | \u001b[1mINFO    \u001b[0m | \u001b[36m__main__\u001b[0m:\u001b[36mtrain\u001b[0m:\u001b[36m23\u001b[0m - \u001b[1mEpoch: 1, Batch: 96, Loss: 3.239373207092285\u001b[0m\n",
      "\u001b[32m2024-07-11 16:53:20.856\u001b[0m | \u001b[1mINFO    \u001b[0m | \u001b[36m__main__\u001b[0m:\u001b[36mtrain\u001b[0m:\u001b[36m25\u001b[0m - \u001b[1mPer batch time: 1.198189607 sec\u001b[0m\n"
     ]
    },
    {
     "name": "stdout",
     "output_type": "stream",
     "text": [
      "torch.Size([1, 2, 200, 252]) torch.Size([1, 14, 200, 252])\n"
     ]
    },
    {
     "name": "stderr",
     "output_type": "stream",
     "text": [
      "\u001b[32m2024-07-11 16:53:22.355\u001b[0m | \u001b[1mINFO    \u001b[0m | \u001b[36m__main__\u001b[0m:\u001b[36mtrain\u001b[0m:\u001b[36m23\u001b[0m - \u001b[1mEpoch: 1, Batch: 97, Loss: 2.7400360107421875\u001b[0m\n",
      "\u001b[32m2024-07-11 16:53:22.356\u001b[0m | \u001b[1mINFO    \u001b[0m | \u001b[36m__main__\u001b[0m:\u001b[36mtrain\u001b[0m:\u001b[36m25\u001b[0m - \u001b[1mPer batch time: 1.283976839 sec\u001b[0m\n"
     ]
    },
    {
     "name": "stdout",
     "output_type": "stream",
     "text": [
      "torch.Size([1, 2, 200, 252]) torch.Size([1, 14, 200, 252])\n"
     ]
    },
    {
     "name": "stderr",
     "output_type": "stream",
     "text": [
      "\u001b[32m2024-07-11 16:53:23.809\u001b[0m | \u001b[1mINFO    \u001b[0m | \u001b[36m__main__\u001b[0m:\u001b[36mtrain\u001b[0m:\u001b[36m23\u001b[0m - \u001b[1mEpoch: 1, Batch: 98, Loss: 3.6802051067352295\u001b[0m\n",
      "\u001b[32m2024-07-11 16:53:23.810\u001b[0m | \u001b[1mINFO    \u001b[0m | \u001b[36m__main__\u001b[0m:\u001b[36mtrain\u001b[0m:\u001b[36m25\u001b[0m - \u001b[1mPer batch time: 1.273831083 sec\u001b[0m\n"
     ]
    },
    {
     "name": "stdout",
     "output_type": "stream",
     "text": [
      "torch.Size([1, 2, 200, 252]) torch.Size([1, 14, 200, 252])\n"
     ]
    },
    {
     "name": "stderr",
     "output_type": "stream",
     "text": [
      "\u001b[32m2024-07-11 16:53:25.126\u001b[0m | \u001b[1mINFO    \u001b[0m | \u001b[36m__main__\u001b[0m:\u001b[36mtrain\u001b[0m:\u001b[36m23\u001b[0m - \u001b[1mEpoch: 1, Batch: 99, Loss: 2.8004682064056396\u001b[0m\n",
      "\u001b[32m2024-07-11 16:53:25.127\u001b[0m | \u001b[1mINFO    \u001b[0m | \u001b[36m__main__\u001b[0m:\u001b[36mtrain\u001b[0m:\u001b[36m25\u001b[0m - \u001b[1mPer batch time: 1.214046588 sec\u001b[0m\n"
     ]
    },
    {
     "name": "stdout",
     "output_type": "stream",
     "text": [
      "torch.Size([1, 2, 200, 252]) torch.Size([1, 14, 200, 252])\n"
     ]
    },
    {
     "name": "stderr",
     "output_type": "stream",
     "text": [
      "\u001b[32m2024-07-11 16:53:26.068\u001b[0m | \u001b[1mINFO    \u001b[0m | \u001b[36m__main__\u001b[0m:\u001b[36mtrain\u001b[0m:\u001b[36m23\u001b[0m - \u001b[1mEpoch: 1, Batch: 100, Loss: 1.8674445152282715\u001b[0m\n",
      "\u001b[32m2024-07-11 16:53:26.069\u001b[0m | \u001b[1mINFO    \u001b[0m | \u001b[36m__main__\u001b[0m:\u001b[36mtrain\u001b[0m:\u001b[36m25\u001b[0m - \u001b[1mPer batch time: 0.870749137 sec\u001b[0m\n"
     ]
    },
    {
     "name": "stdout",
     "output_type": "stream",
     "text": [
      "torch.Size([1, 2, 200, 252]) torch.Size([1, 14, 200, 252])\n"
     ]
    },
    {
     "name": "stderr",
     "output_type": "stream",
     "text": [
      "\u001b[32m2024-07-11 16:53:27.476\u001b[0m | \u001b[1mINFO    \u001b[0m | \u001b[36m__main__\u001b[0m:\u001b[36mtrain\u001b[0m:\u001b[36m23\u001b[0m - \u001b[1mEpoch: 1, Batch: 101, Loss: 3.059030055999756\u001b[0m\n",
      "\u001b[32m2024-07-11 16:53:27.476\u001b[0m | \u001b[1mINFO    \u001b[0m | \u001b[36m__main__\u001b[0m:\u001b[36mtrain\u001b[0m:\u001b[36m25\u001b[0m - \u001b[1mPer batch time: 1.344521318 sec\u001b[0m\n"
     ]
    },
    {
     "name": "stdout",
     "output_type": "stream",
     "text": [
      "torch.Size([1, 2, 200, 252]) torch.Size([1, 14, 200, 252])\n"
     ]
    },
    {
     "name": "stderr",
     "output_type": "stream",
     "text": [
      "\u001b[32m2024-07-11 16:53:28.627\u001b[0m | \u001b[1mINFO    \u001b[0m | \u001b[36m__main__\u001b[0m:\u001b[36mtrain\u001b[0m:\u001b[36m23\u001b[0m - \u001b[1mEpoch: 1, Batch: 102, Loss: 1.7262439727783203\u001b[0m\n",
      "\u001b[32m2024-07-11 16:53:28.628\u001b[0m | \u001b[1mINFO    \u001b[0m | \u001b[36m__main__\u001b[0m:\u001b[36mtrain\u001b[0m:\u001b[36m25\u001b[0m - \u001b[1mPer batch time: 1.08749025 sec\u001b[0m\n"
     ]
    },
    {
     "name": "stdout",
     "output_type": "stream",
     "text": [
      "torch.Size([1, 2, 200, 252]) torch.Size([1, 14, 200, 252])\n"
     ]
    },
    {
     "name": "stderr",
     "output_type": "stream",
     "text": [
      "\u001b[32m2024-07-11 16:53:29.880\u001b[0m | \u001b[1mINFO    \u001b[0m | \u001b[36m__main__\u001b[0m:\u001b[36mtrain\u001b[0m:\u001b[36m23\u001b[0m - \u001b[1mEpoch: 1, Batch: 103, Loss: 2.093142032623291\u001b[0m\n",
      "\u001b[32m2024-07-11 16:53:29.881\u001b[0m | \u001b[1mINFO    \u001b[0m | \u001b[36m__main__\u001b[0m:\u001b[36mtrain\u001b[0m:\u001b[36m25\u001b[0m - \u001b[1mPer batch time: 1.174882683 sec\u001b[0m\n"
     ]
    },
    {
     "name": "stdout",
     "output_type": "stream",
     "text": [
      "torch.Size([1, 2, 200, 252]) torch.Size([1, 14, 200, 252])\n"
     ]
    },
    {
     "name": "stderr",
     "output_type": "stream",
     "text": [
      "\u001b[32m2024-07-11 16:53:31.132\u001b[0m | \u001b[1mINFO    \u001b[0m | \u001b[36m__main__\u001b[0m:\u001b[36mtrain\u001b[0m:\u001b[36m23\u001b[0m - \u001b[1mEpoch: 1, Batch: 104, Loss: 2.361323118209839\u001b[0m\n",
      "\u001b[32m2024-07-11 16:53:31.133\u001b[0m | \u001b[1mINFO    \u001b[0m | \u001b[36m__main__\u001b[0m:\u001b[36mtrain\u001b[0m:\u001b[36m25\u001b[0m - \u001b[1mPer batch time: 1.184934381 sec\u001b[0m\n"
     ]
    },
    {
     "name": "stdout",
     "output_type": "stream",
     "text": [
      "torch.Size([1, 2, 200, 252]) torch.Size([1, 14, 200, 252])\n"
     ]
    },
    {
     "name": "stderr",
     "output_type": "stream",
     "text": [
      "\u001b[32m2024-07-11 16:53:32.342\u001b[0m | \u001b[1mINFO    \u001b[0m | \u001b[36m__main__\u001b[0m:\u001b[36mtrain\u001b[0m:\u001b[36m23\u001b[0m - \u001b[1mEpoch: 1, Batch: 105, Loss: 2.7246291637420654\u001b[0m\n",
      "\u001b[32m2024-07-11 16:53:32.343\u001b[0m | \u001b[1mINFO    \u001b[0m | \u001b[36m__main__\u001b[0m:\u001b[36mtrain\u001b[0m:\u001b[36m25\u001b[0m - \u001b[1mPer batch time: 1.152280173 sec\u001b[0m\n"
     ]
    },
    {
     "name": "stdout",
     "output_type": "stream",
     "text": [
      "torch.Size([1, 2, 200, 252]) torch.Size([1, 14, 200, 252])\n"
     ]
    },
    {
     "name": "stderr",
     "output_type": "stream",
     "text": [
      "\u001b[32m2024-07-11 16:53:33.819\u001b[0m | \u001b[1mINFO    \u001b[0m | \u001b[36m__main__\u001b[0m:\u001b[36mtrain\u001b[0m:\u001b[36m23\u001b[0m - \u001b[1mEpoch: 1, Batch: 106, Loss: 2.808743476867676\u001b[0m\n",
      "\u001b[32m2024-07-11 16:53:33.820\u001b[0m | \u001b[1mINFO    \u001b[0m | \u001b[36m__main__\u001b[0m:\u001b[36mtrain\u001b[0m:\u001b[36m25\u001b[0m - \u001b[1mPer batch time: 1.407581747 sec\u001b[0m\n"
     ]
    },
    {
     "name": "stdout",
     "output_type": "stream",
     "text": [
      "torch.Size([1, 2, 200, 252]) torch.Size([1, 14, 200, 252])\n"
     ]
    },
    {
     "name": "stderr",
     "output_type": "stream",
     "text": [
      "\u001b[32m2024-07-11 16:53:35.251\u001b[0m | \u001b[1mINFO    \u001b[0m | \u001b[36m__main__\u001b[0m:\u001b[36mtrain\u001b[0m:\u001b[36m23\u001b[0m - \u001b[1mEpoch: 1, Batch: 107, Loss: 2.6957550048828125\u001b[0m\n",
      "\u001b[32m2024-07-11 16:53:35.251\u001b[0m | \u001b[1mINFO    \u001b[0m | \u001b[36m__main__\u001b[0m:\u001b[36mtrain\u001b[0m:\u001b[36m25\u001b[0m - \u001b[1mPer batch time: 1.194813297 sec\u001b[0m\n"
     ]
    },
    {
     "name": "stdout",
     "output_type": "stream",
     "text": [
      "torch.Size([1, 2, 200, 252]) torch.Size([1, 14, 200, 252])\n"
     ]
    },
    {
     "name": "stderr",
     "output_type": "stream",
     "text": [
      "\u001b[32m2024-07-11 16:53:36.236\u001b[0m | \u001b[1mINFO    \u001b[0m | \u001b[36m__main__\u001b[0m:\u001b[36mtrain\u001b[0m:\u001b[36m23\u001b[0m - \u001b[1mEpoch: 1, Batch: 108, Loss: 2.2544376850128174\u001b[0m\n",
      "\u001b[32m2024-07-11 16:53:36.237\u001b[0m | \u001b[1mINFO    \u001b[0m | \u001b[36m__main__\u001b[0m:\u001b[36mtrain\u001b[0m:\u001b[36m25\u001b[0m - \u001b[1mPer batch time: 0.847977869 sec\u001b[0m\n"
     ]
    },
    {
     "name": "stdout",
     "output_type": "stream",
     "text": [
      "torch.Size([1, 2, 200, 252]) torch.Size([1, 14, 200, 252])\n"
     ]
    },
    {
     "name": "stderr",
     "output_type": "stream",
     "text": [
      "\u001b[32m2024-07-11 16:53:37.549\u001b[0m | \u001b[1mINFO    \u001b[0m | \u001b[36m__main__\u001b[0m:\u001b[36mtrain\u001b[0m:\u001b[36m23\u001b[0m - \u001b[1mEpoch: 1, Batch: 109, Loss: 2.9542388916015625\u001b[0m\n",
      "\u001b[32m2024-07-11 16:53:37.550\u001b[0m | \u001b[1mINFO    \u001b[0m | \u001b[36m__main__\u001b[0m:\u001b[36mtrain\u001b[0m:\u001b[36m25\u001b[0m - \u001b[1mPer batch time: 1.148573045 sec\u001b[0m\n"
     ]
    },
    {
     "name": "stdout",
     "output_type": "stream",
     "text": [
      "torch.Size([1, 2, 200, 252]) torch.Size([1, 14, 200, 252])\n"
     ]
    },
    {
     "name": "stderr",
     "output_type": "stream",
     "text": [
      "\u001b[32m2024-07-11 16:53:39.006\u001b[0m | \u001b[1mINFO    \u001b[0m | \u001b[36m__main__\u001b[0m:\u001b[36mtrain\u001b[0m:\u001b[36m23\u001b[0m - \u001b[1mEpoch: 1, Batch: 110, Loss: 1.3450782299041748\u001b[0m\n",
      "\u001b[32m2024-07-11 16:53:39.007\u001b[0m | \u001b[1mINFO    \u001b[0m | \u001b[36m__main__\u001b[0m:\u001b[36mtrain\u001b[0m:\u001b[36m25\u001b[0m - \u001b[1mPer batch time: 1.347087061 sec\u001b[0m\n"
     ]
    },
    {
     "name": "stdout",
     "output_type": "stream",
     "text": [
      "torch.Size([1, 2, 200, 252]) torch.Size([1, 14, 200, 252])\n"
     ]
    },
    {
     "name": "stderr",
     "output_type": "stream",
     "text": [
      "\u001b[32m2024-07-11 16:53:40.372\u001b[0m | \u001b[1mINFO    \u001b[0m | \u001b[36m__main__\u001b[0m:\u001b[36mtrain\u001b[0m:\u001b[36m23\u001b[0m - \u001b[1mEpoch: 1, Batch: 111, Loss: 3.1439266204833984\u001b[0m\n",
      "\u001b[32m2024-07-11 16:53:40.372\u001b[0m | \u001b[1mINFO    \u001b[0m | \u001b[36m__main__\u001b[0m:\u001b[36mtrain\u001b[0m:\u001b[36m25\u001b[0m - \u001b[1mPer batch time: 1.245045254 sec\u001b[0m\n"
     ]
    },
    {
     "name": "stdout",
     "output_type": "stream",
     "text": [
      "torch.Size([1, 2, 200, 252]) torch.Size([1, 14, 200, 252])\n"
     ]
    },
    {
     "name": "stderr",
     "output_type": "stream",
     "text": [
      "\u001b[32m2024-07-11 16:53:41.820\u001b[0m | \u001b[1mINFO    \u001b[0m | \u001b[36m__main__\u001b[0m:\u001b[36mtrain\u001b[0m:\u001b[36m23\u001b[0m - \u001b[1mEpoch: 1, Batch: 112, Loss: 2.8230462074279785\u001b[0m\n",
      "\u001b[32m2024-07-11 16:53:41.821\u001b[0m | \u001b[1mINFO    \u001b[0m | \u001b[36m__main__\u001b[0m:\u001b[36mtrain\u001b[0m:\u001b[36m25\u001b[0m - \u001b[1mPer batch time: 1.268224005 sec\u001b[0m\n"
     ]
    },
    {
     "name": "stdout",
     "output_type": "stream",
     "text": [
      "torch.Size([1, 2, 200, 252]) torch.Size([1, 14, 200, 252])\n"
     ]
    },
    {
     "name": "stderr",
     "output_type": "stream",
     "text": [
      "\u001b[32m2024-07-11 16:53:43.228\u001b[0m | \u001b[1mINFO    \u001b[0m | \u001b[36m__main__\u001b[0m:\u001b[36mtrain\u001b[0m:\u001b[36m23\u001b[0m - \u001b[1mEpoch: 1, Batch: 113, Loss: 3.1613759994506836\u001b[0m\n",
      "\u001b[32m2024-07-11 16:53:43.229\u001b[0m | \u001b[1mINFO    \u001b[0m | \u001b[36m__main__\u001b[0m:\u001b[36mtrain\u001b[0m:\u001b[36m25\u001b[0m - \u001b[1mPer batch time: 1.331218855 sec\u001b[0m\n"
     ]
    },
    {
     "name": "stdout",
     "output_type": "stream",
     "text": [
      "torch.Size([1, 2, 200, 252]) torch.Size([1, 14, 200, 252])\n"
     ]
    },
    {
     "name": "stderr",
     "output_type": "stream",
     "text": [
      "\u001b[32m2024-07-11 16:53:44.584\u001b[0m | \u001b[1mINFO    \u001b[0m | \u001b[36m__main__\u001b[0m:\u001b[36mtrain\u001b[0m:\u001b[36m23\u001b[0m - \u001b[1mEpoch: 1, Batch: 114, Loss: 2.369157314300537\u001b[0m\n",
      "\u001b[32m2024-07-11 16:53:44.585\u001b[0m | \u001b[1mINFO    \u001b[0m | \u001b[36m__main__\u001b[0m:\u001b[36mtrain\u001b[0m:\u001b[36m25\u001b[0m - \u001b[1mPer batch time: 1.242706168 sec\u001b[0m\n"
     ]
    },
    {
     "name": "stdout",
     "output_type": "stream",
     "text": [
      "torch.Size([1, 2, 200, 252]) torch.Size([1, 14, 200, 252])\n"
     ]
    },
    {
     "name": "stderr",
     "output_type": "stream",
     "text": [
      "\u001b[32m2024-07-11 16:53:45.593\u001b[0m | \u001b[1mINFO    \u001b[0m | \u001b[36m__main__\u001b[0m:\u001b[36mtrain\u001b[0m:\u001b[36m23\u001b[0m - \u001b[1mEpoch: 1, Batch: 115, Loss: 2.166825771331787\u001b[0m\n",
      "\u001b[32m2024-07-11 16:53:45.594\u001b[0m | \u001b[1mINFO    \u001b[0m | \u001b[36m__main__\u001b[0m:\u001b[36mtrain\u001b[0m:\u001b[36m25\u001b[0m - \u001b[1mPer batch time: 0.874473163 sec\u001b[0m\n"
     ]
    },
    {
     "name": "stdout",
     "output_type": "stream",
     "text": [
      "torch.Size([1, 2, 200, 252]) torch.Size([1, 14, 200, 252])\n"
     ]
    },
    {
     "name": "stderr",
     "output_type": "stream",
     "text": [
      "\u001b[32m2024-07-11 16:53:47.084\u001b[0m | \u001b[1mINFO    \u001b[0m | \u001b[36m__main__\u001b[0m:\u001b[36mtrain\u001b[0m:\u001b[36m23\u001b[0m - \u001b[1mEpoch: 1, Batch: 116, Loss: 2.4181790351867676\u001b[0m\n",
      "\u001b[32m2024-07-11 16:53:47.084\u001b[0m | \u001b[1mINFO    \u001b[0m | \u001b[36m__main__\u001b[0m:\u001b[36mtrain\u001b[0m:\u001b[36m25\u001b[0m - \u001b[1mPer batch time: 1.359587064 sec\u001b[0m\n"
     ]
    },
    {
     "name": "stdout",
     "output_type": "stream",
     "text": [
      "torch.Size([1, 2, 200, 252]) torch.Size([1, 14, 200, 252])\n"
     ]
    },
    {
     "name": "stderr",
     "output_type": "stream",
     "text": [
      "\u001b[32m2024-07-11 16:53:48.483\u001b[0m | \u001b[1mINFO    \u001b[0m | \u001b[36m__main__\u001b[0m:\u001b[36mtrain\u001b[0m:\u001b[36m23\u001b[0m - \u001b[1mEpoch: 1, Batch: 117, Loss: 2.6673741340637207\u001b[0m\n",
      "\u001b[32m2024-07-11 16:53:48.483\u001b[0m | \u001b[1mINFO    \u001b[0m | \u001b[36m__main__\u001b[0m:\u001b[36mtrain\u001b[0m:\u001b[36m25\u001b[0m - \u001b[1mPer batch time: 1.13832296 sec\u001b[0m\n"
     ]
    },
    {
     "name": "stdout",
     "output_type": "stream",
     "text": [
      "torch.Size([1, 2, 200, 252]) torch.Size([1, 14, 200, 252])\n"
     ]
    },
    {
     "name": "stderr",
     "output_type": "stream",
     "text": [
      "\u001b[32m2024-07-11 16:53:49.843\u001b[0m | \u001b[1mINFO    \u001b[0m | \u001b[36m__main__\u001b[0m:\u001b[36mtrain\u001b[0m:\u001b[36m23\u001b[0m - \u001b[1mEpoch: 1, Batch: 118, Loss: 3.1797986030578613\u001b[0m\n",
      "\u001b[32m2024-07-11 16:53:49.844\u001b[0m | \u001b[1mINFO    \u001b[0m | \u001b[36m__main__\u001b[0m:\u001b[36mtrain\u001b[0m:\u001b[36m25\u001b[0m - \u001b[1mPer batch time: 1.22077856 sec\u001b[0m\n"
     ]
    },
    {
     "name": "stdout",
     "output_type": "stream",
     "text": [
      "torch.Size([1, 2, 200, 252]) torch.Size([1, 14, 200, 252])\n"
     ]
    },
    {
     "name": "stderr",
     "output_type": "stream",
     "text": [
      "\u001b[32m2024-07-11 16:53:51.151\u001b[0m | \u001b[1mINFO    \u001b[0m | \u001b[36m__main__\u001b[0m:\u001b[36mtrain\u001b[0m:\u001b[36m23\u001b[0m - \u001b[1mEpoch: 1, Batch: 119, Loss: 3.97091007232666\u001b[0m\n",
      "\u001b[32m2024-07-11 16:53:51.152\u001b[0m | \u001b[1mINFO    \u001b[0m | \u001b[36m__main__\u001b[0m:\u001b[36mtrain\u001b[0m:\u001b[36m25\u001b[0m - \u001b[1mPer batch time: 1.208228992 sec\u001b[0m\n"
     ]
    },
    {
     "name": "stdout",
     "output_type": "stream",
     "text": [
      "torch.Size([1, 2, 200, 252]) torch.Size([1, 14, 200, 252])\n"
     ]
    },
    {
     "name": "stderr",
     "output_type": "stream",
     "text": [
      "\u001b[32m2024-07-11 16:53:52.590\u001b[0m | \u001b[1mINFO    \u001b[0m | \u001b[36m__main__\u001b[0m:\u001b[36mtrain\u001b[0m:\u001b[36m23\u001b[0m - \u001b[1mEpoch: 1, Batch: 120, Loss: 2.3642778396606445\u001b[0m\n",
      "\u001b[32m2024-07-11 16:53:52.591\u001b[0m | \u001b[1mINFO    \u001b[0m | \u001b[36m__main__\u001b[0m:\u001b[36mtrain\u001b[0m:\u001b[36m25\u001b[0m - \u001b[1mPer batch time: 1.343707152 sec\u001b[0m\n"
     ]
    },
    {
     "name": "stdout",
     "output_type": "stream",
     "text": [
      "torch.Size([1, 2, 200, 252]) torch.Size([1, 14, 200, 252])\n"
     ]
    },
    {
     "name": "stderr",
     "output_type": "stream",
     "text": [
      "\u001b[32m2024-07-11 16:53:54.067\u001b[0m | \u001b[1mINFO    \u001b[0m | \u001b[36m__main__\u001b[0m:\u001b[36mtrain\u001b[0m:\u001b[36m23\u001b[0m - \u001b[1mEpoch: 1, Batch: 121, Loss: 2.534032106399536\u001b[0m\n",
      "\u001b[32m2024-07-11 16:53:54.068\u001b[0m | \u001b[1mINFO    \u001b[0m | \u001b[36m__main__\u001b[0m:\u001b[36mtrain\u001b[0m:\u001b[36m25\u001b[0m - \u001b[1mPer batch time: 1.265817224 sec\u001b[0m\n"
     ]
    },
    {
     "name": "stdout",
     "output_type": "stream",
     "text": [
      "torch.Size([1, 2, 200, 252]) torch.Size([1, 14, 200, 252])\n"
     ]
    },
    {
     "ename": "KeyboardInterrupt",
     "evalue": "",
     "output_type": "error",
     "traceback": [
      "\u001b[0;31m---------------------------------------------------------------------------\u001b[0m",
      "\u001b[0;31mKeyboardInterrupt\u001b[0m                         Traceback (most recent call last)",
      "Cell \u001b[0;32mIn[11], line 1\u001b[0m\n\u001b[0;32m----> 1\u001b[0m \u001b[43mtrain\u001b[49m\u001b[43m(\u001b[49m\u001b[38;5;241;43m10\u001b[39;49m\u001b[43m,\u001b[49m\u001b[43m \u001b[49m\u001b[43mvnet\u001b[49m\u001b[43m,\u001b[49m\u001b[43m \u001b[49m\u001b[43mtrain_dataloader\u001b[49m\u001b[43m,\u001b[49m\u001b[43m \u001b[49m\u001b[43mtest_dataloader\u001b[49m\u001b[43m)\u001b[49m\n",
      "Cell \u001b[0;32mIn[10], line 16\u001b[0m, in \u001b[0;36mtrain\u001b[0;34m(n_epoch, vnet, train_dataloader, test_dataloader)\u001b[0m\n\u001b[1;32m     14\u001b[0m optimizer\u001b[38;5;241m.\u001b[39mzero_grad()\n\u001b[1;32m     15\u001b[0m t0 \u001b[38;5;241m=\u001b[39m time\u001b[38;5;241m.\u001b[39mtime_ns()\n\u001b[0;32m---> 16\u001b[0m mdl_output, loss \u001b[38;5;241m=\u001b[39m \u001b[43mvnet\u001b[49m\u001b[43m(\u001b[49m\u001b[38;5;28;43minput\u001b[39;49m\u001b[43m)\u001b[49m\n\u001b[1;32m     17\u001b[0m loss\u001b[38;5;241m.\u001b[39mbackward()\n\u001b[1;32m     18\u001b[0m t1 \u001b[38;5;241m=\u001b[39m time\u001b[38;5;241m.\u001b[39mtime_ns()\n",
      "File \u001b[0;32m~/anaconda3/envs/torch/lib/python3.8/site-packages/torch/nn/modules/module.py:1532\u001b[0m, in \u001b[0;36mModule._wrapped_call_impl\u001b[0;34m(self, *args, **kwargs)\u001b[0m\n\u001b[1;32m   1530\u001b[0m     \u001b[38;5;28;01mreturn\u001b[39;00m \u001b[38;5;28mself\u001b[39m\u001b[38;5;241m.\u001b[39m_compiled_call_impl(\u001b[38;5;241m*\u001b[39margs, \u001b[38;5;241m*\u001b[39m\u001b[38;5;241m*\u001b[39mkwargs)  \u001b[38;5;66;03m# type: ignore[misc]\u001b[39;00m\n\u001b[1;32m   1531\u001b[0m \u001b[38;5;28;01melse\u001b[39;00m:\n\u001b[0;32m-> 1532\u001b[0m     \u001b[38;5;28;01mreturn\u001b[39;00m \u001b[38;5;28;43mself\u001b[39;49m\u001b[38;5;241;43m.\u001b[39;49m\u001b[43m_call_impl\u001b[49m\u001b[43m(\u001b[49m\u001b[38;5;241;43m*\u001b[39;49m\u001b[43margs\u001b[49m\u001b[43m,\u001b[49m\u001b[43m \u001b[49m\u001b[38;5;241;43m*\u001b[39;49m\u001b[38;5;241;43m*\u001b[39;49m\u001b[43mkwargs\u001b[49m\u001b[43m)\u001b[49m\n",
      "File \u001b[0;32m~/anaconda3/envs/torch/lib/python3.8/site-packages/torch/nn/modules/module.py:1541\u001b[0m, in \u001b[0;36mModule._call_impl\u001b[0;34m(self, *args, **kwargs)\u001b[0m\n\u001b[1;32m   1536\u001b[0m \u001b[38;5;66;03m# If we don't have any hooks, we want to skip the rest of the logic in\u001b[39;00m\n\u001b[1;32m   1537\u001b[0m \u001b[38;5;66;03m# this function, and just call forward.\u001b[39;00m\n\u001b[1;32m   1538\u001b[0m \u001b[38;5;28;01mif\u001b[39;00m \u001b[38;5;129;01mnot\u001b[39;00m (\u001b[38;5;28mself\u001b[39m\u001b[38;5;241m.\u001b[39m_backward_hooks \u001b[38;5;129;01mor\u001b[39;00m \u001b[38;5;28mself\u001b[39m\u001b[38;5;241m.\u001b[39m_backward_pre_hooks \u001b[38;5;129;01mor\u001b[39;00m \u001b[38;5;28mself\u001b[39m\u001b[38;5;241m.\u001b[39m_forward_hooks \u001b[38;5;129;01mor\u001b[39;00m \u001b[38;5;28mself\u001b[39m\u001b[38;5;241m.\u001b[39m_forward_pre_hooks\n\u001b[1;32m   1539\u001b[0m         \u001b[38;5;129;01mor\u001b[39;00m _global_backward_pre_hooks \u001b[38;5;129;01mor\u001b[39;00m _global_backward_hooks\n\u001b[1;32m   1540\u001b[0m         \u001b[38;5;129;01mor\u001b[39;00m _global_forward_hooks \u001b[38;5;129;01mor\u001b[39;00m _global_forward_pre_hooks):\n\u001b[0;32m-> 1541\u001b[0m     \u001b[38;5;28;01mreturn\u001b[39;00m \u001b[43mforward_call\u001b[49m\u001b[43m(\u001b[49m\u001b[38;5;241;43m*\u001b[39;49m\u001b[43margs\u001b[49m\u001b[43m,\u001b[49m\u001b[43m \u001b[49m\u001b[38;5;241;43m*\u001b[39;49m\u001b[38;5;241;43m*\u001b[39;49m\u001b[43mkwargs\u001b[49m\u001b[43m)\u001b[49m\n\u001b[1;32m   1543\u001b[0m \u001b[38;5;28;01mtry\u001b[39;00m:\n\u001b[1;32m   1544\u001b[0m     result \u001b[38;5;241m=\u001b[39m \u001b[38;5;28;01mNone\u001b[39;00m\n",
      "File \u001b[0;32m~/Dropbox/Robotics/PointCloud/Project/point_cloud/voxelnet.py:58\u001b[0m, in \u001b[0;36mVoxelNet.forward\u001b[0;34m(self, input_dict)\u001b[0m\n\u001b[1;32m     54\u001b[0m reg_target \u001b[38;5;241m=\u001b[39m input_dict[\u001b[38;5;124m\"\u001b[39m\u001b[38;5;124mreg_target\u001b[39m\u001b[38;5;124m\"\u001b[39m]\n\u001b[1;32m     56\u001b[0m \u001b[38;5;66;03m# voxelization\u001b[39;00m\n\u001b[1;32m     57\u001b[0m voxel_batch, coord_batch, mask_batch, vox_center_batch \u001b[38;5;241m=\u001b[39m \\\n\u001b[0;32m---> 58\u001b[0m     \u001b[38;5;28;43mself\u001b[39;49m\u001b[38;5;241;43m.\u001b[39;49m\u001b[43mvoxelization\u001b[49m\u001b[43m(\u001b[49m\u001b[43mpc\u001b[49m\u001b[43m)\u001b[49m\n\u001b[1;32m     60\u001b[0m \u001b[38;5;66;03m# voxel feature extraction\u001b[39;00m\n\u001b[1;32m     61\u001b[0m \u001b[38;5;66;03m# first dim of coord indicates which batch the point comes from\u001b[39;00m\n\u001b[1;32m     62\u001b[0m batch_size \u001b[38;5;241m=\u001b[39m torch\u001b[38;5;241m.\u001b[39mmax(coord_batch[:,\u001b[38;5;241m0\u001b[39m])\u001b[38;5;241m.\u001b[39mdetach()\u001b[38;5;241m.\u001b[39mcpu()\u001b[38;5;241m.\u001b[39mnumpy()\u001b[38;5;241m.\u001b[39mitem()\u001b[38;5;241m+\u001b[39m\u001b[38;5;241m1\u001b[39m\n",
      "File \u001b[0;32m~/anaconda3/envs/torch/lib/python3.8/site-packages/torch/nn/modules/module.py:1532\u001b[0m, in \u001b[0;36mModule._wrapped_call_impl\u001b[0;34m(self, *args, **kwargs)\u001b[0m\n\u001b[1;32m   1530\u001b[0m     \u001b[38;5;28;01mreturn\u001b[39;00m \u001b[38;5;28mself\u001b[39m\u001b[38;5;241m.\u001b[39m_compiled_call_impl(\u001b[38;5;241m*\u001b[39margs, \u001b[38;5;241m*\u001b[39m\u001b[38;5;241m*\u001b[39mkwargs)  \u001b[38;5;66;03m# type: ignore[misc]\u001b[39;00m\n\u001b[1;32m   1531\u001b[0m \u001b[38;5;28;01melse\u001b[39;00m:\n\u001b[0;32m-> 1532\u001b[0m     \u001b[38;5;28;01mreturn\u001b[39;00m \u001b[38;5;28;43mself\u001b[39;49m\u001b[38;5;241;43m.\u001b[39;49m\u001b[43m_call_impl\u001b[49m\u001b[43m(\u001b[49m\u001b[38;5;241;43m*\u001b[39;49m\u001b[43margs\u001b[49m\u001b[43m,\u001b[49m\u001b[43m \u001b[49m\u001b[38;5;241;43m*\u001b[39;49m\u001b[38;5;241;43m*\u001b[39;49m\u001b[43mkwargs\u001b[49m\u001b[43m)\u001b[49m\n",
      "File \u001b[0;32m~/anaconda3/envs/torch/lib/python3.8/site-packages/torch/nn/modules/module.py:1541\u001b[0m, in \u001b[0;36mModule._call_impl\u001b[0;34m(self, *args, **kwargs)\u001b[0m\n\u001b[1;32m   1536\u001b[0m \u001b[38;5;66;03m# If we don't have any hooks, we want to skip the rest of the logic in\u001b[39;00m\n\u001b[1;32m   1537\u001b[0m \u001b[38;5;66;03m# this function, and just call forward.\u001b[39;00m\n\u001b[1;32m   1538\u001b[0m \u001b[38;5;28;01mif\u001b[39;00m \u001b[38;5;129;01mnot\u001b[39;00m (\u001b[38;5;28mself\u001b[39m\u001b[38;5;241m.\u001b[39m_backward_hooks \u001b[38;5;129;01mor\u001b[39;00m \u001b[38;5;28mself\u001b[39m\u001b[38;5;241m.\u001b[39m_backward_pre_hooks \u001b[38;5;129;01mor\u001b[39;00m \u001b[38;5;28mself\u001b[39m\u001b[38;5;241m.\u001b[39m_forward_hooks \u001b[38;5;129;01mor\u001b[39;00m \u001b[38;5;28mself\u001b[39m\u001b[38;5;241m.\u001b[39m_forward_pre_hooks\n\u001b[1;32m   1539\u001b[0m         \u001b[38;5;129;01mor\u001b[39;00m _global_backward_pre_hooks \u001b[38;5;129;01mor\u001b[39;00m _global_backward_hooks\n\u001b[1;32m   1540\u001b[0m         \u001b[38;5;129;01mor\u001b[39;00m _global_forward_hooks \u001b[38;5;129;01mor\u001b[39;00m _global_forward_pre_hooks):\n\u001b[0;32m-> 1541\u001b[0m     \u001b[38;5;28;01mreturn\u001b[39;00m \u001b[43mforward_call\u001b[49m\u001b[43m(\u001b[49m\u001b[38;5;241;43m*\u001b[39;49m\u001b[43margs\u001b[49m\u001b[43m,\u001b[49m\u001b[43m \u001b[49m\u001b[38;5;241;43m*\u001b[39;49m\u001b[38;5;241;43m*\u001b[39;49m\u001b[43mkwargs\u001b[49m\u001b[43m)\u001b[49m\n\u001b[1;32m   1543\u001b[0m \u001b[38;5;28;01mtry\u001b[39;00m:\n\u001b[1;32m   1544\u001b[0m     result \u001b[38;5;241m=\u001b[39m \u001b[38;5;28;01mNone\u001b[39;00m\n",
      "File \u001b[0;32m~/anaconda3/envs/torch/lib/python3.8/site-packages/torch/utils/_contextlib.py:115\u001b[0m, in \u001b[0;36mcontext_decorator.<locals>.decorate_context\u001b[0;34m(*args, **kwargs)\u001b[0m\n\u001b[1;32m    112\u001b[0m \u001b[38;5;129m@functools\u001b[39m\u001b[38;5;241m.\u001b[39mwraps(func)\n\u001b[1;32m    113\u001b[0m \u001b[38;5;28;01mdef\u001b[39;00m \u001b[38;5;21mdecorate_context\u001b[39m(\u001b[38;5;241m*\u001b[39margs, \u001b[38;5;241m*\u001b[39m\u001b[38;5;241m*\u001b[39mkwargs):\n\u001b[1;32m    114\u001b[0m     \u001b[38;5;28;01mwith\u001b[39;00m ctx_factory():\n\u001b[0;32m--> 115\u001b[0m         \u001b[38;5;28;01mreturn\u001b[39;00m \u001b[43mfunc\u001b[49m\u001b[43m(\u001b[49m\u001b[38;5;241;43m*\u001b[39;49m\u001b[43margs\u001b[49m\u001b[43m,\u001b[49m\u001b[43m \u001b[49m\u001b[38;5;241;43m*\u001b[39;49m\u001b[38;5;241;43m*\u001b[39;49m\u001b[43mkwargs\u001b[49m\u001b[43m)\u001b[49m\n",
      "File \u001b[0;32m~/Dropbox/Robotics/PointCloud/Project/point_cloud/voxel_feature.py:144\u001b[0m, in \u001b[0;36mVoxelization.forward\u001b[0;34m(self, point_cloud)\u001b[0m\n\u001b[1;32m    140\u001b[0m vox_center_batch \u001b[38;5;241m=\u001b[39m []\n\u001b[1;32m    142\u001b[0m \u001b[38;5;28;01mfor\u001b[39;00m ibatch, pc \u001b[38;5;129;01min\u001b[39;00m \u001b[38;5;28menumerate\u001b[39m(point_cloud):\n\u001b[1;32m    143\u001b[0m     voxel, coord, mask, vox_center \u001b[38;5;241m=\u001b[39m \\\n\u001b[0;32m--> 144\u001b[0m         \u001b[38;5;28;43mself\u001b[39;49m\u001b[38;5;241;43m.\u001b[39;49m\u001b[43mprocess_single_batch_pc\u001b[49m\u001b[43m(\u001b[49m\u001b[43mpc\u001b[49m\u001b[43m,\u001b[49m\u001b[43m \u001b[49m\u001b[43mibatch\u001b[49m\u001b[43m)\u001b[49m\n\u001b[1;32m    145\u001b[0m     \u001b[38;5;66;03m# append all output\u001b[39;00m\n\u001b[1;32m    146\u001b[0m     voxel_batch\u001b[38;5;241m.\u001b[39mappend(voxel)\n",
      "File \u001b[0;32m~/Dropbox/Robotics/PointCloud/Project/point_cloud/voxel_feature.py:94\u001b[0m, in \u001b[0;36mVoxelization.process_single_batch_pc\u001b[0;34m(self, pc, ibatch)\u001b[0m\n\u001b[1;32m     91\u001b[0m \u001b[38;5;28;01mfor\u001b[39;00m i_vox \u001b[38;5;129;01min\u001b[39;00m \u001b[38;5;28mrange\u001b[39m(unique_coord\u001b[38;5;241m.\u001b[39mshape[\u001b[38;5;241m0\u001b[39m]):\n\u001b[1;32m     92\u001b[0m     ind \u001b[38;5;241m=\u001b[39m torch\u001b[38;5;241m.\u001b[39margwhere(inverse_ind\u001b[38;5;241m==\u001b[39mi_vox)\u001b[38;5;241m.\u001b[39mto(\u001b[38;5;124m\"\u001b[39m\u001b[38;5;124mcpu\u001b[39m\u001b[38;5;124m\"\u001b[39m)\u001b[38;5;241m.\u001b[39mnumpy()\u001b[38;5;241m.\u001b[39mflatten()\n\u001b[0;32m---> 94\u001b[0m     \u001b[38;5;28;01mif\u001b[39;00m counts[i_vox] \u001b[38;5;241m>\u001b[39m \u001b[38;5;28mself\u001b[39m\u001b[38;5;241m.\u001b[39mmax_voxel_pts:\n\u001b[1;32m     95\u001b[0m         \u001b[38;5;66;03m# subsample\u001b[39;00m\n\u001b[1;32m     96\u001b[0m         ind \u001b[38;5;241m=\u001b[39m np\u001b[38;5;241m.\u001b[39mrandom\u001b[38;5;241m.\u001b[39mchoice(ind,\u001b[38;5;28mself\u001b[39m\u001b[38;5;241m.\u001b[39mmax_voxel_pts,replace\u001b[38;5;241m=\u001b[39m\u001b[38;5;28;01mFalse\u001b[39;00m)\n\u001b[1;32m     97\u001b[0m         counts[i_vox] \u001b[38;5;241m=\u001b[39m \u001b[38;5;28mself\u001b[39m\u001b[38;5;241m.\u001b[39mmax_voxel_pts\n",
      "\u001b[0;31mKeyboardInterrupt\u001b[0m: "
     ]
    }
   ],
   "source": [
    "train(10, vnet, train_dataloader, test_dataloader)"
   ]
  }
 ],
 "metadata": {
  "kernelspec": {
   "display_name": "torch",
   "language": "python",
   "name": "python3"
  },
  "language_info": {
   "codemirror_mode": {
    "name": "ipython",
    "version": 3
   },
   "file_extension": ".py",
   "mimetype": "text/x-python",
   "name": "python",
   "nbconvert_exporter": "python",
   "pygments_lexer": "ipython3",
   "version": "3.8.0"
  }
 },
 "nbformat": 4,
 "nbformat_minor": 2
}
